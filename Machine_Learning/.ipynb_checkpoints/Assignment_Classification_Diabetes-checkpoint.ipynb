{
 "cells": [
  {
   "cell_type": "code",
   "execution_count": 1,
   "metadata": {},
   "outputs": [
    {
     "data": {
      "text/html": [
       "<div>\n",
       "<style scoped>\n",
       "    .dataframe tbody tr th:only-of-type {\n",
       "        vertical-align: middle;\n",
       "    }\n",
       "\n",
       "    .dataframe tbody tr th {\n",
       "        vertical-align: top;\n",
       "    }\n",
       "\n",
       "    .dataframe thead th {\n",
       "        text-align: right;\n",
       "    }\n",
       "</style>\n",
       "<table border=\"1\" class=\"dataframe\">\n",
       "  <thead>\n",
       "    <tr style=\"text-align: right;\">\n",
       "      <th></th>\n",
       "      <th>Pregnancies</th>\n",
       "      <th>Glucose</th>\n",
       "      <th>BloodPressure</th>\n",
       "      <th>SkinThickness</th>\n",
       "      <th>Insulin</th>\n",
       "      <th>BMI</th>\n",
       "      <th>DiabetesPedigreeFunction</th>\n",
       "      <th>Age</th>\n",
       "      <th>Outcome</th>\n",
       "    </tr>\n",
       "  </thead>\n",
       "  <tbody>\n",
       "    <tr>\n",
       "      <th>count</th>\n",
       "      <td>768.000000</td>\n",
       "      <td>768.000000</td>\n",
       "      <td>768.000000</td>\n",
       "      <td>768.000000</td>\n",
       "      <td>768.000000</td>\n",
       "      <td>768.000000</td>\n",
       "      <td>768.000000</td>\n",
       "      <td>768.000000</td>\n",
       "      <td>768.000000</td>\n",
       "    </tr>\n",
       "    <tr>\n",
       "      <th>mean</th>\n",
       "      <td>3.845052</td>\n",
       "      <td>120.894531</td>\n",
       "      <td>69.105469</td>\n",
       "      <td>20.536458</td>\n",
       "      <td>79.799479</td>\n",
       "      <td>31.992578</td>\n",
       "      <td>0.471876</td>\n",
       "      <td>33.240885</td>\n",
       "      <td>0.348958</td>\n",
       "    </tr>\n",
       "    <tr>\n",
       "      <th>std</th>\n",
       "      <td>3.369578</td>\n",
       "      <td>31.972618</td>\n",
       "      <td>19.355807</td>\n",
       "      <td>15.952218</td>\n",
       "      <td>115.244002</td>\n",
       "      <td>7.884160</td>\n",
       "      <td>0.331329</td>\n",
       "      <td>11.760232</td>\n",
       "      <td>0.476951</td>\n",
       "    </tr>\n",
       "    <tr>\n",
       "      <th>min</th>\n",
       "      <td>0.000000</td>\n",
       "      <td>0.000000</td>\n",
       "      <td>0.000000</td>\n",
       "      <td>0.000000</td>\n",
       "      <td>0.000000</td>\n",
       "      <td>0.000000</td>\n",
       "      <td>0.078000</td>\n",
       "      <td>21.000000</td>\n",
       "      <td>0.000000</td>\n",
       "    </tr>\n",
       "    <tr>\n",
       "      <th>25%</th>\n",
       "      <td>1.000000</td>\n",
       "      <td>99.000000</td>\n",
       "      <td>62.000000</td>\n",
       "      <td>0.000000</td>\n",
       "      <td>0.000000</td>\n",
       "      <td>27.300000</td>\n",
       "      <td>0.243750</td>\n",
       "      <td>24.000000</td>\n",
       "      <td>0.000000</td>\n",
       "    </tr>\n",
       "    <tr>\n",
       "      <th>50%</th>\n",
       "      <td>3.000000</td>\n",
       "      <td>117.000000</td>\n",
       "      <td>72.000000</td>\n",
       "      <td>23.000000</td>\n",
       "      <td>30.500000</td>\n",
       "      <td>32.000000</td>\n",
       "      <td>0.372500</td>\n",
       "      <td>29.000000</td>\n",
       "      <td>0.000000</td>\n",
       "    </tr>\n",
       "    <tr>\n",
       "      <th>75%</th>\n",
       "      <td>6.000000</td>\n",
       "      <td>140.250000</td>\n",
       "      <td>80.000000</td>\n",
       "      <td>32.000000</td>\n",
       "      <td>127.250000</td>\n",
       "      <td>36.600000</td>\n",
       "      <td>0.626250</td>\n",
       "      <td>41.000000</td>\n",
       "      <td>1.000000</td>\n",
       "    </tr>\n",
       "    <tr>\n",
       "      <th>max</th>\n",
       "      <td>17.000000</td>\n",
       "      <td>199.000000</td>\n",
       "      <td>122.000000</td>\n",
       "      <td>99.000000</td>\n",
       "      <td>846.000000</td>\n",
       "      <td>67.100000</td>\n",
       "      <td>2.420000</td>\n",
       "      <td>81.000000</td>\n",
       "      <td>1.000000</td>\n",
       "    </tr>\n",
       "  </tbody>\n",
       "</table>\n",
       "</div>"
      ],
      "text/plain": [
       "       Pregnancies     Glucose  BloodPressure  SkinThickness     Insulin  \\\n",
       "count   768.000000  768.000000     768.000000     768.000000  768.000000   \n",
       "mean      3.845052  120.894531      69.105469      20.536458   79.799479   \n",
       "std       3.369578   31.972618      19.355807      15.952218  115.244002   \n",
       "min       0.000000    0.000000       0.000000       0.000000    0.000000   \n",
       "25%       1.000000   99.000000      62.000000       0.000000    0.000000   \n",
       "50%       3.000000  117.000000      72.000000      23.000000   30.500000   \n",
       "75%       6.000000  140.250000      80.000000      32.000000  127.250000   \n",
       "max      17.000000  199.000000     122.000000      99.000000  846.000000   \n",
       "\n",
       "              BMI  DiabetesPedigreeFunction         Age     Outcome  \n",
       "count  768.000000                768.000000  768.000000  768.000000  \n",
       "mean    31.992578                  0.471876   33.240885    0.348958  \n",
       "std      7.884160                  0.331329   11.760232    0.476951  \n",
       "min      0.000000                  0.078000   21.000000    0.000000  \n",
       "25%     27.300000                  0.243750   24.000000    0.000000  \n",
       "50%     32.000000                  0.372500   29.000000    0.000000  \n",
       "75%     36.600000                  0.626250   41.000000    1.000000  \n",
       "max     67.100000                  2.420000   81.000000    1.000000  "
      ]
     },
     "execution_count": 1,
     "metadata": {},
     "output_type": "execute_result"
    }
   ],
   "source": [
    "import numpy as np\n",
    "import pandas as pd\n",
    "import seaborn as sns\n",
    "import matplotlib.pyplot as plt\n",
    "import sklearn\n",
    "import seaborn as sns\n",
    "\n",
    "raw_data = pd.read_csv(\"diabetes.csv\")\n",
    "raw_data.describe()"
   ]
  },
  {
   "cell_type": "code",
   "execution_count": 2,
   "metadata": {},
   "outputs": [
    {
     "name": "stdout",
     "output_type": "stream",
     "text": [
      "Null record details:\n",
      " Pregnancies                 0\n",
      "Glucose                     0\n",
      "BloodPressure               0\n",
      "SkinThickness               0\n",
      "Insulin                     0\n",
      "BMI                         0\n",
      "DiabetesPedigreeFunction    0\n",
      "Age                         0\n",
      "Outcome                     0\n",
      "dtype: int64 \n",
      "\n",
      "Records with 0 value for Glucose:  5 \n",
      "\n",
      "Records with 0 value for BloodPressure:  35 \n",
      "\n",
      "Records with 0 value for BMI:  11 \n",
      "\n",
      "Records with 0 value for SkinThickness:  227 \n",
      "\n",
      "Records with 0 value for Insulin:  374 \n",
      "\n",
      "Records with 0 value for DiabetesPedigreeFunction:  0 \n",
      "\n",
      "Records with 0 value for Age:  0 \n",
      "\n"
     ]
    }
   ],
   "source": [
    "#Null values in the dataset\n",
    "print(\"Null record details:\\n\",raw_data.isnull().sum(),'\\n')\n",
    "#Entries with 0 values for Glucose, BloodPressure\n",
    "print(\"Records with 0 value for Glucose: \",len(raw_data[raw_data[\"Glucose\"] == 0]),'\\n')\n",
    "print( \"Records with 0 value for BloodPressure: \",len(raw_data[raw_data[\"BloodPressure\"] == 0]),'\\n')\n",
    "print( \"Records with 0 value for BMI: \",len(raw_data[raw_data[\"BMI\"] == 0]),'\\n')\n",
    "print(\"Records with 0 value for SkinThickness: \",len(raw_data[raw_data[\"SkinThickness\"] == 0]),'\\n')\n",
    "print( \"Records with 0 value for Insulin: \",len(raw_data[raw_data[\"Insulin\"] == 0]),'\\n')\n",
    "print(\"Records with 0 value for DiabetesPedigreeFunction: \",len(raw_data[raw_data[\"DiabetesPedigreeFunction\"] == 0]),'\\n')\n",
    "print( \"Records with 0 value for Age: \",len(raw_data[raw_data[\"Age\"] == 0]),'\\n')\n",
    "\n"
   ]
  },
  {
   "cell_type": "code",
   "execution_count": 3,
   "metadata": {},
   "outputs": [
    {
     "data": {
      "text/plain": [
       "<AxesSubplot:ylabel='Pregnancies'>"
      ]
     },
     "execution_count": 3,
     "metadata": {},
     "output_type": "execute_result"
    },
    {
     "data": {
      "image/png": "[encoded data removed]",
      "text/plain": [
       "<Figure size 1440x1080 with 8 Axes>"
      ]
     },
     "metadata": {
      "needs_background": "light"
     },
     "output_type": "display_data"
    }
   ],
   "source": [
    "#Plot to see outliers\n",
    "fig, axes = plt.subplots(nrows=4, ncols=2, figsize=(20,15))\n",
    "\n",
    "#create boxplot in each subplot\n",
    "sns.boxplot(data=raw_data[\"Glucose\"],ax=axes[0,0], y=raw_data[\"Glucose\"])\n",
    "sns.boxplot(data=raw_data[\"BloodPressure\"], ax=axes[0,1],y=raw_data[\"BloodPressure\"])\n",
    "sns.boxplot(data=raw_data[\"BMI\"], ax=axes[1,0],y=raw_data[\"BMI\"])\n",
    "sns.boxplot(data=raw_data[\"SkinThickness\"], ax=axes[1,1],y=raw_data[\"SkinThickness\"])\n",
    "sns.boxplot(data=raw_data[\"Insulin\"], ax=axes[2,0],y=raw_data[\"Insulin\"])\n",
    "sns.boxplot(data=raw_data[\"DiabetesPedigreeFunction\"], ax=axes[2,1],y=raw_data[\"DiabetesPedigreeFunction\"])\n",
    "sns.boxplot(data=raw_data[\"Age\"], ax=axes[3,0],y=raw_data[\"Age\"])\n",
    "sns.boxplot(data=raw_data[\"Pregnancies\"], ax=axes[3,1],y=raw_data[\"Pregnancies\"])"
   ]
  },
  {
   "cell_type": "code",
   "execution_count": 4,
   "metadata": {},
   "outputs": [],
   "source": [
    "Q1 = raw_data.quantile(0.25)\n",
    "Q3 = raw_data.quantile(0.75)\n",
    "IQR = Q3 - Q1"
   ]
  },
  {
   "cell_type": "code",
   "execution_count": 5,
   "metadata": {},
   "outputs": [],
   "source": [
    "raw_data = raw_data[~((raw_data < Q1 - 1.5*IQR)|(raw_data > Q3+ 1.5*IQR))]"
   ]
  },
  {
   "cell_type": "code",
   "execution_count": 6,
   "metadata": {},
   "outputs": [
    {
     "data": {
      "text/plain": [
       "<AxesSubplot:ylabel='Pregnancies'>"
      ]
     },
     "execution_count": 6,
     "metadata": {},
     "output_type": "execute_result"
    },
    {
     "data": {
      "image/png": "[encoded data removed]",
      "text/plain": [
       "<Figure size 1440x1080 with 8 Axes>"
      ]
     },
     "metadata": {
      "needs_background": "light"
     },
     "output_type": "display_data"
    }
   ],
   "source": [
    "#Plot to see outliers\n",
    "fig, axes = plt.subplots(nrows=4, ncols=2, figsize=(20,15))\n",
    "\n",
    "#create boxplot in each subplot\n",
    "sns.boxplot(data=raw_data[\"Glucose\"],ax=axes[0,0], y=raw_data[\"Glucose\"])\n",
    "sns.boxplot(data=raw_data[\"BloodPressure\"], ax=axes[0,1],y=raw_data[\"BloodPressure\"])\n",
    "sns.boxplot(data=raw_data[\"BMI\"], ax=axes[1,0],y=raw_data[\"BMI\"])\n",
    "sns.boxplot(data=raw_data[\"SkinThickness\"], ax=axes[1,1],y=raw_data[\"SkinThickness\"])\n",
    "sns.boxplot(data=raw_data[\"Insulin\"], ax=axes[2,0],y=raw_data[\"Insulin\"])\n",
    "sns.boxplot(data=raw_data[\"DiabetesPedigreeFunction\"], ax=axes[2,1],y=raw_data[\"DiabetesPedigreeFunction\"])\n",
    "sns.boxplot(data=raw_data[\"Age\"], ax=axes[3,0],y=raw_data[\"Age\"])\n",
    "sns.boxplot(data=raw_data[\"Pregnancies\"], ax=axes[3,1],y=raw_data[\"Pregnancies\"])"
   ]
  },
  {
   "cell_type": "code",
   "execution_count": 7,
   "metadata": {},
   "outputs": [
    {
     "data": {
      "text/html": [
       "<div>\n",
       "<style scoped>\n",
       "    .dataframe tbody tr th:only-of-type {\n",
       "        vertical-align: middle;\n",
       "    }\n",
       "\n",
       "    .dataframe tbody tr th {\n",
       "        vertical-align: top;\n",
       "    }\n",
       "\n",
       "    .dataframe thead th {\n",
       "        text-align: right;\n",
       "    }\n",
       "</style>\n",
       "<table border=\"1\" class=\"dataframe\">\n",
       "  <thead>\n",
       "    <tr style=\"text-align: right;\">\n",
       "      <th></th>\n",
       "      <th>Pregnancies</th>\n",
       "      <th>Glucose</th>\n",
       "      <th>BloodPressure</th>\n",
       "      <th>SkinThickness</th>\n",
       "      <th>Insulin</th>\n",
       "      <th>BMI</th>\n",
       "      <th>DiabetesPedigreeFunction</th>\n",
       "      <th>Age</th>\n",
       "      <th>Outcome</th>\n",
       "    </tr>\n",
       "  </thead>\n",
       "  <tbody>\n",
       "    <tr>\n",
       "      <th>count</th>\n",
       "      <td>764.000000</td>\n",
       "      <td>763.000000</td>\n",
       "      <td>723.000000</td>\n",
       "      <td>767.000000</td>\n",
       "      <td>734.000000</td>\n",
       "      <td>749.000000</td>\n",
       "      <td>739.000000</td>\n",
       "      <td>759.000000</td>\n",
       "      <td>768.000000</td>\n",
       "    </tr>\n",
       "    <tr>\n",
       "      <th>mean</th>\n",
       "      <td>3.786649</td>\n",
       "      <td>121.686763</td>\n",
       "      <td>72.208852</td>\n",
       "      <td>20.434159</td>\n",
       "      <td>62.328338</td>\n",
       "      <td>32.204005</td>\n",
       "      <td>0.429832</td>\n",
       "      <td>32.805007</td>\n",
       "      <td>0.348958</td>\n",
       "    </tr>\n",
       "    <tr>\n",
       "      <th>std</th>\n",
       "      <td>3.278714</td>\n",
       "      <td>30.535641</td>\n",
       "      <td>11.488731</td>\n",
       "      <td>15.708524</td>\n",
       "      <td>79.132557</td>\n",
       "      <td>6.491385</td>\n",
       "      <td>0.249684</td>\n",
       "      <td>11.113182</td>\n",
       "      <td>0.476951</td>\n",
       "    </tr>\n",
       "    <tr>\n",
       "      <th>min</th>\n",
       "      <td>0.000000</td>\n",
       "      <td>44.000000</td>\n",
       "      <td>38.000000</td>\n",
       "      <td>0.000000</td>\n",
       "      <td>0.000000</td>\n",
       "      <td>18.200000</td>\n",
       "      <td>0.078000</td>\n",
       "      <td>21.000000</td>\n",
       "      <td>0.000000</td>\n",
       "    </tr>\n",
       "    <tr>\n",
       "      <th>25%</th>\n",
       "      <td>1.000000</td>\n",
       "      <td>99.000000</td>\n",
       "      <td>64.000000</td>\n",
       "      <td>0.000000</td>\n",
       "      <td>0.000000</td>\n",
       "      <td>27.400000</td>\n",
       "      <td>0.238000</td>\n",
       "      <td>24.000000</td>\n",
       "      <td>0.000000</td>\n",
       "    </tr>\n",
       "    <tr>\n",
       "      <th>50%</th>\n",
       "      <td>3.000000</td>\n",
       "      <td>117.000000</td>\n",
       "      <td>72.000000</td>\n",
       "      <td>23.000000</td>\n",
       "      <td>0.000000</td>\n",
       "      <td>32.000000</td>\n",
       "      <td>0.356000</td>\n",
       "      <td>29.000000</td>\n",
       "      <td>0.000000</td>\n",
       "    </tr>\n",
       "    <tr>\n",
       "      <th>75%</th>\n",
       "      <td>6.000000</td>\n",
       "      <td>141.000000</td>\n",
       "      <td>80.000000</td>\n",
       "      <td>32.000000</td>\n",
       "      <td>115.000000</td>\n",
       "      <td>36.500000</td>\n",
       "      <td>0.587000</td>\n",
       "      <td>40.000000</td>\n",
       "      <td>1.000000</td>\n",
       "    </tr>\n",
       "    <tr>\n",
       "      <th>max</th>\n",
       "      <td>13.000000</td>\n",
       "      <td>199.000000</td>\n",
       "      <td>106.000000</td>\n",
       "      <td>63.000000</td>\n",
       "      <td>318.000000</td>\n",
       "      <td>50.000000</td>\n",
       "      <td>1.191000</td>\n",
       "      <td>66.000000</td>\n",
       "      <td>1.000000</td>\n",
       "    </tr>\n",
       "  </tbody>\n",
       "</table>\n",
       "</div>"
      ],
      "text/plain": [
       "       Pregnancies     Glucose  BloodPressure  SkinThickness     Insulin  \\\n",
       "count   764.000000  763.000000     723.000000     767.000000  734.000000   \n",
       "mean      3.786649  121.686763      72.208852      20.434159   62.328338   \n",
       "std       3.278714   30.535641      11.488731      15.708524   79.132557   \n",
       "min       0.000000   44.000000      38.000000       0.000000    0.000000   \n",
       "25%       1.000000   99.000000      64.000000       0.000000    0.000000   \n",
       "50%       3.000000  117.000000      72.000000      23.000000    0.000000   \n",
       "75%       6.000000  141.000000      80.000000      32.000000  115.000000   \n",
       "max      13.000000  199.000000     106.000000      63.000000  318.000000   \n",
       "\n",
       "              BMI  DiabetesPedigreeFunction         Age     Outcome  \n",
       "count  749.000000                739.000000  759.000000  768.000000  \n",
       "mean    32.204005                  0.429832   32.805007    0.348958  \n",
       "std      6.491385                  0.249684   11.113182    0.476951  \n",
       "min     18.200000                  0.078000   21.000000    0.000000  \n",
       "25%     27.400000                  0.238000   24.000000    0.000000  \n",
       "50%     32.000000                  0.356000   29.000000    0.000000  \n",
       "75%     36.500000                  0.587000   40.000000    1.000000  \n",
       "max     50.000000                  1.191000   66.000000    1.000000  "
      ]
     },
     "execution_count": 7,
     "metadata": {},
     "output_type": "execute_result"
    }
   ],
   "source": [
    "raw_data.describe()"
   ]
  },
  {
   "cell_type": "code",
   "execution_count": 8,
   "metadata": {},
   "outputs": [
    {
     "name": "stdout",
     "output_type": "stream",
     "text": [
      "Null record details:\n",
      " Pregnancies                  4\n",
      "Glucose                      5\n",
      "BloodPressure               45\n",
      "SkinThickness                1\n",
      "Insulin                     34\n",
      "BMI                         19\n",
      "DiabetesPedigreeFunction    29\n",
      "Age                          9\n",
      "Outcome                      0\n",
      "dtype: int64 \n",
      "\n",
      "Records with 0 value for Glucose:  0 \n",
      "\n",
      "Records with 0 value for BloodPressure:  0 \n",
      "\n",
      "Records with 0 value for BMI:  0 \n",
      "\n",
      "Records with 0 value for SkinThickness:  227 \n",
      "\n",
      "Records with 0 value for Insulin:  374 \n",
      "\n"
     ]
    }
   ],
   "source": [
    "#Null values in the dataset\n",
    "print(\"Null record details:\\n\",raw_data.isnull().sum(),'\\n')\n",
    "#Entries with 0 values for Glucose, BloodPressure\n",
    "print(\"Records with 0 value for Glucose: \",len(raw_data[raw_data[\"Glucose\"] == 0]),'\\n')\n",
    "print( \"Records with 0 value for BloodPressure: \",len(raw_data[raw_data[\"BloodPressure\"] == 0]),'\\n')\n",
    "print( \"Records with 0 value for BMI: \",len(raw_data[raw_data[\"BMI\"] == 0]),'\\n')\n",
    "print(\"Records with 0 value for SkinThickness: \",len(raw_data[raw_data[\"SkinThickness\"] == 0]),'\\n')\n",
    "print( \"Records with 0 value for Insulin: \",len(raw_data[raw_data[\"Insulin\"] == 0]),'\\n')\n"
   ]
  },
  {
   "cell_type": "code",
   "execution_count": 9,
   "metadata": {},
   "outputs": [],
   "source": [
    "# Data is symmetric for Glucose, Blood Pressure, BMI - So will use mean to replace Nulls and 0s\n",
    "# Data is skewed for SkinThickness, Insulin,Pregnancies(only NULLS to be replaced),Age. Use median/mode to replace Nulls and 0s\n",
    "raw_data.loc[pd.isnull(raw_data.Glucose) == True, 'Glucose'] = raw_data['Glucose'].mean()\n",
    "raw_data.loc[pd.isnull(raw_data.BloodPressure) == True, 'BloodPressure'] = raw_data['BloodPressure'].mean()\n",
    "raw_data.loc[pd.isnull(raw_data.BMI) == True, 'BMI'] = raw_data['BMI'].mean()\n",
    "\n",
    "raw_data.loc[pd.isnull(raw_data.SkinThickness) == True, 'SkinThickness'] = raw_data['SkinThickness'].median()\n",
    "raw_data.loc[pd.isnull(raw_data.Insulin) == True, 'Insulin'] = raw_data['Insulin'].mode()[0]\n",
    "raw_data.loc[pd.isnull(raw_data.Age) == True, 'Age'] = raw_data['Age'].median()\n",
    "raw_data.loc[pd.isnull(raw_data.Pregnancies) == True, 'Pregnancies'] = raw_data['Pregnancies'].mode()[0]\n",
    "raw_data.loc[pd.isnull(raw_data.DiabetesPedigreeFunction) == True, 'DiabetesPedigreeFunction'] = raw_data['DiabetesPedigreeFunction'].median()\n",
    "\n",
    "raw_data.loc[raw_data.SkinThickness == 0, 'SkinThickness'] = raw_data['SkinThickness'].median()\n",
    "raw_data.loc[raw_data.Insulin == 0, 'Insulin'] = raw_data['Insulin'].mean()\n"
   ]
  },
  {
   "cell_type": "code",
   "execution_count": 10,
   "metadata": {},
   "outputs": [
    {
     "data": {
      "text/plain": [
       "<AxesSubplot:ylabel='Pregnancies'>"
      ]
     },
     "execution_count": 10,
     "metadata": {},
     "output_type": "execute_result"
    },
    {
     "data": {
      "image/png": "[encoded data removed]",
      "text/plain": [
       "<Figure size 1440x1080 with 8 Axes>"
      ]
     },
     "metadata": {
      "needs_background": "light"
     },
     "output_type": "display_data"
    }
   ],
   "source": [
    "#Plot to see outliers\n",
    "fig, axes = plt.subplots(nrows=4, ncols=2, figsize=(20,15))\n",
    "\n",
    "#create boxplot in each subplot\n",
    "sns.boxplot(data=raw_data[\"Glucose\"],ax=axes[0,0], y=raw_data[\"Glucose\"])\n",
    "sns.boxplot(data=raw_data[\"BloodPressure\"], ax=axes[0,1],y=raw_data[\"BloodPressure\"])\n",
    "sns.boxplot(data=raw_data[\"BMI\"], ax=axes[1,0],y=raw_data[\"BMI\"])\n",
    "sns.boxplot(data=raw_data[\"SkinThickness\"], ax=axes[1,1],y=raw_data[\"SkinThickness\"])\n",
    "sns.boxplot(data=raw_data[\"Insulin\"], ax=axes[2,0],y=raw_data[\"Insulin\"])\n",
    "sns.boxplot(data=raw_data[\"DiabetesPedigreeFunction\"], ax=axes[2,1],y=raw_data[\"DiabetesPedigreeFunction\"])\n",
    "sns.boxplot(data=raw_data[\"Age\"], ax=axes[3,0],y=raw_data[\"Age\"])\n",
    "sns.boxplot(data=raw_data[\"Pregnancies\"], ax=axes[3,1],y=raw_data[\"Pregnancies\"])"
   ]
  },
  {
   "cell_type": "code",
   "execution_count": 15,
   "metadata": {},
   "outputs": [],
   "source": [
    "#CLassification model fitting\n",
    "# Remove column name 'Insulin'\n",
    "raw_data.drop(['Insulin'], axis = 1, inplace=True)\n",
    "X = raw_data.iloc[:,: -1]\n",
    "Y = raw_data.iloc[:, -1]"
   ]
  },
  {
   "cell_type": "code",
   "execution_count": 16,
   "metadata": {},
   "outputs": [],
   "source": [
    "from  sklearn.model_selection import train_test_split\n",
    "\n",
    "x_train, x_test, y_train, y_test = train_test_split(X,Y, test_size=1/3)"
   ]
  },
  {
   "cell_type": "code",
   "execution_count": 17,
   "metadata": {},
   "outputs": [
    {
     "data": {
      "text/plain": [
       "(512, 7)"
      ]
     },
     "execution_count": 17,
     "metadata": {},
     "output_type": "execute_result"
    }
   ],
   "source": [
    "x_train.shape"
   ]
  },
  {
   "cell_type": "code",
   "execution_count": 23,
   "metadata": {},
   "outputs": [
    {
     "data": {
      "text/plain": [
       "LogisticRegression(max_iter=10000, solver='sag')"
      ]
     },
     "execution_count": 23,
     "metadata": {},
     "output_type": "execute_result"
    }
   ],
   "source": [
    "from sklearn.linear_model import LogisticRegression\n",
    "\n",
    "lr = LogisticRegression(max_iter = 10000, solver = 'sag')\n",
    "lr.fit(x_train, y_train)"
   ]
  },
  {
   "cell_type": "code",
   "execution_count": 24,
   "metadata": {},
   "outputs": [
    {
     "name": "stdout",
     "output_type": "stream",
     "text": [
      "0.765625\n"
     ]
    }
   ],
   "source": [
    "acc_score = lr.score(x_test, y_test) # score() in a classifier returns accuracy\n",
    "print(acc_score)"
   ]
  },
  {
   "cell_type": "code",
   "execution_count": 25,
   "metadata": {},
   "outputs": [
    {
     "name": "stdout",
     "output_type": "stream",
     "text": [
      "0.765625\n",
      "0.7382775119617224\n",
      "0.7068106312292359\n",
      "0.7171270718232043\n"
     ]
    }
   ],
   "source": [
    "pred = lr.predict(x_test)\n",
    "from sklearn.metrics import accuracy_score, f1_score, precision_score, recall_score\n",
    "print (accuracy_score(y_test, pred))\n",
    "print (precision_score(y_test, pred, average='macro'))\n",
    "print (recall_score(y_test, pred, average='macro'))\n",
    "print (f1_score(y_test, pred, average='macro'))"
   ]
  },
  {
   "cell_type": "code",
   "execution_count": 26,
   "metadata": {},
   "outputs": [
    {
     "name": "stdout",
     "output_type": "stream",
     "text": [
      "              precision    recall  f1-score   support\n",
      "\n",
      "           0       0.79      0.88      0.83       172\n",
      "           1       0.68      0.54      0.60        84\n",
      "\n",
      "    accuracy                           0.77       256\n",
      "   macro avg       0.74      0.71      0.72       256\n",
      "weighted avg       0.76      0.77      0.76       256\n",
      "\n"
     ]
    }
   ],
   "source": [
    "from sklearn.metrics import classification_report\n",
    "print(classification_report(y_test, pred))"
   ]
  },
  {
   "cell_type": "code",
   "execution_count": null,
   "metadata": {},
   "outputs": [],
   "source": []
  },
  {
   "cell_type": "code",
   "execution_count": null,
   "metadata": {},
   "outputs": [],
   "source": []
  },
  {
   "cell_type": "code",
   "execution_count": null,
   "metadata": {},
   "outputs": [],
   "source": []
  },
  {
   "cell_type": "code",
   "execution_count": null,
   "metadata": {},
   "outputs": [],
   "source": []
  }
 ],
 "metadata": {
  "kernelspec": {
   "display_name": "Python 3",
   "language": "python",
   "name": "python3"
  },
  "language_info": {
   "codemirror_mode": {
    "name": "ipython",
    "version": 3
   },
   "file_extension": ".py",
   "mimetype": "text/x-python",
   "name": "python",
   "nbconvert_exporter": "python",
   "pygments_lexer": "ipython3",
   "version": "3.8.5"
  }
 },
 "nbformat": 4,
 "nbformat_minor": 4
}
