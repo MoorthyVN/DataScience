{
 "cells": [
  {
   "cell_type": "code",
   "execution_count": 47,
   "metadata": {},
   "outputs": [],
   "source": [
    "import pandas as pd\n",
    "import numpy as np"
   ]
  },
  {
   "cell_type": "code",
   "execution_count": 53,
   "metadata": {},
   "outputs": [
    {
     "data": {
      "text/plain": [
       "(20, 1)"
      ]
     },
     "execution_count": 53,
     "metadata": {},
     "output_type": "execute_result"
    }
   ],
   "source": [
    "np.random.seed(5)\n",
    "data_x1 = np.linspace(-10.0, 10.0, 20)[:, np.newaxis]\n",
    "data_x1.shape"
   ]
  },
  {
   "cell_type": "code",
   "execution_count": 50,
   "metadata": {},
   "outputs": [],
   "source": [
    "new_data_x1 = np.hstack((np.ones_like(data_x1),data_x1))"
   ]
  },
  {
   "cell_type": "code",
   "execution_count": 55,
   "metadata": {},
   "outputs": [
    {
     "data": {
      "text/plain": [
       "array([ 2,  5, 17, 19, 12,  1, 11, 10, 13, 18,  7,  4,  8,  9,  0, 16,  6,\n",
       "       15, 14,  3])"
      ]
     },
     "execution_count": 55,
     "metadata": {},
     "output_type": "execute_result"
    }
   ],
   "source": [
    "order = np.random.permutation(20)\n",
    "order"
   ]
  },
  {
   "cell_type": "code",
   "execution_count": 58,
   "metadata": {},
   "outputs": [
    {
     "data": {
      "text/plain": [
       "array([[ 1.        , -7.89473684],\n",
       "       [ 1.        , -4.73684211],\n",
       "       [ 1.        ,  7.89473684]])"
      ]
     },
     "execution_count": 58,
     "metadata": {},
     "output_type": "execute_result"
    }
   ],
   "source": [
    "new_data_x1[order[:3]]"
   ]
  },
  {
   "cell_type": "code",
   "execution_count": 59,
   "metadata": {},
   "outputs": [
    {
     "data": {
      "text/plain": [
       "array([[  1.        ,  10.        ],\n",
       "       [  1.        ,   2.63157895],\n",
       "       [  1.        ,  -8.94736842],\n",
       "       [  1.        ,   1.57894737],\n",
       "       [  1.        ,   0.52631579],\n",
       "       [  1.        ,   3.68421053],\n",
       "       [  1.        ,   8.94736842],\n",
       "       [  1.        ,  -2.63157895],\n",
       "       [  1.        ,  -5.78947368],\n",
       "       [  1.        ,  -1.57894737],\n",
       "       [  1.        ,  -0.52631579],\n",
       "       [  1.        , -10.        ],\n",
       "       [  1.        ,   6.84210526],\n",
       "       [  1.        ,  -3.68421053],\n",
       "       [  1.        ,   5.78947368],\n",
       "       [  1.        ,   4.73684211],\n",
       "       [  1.        ,  -6.84210526]])"
      ]
     },
     "execution_count": 59,
     "metadata": {},
     "output_type": "execute_result"
    }
   ],
   "source": [
    "new_data_x1[order[3:]]"
   ]
  },
  {
   "cell_type": "code",
   "execution_count": null,
   "metadata": {},
   "outputs": [],
   "source": []
  },
  {
   "cell_type": "code",
   "execution_count": null,
   "metadata": {},
   "outputs": [],
   "source": []
  }
 ],
 "metadata": {
  "kernelspec": {
   "display_name": "Python 3",
   "language": "python",
   "name": "python3"
  },
  "language_info": {
   "codemirror_mode": {
    "name": "ipython",
    "version": 3
   },
   "file_extension": ".py",
   "mimetype": "text/x-python",
   "name": "python",
   "nbconvert_exporter": "python",
   "pygments_lexer": "ipython3",
   "version": "3.8.5"
  }
 },
 "nbformat": 4,
 "nbformat_minor": 4
}
