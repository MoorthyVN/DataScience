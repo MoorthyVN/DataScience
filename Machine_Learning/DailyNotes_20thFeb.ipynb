{
 "cells": [
  {
   "cell_type": "code",
   "execution_count": 19,
   "metadata": {},
   "outputs": [],
   "source": [
    "#Regression\n",
    "\n",
    "import numpy as np\n",
    "import matplotlib.pyplot as plt"
   ]
  },
  {
   "cell_type": "code",
   "execution_count": 20,
   "metadata": {},
   "outputs": [
    {
     "data": {
      "text/plain": [
       "array([[-1.        ],\n",
       "       [-0.97979798],\n",
       "       [-0.95959596],\n",
       "       [-0.93939394],\n",
       "       [-0.91919192],\n",
       "       [-0.8989899 ],\n",
       "       [-0.87878788],\n",
       "       [-0.85858586],\n",
       "       [-0.83838384],\n",
       "       [-0.81818182],\n",
       "       [-0.7979798 ],\n",
       "       [-0.77777778],\n",
       "       [-0.75757576],\n",
       "       [-0.73737374],\n",
       "       [-0.71717172],\n",
       "       [-0.6969697 ],\n",
       "       [-0.67676768],\n",
       "       [-0.65656566],\n",
       "       [-0.63636364],\n",
       "       [-0.61616162],\n",
       "       [-0.5959596 ],\n",
       "       [-0.57575758],\n",
       "       [-0.55555556],\n",
       "       [-0.53535354],\n",
       "       [-0.51515152],\n",
       "       [-0.49494949],\n",
       "       [-0.47474747],\n",
       "       [-0.45454545],\n",
       "       [-0.43434343],\n",
       "       [-0.41414141],\n",
       "       [-0.39393939],\n",
       "       [-0.37373737],\n",
       "       [-0.35353535],\n",
       "       [-0.33333333],\n",
       "       [-0.31313131],\n",
       "       [-0.29292929],\n",
       "       [-0.27272727],\n",
       "       [-0.25252525],\n",
       "       [-0.23232323],\n",
       "       [-0.21212121],\n",
       "       [-0.19191919],\n",
       "       [-0.17171717],\n",
       "       [-0.15151515],\n",
       "       [-0.13131313],\n",
       "       [-0.11111111],\n",
       "       [-0.09090909],\n",
       "       [-0.07070707],\n",
       "       [-0.05050505],\n",
       "       [-0.03030303],\n",
       "       [-0.01010101],\n",
       "       [ 0.01010101],\n",
       "       [ 0.03030303],\n",
       "       [ 0.05050505],\n",
       "       [ 0.07070707],\n",
       "       [ 0.09090909],\n",
       "       [ 0.11111111],\n",
       "       [ 0.13131313],\n",
       "       [ 0.15151515],\n",
       "       [ 0.17171717],\n",
       "       [ 0.19191919],\n",
       "       [ 0.21212121],\n",
       "       [ 0.23232323],\n",
       "       [ 0.25252525],\n",
       "       [ 0.27272727],\n",
       "       [ 0.29292929],\n",
       "       [ 0.31313131],\n",
       "       [ 0.33333333],\n",
       "       [ 0.35353535],\n",
       "       [ 0.37373737],\n",
       "       [ 0.39393939],\n",
       "       [ 0.41414141],\n",
       "       [ 0.43434343],\n",
       "       [ 0.45454545],\n",
       "       [ 0.47474747],\n",
       "       [ 0.49494949],\n",
       "       [ 0.51515152],\n",
       "       [ 0.53535354],\n",
       "       [ 0.55555556],\n",
       "       [ 0.57575758],\n",
       "       [ 0.5959596 ],\n",
       "       [ 0.61616162],\n",
       "       [ 0.63636364],\n",
       "       [ 0.65656566],\n",
       "       [ 0.67676768],\n",
       "       [ 0.6969697 ],\n",
       "       [ 0.71717172],\n",
       "       [ 0.73737374],\n",
       "       [ 0.75757576],\n",
       "       [ 0.77777778],\n",
       "       [ 0.7979798 ],\n",
       "       [ 0.81818182],\n",
       "       [ 0.83838384],\n",
       "       [ 0.85858586],\n",
       "       [ 0.87878788],\n",
       "       [ 0.8989899 ],\n",
       "       [ 0.91919192],\n",
       "       [ 0.93939394],\n",
       "       [ 0.95959596],\n",
       "       [ 0.97979798],\n",
       "       [ 1.        ]])"
      ]
     },
     "execution_count": 20,
     "metadata": {},
     "output_type": "execute_result"
    }
   ],
   "source": [
    "np.random.seed(5)\n",
    "data_x = np.linspace(-10.0, 10.0, 100)[:, np.newaxis]\n",
    "# data_y = np.sin(data_x) + 0.1 * np.power(data_x, 2) + 0.5 * np.random.randn(100, 1)\n",
    "data_y = 40*data_x + 20* np.random.randn(100, 1)  # creating your data\n",
    "data_x /= np.max(data_x) #scaling\n",
    "data_x"
   ]
  },
  {
   "cell_type": "code",
   "execution_count": 8,
   "metadata": {},
   "outputs": [
    {
     "data": {
      "text/plain": [
       "(0.8615898239550395, 0.0013540376408062783)"
      ]
     },
     "execution_count": 8,
     "metadata": {},
     "output_type": "execute_result"
    }
   ],
   "source": [
    "from scipy import stats\n",
    "a = np.array([0,1,2,3,4,5,6, 23, 19, 11])\n",
    "b = np.array([0, 1, 4, 9, 16, 25, 36, 144, 225, 196])\n",
    "stats.pearsonr(a,b)"
   ]
  },
  {
   "cell_type": "code",
   "execution_count": 9,
   "metadata": {},
   "outputs": [
    {
     "data": {
      "text/plain": [
       "(0.9968336986748043, 1.4137794523202146e-109)"
      ]
     },
     "execution_count": 9,
     "metadata": {},
     "output_type": "execute_result"
    }
   ],
   "source": [
    "stats.pearsonr(data_x.reshape(100,),data_y.reshape(100,))"
   ]
  },
  {
   "cell_type": "code",
   "execution_count": 22,
   "metadata": {},
   "outputs": [
    {
     "data": {
      "text/plain": [
       "array([[ 1.        ,  1.        ,  1.        , -1.        ],\n",
       "       [ 1.        ,  1.        ,  1.        , -0.97979798],\n",
       "       [ 1.        ,  1.        ,  1.        , -0.95959596],\n",
       "       [ 1.        ,  1.        ,  1.        , -0.93939394],\n",
       "       [ 1.        ,  1.        ,  1.        , -0.91919192],\n",
       "       [ 1.        ,  1.        ,  1.        , -0.8989899 ],\n",
       "       [ 1.        ,  1.        ,  1.        , -0.87878788],\n",
       "       [ 1.        ,  1.        ,  1.        , -0.85858586],\n",
       "       [ 1.        ,  1.        ,  1.        , -0.83838384],\n",
       "       [ 1.        ,  1.        ,  1.        , -0.81818182],\n",
       "       [ 1.        ,  1.        ,  1.        , -0.7979798 ],\n",
       "       [ 1.        ,  1.        ,  1.        , -0.77777778],\n",
       "       [ 1.        ,  1.        ,  1.        , -0.75757576],\n",
       "       [ 1.        ,  1.        ,  1.        , -0.73737374],\n",
       "       [ 1.        ,  1.        ,  1.        , -0.71717172],\n",
       "       [ 1.        ,  1.        ,  1.        , -0.6969697 ],\n",
       "       [ 1.        ,  1.        ,  1.        , -0.67676768],\n",
       "       [ 1.        ,  1.        ,  1.        , -0.65656566],\n",
       "       [ 1.        ,  1.        ,  1.        , -0.63636364],\n",
       "       [ 1.        ,  1.        ,  1.        , -0.61616162],\n",
       "       [ 1.        ,  1.        ,  1.        , -0.5959596 ],\n",
       "       [ 1.        ,  1.        ,  1.        , -0.57575758],\n",
       "       [ 1.        ,  1.        ,  1.        , -0.55555556],\n",
       "       [ 1.        ,  1.        ,  1.        , -0.53535354],\n",
       "       [ 1.        ,  1.        ,  1.        , -0.51515152],\n",
       "       [ 1.        ,  1.        ,  1.        , -0.49494949],\n",
       "       [ 1.        ,  1.        ,  1.        , -0.47474747],\n",
       "       [ 1.        ,  1.        ,  1.        , -0.45454545],\n",
       "       [ 1.        ,  1.        ,  1.        , -0.43434343],\n",
       "       [ 1.        ,  1.        ,  1.        , -0.41414141],\n",
       "       [ 1.        ,  1.        ,  1.        , -0.39393939],\n",
       "       [ 1.        ,  1.        ,  1.        , -0.37373737],\n",
       "       [ 1.        ,  1.        ,  1.        , -0.35353535],\n",
       "       [ 1.        ,  1.        ,  1.        , -0.33333333],\n",
       "       [ 1.        ,  1.        ,  1.        , -0.31313131],\n",
       "       [ 1.        ,  1.        ,  1.        , -0.29292929],\n",
       "       [ 1.        ,  1.        ,  1.        , -0.27272727],\n",
       "       [ 1.        ,  1.        ,  1.        , -0.25252525],\n",
       "       [ 1.        ,  1.        ,  1.        , -0.23232323],\n",
       "       [ 1.        ,  1.        ,  1.        , -0.21212121],\n",
       "       [ 1.        ,  1.        ,  1.        , -0.19191919],\n",
       "       [ 1.        ,  1.        ,  1.        , -0.17171717],\n",
       "       [ 1.        ,  1.        ,  1.        , -0.15151515],\n",
       "       [ 1.        ,  1.        ,  1.        , -0.13131313],\n",
       "       [ 1.        ,  1.        ,  1.        , -0.11111111],\n",
       "       [ 1.        ,  1.        ,  1.        , -0.09090909],\n",
       "       [ 1.        ,  1.        ,  1.        , -0.07070707],\n",
       "       [ 1.        ,  1.        ,  1.        , -0.05050505],\n",
       "       [ 1.        ,  1.        ,  1.        , -0.03030303],\n",
       "       [ 1.        ,  1.        ,  1.        , -0.01010101],\n",
       "       [ 1.        ,  1.        ,  1.        ,  0.01010101],\n",
       "       [ 1.        ,  1.        ,  1.        ,  0.03030303],\n",
       "       [ 1.        ,  1.        ,  1.        ,  0.05050505],\n",
       "       [ 1.        ,  1.        ,  1.        ,  0.07070707],\n",
       "       [ 1.        ,  1.        ,  1.        ,  0.09090909],\n",
       "       [ 1.        ,  1.        ,  1.        ,  0.11111111],\n",
       "       [ 1.        ,  1.        ,  1.        ,  0.13131313],\n",
       "       [ 1.        ,  1.        ,  1.        ,  0.15151515],\n",
       "       [ 1.        ,  1.        ,  1.        ,  0.17171717],\n",
       "       [ 1.        ,  1.        ,  1.        ,  0.19191919],\n",
       "       [ 1.        ,  1.        ,  1.        ,  0.21212121],\n",
       "       [ 1.        ,  1.        ,  1.        ,  0.23232323],\n",
       "       [ 1.        ,  1.        ,  1.        ,  0.25252525],\n",
       "       [ 1.        ,  1.        ,  1.        ,  0.27272727],\n",
       "       [ 1.        ,  1.        ,  1.        ,  0.29292929],\n",
       "       [ 1.        ,  1.        ,  1.        ,  0.31313131],\n",
       "       [ 1.        ,  1.        ,  1.        ,  0.33333333],\n",
       "       [ 1.        ,  1.        ,  1.        ,  0.35353535],\n",
       "       [ 1.        ,  1.        ,  1.        ,  0.37373737],\n",
       "       [ 1.        ,  1.        ,  1.        ,  0.39393939],\n",
       "       [ 1.        ,  1.        ,  1.        ,  0.41414141],\n",
       "       [ 1.        ,  1.        ,  1.        ,  0.43434343],\n",
       "       [ 1.        ,  1.        ,  1.        ,  0.45454545],\n",
       "       [ 1.        ,  1.        ,  1.        ,  0.47474747],\n",
       "       [ 1.        ,  1.        ,  1.        ,  0.49494949],\n",
       "       [ 1.        ,  1.        ,  1.        ,  0.51515152],\n",
       "       [ 1.        ,  1.        ,  1.        ,  0.53535354],\n",
       "       [ 1.        ,  1.        ,  1.        ,  0.55555556],\n",
       "       [ 1.        ,  1.        ,  1.        ,  0.57575758],\n",
       "       [ 1.        ,  1.        ,  1.        ,  0.5959596 ],\n",
       "       [ 1.        ,  1.        ,  1.        ,  0.61616162],\n",
       "       [ 1.        ,  1.        ,  1.        ,  0.63636364],\n",
       "       [ 1.        ,  1.        ,  1.        ,  0.65656566],\n",
       "       [ 1.        ,  1.        ,  1.        ,  0.67676768],\n",
       "       [ 1.        ,  1.        ,  1.        ,  0.6969697 ],\n",
       "       [ 1.        ,  1.        ,  1.        ,  0.71717172],\n",
       "       [ 1.        ,  1.        ,  1.        ,  0.73737374],\n",
       "       [ 1.        ,  1.        ,  1.        ,  0.75757576],\n",
       "       [ 1.        ,  1.        ,  1.        ,  0.77777778],\n",
       "       [ 1.        ,  1.        ,  1.        ,  0.7979798 ],\n",
       "       [ 1.        ,  1.        ,  1.        ,  0.81818182],\n",
       "       [ 1.        ,  1.        ,  1.        ,  0.83838384],\n",
       "       [ 1.        ,  1.        ,  1.        ,  0.85858586],\n",
       "       [ 1.        ,  1.        ,  1.        ,  0.87878788],\n",
       "       [ 1.        ,  1.        ,  1.        ,  0.8989899 ],\n",
       "       [ 1.        ,  1.        ,  1.        ,  0.91919192],\n",
       "       [ 1.        ,  1.        ,  1.        ,  0.93939394],\n",
       "       [ 1.        ,  1.        ,  1.        ,  0.95959596],\n",
       "       [ 1.        ,  1.        ,  1.        ,  0.97979798],\n",
       "       [ 1.        ,  1.        ,  1.        ,  1.        ]])"
      ]
     },
     "execution_count": 22,
     "metadata": {},
     "output_type": "execute_result"
    }
   ],
   "source": [
    "data_x = np.hstack((np.ones_like(data_x), data_x))\n",
    "data_x"
   ]
  },
  {
   "cell_type": "code",
   "execution_count": 11,
   "metadata": {},
   "outputs": [
    {
     "name": "stdout",
     "output_type": "stream",
     "text": [
      "[56 34 87 24 27 92 67 43 65 69 12 59 47 62 72 40 44 80 46 29 77  0 52 84\n",
      " 58 93 88 33 19 61 90 51 49 13 39 36 50 16 22 63 66 25 57 20 97 91 76 11\n",
      " 82 53 15 81 73 17 48 32 60 10 21 42  4 96 78 70 79 68  9 74  7  6 94 30\n",
      "  1 37 86 95 71 18 38 54  2 85 23  3 55 89 35 75 98 83 41 26  5 45 31 99\n",
      " 14  8 28 64]\n",
      "(20, 2) 160 20 80\n",
      "[[ 1.          0.13131313]\n",
      " [ 1.         -0.31313131]\n",
      " [ 1.          0.75757576]\n",
      " [ 1.         -0.51515152]\n",
      " [ 1.         -0.45454545]\n",
      " [ 1.          0.85858586]\n",
      " [ 1.          0.35353535]\n",
      " [ 1.         -0.13131313]\n",
      " [ 1.          0.31313131]\n",
      " [ 1.          0.39393939]\n",
      " [ 1.         -0.75757576]\n",
      " [ 1.          0.19191919]\n",
      " [ 1.         -0.05050505]\n",
      " [ 1.          0.25252525]\n",
      " [ 1.          0.45454545]\n",
      " [ 1.         -0.19191919]\n",
      " [ 1.         -0.11111111]\n",
      " [ 1.          0.61616162]\n",
      " [ 1.         -0.07070707]\n",
      " [ 1.         -0.41414141]]\n"
     ]
    }
   ],
   "source": [
    "order = np.random.permutation(len(data_x))\n",
    "portion = 20\n",
    "test_x = data_x[order[:portion]]\n",
    "test_y = data_y[order[:portion]]\n",
    "train_x = data_x[order[portion:]]\n",
    "train_y = data_y[order[portion:]]\n",
    "print(order)\n",
    "print (test_x.shape, train_x.size, test_y.size, train_y.size)\n",
    "print (test_x)"
   ]
  },
  {
   "cell_type": "code",
   "execution_count": 12,
   "metadata": {},
   "outputs": [
    {
     "data": {
      "image/png": "[encoded data removed]",
      "text/plain": [
       "<Figure size 432x288 with 1 Axes>"
      ]
     },
     "metadata": {
      "needs_background": "light"
     },
     "output_type": "display_data"
    }
   ],
   "source": [
    "plt.scatter(train_x[:,1], train_y, c='b', label='Data')\n",
    "plt.show()"
   ]
  },
  {
   "cell_type": "code",
   "execution_count": 13,
   "metadata": {},
   "outputs": [],
   "source": [
    "def get_gradient(w, x, y):\n",
    "    y_estimate = (np.power(x,1).dot(w)).flatten() #hypothesis\n",
    "    error = (y.flatten() - y_estimate) \n",
    "    mse = (1.0/len(x))*np.sum(np.power(error,2)) # mse\n",
    "    gradient = -(1.0/len(x)) * error.dot(np.power(x,1))         # gradient\n",
    "    return gradient, mse"
   ]
  },
  {
   "cell_type": "code",
   "execution_count": 14,
   "metadata": {},
   "outputs": [
    {
     "name": "stdout",
     "output_type": "stream",
     "text": [
      "Intial values of Weights:\n",
      "0.5218494903163309 0.3056001722083279\n",
      "Iteration: 10 - Error: 30359.7696\n",
      "Updated Weights : 117.219120 , -2.798070\n",
      "Iteration: 20 - Error: 14264.3807\n",
      "Updated Weights : 207.238481 , -2.969519\n",
      "Iteration: 30 - Error: 6811.6665\n",
      "Updated Weights : 268.490160 , -2.241590\n",
      "Iteration: 40 - Error: 3359.2409\n",
      "Updated Weights : 310.174898 , -1.451744\n",
      "Iteration: 50 - Error: 1759.7352\n",
      "Updated Weights : 338.545959 , -0.811526\n",
      "Iteration: 60 - Error: 1018.6624\n",
      "Updated Weights : 357.856494 , -0.339993\n",
      "Iteration: 70 - Error: 675.3106\n",
      "Updated Weights : 371.000368 , -0.006572\n",
      "Iteration: 80 - Error: 516.2294\n",
      "Updated Weights : 379.946962 , 0.224723\n",
      "Iteration: 90 - Error: 442.5241\n",
      "Updated Weights : 386.036646 , 0.383672\n",
      "Iteration: 100 - Error: 408.3750\n",
      "Updated Weights : 390.181730 , 0.492393\n",
      "Iteration: 110 - Error: 392.5532\n",
      "Updated Weights : 393.003180 , 0.566580\n",
      "Iteration: 120 - Error: 385.2226\n",
      "Updated Weights : 394.923670 , 0.617142\n",
      "Iteration: 130 - Error: 381.8262\n",
      "Updated Weights : 396.230899 , 0.651580\n",
      "Iteration: 140 - Error: 380.2526\n",
      "Updated Weights : 397.120697 , 0.675029\n",
      "Iteration: 150 - Error: 379.5235\n",
      "Updated Weights : 397.726360 , 0.690993\n",
      "Iteration: 160 - Error: 379.1857\n",
      "Updated Weights : 398.138620 , 0.701860\n",
      "Iteration: 170 - Error: 379.0292\n",
      "Updated Weights : 398.419236 , 0.709257\n",
      "Iteration: 180 - Error: 378.9567\n",
      "Updated Weights : 398.610243 , 0.714293\n",
      "Iteration: 190 - Error: 378.9231\n",
      "Updated Weights : 398.740258 , 0.717720\n",
      "Iteration: 200 - Error: 378.9075\n",
      "Updated Weights : 398.828755 , 0.720053\n",
      "Iteration: 210 - Error: 378.9003\n",
      "Updated Weights : 398.888993 , 0.721641\n",
      "Iteration: 220 - Error: 378.8969\n",
      "Updated Weights : 398.929996 , 0.722722\n",
      "Iteration: 230 - Error: 378.8954\n",
      "Updated Weights : 398.957905 , 0.723458\n",
      "Iteration: 240 - Error: 378.8947\n",
      "Updated Weights : 398.976902 , 0.723958\n",
      "Iteration: 250 - Error: 378.8944\n",
      "Updated Weights : 398.989833 , 0.724299\n",
      "Converged\n",
      "Final Weights : 398.991874 , 0.724353\n",
      "Test Cost = 226.61549722722518\n"
     ]
    }
   ],
   "source": [
    "w = np.random.randn(2) # Random Intialization\n",
    "alpha = 0.1 # learning rate\n",
    "tolerance = 1e-3 # param for stopping the loop\n",
    "print(\"Intial values of Weights:\")\n",
    "print(w[1], w[0])\n",
    "# Perform Gradient Descent\n",
    "iterations = 1\n",
    "while True:\n",
    "    gradient, error = get_gradient(w, train_x, train_y)\n",
    "    new_w = w - alpha * gradient\n",
    "#     print(gradient)\n",
    "    \n",
    "    # Stopping Condition\n",
    "    if np.sum(abs(new_w - w)) < tolerance:\n",
    "        print (\"Converged\")\n",
    "        break\n",
    "    \n",
    "    # Print error every 10 iterations\n",
    "    if iterations % 10 == 0:\n",
    "        print (\"Iteration: %d - Error: %.4f\" %(iterations, error))\n",
    "        print (\"Updated Weights : {:f} , {:f}\".format(w[1], w[0]))\n",
    "    iterations += 1\n",
    "    w = new_w\n",
    "\n",
    "print (\"Final Weights : {:f} , {:f}\".format(w[1], w[0]))\n",
    "print (\"Test Cost =\", get_gradient(w, test_x, test_y)[1])"
   ]
  },
  {
   "cell_type": "code",
   "execution_count": 15,
   "metadata": {},
   "outputs": [
    {
     "name": "stdout",
     "output_type": "stream",
     "text": [
      "Final eqn / hypothesis looks like:\n",
      "y = 398.991874.x^2 + 0.724353\n"
     ]
    }
   ],
   "source": [
    "print(\"Final eqn / hypothesis looks like:\")\n",
    "print('y = {:f}.x^2 + {:f}'.format(w[1], w[0]))"
   ]
  },
  {
   "cell_type": "code",
   "execution_count": 16,
   "metadata": {},
   "outputs": [
    {
     "data": {
      "image/png": "[encoded data removed]",
      "text/plain": [
       "<Figure size 432x288 with 1 Axes>"
      ]
     },
     "metadata": {
      "needs_background": "light"
     },
     "output_type": "display_data"
    }
   ],
   "source": [
    "plt.plot(data_x[:,1], (data_x**2).dot(w), c='g', label='Model')\n",
    "plt.scatter(train_x[:,1], train_y, c='b', label='Train Set')\n",
    "plt.scatter(test_x[:,1], test_y, c='r', label='Test Set')\n",
    "plt.grid()\n",
    "plt.legend(loc='best')\n",
    "plt.xlabel('X')\n",
    "plt.ylabel('Y')\n",
    "plt.show()"
   ]
  },
  {
   "cell_type": "code",
   "execution_count": 17,
   "metadata": {},
   "outputs": [
    {
     "data": {
      "text/plain": [
       "array([  0.72435317, 398.99187432])"
      ]
     },
     "execution_count": 17,
     "metadata": {},
     "output_type": "execute_result"
    }
   ],
   "source": [
    "w # trained model contains values of weights/parameters"
   ]
  },
  {
   "cell_type": "code",
   "execution_count": 18,
   "metadata": {},
   "outputs": [
    {
     "name": "stdout",
     "output_type": "stream",
     "text": [
      "# packages in environment at C:\\Users\\j1013189\\Anaconda3:\n",
      "Note: you may need to restart the kernel to use updated packages.\n",
      "\n",
      "#\n",
      "# Name                    Version                   Build  Channel\n",
      "scikit-learn              0.23.2           py38h47e9c7a_0  \n"
     ]
    }
   ],
   "source": [
    "conda list scikit-learn"
   ]
  },
  {
   "cell_type": "code",
   "execution_count": null,
   "metadata": {},
   "outputs": [],
   "source": []
  }
 ],
 "metadata": {
  "kernelspec": {
   "display_name": "Python 3",
   "language": "python",
   "name": "python3"
  },
  "language_info": {
   "codemirror_mode": {
    "name": "ipython",
    "version": 3
   },
   "file_extension": ".py",
   "mimetype": "text/x-python",
   "name": "python",
   "nbconvert_exporter": "python",
   "pygments_lexer": "ipython3",
   "version": "3.8.5"
  }
 },
 "nbformat": 4,
 "nbformat_minor": 4
}
