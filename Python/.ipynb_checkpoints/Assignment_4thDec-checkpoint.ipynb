{
 "cells": [
  {
   "cell_type": "code",
   "execution_count": 3,
   "metadata": {},
   "outputs": [
    {
     "data": {
      "text/plain": [
       "200"
      ]
     },
     "execution_count": 3,
     "metadata": {},
     "output_type": "execute_result"
    }
   ],
   "source": [
    "#1. Python Program to Find the Largest Number in a List\n",
    "def find_max(i_list):\n",
    "    max_v = i_list[0]\n",
    "    for each_entry in i_list:\n",
    "        if each_entry > max_v:\n",
    "            max_v = each_entry\n",
    "    return max_v\n",
    "\n",
    "find_max([20,100,200,23,100])\n",
    "            \n",
    "        "
   ]
  },
  {
   "cell_type": "code",
   "execution_count": 8,
   "metadata": {},
   "outputs": [
    {
     "data": {
      "text/plain": [
       "48"
      ]
     },
     "execution_count": 8,
     "metadata": {},
     "output_type": "execute_result"
    }
   ],
   "source": [
    "#2.Python Program to Find the Second Largest Number in a List\n",
    "def find_second_max(i_list):\n",
    "    new_list = sorted(i_list, reverse = True)\n",
    "    return new_list[1]\n",
    "\n",
    "find_second_max([47,50,26,27,48])"
   ]
  },
  {
   "cell_type": "code",
   "execution_count": 19,
   "metadata": {},
   "outputs": [],
   "source": [
    "#3.Python Program to Put Even and Odd elements in a List into Two Different Lists\n",
    "def return_odd_even_list(i_list):\n",
    "    even_list = []\n",
    "    odd_list = []\n",
    "    for each_entry in i_list:\n",
    "        if each_entry % 2 == 0:\n",
    "            even_list.append(each_entry) \n",
    "        else:\n",
    "            odd_list.append(each_entry)\n",
    "    return even_list, odd_list\n",
    "\n",
    "e_list, o_list = return_odd_even_list([1,2,3,4,5,6,7])"
   ]
  },
  {
   "cell_type": "code",
   "execution_count": 39,
   "metadata": {},
   "outputs": [
    {
     "name": "stdout",
     "output_type": "stream",
     "text": [
      "[1, 2, 3, 4, 4, 5, 9, 10]\n"
     ]
    }
   ],
   "source": [
    "#4: Python Program to Merge Two Lists and Sort it\n",
    "def merge_and_sort(i_list1,i_list2):\n",
    "    o_list = []\n",
    "    o_list.extend(i_list1)\n",
    "    o_list.extend(i_list2)\n",
    "    return sorted(o_list)\n",
    "x = merge_and_sort([2,3,4,5],[1,4,9,10])\n",
    "print(x)"
   ]
  },
  {
   "cell_type": "code",
   "execution_count": 58,
   "metadata": {},
   "outputs": [
    {
     "name": "stdout",
     "output_type": "stream",
     "text": [
      "[['akash', 5], ['rishav', 10], ['gaurav', 15], ['ram', 20]]\n"
     ]
    }
   ],
   "source": [
    "#5: Python Program to Sort the List According to the Second Element in Sublist\n",
    "def sort_as_per_2nd_element(i_list):\n",
    "    i_list.sort(key = lambda x: x[1]) \n",
    "    return i_list\n",
    "\n",
    "sub_li =[['rishav', 10], ['akash', 5], ['ram', 20], ['gaurav', 15]]\n",
    "print(sort_as_per_2nd_element(sub_li))\n"
   ]
  },
  {
   "cell_type": "code",
   "execution_count": 73,
   "metadata": {},
   "outputs": [
    {
     "data": {
      "text/plain": [
       "[1, 2, 3, 3, 4, 8, 9]"
      ]
     },
     "execution_count": 73,
     "metadata": {},
     "output_type": "execute_result"
    }
   ],
   "source": [
    "#6: Python Program to Find the Second Largest Number in a List Using Bubble Sort\n",
    "def doBubbleSort(iList):\n",
    "    n = len(iList)\n",
    "    j=0\n",
    "    for i in range(n-1):\n",
    "        for j in range(n-i-1):\n",
    "            if iList[j] > iList[j+1]:\n",
    "                iList[j],iList[j+1] = iList[j+1],iList[j]\n",
    "    return iList\n",
    "\n",
    "iplist = [2,1,4,3,3,9,8]\n",
    "doBubbleSort(iplist)"
   ]
  },
  {
   "cell_type": "code",
   "execution_count": 87,
   "metadata": {},
   "outputs": [
    {
     "data": {
      "text/plain": [
       "['a', 'abcd', 'abcde', 'abcdef']"
      ]
     },
     "execution_count": 87,
     "metadata": {},
     "output_type": "execute_result"
    }
   ],
   "source": [
    "#7: Python Program to Sort a List According to the Length of the Elements\n",
    "iList = ['abcdef','abcd','abcde','a']\n",
    "sorted(iList,key=lambda x:len(x))\n"
   ]
  },
  {
   "cell_type": "code",
   "execution_count": 6,
   "metadata": {},
   "outputs": [
    {
     "name": "stdout",
     "output_type": "stream",
     "text": [
      "[2, 1, 4, 5, 6, 200, 123, 1, 2, 3]\n"
     ]
    }
   ],
   "source": [
    "#8: Python Program to Find the Union of two Lists\n",
    "def union_2_lists(iList1, iList2):\n",
    "    oList = []\n",
    "    oList.extend(iList1)\n",
    "    oList.extend(iList2)\n",
    "    return oList\n",
    "                                                 \n",
    "print(union_2_lists([2,1,4,5,6],[200,123,1,2,3]))                         "
   ]
  },
  {
   "cell_type": "code",
   "execution_count": 19,
   "metadata": {},
   "outputs": [
    {
     "name": "stdout",
     "output_type": "stream",
     "text": [
      "[2, 1]\n"
     ]
    }
   ],
   "source": [
    "#9: Python Program to Find the Intersection of Two Lists\n",
    "def find_intersection(iList1, iList2):\n",
    "    oList = []\n",
    "    oList = [x for x in iList1 if x in iList2]\n",
    "    return oList\n",
    "print(find_intersection([2,1,4,5,6],[200,123,1,2,3]))   "
   ]
  },
  {
   "cell_type": "code",
   "execution_count": 29,
   "metadata": {},
   "outputs": [
    {
     "name": "stdout",
     "output_type": "stream",
     "text": [
      "[(1, 1), (2, 4), (3, 9), (4, 16), (5, 25), (6, 36), (7, 49), (8, 64), (9, 81), (10, 100)]\n"
     ]
    }
   ],
   "source": [
    "#10. Python Program to Create a List of Tuples with the First Element as the Number \n",
    "#    and Second Element as the Square of the Number\n",
    "\n",
    "def find_squares(iRange):\n",
    "    oList = []\n",
    "    oList = [(x,x*x) for x in range(1,iRange+1)]\n",
    "    return oList\n",
    "print(find_squares(10))"
   ]
  },
  {
   "cell_type": "code",
   "execution_count": 1,
   "metadata": {},
   "outputs": [
    {
     "data": {
      "text/plain": [
       "[0, 1, 4, 9, 16, 25, 36, 81, 100, 121, 144, 225, 324, 400, 441, 900]"
      ]
     },
     "execution_count": 1,
     "metadata": {},
     "output_type": "execute_result"
    }
   ],
   "source": [
    "#11. Python Program to Find all Numbers in a Range which are \n",
    "#    Perfect Squares and Sum of all Digits in the Number is Less than 10\n",
    "def find_sum_of_digits(iNumber):\n",
    "    y = list(str(iNumber))\n",
    "    oSum = sum([int(x) for x in y])\n",
    "    return oSum\n",
    "    \n",
    "def is_perfect_square_sum_less_10(iRange):\n",
    "    oList = []\n",
    "    oList = [x for x in range(iRange) if ((x**(0.5) in range(iRange)) & (find_sum_of_digits(x) < 10))]\n",
    "    return oList\n",
    "\n",
    "is_perfect_square_sum_less_10(1000)"
   ]
  },
  {
   "cell_type": "code",
   "execution_count": 35,
   "metadata": {},
   "outputs": [
    {
     "data": {
      "text/plain": [
       "[2, 3, 7, 16, 32, 57]"
      ]
     },
     "execution_count": 35,
     "metadata": {},
     "output_type": "execute_result"
    }
   ],
   "source": [
    "#12. Python Program to Find the Cumulative Sum of a \n",
    "#  List where the ith Element is the Sum of the First i+1 Elements From The Original List\n",
    "def find_cum_sum(iList):\n",
    "    oList = []\n",
    "    i = 0\n",
    "    for each in iList:\n",
    "        if i == 0:\n",
    "            oList.append(each)\n",
    "        else:\n",
    "            oList.append(sum(iList[0:i+1]))\n",
    "        i+=1\n",
    "    return oList\n",
    "        \n",
    "\n",
    "find_cum_sum([2, 1, 4, 9, 16, 25])\n"
   ]
  },
  {
   "cell_type": "code",
   "execution_count": null,
   "metadata": {},
   "outputs": [],
   "source": []
  },
  {
   "cell_type": "code",
   "execution_count": 52,
   "metadata": {},
   "outputs": [
    {
     "data": {
      "text/plain": [
       "[2, 16, 20, 9, 2, 10, 9, 5, 14, 13, 14, 12, 8, 9, 13, 1, 1, 1, 8, 18]"
      ]
     },
     "execution_count": 52,
     "metadata": {},
     "output_type": "execute_result"
    }
   ],
   "source": [
    "#13. Python Program to Generate Random Numbers from 1 to 20 and Append Them to the List\n",
    "import random\n",
    "o_list = []\n",
    "for each in range(20):\n",
    "    o_list.append(random.randint(1,20))\n",
    "o_list"
   ]
  },
  {
   "cell_type": "code",
   "execution_count": 72,
   "metadata": {},
   "outputs": [
    {
     "data": {
      "text/plain": [
       "[(3, 3), (0, 7), (2, 10)]"
      ]
     },
     "execution_count": 72,
     "metadata": {},
     "output_type": "execute_result"
    }
   ],
   "source": [
    "#14. Python program to Sort a List of Tuples in Increasing Order by the Last Element in Each Tuple\n",
    "def func(x):\n",
    "    return x[1]\n",
    "def sort_list_tuples_second_element(iList):\n",
    "    return sorted(iList,key=func)\n",
    "sort_list_tuples_second_element([(2, 10), (3, 3), (0, 7)])"
   ]
  },
  {
   "cell_type": "code",
   "execution_count": 81,
   "metadata": {},
   "outputs": [
    {
     "data": {
      "text/plain": [
       "[4, 2, 3, 'Test']"
      ]
     },
     "execution_count": 81,
     "metadata": {},
     "output_type": "execute_result"
    }
   ],
   "source": [
    "#15. Python Program to Swap the First and Last Value of a List\n",
    "def swap_first_last(iList):\n",
    "    iList[0], iList[len(iList)-1] = iList[len(iList)-1], iList[0]\n",
    "    return iList\n",
    "\n",
    "swap_first_last(['Test',2,3,4])"
   ]
  },
  {
   "cell_type": "code",
   "execution_count": 82,
   "metadata": {},
   "outputs": [
    {
     "data": {
      "text/plain": [
       "[1, 2, 3, 5]"
      ]
     },
     "execution_count": 82,
     "metadata": {},
     "output_type": "execute_result"
    }
   ],
   "source": [
    "#16. Python Program to Remove the Duplicate Items from a List\n",
    "def remove_duplicate(iList):\n",
    "    oList = set(iList)\n",
    "    return list(oList)\n",
    "remove_duplicate([1,2,2,3,5])"
   ]
  },
  {
   "cell_type": "code",
   "execution_count": 9,
   "metadata": {},
   "outputs": [
    {
     "data": {
      "text/plain": [
       "6"
      ]
     },
     "execution_count": 9,
     "metadata": {},
     "output_type": "execute_result"
    }
   ],
   "source": [
    "#17. Python Program to Read a List of Words and Return the Length of the Longest One\n",
    "def read_list_return_len_of_longest(iList):\n",
    "    return len(sorted(iList,key=len)[len(iList)-1])\n",
    "\n",
    "read_list_return_len_of_longest(['sadd','ewrer','gfgdgf','ew'])\n",
    "\n"
   ]
  },
  {
   "cell_type": "code",
   "execution_count": 36,
   "metadata": {},
   "outputs": [
    {
     "data": {
      "text/plain": [
       "['This', 'is', 'is', 'awesome', 'awesome']"
      ]
     },
     "execution_count": 36,
     "metadata": {},
     "output_type": "execute_result"
    }
   ],
   "source": [
    "#18. Python Program to Remove the ith Occurrence of the Given Word in a List where Words can Repeat\n",
    "def remove_occurance_for_i(iList, word,i):\n",
    "    count = 0\n",
    "    index = -1\n",
    "    for each in iList:\n",
    "        index+=1\n",
    "        if (each == word):\n",
    "            count+=1\n",
    "        if count == i:\n",
    "            iList.pop(index)\n",
    "            break\n",
    "    return iList\n",
    "\n",
    "remove_occurance_for_i(['This','is','is','awesome','awesome','also'], 'also',1)"
   ]
  },
  {
   "cell_type": "code",
   "execution_count": 38,
   "metadata": {},
   "outputs": [],
   "source": [
    "#19. Python Program to Remove All Tuples in a List of Tuples with the USN Outside the Given Range"
   ]
  },
  {
   "cell_type": "code",
   "execution_count": 37,
   "metadata": {},
   "outputs": [],
   "source": [
    "#20. Python Program to solve Maximum Subarray Problem using Divide and Conquer"
   ]
  },
  {
   "cell_type": "code",
   "execution_count": 39,
   "metadata": {},
   "outputs": [],
   "source": [
    "#21. Python Program to solve Maximum Subarray Problem using Kadane’s Algorithm"
   ]
  },
  {
   "cell_type": "code",
   "execution_count": 46,
   "metadata": {},
   "outputs": [
    {
     "data": {
      "text/plain": [
       "[3, 1]"
      ]
     },
     "execution_count": 46,
     "metadata": {},
     "output_type": "execute_result"
    }
   ],
   "source": [
    "#22. Python Program to Find Element Occurring Odd Number of Times in a List\n",
    "import collections\n",
    "def findOddOccuringElements(iList):\n",
    "    countDict = collections.Counter(iList)\n",
    "    oList = []\n",
    "    for key in countDict:\n",
    "        if countDict[key] % 2 != 0:\n",
    "            oList.append(key)\n",
    "    return oList\n",
    "findOddOccuringElements([2,2,3,3,3,4,1,4])"
   ]
  },
  {
   "cell_type": "code",
   "execution_count": 50,
   "metadata": {},
   "outputs": [
    {
     "data": {
      "text/plain": [
       "'b$ngl$desh'"
      ]
     },
     "execution_count": 50,
     "metadata": {},
     "output_type": "execute_result"
    }
   ],
   "source": [
    "#23. Python Program to Replace all Occurrences of ‘a’ with $ in a String\n",
    "x = 'bangladesh'\n",
    "x.replace('a','$')"
   ]
  },
  {
   "cell_type": "code",
   "execution_count": 76,
   "metadata": {},
   "outputs": [
    {
     "data": {
      "text/plain": [
       "'eqerrrt'"
      ]
     },
     "execution_count": 76,
     "metadata": {},
     "output_type": "execute_result"
    }
   ],
   "source": [
    "#24.Python Program to Remove the nth Index Character from a Non-Empty String\n",
    "def remove_nth_char(iStr,n):\n",
    "    return iStr[:n]+iStr[n+1:]\n",
    "\n",
    "remove_nth_char('eqwerrrt',2)"
   ]
  },
  {
   "cell_type": "code",
   "execution_count": 143,
   "metadata": {},
   "outputs": [
    {
     "data": {
      "text/plain": [
       "False"
      ]
     },
     "execution_count": 143,
     "metadata": {},
     "output_type": "execute_result"
    }
   ],
   "source": [
    "#25. Python Program to Detect if Two Strings are Anagrams\n",
    "import collections\n",
    "def isAnagram(str1, str2):\n",
    "    if collections.Counter(str1) == collections.Counter(str2):\n",
    "        return True\n",
    "    else:\n",
    "        return False\n",
    "    \n",
    "isAnagram('tetssre','testers')\n"
   ]
  },
  {
   "cell_type": "code",
   "execution_count": 141,
   "metadata": {},
   "outputs": [
    {
     "data": {
      "text/plain": [
       "'oemd'"
      ]
     },
     "execution_count": 141,
     "metadata": {},
     "output_type": "execute_result"
    }
   ],
   "source": [
    "#26. Python Program to Form a New String where the First Character and the Last Character have been Exchanged\n",
    "def replaceFirstLastChar(iStr):\n",
    "    x = list(iStr)\n",
    "    x[0],x[len(x)-1] = x[len(x)-1],x[0]\n",
    "    return ''.join(x)\n",
    "\n",
    "replaceFirstLastChar('demo')"
   ]
  },
  {
   "cell_type": "code",
   "execution_count": 105,
   "metadata": {},
   "outputs": [
    {
     "data": {
      "text/plain": [
       "3"
      ]
     },
     "execution_count": 105,
     "metadata": {},
     "output_type": "execute_result"
    }
   ],
   "source": [
    "#27. Python Program to Count the Number of Vowels in a String\n",
    "def countNumberVowels(iStr):\n",
    "    iList = list(iStr)\n",
    "    return(len([x for x in iList if x in ['a','e','i','o','u'] ]))\n",
    "    \n",
    "countNumberVowels('demography')"
   ]
  },
  {
   "cell_type": "code",
   "execution_count": 111,
   "metadata": {},
   "outputs": [
    {
     "data": {
      "text/plain": [
       "'test-1-test'"
      ]
     },
     "execution_count": 111,
     "metadata": {},
     "output_type": "execute_result"
    }
   ],
   "source": [
    "#28. Python Program to Take in a String and Replace Every Blank Space with Hyphen\n",
    "x = 'test 1 test'\n",
    "x.replace(' ','-')"
   ]
  },
  {
   "cell_type": "code",
   "execution_count": 110,
   "metadata": {},
   "outputs": [
    {
     "data": {
      "text/plain": [
       "4"
      ]
     },
     "execution_count": 110,
     "metadata": {},
     "output_type": "execute_result"
    }
   ],
   "source": [
    "#29:Python Program to Calculate the Length of a String Without Using a Library Function\n",
    "def findLenStr(iStr):\n",
    "    iList = list(iStr)\n",
    "    count = 0\n",
    "    for each in iList:\n",
    "        count+=1\n",
    "    return count\n",
    "findLenStr('Test')"
   ]
  },
  {
   "cell_type": "code",
   "execution_count": 117,
   "metadata": {},
   "outputs": [
    {
     "data": {
      "text/plain": [
       "'yhn'"
      ]
     },
     "execution_count": 117,
     "metadata": {},
     "output_type": "execute_result"
    }
   ],
   "source": [
    "#30. Python Program to Remove the Characters of Odd Index Values in a String\n",
    "def removeOddIndexValues(iStr):\n",
    "    iList = list(iStr)\n",
    "    return ''.join(iList[1::2])\n",
    "\n",
    "removeOddIndexValues('Python')"
   ]
  },
  {
   "cell_type": "code",
   "execution_count": 123,
   "metadata": {},
   "outputs": [
    {
     "data": {
      "text/plain": [
       "2"
      ]
     },
     "execution_count": 123,
     "metadata": {},
     "output_type": "execute_result"
    }
   ],
   "source": [
    "#31. Python Program to Calculate the Number of Words and the Number of Characters Present in a String\n",
    "x = 'Number of Characters Present in a String'\n",
    "iList = x.split(' ')\n",
    "len(iList[1])"
   ]
  },
  {
   "cell_type": "code",
   "execution_count": 127,
   "metadata": {},
   "outputs": [
    {
     "data": {
      "text/plain": [
       "'Arundhati'"
      ]
     },
     "execution_count": 127,
     "metadata": {},
     "output_type": "execute_result"
    }
   ],
   "source": [
    "#32. Python Program to Take in Two Strings and Display the Larger String without Using Built-in Functions\n",
    "def getLength(string):\n",
    "    length = 0\n",
    "    for each in string:\n",
    "        length +=1        \n",
    "    return length\n",
    "\n",
    "def displayLargerString(str1, str2):\n",
    "    len1 = getLength(str1)\n",
    "    len2 = getLength(str2)\n",
    "    if len1 > len2:\n",
    "        return str1\n",
    "    else:\n",
    "        return str2\n",
    "\n",
    "displayLargerString('Arundhati','Moorthy')"
   ]
  },
  {
   "cell_type": "code",
   "execution_count": 130,
   "metadata": {},
   "outputs": [
    {
     "data": {
      "text/plain": [
       "6"
      ]
     },
     "execution_count": 130,
     "metadata": {},
     "output_type": "execute_result"
    }
   ],
   "source": [
    "#33. Python Program to Count Number of Lowercase Characters in a String\n",
    "def getCountLowerCase(string):\n",
    "    count = 0\n",
    "    for each in string:\n",
    "        if each.islower() == True:\n",
    "            count +=1\n",
    "    return count\n",
    "\n",
    "getCountLowerCase('Moorthy')"
   ]
  },
  {
   "cell_type": "code",
   "execution_count": 150,
   "metadata": {},
   "outputs": [
    {
     "data": {
      "text/plain": [
       "True"
      ]
     },
     "execution_count": 150,
     "metadata": {},
     "output_type": "execute_result"
    }
   ],
   "source": [
    "#34. Python Program to Check if a String is a Palindrome or Not\n",
    "def checkPalindrome(string):\n",
    "    if string[0::]==string[::-1]:\n",
    "        return True\n",
    "    else:\n",
    "        return False\n",
    "checkPalindrome('malayalam')"
   ]
  },
  {
   "cell_type": "code",
   "execution_count": 152,
   "metadata": {},
   "outputs": [
    {
     "data": {
      "text/plain": [
       "(6, 3)"
      ]
     },
     "execution_count": 152,
     "metadata": {},
     "output_type": "execute_result"
    }
   ],
   "source": [
    "#35. Python Program to Calculate the Number of Upper Case Letters and Lower Case Letters in a String\n",
    "def countLowerUpperCase(string):\n",
    "    lCount = 0\n",
    "    uCount = 0\n",
    "    for each in string:\n",
    "        if each.islower() == True:\n",
    "            lCount +=1 \n",
    "        if each.isupper() == True:\n",
    "            uCount +=1\n",
    "    return lCount, uCount\n",
    "\n",
    "countLowerUpperCase('MoorthyVN')"
   ]
  },
  {
   "cell_type": "code",
   "execution_count": 185,
   "metadata": {},
   "outputs": [
    {
     "data": {
      "text/plain": [
       "False"
      ]
     },
     "execution_count": 185,
     "metadata": {},
     "output_type": "execute_result"
    }
   ],
   "source": [
    "#36. Python Program to Check if a String is a Pangram or Not\n",
    "def checkPangram(string):\n",
    "    fullAlphaSet = set('abcdefghijklmnopqrstuvwxyz')\n",
    "    tempStr = string.lower().replace(\" \",\"\").replace(\".\",\"\")\n",
    "    stringUniqueCharSet = set(tempStr)\n",
    "    if fullAlphaSet == stringUniqueCharSet:\n",
    "        return True\n",
    "    else:\n",
    "        return False\n",
    "    \n",
    "testString =  \"The quick brown fox jumps over the lazy dog\"\n",
    "checkPangram(testString)"
   ]
  },
  {
   "cell_type": "code",
   "execution_count": 195,
   "metadata": {},
   "outputs": [
    {
     "data": {
      "text/plain": [
       "'is-moorthy-my-name-sort-test-this'"
      ]
     },
     "execution_count": 195,
     "metadata": {},
     "output_type": "execute_result"
    }
   ],
   "source": [
    "#37. Python Program to Accept a Hyphen Separated Sequence of Words as Input \n",
    "#    and Print the Words in a Hyphen-Separated Sequence after Sorting them Alphabetically\n",
    "def hyphenSeparateSortedText(string):\n",
    "    temp = sorted(string.split(\"-\"))\n",
    "    return \"-\".join(temp)\n",
    "\n",
    "hyphenSeparateSortedText('test-my-name-is-moorthy-sort-this')"
   ]
  },
  {
   "cell_type": "code",
   "execution_count": 196,
   "metadata": {},
   "outputs": [
    {
     "data": {
      "text/plain": [
       "(4, 13)"
      ]
     },
     "execution_count": 196,
     "metadata": {},
     "output_type": "execute_result"
    }
   ],
   "source": [
    "#38. Python Program to Calculate the Number of Digits and Letters in a String\n",
    "def getNumberDigitsLetter(string):\n",
    "    nDigit = 0\n",
    "    nLetter = 0\n",
    "    for each in string:\n",
    "        if each.isnumeric() == True:\n",
    "            nDigit += 1\n",
    "        if each.isalpha() == True:\n",
    "            nLetter += 1\n",
    "    return nDigit,nLetter\n",
    "\n",
    "getNumberDigitsLetter('Current Year is 2021')\n",
    "        "
   ]
  },
  {
   "cell_type": "code",
   "execution_count": 208,
   "metadata": {},
   "outputs": [
    {
     "data": {
      "text/plain": [
       "'Pyon'"
      ]
     },
     "execution_count": 208,
     "metadata": {},
     "output_type": "execute_result"
    }
   ],
   "source": [
    "#39. Python Program to Form a New String Made of the First 2 and Last 2 characters From a Given String\n",
    "def getNewString(string):\n",
    "    return string[0:2:] + string[len(string)-2::]\n",
    "\n",
    "getNewString('Python')"
   ]
  },
  {
   "cell_type": "code",
   "execution_count": 214,
   "metadata": {},
   "outputs": [
    {
     "name": "stdout",
     "output_type": "stream",
     "text": [
      "Counter({'the': 2, 'python': 1, 'program': 1, 'to': 1, 'count': 1, 'occurrences': 1, 'of': 1, 'each': 1, 'word': 1, 'in': 1, 'given': 1, 'string': 1, 'sentence': 1})\n"
     ]
    }
   ],
   "source": [
    "#40. Python Program to Count the Occurrences of Each Word in a Given String Sentence\n",
    "import collections\n",
    "\n",
    "x = 'Python Program to Count the Occurrences of Each Word in THE Given String Sentence'\n",
    "print(collections.Counter(x.lower().split(\" \")))\n"
   ]
  },
  {
   "cell_type": "code",
   "execution_count": 218,
   "metadata": {},
   "outputs": [
    {
     "name": "stdout",
     "output_type": "stream",
     "text": [
      "True\n"
     ]
    }
   ],
   "source": [
    "#41. Python Program to Check if a Substring is Present in a Given String\n",
    "x = 'in'\n",
    "y = 'dining'\n",
    "if x in y:\n",
    "    print(\"True\")\n",
    "else: print(\"False\")\n",
    "    "
   ]
  },
  {
   "cell_type": "code",
   "execution_count": 323,
   "metadata": {},
   "outputs": [
    {
     "data": {
      "text/plain": [
       "\"Reliance Industries and Saudi Aramco have called off a deal for the state oil giant to buy a stake in the oil-to-chemicals business of the conglomerate due to valuation concerns, sources with knowledge of the matter said.\\nTalks broke down over how much Reliance's oil-to-chemicals (O2C) business should be valued as the world seeks to move away from fossil fuels and reduce emissions, they said.\\nInstead, Reliance will now focus on signing multiple deals with companies to produce specialty chemicals for higher margins, one of the sources said.\""
      ]
     },
     "execution_count": 323,
     "metadata": {},
     "output_type": "execute_result"
    }
   ],
   "source": [
    "#42. Python Program to Read the Contents of a File\n",
    "f = open(\"File1.txt\",\"r\")\n",
    "f.read()"
   ]
  },
  {
   "cell_type": "code",
   "execution_count": 248,
   "metadata": {},
   "outputs": [
    {
     "data": {
      "text/plain": [
       "75"
      ]
     },
     "execution_count": 248,
     "metadata": {},
     "output_type": "execute_result"
    }
   ],
   "source": [
    "#43. Python Program to Count the Number of Words in a Text File\n",
    "def countNumberWordsinFile(iFile,mode):\n",
    "    f = open(iFile,mode)\n",
    "    txt = f.read()\n",
    "    count = len(txt.split(\" \"))\n",
    "    f.close()\n",
    "    return count\n",
    "\n",
    "countNumberWordsinFile(\"File1.txt\",\"r\")"
   ]
  },
  {
   "cell_type": "code",
   "execution_count": 245,
   "metadata": {},
   "outputs": [
    {
     "data": {
      "text/plain": [
       "2"
      ]
     },
     "execution_count": 245,
     "metadata": {},
     "output_type": "execute_result"
    }
   ],
   "source": [
    "#44. Python Program to Count the Number of Lines in a Text File\n",
    "def countNumberofFileLines(iFile):\n",
    "    f = open(iFile,\"r\")\n",
    "    count = len(f.read().split(\"\\n\"))\n",
    "    f.close()\n",
    "    return count\n",
    "\n",
    "countNumberofFileLines(\"File1.txt\")\n"
   ]
  },
  {
   "cell_type": "code",
   "execution_count": 253,
   "metadata": {},
   "outputs": [
    {
     "name": "stdout",
     "output_type": "stream",
     "text": [
      "Enter some text: Python Program\n",
      "A new variant of COVID-19, feared to have a high amount of spike mutations unseen before, has been detected in South Africa and other counties.\n",
      "In a letter to states and union territories, Union Health Secretary Rajesh Bhushan asked them to ensure that samples of travellers turning positive are sent to designated genome sequencing laboratories promptly. The contacts of these international travellers must also be closely tracked and tested as per Health Ministry guidelines, he said.\n",
      "\n",
      "\n",
      "Python Program\n",
      "\n"
     ]
    }
   ],
   "source": [
    "#45. Python Program to Read a String from the User and Append it into a File\n",
    "x = input(\"Enter some text: \")\n",
    "f = open(\"File1.txt\",\"a\")\n",
    "f.write(\"\\n\"+ x + \"\\n\")\n",
    "f.close()\n",
    "\n",
    "f = open(\"File1.txt\",\"r\")\n",
    "print(f.read())"
   ]
  },
  {
   "cell_type": "code",
   "execution_count": 269,
   "metadata": {},
   "outputs": [
    {
     "data": {
      "text/plain": [
       "0"
      ]
     },
     "execution_count": 269,
     "metadata": {},
     "output_type": "execute_result"
    }
   ],
   "source": [
    "#46. Python Program to Count the Occurrences of a Word in a Text File\n",
    "def findNumberofWords(iword):\n",
    "    f = open(\"File1.txt\",\"r\")\n",
    "    wordList = f.read().split(\" \")\n",
    "    f.close()\n",
    "    return (len([word for word in wordList if word == iword ]))\n",
    "\n",
    "findNumberofWords(\"Health\")"
   ]
  },
  {
   "cell_type": "code",
   "execution_count": 275,
   "metadata": {},
   "outputs": [
    {
     "data": {
      "text/plain": [
       "'A new variant of COVID-19, feared to have a high amount of spike mutations unseen before, has been detected in South Africa and other counties.\\nIn a letter to states and union territories, Union Health Secretary Rajesh Bhushan asked them to ensure that samples of travellers turning positive are sent to designated genome sequencing laboratories promptly. The contacts of these international travellers must also be closely tracked and tested as per Health Ministry guidelines, he said.\\n\\n\\nPython Program\\n'"
      ]
     },
     "execution_count": 275,
     "metadata": {},
     "output_type": "execute_result"
    }
   ],
   "source": [
    "#47. Python Program to Copy the Contents of One File into Another\n",
    "f1 = open(\"File1.txt\",\"r\")\n",
    "f2 = open(\"File3.txt\",\"w\")\n",
    "for each_char in f1.read():\n",
    "    f2.write(each_char)\n",
    "\n",
    "f1.close()\n",
    "f2.close()\n",
    "\n",
    "f2 = open(\"File3.txt\",\"r\")\n",
    "f2.read()\n"
   ]
  },
  {
   "cell_type": "code",
   "execution_count": 290,
   "metadata": {},
   "outputs": [
    {
     "data": {
      "text/plain": [
       "13"
      ]
     },
     "execution_count": 290,
     "metadata": {},
     "output_type": "execute_result"
    }
   ],
   "source": [
    "#48. Python Program that Reads a Text File and Counts the Number of Times a Certain Letter Appears in the Text File\n",
    "f = open(\"File1.txt\",\"r\")\n",
    "all_chars = f.read()\n",
    "f.close()\n",
    "len([char for char in all_chars if char == \"d\"])"
   ]
  },
  {
   "cell_type": "code",
   "execution_count": 293,
   "metadata": {},
   "outputs": [
    {
     "data": {
      "text/plain": [
       "['1', '9']"
      ]
     },
     "execution_count": 293,
     "metadata": {},
     "output_type": "execute_result"
    }
   ],
   "source": [
    "#49. Python Program to Read a Text File and Print all the Numbers Present in the Text File\n",
    "f = open(\"File1.txt\",\"r\")\n",
    "txt = f.read()\n",
    "f.close()\n",
    "[char for char in txt if char.isnumeric() == True]"
   ]
  },
  {
   "cell_type": "code",
   "execution_count": 299,
   "metadata": {},
   "outputs": [
    {
     "data": {
      "text/plain": [
       "'A new variant of COVID-19, feared to have a high amount of spike mutations unseen before, has been detected in South Africa and other counties.\\nIn a letter to states and union territories, Union Health Secretary Rajesh Bhushan asked them to ensure that samples of travellers turning positive are sent to designated genome sequencing laboratories promptly. The contacts of these international travellers must also be closely tracked and tested as per Health Ministry guidelines, he said.\\nA new variant of COVID-19, feared to have a high amount of spike mutations unseen before, has been detected in South Africa and other counties.\\nIn a letter to states and union territories, Union Health Secretary Rajesh Bhushan asked them to ensure that samples of travellers turning positive are sent to designated genome sequencing laboratories promptly. The contacts of these international travellers must also be closely tracked and tested as per Health Ministry guidelines, he said.\\n'"
      ]
     },
     "execution_count": 299,
     "metadata": {},
     "output_type": "execute_result"
    }
   ],
   "source": [
    "#50. Python Program to Append the Contents of One File to Another File\n",
    "f1 = open(\"File1.txt\",\"r\")\n",
    "f4 = open(\"File4.txt\",\"a\")\n",
    "for each_char in f1.read():\n",
    "    f4.write(each_char)\n",
    "\n",
    "f1.close()\n",
    "f4.close()\n",
    "f4 = open(\"File4.txt\",\"r\")\n",
    "new_file_txt = f4.read()\n",
    "new_file_txt"
   ]
  },
  {
   "cell_type": "code",
   "execution_count": 303,
   "metadata": {},
   "outputs": [
    {
     "data": {
      "text/plain": [
       "74"
      ]
     },
     "execution_count": 303,
     "metadata": {},
     "output_type": "execute_result"
    }
   ],
   "source": [
    "#51. Python Program to Count the Number of Blank Spaces in a Text File\n",
    "f1 = open(\"File1.txt\",\"r\")\n",
    "len([char for char in f1.read() if char == \" \"])"
   ]
  },
  {
   "cell_type": "code",
   "execution_count": 331,
   "metadata": {},
   "outputs": [
    {
     "name": "stdout",
     "output_type": "stream",
     "text": [
      "Reliance Industries And Saudi Aramco Have Called Off A Deal For The State Oil Giant To Buy A Stake In The Oil-To-Chemicals Business Of The Conglomerate Due To Valuation Concerns, Sources With Knowledge Of The Matter Said.\n",
      "Talks Broke Down Over How Much Reliance'S Oil-To-Chemicals (O2C) Business Should Be Valued As The World Seeks To Move Away From Fossil Fuels And Reduce Emissions, They Said.\n",
      "Instead, Reliance Will Now Focus On Signing Multiple Deals With Companies To Produce Specialty Chemicals For Higher Margins, One Of The Sources Said.\n"
     ]
    }
   ],
   "source": [
    "#52. Python Program to Read a File and Capitalize the First Letter of Every Word in the File\n",
    "f1 = open(\"File1.txt\",\"r\")\n",
    "output = ''\n",
    "for each_line in f1:\n",
    "    output += each_line.title()\n",
    "f1.close()\n",
    "print(output)"
   ]
  },
  {
   "cell_type": "code",
   "execution_count": 334,
   "metadata": {},
   "outputs": [
    {
     "data": {
      "text/plain": [
       "\".dias secruos eht fo eno ,snigram rehgih rof slacimehc ytlaiceps ecudorp ot seinapmoc htiw slaed elpitlum gningis no sucof won lliw ecnaileR ,daetsnI\\n.dias yeht ,snoissime ecuder dna sleuf lissof morf yawa evom ot skees dlrow eht sa deulav eb dluohs ssenisub )C2O( slacimehc-ot-lio s'ecnaileR hcum woh revo nwod ekorb sklaT\\n.dias rettam eht fo egdelwonk htiw secruos ,snrecnoc noitaulav ot eud etaremolgnoc eht fo ssenisub slacimehc-ot-lio eht ni ekats a yub ot tnaig lio etats eht rof laed a ffo dellac evah ocmarA iduaS dna seirtsudnI ecnaileR\""
      ]
     },
     "execution_count": 334,
     "metadata": {},
     "output_type": "execute_result"
    }
   ],
   "source": [
    "#53. Python Program to Read the Contents of a File in Reverse Order\n",
    "f1 = open(\"File1.txt\",\"r\")\n",
    "allTxt = f1.read()\n",
    "f1.close()\n",
    "allTxt[::-1]"
   ]
  },
  {
   "cell_type": "code",
   "execution_count": 337,
   "metadata": {},
   "outputs": [
    {
     "data": {
      "text/plain": [
       "\"said. sources the of one margins, higher for chemicals specialty produce to companies with deals multiple signing on focus now will Reliance said.\\nInstead, they emissions, reduce and fuels fossil from away move to seeks world the as valued be should business (O2C) oil-to-chemicals Reliance's much how over down broke said.\\nTalks matter the of knowledge with sources concerns, valuation to due conglomerate the of business oil-to-chemicals the in stake a buy to giant oil state the for deal a off called have Aramco Saudi and Industries Reliance\""
      ]
     },
     "execution_count": 337,
     "metadata": {},
     "output_type": "execute_result"
    }
   ],
   "source": [
    "#53-b Python Program to Read the Contents of a File in Reverse Order - reverse only words\n",
    "f1 = open(\"File1.txt\",\"r\")\n",
    "allWords = f1.read().split(\" \")\n",
    "f1.close()\n",
    "\" \".join(allWords[::-1])\n",
    "\n"
   ]
  },
  {
   "cell_type": "code",
   "execution_count": 1,
   "metadata": {},
   "outputs": [],
   "source": [
    "#54. Python – Extract Unique values dictionary values"
   ]
  },
  {
   "cell_type": "code",
   "execution_count": 4,
   "metadata": {},
   "outputs": [
    {
     "data": {
      "text/plain": [
       "90"
      ]
     },
     "execution_count": 4,
     "metadata": {},
     "output_type": "execute_result"
    }
   ],
   "source": [
    "#55. Python program to find the sum of all items in a dictionary\n",
    "def sumAllItemDictionary(iDict):\n",
    "    oSum = 0\n",
    "    for each in iDict:\n",
    "        oSum = oSum + iDict[each]\n",
    "    return oSum\n",
    "x = {'a':20, 'b':30, 'c':40}\n",
    "sumAllItemDictionary(x) "
   ]
  },
  {
   "cell_type": "code",
   "execution_count": 6,
   "metadata": {},
   "outputs": [
    {
     "data": {
      "text/plain": [
       "{'a': 20, 'c': 40, 'd': 60, 'e': 30}"
      ]
     },
     "execution_count": 6,
     "metadata": {},
     "output_type": "execute_result"
    }
   ],
   "source": [
    "#56. Python | Ways to remove a key from dictionary\n",
    "#a)\n",
    "x = {'a':20, 'b':30, 'c':40,'d':60, 'e':30}\n",
    "del x[\"b\"]\n",
    "x"
   ]
  },
  {
   "cell_type": "code",
   "execution_count": 8,
   "metadata": {},
   "outputs": [
    {
     "data": {
      "text/plain": [
       "{'b': 30, 'c': 40, 'd': 60, 'e': 30}"
      ]
     },
     "execution_count": 8,
     "metadata": {},
     "output_type": "execute_result"
    }
   ],
   "source": [
    "#56. Python | Ways to remove a key from dictionary\n",
    "#b)\n",
    "x = {'a':20, 'b':30, 'c':40,'d':60, 'e':30}\n",
    "x.pop('a')\n",
    "x"
   ]
  },
  {
   "cell_type": "code",
   "execution_count": 13,
   "metadata": {},
   "outputs": [
    {
     "data": {
      "text/plain": [
       "{'a': 20, 'b': 30, 'c': 40, 'd': 60}"
      ]
     },
     "execution_count": 13,
     "metadata": {},
     "output_type": "execute_result"
    }
   ],
   "source": [
    "#56. Python | Ways to remove a key from dictionary\n",
    "#c)\n",
    "x = {'a':20, 'b':30, 'c':40,'d':60, 'e':30}\n",
    "new_x = {key:value for key,value in x.items() if key != 'e'}\n",
    "new_x"
   ]
  },
  {
   "cell_type": "code",
   "execution_count": 31,
   "metadata": {},
   "outputs": [
    {
     "data": {
      "text/plain": [
       "[('a', 20), ('b', 30), ('c', 40), ('d', 60), ('e', 30)]"
      ]
     },
     "execution_count": 31,
     "metadata": {},
     "output_type": "execute_result"
    }
   ],
   "source": [
    "#57. Ways to sort list of dictionaries by values in Python – Using itemgetter\n",
    "from operator import itemgetter\n",
    "x = {'a':20, 'b':30, 'c':40,'d':60, 'e':30}\n",
    "sorted(x.items(),key=itemgetter(0))\n"
   ]
  },
  {
   "cell_type": "code",
   "execution_count": 35,
   "metadata": {},
   "outputs": [
    {
     "data": {
      "text/plain": [
       "[('a', 20), ('b', 30), ('e', 30), ('c', 40), ('d', 60)]"
      ]
     },
     "execution_count": 35,
     "metadata": {},
     "output_type": "execute_result"
    }
   ],
   "source": [
    "#58. Ways to sort list of dictionaries by values in Python – Using lambda function\n",
    "x = {'a':20, 'b':30, 'c':40,'d':60, 'e':30}\n",
    "sorted(x.items(),key = lambda x: x[1])\n"
   ]
  },
  {
   "cell_type": "code",
   "execution_count": 40,
   "metadata": {},
   "outputs": [
    {
     "data": {
      "text/plain": [
       "{'a': 20,\n",
       " 'b': 30,\n",
       " 'c': 40,\n",
       " 'd': 60,\n",
       " 'e': 30,\n",
       " 'f': 10,\n",
       " 'g': 65,\n",
       " 'h': 67,\n",
       " 'i': 50,\n",
       " 'j': 80}"
      ]
     },
     "execution_count": 40,
     "metadata": {},
     "output_type": "execute_result"
    }
   ],
   "source": [
    "#59 - a. Python | Merging two Dictionaries\n",
    "x = {'a':20, 'b':30, 'c':40,'d':60, 'e':30}\n",
    "y = {'f':10, 'g':65, 'h':67,'i':50, 'j':80}\n",
    "def mergeDictionaries(dict1, dict2):\n",
    "    rDict = {**dict1 , **dict2}\n",
    "    return rDict\n",
    "mergeDictionaries(x,y)\n"
   ]
  },
  {
   "cell_type": "code",
   "execution_count": 53,
   "metadata": {},
   "outputs": [
    {
     "data": {
      "text/plain": [
       "{'a': 20,\n",
       " 'b': 30,\n",
       " 'c': 40,\n",
       " 'd': 60,\n",
       " 'e': 30,\n",
       " 'f': 10,\n",
       " 'g': 65,\n",
       " 'h': 67,\n",
       " 'i': 50,\n",
       " 'j': 80}"
      ]
     },
     "execution_count": 53,
     "metadata": {},
     "output_type": "execute_result"
    }
   ],
   "source": [
    "#59 - b. Python | Merging two Dictionaries\n",
    "x = {'a':20, 'b':30, 'c':40,'d':60, 'e':30}\n",
    "y = {'f':10, 'g':65, 'h':67,'i':50, 'j':80}\n",
    "x.update(y)\n",
    "x"
   ]
  },
  {
   "cell_type": "code",
   "execution_count": 52,
   "metadata": {},
   "outputs": [
    {
     "data": {
      "text/plain": [
       "{'a': 20, 'b': 30, 'c': 20}"
      ]
     },
     "execution_count": 52,
     "metadata": {},
     "output_type": "execute_result"
    }
   ],
   "source": [
    "#60: Python – Convert key-values list to flat dictionary\n",
    "x = [['a',20],['b',30],['c',20]]\n",
    "dict(x)"
   ]
  },
  {
   "cell_type": "code",
   "execution_count": 56,
   "metadata": {},
   "outputs": [
    {
     "data": {
      "text/plain": [
       "OrderedDict([('e', 30),\n",
       "             ('a', 20),\n",
       "             ('b', 30),\n",
       "             ('c', 40),\n",
       "             ('d', 60),\n",
       "             ('f', 100)])"
      ]
     },
     "execution_count": 56,
     "metadata": {},
     "output_type": "execute_result"
    }
   ],
   "source": [
    "#61:Python – Insertion at the beginning in OrderedDict\n",
    "from collections import OrderedDict\n",
    "newDict = OrderedDict({'a':20, 'b':30, 'c':40,'d':60, 'e':30})\n",
    "newDict.update({'f':100})\n",
    "\n",
    "newDict.move_to_end('e', last = False)\n",
    "newDict\n",
    "\n"
   ]
  },
  {
   "cell_type": "code",
   "execution_count": 66,
   "metadata": {},
   "outputs": [
    {
     "data": {
      "text/plain": [
       "True"
      ]
     },
     "execution_count": 66,
     "metadata": {},
     "output_type": "execute_result"
    }
   ],
   "source": [
    "#62: Python | Check order of character in string using OrderedDict( )\n",
    "from collections import OrderedDict\n",
    "def checkOrderOfCharinStr(string, pattern):\n",
    "    ipdict = OrderedDict.fromkeys(string) \n",
    "    count = 0\n",
    "    for key, value in ipdict.items():\n",
    "        if key == pattern[count]:\n",
    "            count += 1\n",
    "        if count == len(pattern)-1:\n",
    "            return True\n",
    "    return False\n",
    "\n",
    "checkOrderOfCharinStr('Python language', 'ylg')"
   ]
  },
  {
   "cell_type": "code",
   "execution_count": 76,
   "metadata": {},
   "outputs": [
    {
     "data": {
      "text/plain": [
       "('johnny', 5)"
      ]
     },
     "execution_count": 76,
     "metadata": {},
     "output_type": "execute_result"
    }
   ],
   "source": [
    "#63:Dictionary and counter in Python to find winner of election\n",
    "import collections\n",
    "votes =['john','johnny','jackie','johnny','john','jackie',\n",
    "    'jamie','jamie','john','johnny','jamie','johnny','john','johnny']\n",
    "\n",
    "voteDict = collections.Counter(votes)\n",
    "sorted(voteDict.items(),reverse = True)[0]\n"
   ]
  },
  {
   "cell_type": "code",
   "execution_count": 77,
   "metadata": {},
   "outputs": [
    {
     "data": {
      "text/plain": [
       "['a', 'b', 'c', 'd', 'e', 20, 30, 40, 60, 30]"
      ]
     },
     "execution_count": 77,
     "metadata": {},
     "output_type": "execute_result"
    }
   ],
   "source": [
    "#64: Python – Append Dictionary Keys and Values ( In order ) in dictionary\n",
    "x = {'a':20, 'b':30, 'c':40,'d':60, 'e':30}\n",
    "keyList = []\n",
    "valueList = []\n",
    "for key,value in x.items():\n",
    "    keyList.append(key)\n",
    "    valueList.append(value)\n",
    "\n",
    "keyList.extend(valueList)\n",
    "keyList\n",
    "    \n",
    "    "
   ]
  },
  {
   "cell_type": "code",
   "execution_count": 89,
   "metadata": {},
   "outputs": [
    {
     "name": "stdout",
     "output_type": "stream",
     "text": [
      "[('a', 30), ('b', 20), ('c', 40), ('d', 30), ('e', 60)]\n",
      "[('b', 20), ('a', 30), ('d', 30), ('c', 40), ('e', 60)]\n"
     ]
    }
   ],
   "source": [
    "#65: Python | Sort Python Dictionaries by Key or Value\n",
    "x = {'b':20, 'a':30, 'c':40,'e':60, 'd':30}\n",
    "#Sort by Key\n",
    "print(sorted(x.items(), key = lambda kv:(kv[0], kv[1])))   \n",
    "\n",
    "#Sort by value\n",
    "print(sorted(x.items(), key = lambda kv:(kv[1], kv[0])))  \n",
    "\n"
   ]
  },
  {
   "cell_type": "code",
   "execution_count": 92,
   "metadata": {},
   "outputs": [
    {
     "data": {
      "text/plain": [
       "{'best': [4, 19], 'gfg': [3, 6, 7], 'is': [2, 3, 10]}"
      ]
     },
     "execution_count": 92,
     "metadata": {},
     "output_type": "execute_result"
    }
   ],
   "source": [
    "#66: Python – Sort Dictionary key and values List\n",
    "test_dict = {'gfg': [7, 6, 3], 'is': [2, 10, 3], 'best': [19, 4]}\n",
    "\n",
    "{key:sorted(test_dict[key]) for key in sorted(test_dict)}\n"
   ]
  },
  {
   "cell_type": "code",
   "execution_count": 5,
   "metadata": {},
   "outputs": [
    {
     "data": {
      "text/plain": [
       "'Not found'"
      ]
     },
     "execution_count": 5,
     "metadata": {},
     "output_type": "execute_result"
    }
   ],
   "source": [
    "#67: Handling missing keys in Python dictionaries\n",
    "x = {'a':1, 'b':2,'c': 3, 'd' : 4 }\n",
    "\n",
    "#a) Using get\n",
    "x.get('v','Not found')\n"
   ]
  },
  {
   "cell_type": "code",
   "execution_count": 7,
   "metadata": {},
   "outputs": [
    {
     "data": {
      "text/plain": [
       "'Key not found'"
      ]
     },
     "execution_count": 7,
     "metadata": {},
     "output_type": "execute_result"
    }
   ],
   "source": [
    "#b) defaultdictionary\n",
    "import collections\n",
    "x = collections.defaultdict(lambda:'Key not found')\n",
    "x['m']"
   ]
  },
  {
   "cell_type": "code",
   "execution_count": 8,
   "metadata": {},
   "outputs": [
    {
     "name": "stdout",
     "output_type": "stream",
     "text": [
      "{(10, 20, 30): 0, (5, 2, 4): 3}\n"
     ]
    }
   ],
   "source": [
    "#68: Python dictionary with keys having multiple inputs\n",
    "import random as rn\n",
    " \n",
    "# creating an empty dictionary\n",
    "dict = {}\n",
    " \n",
    "# Insert first triplet in dictionary\n",
    "x, y, z = 10, 20, 30\n",
    "dict[x, y, z] = x + y - z;\n",
    " \n",
    "# Insert second triplet in dictionary\n",
    "x, y, z = 5, 2, 4\n",
    "dict[x, y, z] = x + y - z;\n",
    " \n",
    "# print the dictionary\n",
    "print(dict)"
   ]
  },
  {
   "cell_type": "code",
   "execution_count": 26,
   "metadata": {},
   "outputs": [
    {
     "name": "stdout",
     "output_type": "stream",
     "text": [
      "{(\"19.07'53.2\", \"72.54'51.0\"): 'Mumbai', (\"28.33'34.1\", \"77.06'16.6\"): 'Delhi'}\n",
      "\n",
      "\n",
      "[\"19.07'53.2\", \"28.33'34.1\"]\n",
      "[\"72.54'51.0\", \"77.06'16.6\"]\n",
      "['Mumbai', 'Delhi']\n"
     ]
    }
   ],
   "source": [
    "#68-b\n",
    "places = {(\"19.07'53.2\", \"72.54'51.0\"):\"Mumbai\", \\\n",
    "          (\"28.33'34.1\", \"77.06'16.6\"):\"Delhi\"}\n",
    " \n",
    "print(places)\n",
    "print('\\n')\n",
    " \n",
    "# Traversing dictionary with multi-keys and creating\n",
    "# different lists from it\n",
    "lat = []\n",
    "long = []\n",
    "plc = []\n",
    "for key in places:\n",
    "    lat.append(key[0])\n",
    "    long.append(key[1])\n",
    "    plc.append(places[key[0], key[1]])\n",
    "\n",
    "print(lat)\n",
    "print(long)\n",
    "print(plc)"
   ]
  },
  {
   "cell_type": "code",
   "execution_count": 41,
   "metadata": {},
   "outputs": [
    {
     "data": {
      "text/plain": [
       "['cat', 'tac', 'dog', 'god']"
      ]
     },
     "execution_count": 41,
     "metadata": {},
     "output_type": "execute_result"
    }
   ],
   "source": [
    "#69.Print anagrams together in Python using List and Dictionary\n",
    "def printAnagramsTogether(arr):\n",
    "    oList = []\n",
    "    for each in arr:\n",
    "        if each[::-1] in arr and each not in oList:\n",
    "            oList.append(each)\n",
    "            oList.append(each[::-1])\n",
    "    return oList\n",
    "\n",
    "arr = ['cat', 'dog', 'tac', 'god', 'act','werr']\n",
    "printAnagramsTogether(arr)"
   ]
  },
  {
   "cell_type": "code",
   "execution_count": null,
   "metadata": {},
   "outputs": [],
   "source": []
  },
  {
   "cell_type": "code",
   "execution_count": null,
   "metadata": {},
   "outputs": [],
   "source": []
  }
 ],
 "metadata": {
  "kernelspec": {
   "display_name": "Python 3",
   "language": "python",
   "name": "python3"
  },
  "language_info": {
   "codemirror_mode": {
    "name": "ipython",
    "version": 3
   },
   "file_extension": ".py",
   "mimetype": "text/x-python",
   "name": "python",
   "nbconvert_exporter": "python",
   "pygments_lexer": "ipython3",
   "version": "3.8.5"
  }
 },
 "nbformat": 4,
 "nbformat_minor": 4
}
