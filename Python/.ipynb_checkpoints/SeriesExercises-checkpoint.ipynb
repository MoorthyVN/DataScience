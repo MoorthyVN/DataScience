{
 "cells": [
  {
   "cell_type": "code",
   "execution_count": 1,
   "metadata": {},
   "outputs": [],
   "source": [
    "import pandas as pd\n",
    "import numpy as np"
   ]
  },
  {
   "cell_type": "code",
   "execution_count": 3,
   "metadata": {},
   "outputs": [
    {
     "data": {
      "text/plain": [
       "0    1\n",
       "1    2\n",
       "2    3\n",
       "3    4\n",
       "4    5\n",
       "5    6\n",
       "dtype: int64"
      ]
     },
     "execution_count": 3,
     "metadata": {},
     "output_type": "execute_result"
    }
   ],
   "source": [
    "#1. Write a Pandas program to create and display a \n",
    "#one-dimensional array-like object containing an array of data using Pandas module.\n",
    "arr = pd.Series([1,2,3,4,5,6])\n",
    "arr"
   ]
  },
  {
   "cell_type": "code",
   "execution_count": 7,
   "metadata": {},
   "outputs": [
    {
     "name": "stdout",
     "output_type": "stream",
     "text": [
      "[1, 2, 3, 4, 5, 6]\n",
      "<class 'list'>\n"
     ]
    }
   ],
   "source": [
    "#2.Write a Pandas program to convert a Panda module Series to Python list and it's type\n",
    "arr = pd.Series([1,2,3,4,5,6])\n",
    "print(list(arr))\n",
    "print(type(list(arr)))"
   ]
  },
  {
   "cell_type": "code",
   "execution_count": 15,
   "metadata": {},
   "outputs": [
    {
     "name": "stdout",
     "output_type": "stream",
     "text": [
      "0     3\n",
      "1     7\n",
      "2    11\n",
      "3    15\n",
      "4    19\n",
      "dtype: int64 \n",
      "\n",
      "0    1\n",
      "1    1\n",
      "2    1\n",
      "3    1\n",
      "4    1\n",
      "dtype: int64 \n",
      "\n",
      "0     2\n",
      "1    12\n",
      "2    30\n",
      "3    56\n",
      "4    90\n",
      "dtype: int64 \n",
      "\n",
      "0    2.000000\n",
      "1    1.333333\n",
      "2    1.200000\n",
      "3    1.142857\n",
      "4    1.111111\n",
      "dtype: float64\n"
     ]
    }
   ],
   "source": [
    "#3. Write a Pandas program to add, subtract, multiple and divide two Pandas Series. Go to the editor\n",
    "# Sample Series: [2, 4, 6, 8, 10], [1, 3, 5, 7, 9]\n",
    "list1 = [2, 4, 6, 8, 10]\n",
    "list2 = [1, 3, 5, 7, 9]\n",
    "series1 = pd.Series(list1)\n",
    "series2 = pd.Series(list2)\n",
    "print(series1 + series2,'\\n')\n",
    "print(series1 - series2,'\\n')\n",
    "print(series1 * series2,'\\n')\n",
    "print(series1 / series2)"
   ]
  },
  {
   "cell_type": "code",
   "execution_count": 16,
   "metadata": {},
   "outputs": [
    {
     "data": {
      "text/plain": [
       "0    False\n",
       "1    False\n",
       "2    False\n",
       "3    False\n",
       "4     True\n",
       "dtype: bool"
      ]
     },
     "execution_count": 16,
     "metadata": {},
     "output_type": "execute_result"
    }
   ],
   "source": [
    "#4. Write a Pandas program to compare the elements of the two Pandas Series. Go to the editor\n",
    "#Sample Series: [2, 4, 6, 8, 10], [1, 3, 5, 7, 10]\n",
    "series1 = pd.Series([2, 4, 6, 8, 10])\n",
    "series2 = pd.Series([1, 3, 5, 7, 10])\n",
    "series1 == series2"
   ]
  },
  {
   "cell_type": "code",
   "execution_count": 20,
   "metadata": {},
   "outputs": [
    {
     "data": {
      "text/plain": [
       "a    100\n",
       "b    200\n",
       "c    300\n",
       "d    400\n",
       "e    800\n",
       "dtype: int64"
      ]
     },
     "execution_count": 20,
     "metadata": {},
     "output_type": "execute_result"
    }
   ],
   "source": [
    "#5. Write a Pandas program to convert a dictionary to a Pandas series. Go to the editor\n",
    "#Sample Series:\n",
    "#Original dictionary:\n",
    "#{'a': 100, 'b': 200, 'c': 300, 'd': 400, 'e': 800}\n",
    "myDict = {'a': 100, 'b': 200, 'c': 300, 'd': 400, 'e': 800}\n",
    "series1 = pd.Series(myDict)\n",
    "series1"
   ]
  },
  {
   "cell_type": "code",
   "execution_count": 25,
   "metadata": {},
   "outputs": [
    {
     "data": {
      "text/plain": [
       "0    10\n",
       "1    20\n",
       "2    30\n",
       "3    40\n",
       "4    50\n",
       "dtype: int32"
      ]
     },
     "execution_count": 25,
     "metadata": {},
     "output_type": "execute_result"
    }
   ],
   "source": [
    "#6. Write a Pandas program to convert a NumPy array to a Pandas series.[10 20 30 40 50]\n",
    "myArray = np.array([10, 20, 30, 40, 50])\n",
    "mySeries = pd.Series(myArray)\n",
    "mySeries"
   ]
  },
  {
   "cell_type": "code",
   "execution_count": 49,
   "metadata": {},
   "outputs": [
    {
     "data": {
      "text/plain": [
       "0    100.00\n",
       "1    200.00\n",
       "2       NaN\n",
       "3    300.12\n",
       "4    400.00\n",
       "dtype: float64"
      ]
     },
     "execution_count": 49,
     "metadata": {},
     "output_type": "execute_result"
    }
   ],
   "source": [
    "# 7. Write a Pandas program to change the data type of given a column or a Series\n",
    "# Sample Series:\n",
    "# Original Data Series:\n",
    "# 0 100\n",
    "# 1 200\n",
    "# 2 python\n",
    "# 3 300.12\n",
    "# 4 400\n",
    "# dtype: object\n",
    "# Change the said data type to numeric:\n",
    "# 0 100.00\n",
    "# 1 200.00\n",
    "# 2 NaN\n",
    "# 3 300.12\n",
    "# 4 400.00\n",
    "# dtype: float64\n",
    "series1 = pd.Series(['100','200','python','300.12','400'])\n",
    "series2 = pd.to_numeric(series1,errors = 'coerce')\n",
    "series2"
   ]
  },
  {
   "cell_type": "code",
   "execution_count": 54,
   "metadata": {},
   "outputs": [
    {
     "data": {
      "text/plain": [
       "0     1\n",
       "1     3\n",
       "2     4\n",
       "3     7\n",
       "4    11\n",
       "Name: col1, dtype: int64"
      ]
     },
     "execution_count": 54,
     "metadata": {},
     "output_type": "execute_result"
    }
   ],
   "source": [
    "# 8. Write a Pandas program to convert the first column of a DataFrame as a Series. Go to the editor\n",
    "# Sample Output:\n",
    "# Original DataFrame\n",
    "# col1 col2 col3\n",
    "# 0 1 4 7\n",
    "# 1 2 5 5\n",
    "# 2 3 6 8\n",
    "# 3 4 9 12\n",
    "# 4 7 5 1\n",
    "# 5 11 0 11\n",
    "# 1st column as a Series:\n",
    "# 0 1\n",
    "# 1 2\n",
    "# 2 3\n",
    "# 3 4\n",
    "# 4 7\n",
    "# 5 11\n",
    "# Name: col1, dtype: int64\n",
    "# <class 'pandas.core.series.Series'>\n",
    "myMatrix = [[1,4,7],[3,6,8],[4,9,12],[7,5,1],[11,0,11]]\n",
    "df = pd.DataFrame(myMatrix,columns=['col1','col2','col3'])\n",
    "df['col1']\n",
    "                  \n"
   ]
  },
  {
   "cell_type": "code",
   "execution_count": 56,
   "metadata": {},
   "outputs": [
    {
     "data": {
      "text/plain": [
       "numpy.ndarray"
      ]
     },
     "execution_count": 56,
     "metadata": {},
     "output_type": "execute_result"
    }
   ],
   "source": [
    "# 9. Write a Pandas program to convert a given Series to an array. Go to the editor\n",
    "# Sample Output:\n",
    "# Original Data Series:\n",
    "# 0 100\n",
    "# 1 200\n",
    "# 2 python\n",
    "# 3 300.12\n",
    "# 4 400\n",
    "# dtype: object\n",
    "# Series to an array\n",
    "# ['100' '200' 'python' '300.12' '400']\n",
    "series1 = pd.Series(['100','200','python','300.12','400'])\n",
    "np.array(series1)"
   ]
  },
  {
   "cell_type": "code",
   "execution_count": 64,
   "metadata": {},
   "outputs": [
    {
     "data": {
      "text/plain": [
       "0       Red\n",
       "1     Green\n",
       "2     White\n",
       "3       Red\n",
       "4     Black\n",
       "5    Yellow\n",
       "dtype: object"
      ]
     },
     "execution_count": 64,
     "metadata": {},
     "output_type": "execute_result"
    }
   ],
   "source": [
    "# 10. Write a Pandas program to convert Series of lists to one Series. Go to the editor\n",
    "# Sample Output:\n",
    "# Original Series of list\n",
    "# 0 [Red, Green, White]\n",
    "# 1 [Red, Black]\n",
    "# 2 [Yellow]\n",
    "# dtype: object\n",
    "# One Series\n",
    "# 0 Red\n",
    "# 1 Green\n",
    "# 2 White\n",
    "# 3 Red\n",
    "# 4 Black\n",
    "# 5 Yellow\n",
    "# dtype: object\n",
    "mySeries = pd.Series([['Red', 'Green', 'White'],['Red', 'Black'],['Yellow']])\n",
    "oneSeries = mySeries.apply(pd.Series).stack().reset_index(drop = True)\n",
    "oneSeries"
   ]
  },
  {
   "cell_type": "code",
   "execution_count": 68,
   "metadata": {},
   "outputs": [
    {
     "data": {
      "text/plain": [
       "0       Red\n",
       "1     Green\n",
       "2     White\n",
       "3       Red\n",
       "4     Black\n",
       "5    Yellow\n",
       "dtype: object"
      ]
     },
     "execution_count": 68,
     "metadata": {},
     "output_type": "execute_result"
    }
   ],
   "source": [
    "mySeries.apply()"
   ]
  },
  {
   "cell_type": "code",
   "execution_count": 73,
   "metadata": {},
   "outputs": [
    {
     "data": {
      "text/plain": [
       "0       100\n",
       "1       150\n",
       "2       200\n",
       "3       300\n",
       "4       400\n",
       "5    Python\n",
       "dtype: object"
      ]
     },
     "execution_count": 73,
     "metadata": {},
     "output_type": "execute_result"
    }
   ],
   "source": [
    "# 11. Write a Pandas program to sort a given Series. Go to the editor\n",
    "# Sample Output:\n",
    "# Original Data Series: 0 100\n",
    "# 1 200\n",
    "# 2 python\n",
    "# 3 300.12\n",
    "# 4 400\n",
    "# dtype: object\n",
    "# 0 100\n",
    "# 1 200\n",
    "# 3 300.12\n",
    "# 4 400\n",
    "# 2 python\n",
    "# dtype: object\n",
    "\n",
    "mySeries = pd.Series(['100','200','Python','300','150','400'])\n",
    "pd.Series.sort_values(mySeries).reset_index(drop=True)"
   ]
  },
  {
   "cell_type": "code",
   "execution_count": 80,
   "metadata": {},
   "outputs": [
    {
     "data": {
      "text/plain": [
       "0       100\n",
       "1       200\n",
       "2    Python\n",
       "3    300.12\n",
       "4       150\n",
       "5       400\n",
       "0       500\n",
       "1       php\n",
       "dtype: object"
      ]
     },
     "execution_count": 80,
     "metadata": {},
     "output_type": "execute_result"
    }
   ],
   "source": [
    "# 12. Write a Pandas program to add some data to an existing Series. Go to the editor\n",
    "# Sample Output:\n",
    "# Original Data Series:\n",
    "# 0 100\n",
    "# 1 200\n",
    "# 2 python\n",
    "# 3 300.12\n",
    "# 4 400\n",
    "# dtype: object\n",
    "# Data Series after adding some data:\n",
    "# 0 100\n",
    "# 1 200\n",
    "# 2 python\n",
    "# 3 300.12\n",
    "# 4 400\n",
    "# 0 500\n",
    "# 1 php\n",
    "# dtype: object\n",
    "series1 = pd.Series(['100','200','Python','300.12','150','400'])\n",
    "series1.append(pd.Series(['500','php']))"
   ]
  },
  {
   "cell_type": "code",
   "execution_count": 84,
   "metadata": {},
   "outputs": [
    {
     "data": {
      "text/plain": [
       "0    0\n",
       "1    1\n",
       "2    2\n",
       "3    3\n",
       "4    4\n",
       "5    5\n",
       "dtype: int64"
      ]
     },
     "execution_count": 84,
     "metadata": {},
     "output_type": "execute_result"
    }
   ],
   "source": [
    "# 13. Write a Pandas program to create a subset of a given series based on value and condition. Go to the editor\n",
    "# Sample Output:\n",
    "# Original Data Series:\n",
    "# 0 0\n",
    "# 1 1\n",
    "# 2 2\n",
    "# 3 3\n",
    "# 4 4\n",
    "# 5 5\n",
    "# 6 6\n",
    "# 7 7\n",
    "# 8 8\n",
    "# 9 9\n",
    "# 10 10\n",
    "# dtype: int64\n",
    "# Subset of the above Data Series:\n",
    "# 0 0\n",
    "# 1 1\n",
    "# 2 2\n",
    "# 3 3\n",
    "# 4 4\n",
    "# 5 5\n",
    "# dtype: int64\n",
    "series1 = pd.Series([0,1,2,3,4,5,6,7,8,9,10])\n",
    "series1[series1 <= 5]"
   ]
  },
  {
   "cell_type": "code",
   "execution_count": 95,
   "metadata": {},
   "outputs": [
    {
     "data": {
      "text/plain": [
       "A    1\n",
       "B    2\n",
       "C    3\n",
       "D    4\n",
       "E    5\n",
       "dtype: int64"
      ]
     },
     "execution_count": 95,
     "metadata": {},
     "output_type": "execute_result"
    }
   ],
   "source": [
    "# 14. Write a Pandas program to change the order of index of a given series. Go to the editor\n",
    "# Sample Output:\n",
    "# Original Data Series:\n",
    "# A 1\n",
    "# B 2\n",
    "# C 3\n",
    "# D 4\n",
    "# E 5\n",
    "# dtype: int64\n",
    "# Data Series after changing the order of index:\n",
    "# B 2\n",
    "# A 1\n",
    "# C 3\n",
    "# D 4\n",
    "# E 5\n",
    "# dtype: int64\n",
    "series1 = pd.Series([1,2,3,4,5], index=['A','B','C','D','E'])\n",
    "new_index = ['B','A','C','D','E']\n",
    "series2 = series1.reindex(new_index)\n",
    "series2"
   ]
  },
  {
   "cell_type": "code",
   "execution_count": 98,
   "metadata": {},
   "outputs": [
    {
     "name": "stdout",
     "output_type": "stream",
     "text": [
      "4.818181818181818\n",
      "2.522624895547565\n"
     ]
    }
   ],
   "source": [
    "# 15. Write a Pandas program to create the mean and standard deviation of the data of a given Series. Go to the editor\n",
    "# Sample Output:\n",
    "# Original Data Series:\n",
    "# 0 1\n",
    "# 1 2\n",
    "# 2 3\n",
    "# 3 4\n",
    "# 4 5\n",
    "# 5 6\n",
    "# 6 7\n",
    "# 7 8\n",
    "# 8 9\n",
    "# 9 5\n",
    "# 10 3\n",
    "# dtype: int64\n",
    "# Mean of the said Data Series:\n",
    "# 4.818181818181818\n",
    "# Standard deviation of the said Data Series:\n",
    "# 2.522624895547565\n",
    "mySeries = pd.Series([1,2,3,4,5,6,7,8,9,5,3])\n",
    "print(mySeries.mean())\n",
    "print(mySeries.std())"
   ]
  },
  {
   "cell_type": "code",
   "execution_count": 108,
   "metadata": {},
   "outputs": [
    {
     "data": {
      "text/plain": [
       "0    1\n",
       "2    3\n",
       "4    5\n",
       "dtype: int64"
      ]
     },
     "execution_count": 108,
     "metadata": {},
     "output_type": "execute_result"
    }
   ],
   "source": [
    "# 16. Write a Pandas program to get the items of a given series not present in another given series. Go to the editor\n",
    "# Sample Output:\n",
    "# Original Series:\n",
    "# sr1:\n",
    "# 0 1\n",
    "# 1 2\n",
    "# 2 3\n",
    "# 3 4\n",
    "# 4 5\n",
    "# dtype: int64\n",
    "# sr2:\n",
    "# 0 2\n",
    "# 1 4\n",
    "# 2 6\n",
    "# 3 8\n",
    "# 4 10\n",
    "# dtype: int64\n",
    "# Items of sr1 not present in sr2:\n",
    "# 0 1\n",
    "# 2 3\n",
    "# 4 5\n",
    "# dtype: int64\n",
    "series1 = pd.Series([1,2,3,4,5])\n",
    "series2 = pd.Series([2,4,6,8,10])\n",
    "series1[~(series1.isin(series2))]"
   ]
  },
  {
   "cell_type": "code",
   "execution_count": 121,
   "metadata": {},
   "outputs": [
    {
     "data": {
      "text/plain": [
       "0     1\n",
       "2     3\n",
       "4     5\n",
       "5     6\n",
       "6     8\n",
       "7    10\n",
       "dtype: int64"
      ]
     },
     "execution_count": 121,
     "metadata": {},
     "output_type": "execute_result"
    }
   ],
   "source": [
    "# 17. Write a Pandas program to get the items which are not common of two given series. Go to the editor\n",
    "# Sample Output:\n",
    "# Original Series:\n",
    "# sr1:\n",
    "# 0 1\n",
    "# 1 2\n",
    "# 2 3\n",
    "# 3 4\n",
    "# 4 5\n",
    "# dtype: int64\n",
    "# sr2:\n",
    "# 0 2\n",
    "# 1 4\n",
    "# 2 6\n",
    "# 3 8\n",
    "# 4 10\n",
    "# dtype: int64\n",
    "# Items of a given series not present in another given series:\n",
    "# 0 1\n",
    "# 2 3\n",
    "# 4 5\n",
    "# 5 6\n",
    "# 6 8\n",
    "# 7 10\n",
    "# dtype: int64\n",
    "sr1 = pd.Series([1,2,3,4,5])\n",
    "sr2 = pd.Series([2,4,6,8,10])\n",
    "newSeries1 = pd.Series(np.intersect1d(sr1,sr2))\n",
    "newSeries2 = pd.Series(np.union1d(sr1,sr2))\n",
    "newSeries2[~newSeries2.isin(newSeries1)]"
   ]
  },
  {
   "cell_type": "code",
   "execution_count": 164,
   "metadata": {},
   "outputs": [
    {
     "data": {
      "text/plain": [
       "array([0.02847423, 0.22174998, 0.53531311, 0.72340609, 0.96548322])"
      ]
     },
     "execution_count": 164,
     "metadata": {},
     "output_type": "execute_result"
    }
   ],
   "source": [
    "# 18. Write a Pandas program to compute the minimum, 25th percentile, median, 75th, and maximum of a given series. Go to the editor\n",
    "# Sample Output:\n",
    "# Original Series:\n",
    "# 0 3.000938\n",
    "# 1 11.370722\n",
    "# 2 14.612143\n",
    "# 3 8.990256\n",
    "# 4 13.925283\n",
    "# 5 12.056875\n",
    "# .... 17 14.118931\n",
    "# 18 8.247458\n",
    "# 19 5.526727\n",
    "# dtype: float64\n",
    "# Minimum, 25th percentile, median, 75th, and maximum of a given series:\n",
    "# [ 3.00093811 8.09463867 10.23353705 12.21537733 14.61214321]\n",
    "np.random.seed(101)\n",
    "mySeries = pd.Series(np.random.rand(20))\n",
    "\n",
    "np.percentile(mySeries,[0,25,50,75,100])"
   ]
  },
  {
   "cell_type": "code",
   "execution_count": 162,
   "metadata": {},
   "outputs": [
    {
     "data": {
      "text/plain": [
       "0.22174998491226972"
      ]
     },
     "execution_count": 162,
     "metadata": {},
     "output_type": "execute_result"
    }
   ],
   "source": [
    "qrt25_75.loc[0.25]"
   ]
  },
  {
   "cell_type": "code",
   "execution_count": 183,
   "metadata": {},
   "outputs": [
    {
     "data": {
      "text/plain": [
       "13    5\n",
       "9     5\n",
       "14    4\n",
       "12    4\n",
       "10    4\n",
       "4     4\n",
       "8     3\n",
       "11    2\n",
       "6     2\n",
       "2     2\n",
       "1     2\n",
       "7     1\n",
       "5     1\n",
       "3     1\n",
       "dtype: int64"
      ]
     },
     "execution_count": 183,
     "metadata": {},
     "output_type": "execute_result"
    }
   ],
   "source": [
    "# 19. Write a Pandas program to calculate the frequency counts of each unique value of a given series. Go to the editor\n",
    "# Sample Output:\n",
    "# Original Series:\n",
    "# 0 1\n",
    "# 1 7\n",
    "# 2 1\n",
    "# 3 6\n",
    "# 4 9\n",
    "# 5 1\n",
    "# ... 29 2\n",
    "# 30 9\n",
    "# 31 1\n",
    "# 32 2\n",
    "# 33 9\n",
    "# 34 2\n",
    "# 35 9\n",
    "# 36 0\n",
    "# 37 0\n",
    "# 38 4\n",
    "# 39 8\n",
    "# dtype: object\n",
    "# Frequency of each unique value of the said series.\n",
    "# 0 9\n",
    "# 2 7\n",
    "# 9 6\n",
    "# 1 5\n",
    "# 6 3\n",
    "# 8 3\n",
    "# 7 3\n",
    "# 3 2\n",
    "# 4 1\n",
    "# 5 1\n",
    "# dtype: int64\n",
    "np.random.seed(101)\n",
    "mySeries = pd.Series(np.random.randint(1,high=15,size=40,dtype=int))\n",
    "mySeries.value_counts()"
   ]
  },
  {
   "cell_type": "code",
   "execution_count": 259,
   "metadata": {},
   "outputs": [
    {
     "data": {
      "text/plain": [
       "0     Other\n",
       "1     Other\n",
       "2     Other\n",
       "3     Other\n",
       "4         2\n",
       "5         2\n",
       "6     Other\n",
       "7         2\n",
       "8     Other\n",
       "9     Other\n",
       "10        2\n",
       "11        2\n",
       "12        2\n",
       "13    Other\n",
       "14    Other\n",
       "dtype: object"
      ]
     },
     "execution_count": 259,
     "metadata": {},
     "output_type": "execute_result"
    }
   ],
   "source": [
    "# 20. Write a Pandas program to display most frequent value in a given series and replace everything else as 'Other' in the series. Go to the editor\n",
    "# Sample Output:\n",
    "# Original Series:\n",
    "# 0 3\n",
    "# 1 1\n",
    "# 2 1\n",
    "# 3 3\n",
    "# 4 2\n",
    "# 5 2\n",
    "# 6 1\n",
    "# 7 2\n",
    "# 8 3\n",
    "# 9 1\n",
    "# 10 2\n",
    "# 11 2\n",
    "# 12 2\n",
    "# 13 3\n",
    "# 14 3\n",
    "# dtype: int64\n",
    "# Top 2 Freq: 2 6\n",
    "# 3 5\n",
    "# 1 4\n",
    "# dtype: int64\n",
    "# 0 Other\n",
    "# 1 Other\n",
    "# 2 Other\n",
    "# 3 Other\n",
    "# 4 2\n",
    "# 5 2\n",
    "# 6 Other\n",
    "# 7 2\n",
    "# 8 Other\n",
    "# 9 Other\n",
    "# 10 2\n",
    "# 11 2\n",
    "# 12 2\n",
    "# 13 Other\n",
    "# 14 Other\n",
    "# dtype: object\n",
    "\n",
    "mySeries = pd.Series([3,1,1,3,2,2,1,2,3,1,2,2,2,3,3])\n",
    "valueCounts = mySeries.value_counts()\n",
    "maxOccur = valueCounts[valueCounts == valueCounts.max()].index[0]\n",
    "\n",
    "mySeries[mySeries != maxOccur] = 'Other'\n",
    "mySeries"
   ]
  },
  {
   "cell_type": "code",
   "execution_count": 268,
   "metadata": {},
   "outputs": [
    {
     "data": {
      "text/plain": [
       "0    0\n",
       "1    3\n",
       "2    7\n",
       "dtype: int64"
      ]
     },
     "execution_count": 268,
     "metadata": {},
     "output_type": "execute_result"
    }
   ],
   "source": [
    "# 21. Write a Pandas program to find the positions of numbers that are multiples of 5 of a given series. Go to the editor\n",
    "# Sample Output:\n",
    "# Original Series:\n",
    "# 0 10\n",
    "# 1 9\n",
    "# 2 8\n",
    "# 3 60\n",
    "# 4 9\n",
    "# 5 7\n",
    "# 6 1\n",
    "# 7 10\n",
    "# 8 1\n",
    "# dtype: int64\n",
    "# Positions of numbers that are multiples of 5:\n",
    "mySeries = pd.Series([10,9,8,60,9,7,1,10,1])\n",
    "\n",
    "pd.Series(mySeries[mySeries % 5 == 0].index.values)\n"
   ]
  },
  {
   "cell_type": "code",
   "execution_count": 286,
   "metadata": {},
   "outputs": [
    {
     "data": {
      "text/plain": [
       "0     2\n",
       "2     9\n",
       "6     1\n",
       "11    5\n",
       "dtype: int64"
      ]
     },
     "execution_count": 286,
     "metadata": {},
     "output_type": "execute_result"
    }
   ],
   "source": [
    "# 22. Write a Pandas program to extract items at given positions of a given series. Go to the editor\n",
    "# Sample Output:\n",
    "# Original Series:\n",
    "# 0 2\n",
    "# 1 3\n",
    "# 2 9\n",
    "# 3 0\n",
    "# 4 2\n",
    "# 5 3\n",
    "# ... 19 0\n",
    "# 20 2\n",
    "# 21 3\n",
    "# dtype: object\n",
    "# Extract items at given positions of the said series:\n",
    "# 0 2\n",
    "# 2 9\n",
    "# 6 8\n",
    "# 11 0\n",
    "# 21 3\n",
    "# dtype: object\n",
    "mySeries = pd.Series([2,3,9,0,2,3,1,3,4,3,4,5,6,7,0,2,3])\n",
    "mySeries.loc[[0,2,6,11]]"
   ]
  },
  {
   "cell_type": "code",
   "execution_count": 48,
   "metadata": {},
   "outputs": [
    {
     "data": {
      "text/html": [
       "<div>\n",
       "<style scoped>\n",
       "    .dataframe tbody tr th:only-of-type {\n",
       "        vertical-align: middle;\n",
       "    }\n",
       "\n",
       "    .dataframe tbody tr th {\n",
       "        vertical-align: top;\n",
       "    }\n",
       "\n",
       "    .dataframe thead th {\n",
       "        text-align: right;\n",
       "    }\n",
       "</style>\n",
       "<table border=\"1\" class=\"dataframe\">\n",
       "  <thead>\n",
       "    <tr style=\"text-align: right;\">\n",
       "      <th></th>\n",
       "      <th>W</th>\n",
       "      <th>X</th>\n",
       "      <th>Y</th>\n",
       "      <th>Z</th>\n",
       "    </tr>\n",
       "  </thead>\n",
       "  <tbody>\n",
       "    <tr>\n",
       "      <th>0</th>\n",
       "      <td>False</td>\n",
       "      <td>True</td>\n",
       "      <td>True</td>\n",
       "      <td>True</td>\n",
       "    </tr>\n",
       "    <tr>\n",
       "      <th>1</th>\n",
       "      <td>False</td>\n",
       "      <td>False</td>\n",
       "      <td>True</td>\n",
       "      <td>True</td>\n",
       "    </tr>\n",
       "    <tr>\n",
       "      <th>2</th>\n",
       "      <td>False</td>\n",
       "      <td>True</td>\n",
       "      <td>True</td>\n",
       "      <td>True</td>\n",
       "    </tr>\n",
       "    <tr>\n",
       "      <th>3</th>\n",
       "      <td>False</td>\n",
       "      <td>False</td>\n",
       "      <td>True</td>\n",
       "      <td>True</td>\n",
       "    </tr>\n",
       "    <tr>\n",
       "      <th>4</th>\n",
       "      <td>True</td>\n",
       "      <td>True</td>\n",
       "      <td>True</td>\n",
       "      <td>False</td>\n",
       "    </tr>\n",
       "  </tbody>\n",
       "</table>\n",
       "</div>"
      ],
      "text/plain": [
       "       W      X     Y      Z\n",
       "0  False   True  True   True\n",
       "1  False  False  True   True\n",
       "2  False   True  True   True\n",
       "3  False  False  True   True\n",
       "4   True   True  True  False"
      ]
     },
     "execution_count": 48,
     "metadata": {},
     "output_type": "execute_result"
    }
   ],
   "source": [
    "# 40. Write a Pandas program to check inequality over the index axis of a given dataframe and a given series. Go to the editor\n",
    "# Sample Output:\n",
    "# Original DataFrame:\n",
    "# W X Y Z\n",
    "# 0 68.0 78.0 84 86\n",
    "# 1 75.0 75.0 94 97\n",
    "# 2 86.0 NaN 89 96\n",
    "# 3 80.0 80.0 86 72\n",
    "# 4 NaN 86.0 86 83\n",
    "# Original Series:\n",
    "# 0 68.0\n",
    "# 1 75.0\n",
    "# 2 86.0\n",
    "# 3 80.0\n",
    "# 4 NaN\n",
    "# dtype: float64\n",
    "# Check for inequality of the said series & dataframe:\n",
    "# W X Y Z\n",
    "# 0 False True True True\n",
    "# 1 False False True True\n",
    "# 2 False True True True\n",
    "# 3 False False True True\n",
    "# 4 True True True True\n",
    "df = pd.DataFrame([[68.0, 78.0, 84, 86.0],[75.0, 75, 94, 97],\n",
    "              [86.0,np.nan , 89, 96],[80.0, 80.0, 86, 72],[np.nan , 86.0, 86, 83]],columns= ['W', 'X', 'Y', 'Z'])\n",
    "mySeries = pd.Series([68.0,75.0,86.0,80,83])\n",
    "\n",
    "df.ne(mySeries, axis = 0)"
   ]
  },
  {
   "cell_type": "code",
   "execution_count": 63,
   "metadata": {},
   "outputs": [
    {
     "name": "stdout",
     "output_type": "stream",
     "text": [
      "4\n",
      "9\n"
     ]
    }
   ],
   "source": [
    "# 39. Write a Pandas program to find the index of the first occurrence of the smallest and largest value of a given series. Go to the editor\n",
    "# Sample Output:\n",
    "# Original Series:\n",
    "# 0 1\n",
    "# 1 3\n",
    "# 2 7\n",
    "# 3 12\n",
    "# 4 88\n",
    "# 5 23\n",
    "# 6 3\n",
    "# 7 1\n",
    "# 8 9\n",
    "# 9 0\n",
    "# dtype: int64\n",
    "# Index of the first occurrence of the smallest and largest value of the said series:\n",
    "# 9\n",
    "# 4\n",
    "\n",
    "mySeries = pd.Series([1,3,7,12,88,23,3,1,9,0])\n",
    "#print(mySeries[mySeries == min(mySeries)].index[0])\n",
    "#print(mySeries[mySeries == max(mySeries)].index[0])\n",
    "\n",
    "print(mySeries.idxmax())\n",
    "print(mySeries.idxmin())"
   ]
  },
  {
   "cell_type": "code",
   "execution_count": 65,
   "metadata": {},
   "outputs": [
    {
     "data": {
      "text/plain": [
       "0    True\n",
       "1    True\n",
       "2    True\n",
       "3    True\n",
       "4    True\n",
       "5    True\n",
       "6    True\n",
       "7    True\n",
       "8    True\n",
       "9    True\n",
       "dtype: bool"
      ]
     },
     "execution_count": 65,
     "metadata": {},
     "output_type": "execute_result"
    }
   ],
   "source": [
    "# 38. Write a Pandas program to check the equality of two given series. Go to the editor\n",
    "# Sample Output:\n",
    "# Original Series:\n",
    "# 0 1\n",
    "# 1 8\n",
    "# 2 7\n",
    "# 3 5\n",
    "# 4 6\n",
    "# 5 5\n",
    "# 6 3\n",
    "# 7 4\n",
    "# 8 7\n",
    "# 9 1\n",
    "# dtype: int64\n",
    "# 0 1\n",
    "# 1 8\n",
    "# 2 7\n",
    "# 3 5\n",
    "# 4 6\n",
    "# 5 5\n",
    "# 6 3\n",
    "# 7 4\n",
    "# 8 7\n",
    "# 9 1\n",
    "# dtype: int64\n",
    "# Check 2 series are equal or not?\n",
    "# 0 True\n",
    "# 1 True\n",
    "# 2 True\n",
    "# 3 True\n",
    "# 4 True\n",
    "# 5 True\n",
    "# 6 True\n",
    "# 7 True\n",
    "# 8 True\n",
    "# 9 True\n",
    "# dtype: bool\n",
    "mySeries = pd.Series([1,8,7,5,6,5,3,4,7,1])\n",
    "testSeries = pd.Series([1,8,7,5,6,5,3,4,7,1])\n",
    "mySeries == testSeries"
   ]
  },
  {
   "cell_type": "code",
   "execution_count": 79,
   "metadata": {},
   "outputs": [
    {
     "name": "stdout",
     "output_type": "stream",
     "text": [
      "   0  1\n",
      "0  0  p\n",
      "1  1  q\n",
      "2  2  r\n",
      "3  3  s\n",
      "4  4  t\n",
      "5  5  u\n",
      "6  6  v\n",
      "7  7  w\n",
      "8  8  x\n",
      "9  9  y \n",
      "\n",
      "0    0\n",
      "1    1\n",
      "2    2\n",
      "3    3\n",
      "4    4\n",
      "5    5\n",
      "6    6\n",
      "7    7\n",
      "8    8\n",
      "9    9\n",
      "0    p\n",
      "1    q\n",
      "2    r\n",
      "3    s\n",
      "4    t\n",
      "5    u\n",
      "6    v\n",
      "7    w\n",
      "8    x\n",
      "9    y\n",
      "dtype: object\n"
     ]
    }
   ],
   "source": [
    "# 37. Write a Pandas program to stack two given series vertically and horizontally. Go to the editor\n",
    "# Sample Output:\n",
    "# Original Series:\n",
    "# 0 0\n",
    "# 1 1\n",
    "# 2 2\n",
    "# 3 3\n",
    "# 4 4\n",
    "# 5 5\n",
    "# 6 6\n",
    "# 7 7\n",
    "# 8 8\n",
    "# 9 9\n",
    "# dtype: int64\n",
    "# 0 p\n",
    "# 1 q\n",
    "# 2 r\n",
    "# 3 s\n",
    "# 4 t\n",
    "# 5 u\n",
    "# 6 v\n",
    "# 7 w\n",
    "# 8 x\n",
    "# 9 y\n",
    "# dtype: object\n",
    "# Stack two given series vertically and horizontally:\n",
    "# 0 1\n",
    "# 0 0 p\n",
    "# 1 1 q\n",
    "# 2 2 r\n",
    "# 3 3 s\n",
    "# 4 4 t\n",
    "# 5 5 u\n",
    "# 6 6 v\n",
    "# 7 7 w\n",
    "# 8 8 x\n",
    "# 9 9 y\n",
    "series1 = pd.Series([0,1,2,3,4,5,6,7,8,9])\n",
    "series2 = pd.Series(['p','q','r','s','t','u','v','w','x','y'])\n",
    "print(pd.concat([series1,series2],axis = 1),'\\n')\n",
    "print(pd.concat([series1,series2],axis = 0))\n"
   ]
  },
  {
   "cell_type": "code",
   "execution_count": 108,
   "metadata": {},
   "outputs": [
    {
     "name": "stdout",
     "output_type": "stream",
     "text": [
      "  index  0\n",
      "0     A  0\n",
      "1     B  1\n",
      "2     C  2\n",
      "3     D  3\n",
      "4     E  4\n"
     ]
    }
   ],
   "source": [
    "# 36. Write a Pandas program to convert given series into a dataframe with its index as another column on the dataframe. Go to the editor\n",
    "# Sample Output:\n",
    "# index 0\n",
    "# 0 A 0\n",
    "# 1 B 1\n",
    "# 2 C 2\n",
    "# 3 D 3\n",
    "# 4 E 4\n",
    "char_list = list('ABCDEFGHIJKLMNOP')\n",
    "num_arra = np.arange(8)\n",
    "num_dict = dict(zip(char_list, num_arra))\n",
    "num_ser = pd.Series(num_dict)\n",
    "df = num_ser.to_frame().reset_index()\n",
    "print(df.head())\n"
   ]
  },
  {
   "cell_type": "code",
   "execution_count": 117,
   "metadata": {},
   "outputs": [
    {
     "data": {
      "text/plain": [
       "DatetimeIndex(['2021-01-03', '2021-01-10', '2021-01-17', '2021-01-24',\n",
       "               '2021-01-31', '2021-02-07', '2021-02-14', '2021-02-21',\n",
       "               '2021-02-28', '2021-03-07', '2021-03-14', '2021-03-21',\n",
       "               '2021-03-28', '2021-04-04', '2021-04-11', '2021-04-18',\n",
       "               '2021-04-25', '2021-05-02', '2021-05-09', '2021-05-16',\n",
       "               '2021-05-23', '2021-05-30', '2021-06-06', '2021-06-13',\n",
       "               '2021-06-20', '2021-06-27', '2021-07-04', '2021-07-11',\n",
       "               '2021-07-18', '2021-07-25', '2021-08-01', '2021-08-08',\n",
       "               '2021-08-15', '2021-08-22', '2021-08-29', '2021-09-05',\n",
       "               '2021-09-12', '2021-09-19', '2021-09-26', '2021-10-03',\n",
       "               '2021-10-10', '2021-10-17', '2021-10-24', '2021-10-31',\n",
       "               '2021-11-07', '2021-11-14', '2021-11-21', '2021-11-28',\n",
       "               '2021-12-05', '2021-12-12', '2021-12-19', '2021-12-26'],\n",
       "              dtype='datetime64[ns]', freq='W-SUN')"
      ]
     },
     "execution_count": 117,
     "metadata": {},
     "output_type": "execute_result"
    }
   ],
   "source": [
    "# 35. Write a Pandas program to create a TimeSeries to display all the Sundays of given year. Go to the editor\n",
    "# Sample Output:\n",
    "# All Sundays of 2019:\n",
    "# 0 2020-01-05\n",
    "# 1 2020-01-12\n",
    "# 2 2020-01-19\n",
    "# 3 2020-01-26\n",
    "# 4 2020-02-02\n",
    "# 5 2020-02-09\n",
    "# ..... 48 2020-12-06\n",
    "# 49 2020-12-13\n",
    "# 50 2020-12-20\n",
    "# 51 2020-12-27\n",
    "# dtype: datetime64[ns]\n",
    "\n",
    "pd.date_range(start='01/01/2021', end='12/31/2021', freq='W-SUN'"
   ]
  },
  {
   "cell_type": "code",
   "execution_count": 137,
   "metadata": {},
   "outputs": [
    {
     "name": "stdout",
     "output_type": "stream",
     "text": [
      "1.0\n",
      "0.48\n",
      "0.15\n",
      "0.05\n",
      "-0.03\n",
      "-0.12\n",
      "-0.31\n",
      "-0.32\n",
      "-0.32\n",
      "-0.69\n",
      "-0.0\n",
      "0.91\n"
     ]
    }
   ],
   "source": [
    "# 34. Write a Pandas program to compute the autocorrelations of a given numeric series. Go to the editor\n",
    "# From Wikipedia:\n",
    "# Autocorrelation, also known as serial correlation, is the correlation of a signal with a delayed copy of itself as a function of delay. Informally, it is the similarity between observations as a function of the time lag between them.\n",
    "# Sample Output:\n",
    "# Original series:\n",
    "# 0 13.207262\n",
    "# 1 4.098685\n",
    "# 2 -1.435534\n",
    "# 3 13.626760\n",
    "# ... 13 -2.346193\n",
    "# 14 17.873884\n",
    "# dtype: float64\n",
    "num_series = pd.Series(np.arange(15) + np.random.normal(1, 10, 15))\n",
    "for i in range(12):\n",
    "    print(num_series.autocorr(i).round(2))\n",
    "    "
   ]
  },
  {
   "cell_type": "code",
   "execution_count": 151,
   "metadata": {},
   "outputs": [
    {
     "data": {
      "text/plain": [
       "'abcidefiabcdefiicd'"
      ]
     },
     "execution_count": 151,
     "metadata": {},
     "output_type": "execute_result"
    }
   ],
   "source": [
    "# 33. Write a Pandas program to replace missing white spaces in a given string with the least frequent character. Go to the editor\n",
    "# Sample Output:\n",
    "# Original series:\n",
    "# abc def abcdef icd\n",
    "# c 3\n",
    "# d 3\n",
    "# 3\n",
    "# b 2\n",
    "# e 2\n",
    "# a 2\n",
    "# f 2\n",
    "# i 1\n",
    "# dtype: int64\n",
    "# abcidefiabcdefiicd\n",
    "\n",
    "string = 'abc def abcdef icd'\n",
    "mySeries = pd.Series(list(string))\n",
    "valueCount = mySeries.value_counts()\n",
    "\n",
    "leastFreq = valueCount[valueCount == sorted(mySeries.value_counts())[0]].index[0]\n",
    "string.replace(' ',leastFreq)\n"
   ]
  },
  {
   "cell_type": "code",
   "execution_count": 169,
   "metadata": {},
   "outputs": [
    {
     "data": {
      "text/plain": [
       "[1, 4, 8]"
      ]
     },
     "execution_count": 169,
     "metadata": {},
     "output_type": "execute_result"
    }
   ],
   "source": [
    "# 32. Write a Pandas program to find the positions of the values neighboured by smaller values on both sides in a given series. Go to the editor\n",
    "# Sample Output:\n",
    "# Original series:\n",
    "# 0 1\n",
    "# 1 8\n",
    "# 2 7\n",
    "# 3 5\n",
    "# 4 6\n",
    "# 5 5\n",
    "# 6 3\n",
    "# 7 4\n",
    "# 8 7\n",
    "# 9 1\n",
    "# dtype: int64\n",
    "# Positions of the values surrounded by smaller values on both sides:\n",
    "# [1 4 8]\n",
    "mySeries = pd.Series([1,8,7,5,6,5,3,4,7,1])\n",
    "index = 0\n",
    "outSeries = []\n",
    "for each in mySeries.values:\n",
    "    if index == 0:\n",
    "        index +=1  \n",
    "        continue\n",
    "    elif index == len(mySeries)-1:\n",
    "        break\n",
    "    else:\n",
    "        if (each > mySeries[index - 1]) & (each > mySeries[index + 1]):\n",
    "            outSeries.append(index)\n",
    "    index +=1   \n",
    "    \n",
    "outSeries\n"
   ]
  },
  {
   "cell_type": "code",
   "execution_count": 166,
   "metadata": {},
   "outputs": [
    {
     "data": {
      "text/plain": [
       "7"
      ]
     },
     "execution_count": 166,
     "metadata": {},
     "output_type": "execute_result"
    }
   ],
   "source": [
    "mySeries[2]"
   ]
  },
  {
   "cell_type": "code",
   "execution_count": null,
   "metadata": {},
   "outputs": [],
   "source": []
  }
 ],
 "metadata": {
  "kernelspec": {
   "display_name": "Python 3",
   "language": "python",
   "name": "python3"
  },
  "language_info": {
   "codemirror_mode": {
    "name": "ipython",
    "version": 3
   },
   "file_extension": ".py",
   "mimetype": "text/x-python",
   "name": "python",
   "nbconvert_exporter": "python",
   "pygments_lexer": "ipython3",
   "version": "3.8.5"
  }
 },
 "nbformat": 4,
 "nbformat_minor": 4
}
