{
 "cells": [
  {
   "cell_type": "code",
   "execution_count": 21,
   "metadata": {},
   "outputs": [
    {
     "name": "stdout",
     "output_type": "stream",
     "text": [
      "10\n",
      "25 \n",
      "\n",
      "2\n",
      "3\n",
      "6\n"
     ]
    }
   ],
   "source": [
    "# 1. Write a Python program to create a lambda function that adds 15 to a given number passed in as an argument, \n",
    "#    also create a lambda function that multiplies argument x with argument y and print the result. \n",
    "# Sample Output:\n",
    "# 25\n",
    "# 48\n",
    "func1 = lambda x:15 + x\n",
    "z = input()\n",
    "print(func1(int(z)), '\\n')\n",
    "\n",
    "func2 = lambda x,y: x*y\n",
    "ip1 = input()\n",
    "ip2 = input()\n",
    "print(func2(int(ip1),int(ip2)))"
   ]
  },
  {
   "cell_type": "code",
   "execution_count": 26,
   "metadata": {},
   "outputs": [
    {
     "data": {
      "text/plain": [
       "8"
      ]
     },
     "execution_count": 26,
     "metadata": {},
     "output_type": "execute_result"
    }
   ],
   "source": [
    "# 2. Write a Python program to create a function that takes one argument, and that \n",
    "#     argument will be multiplied with an unknown given number. Go to the editor\n",
    "# Sample Output:\n",
    "# Double the number of 15 = 30\n",
    "# Triple the number of 15 = 45\n",
    "# Quadruple the number of 15 = 60\n",
    "# Quintuple the number 15 = 75\n",
    "\n",
    "def do_multiply(n):\n",
    "    return lambda x: x * n \n",
    "\n",
    "do_multiply(2)(4)"
   ]
  },
  {
   "cell_type": "code",
   "execution_count": 34,
   "metadata": {},
   "outputs": [
    {
     "name": "stdout",
     "output_type": "stream",
     "text": [
      "[('Social sciences', 82), ('English', 88), ('Science', 90), ('Maths', 97)]\n"
     ]
    }
   ],
   "source": [
    "# 3. Write a Python program to sort a list of tuples using Lambda.\n",
    "# Original list of tuples:\n",
    "# [('English', 88), ('Science', 90), ('Maths', 97), ('Social sciences', 82)]\n",
    "# Sorting the List of Tuples:\n",
    "# [('Social sciences', 82), ('English', 88), ('Science', 90), ('Maths', 97)]\n",
    "\n",
    "\n",
    "list1 = [('English', 88), ('Science', 90), ('Maths', 97), ('Social sciences', 82)]\n",
    "list1.sort(key = lambda x:x[1])\n",
    "print(list1)"
   ]
  },
  {
   "cell_type": "code",
   "execution_count": 45,
   "metadata": {},
   "outputs": [
    {
     "data": {
      "text/plain": [
       "[{'make': 'Nokia', 'model': 216, 'color': 'Black'},\n",
       " {'make': 'Samsung', 'model': 7, 'color': 'Blue'},\n",
       " {'make': 'Mi Max', 'model': '2', 'color': 'Gold'}]"
      ]
     },
     "execution_count": 45,
     "metadata": {},
     "output_type": "execute_result"
    }
   ],
   "source": [
    "# 4. Write a Python program to sort a list of dictionaries using Lambda. Go to the editor\n",
    "# Original list of dictionaries :\n",
    "# [{'make': 'Nokia', 'model': 216, 'color': 'Black'}, {'make': 'Mi Max', 'model': '2', 'color': 'Gold'}, \n",
    "#  {'make': 'Samsung', 'model': 7, 'color': 'Blue'}]\n",
    "# Sorting the List of dictionaries :\n",
    "# [{'make': 'Nokia', 'model': 216, 'color': 'Black'}, {'make': 'Samsung', 'model': 7, 'color': 'Blue'}, \n",
    "#  {'make': 'Mi Max', 'model': '2', 'color': 'Gold'}]\n",
    "\n",
    "dict1 = [{'make': 'Nokia', 'model': 216, 'color': 'Black'}, {'make': 'Mi Max', 'model': '2', 'color': 'Gold'}, \n",
    "         {'make': 'Samsung', 'model': 7, 'color': 'Blue'}]\n",
    "\n",
    "dict1.sort(key = lambda x:x['color'])\n",
    "dict1"
   ]
  },
  {
   "cell_type": "code",
   "execution_count": 57,
   "metadata": {},
   "outputs": [
    {
     "name": "stdout",
     "output_type": "stream",
     "text": [
      "[2, 4, 6, 8, 10] \n",
      "\n",
      "[1, 3, 5, 7, 9]\n"
     ]
    }
   ],
   "source": [
    "# 5. Write a Python program to filter a list of integers using Lambda. Go to the editor\n",
    "# Original list of integers:\n",
    "# [1, 2, 3, 4, 5, 6, 7, 8, 9, 10]\n",
    "# Even numbers from the said list:\n",
    "# [2, 4, 6, 8, 10]\n",
    "# Odd numbers from the said list:\n",
    "# [1, 3, 5, 7, 9]\n",
    "\n",
    "list1 = [1, 2, 3, 4, 5, 6, 7, 8, 9, 10]\n",
    "evenList = filter(lambda x: x%2 == 0, list1)\n",
    "print(list(evenList),'\\n')\n",
    "\n",
    "oddList = filter(lambda x: x%2 > 0, list1)\n",
    "print(list(oddList))"
   ]
  },
  {
   "cell_type": "code",
   "execution_count": 61,
   "metadata": {},
   "outputs": [
    {
     "name": "stdout",
     "output_type": "stream",
     "text": [
      "[1, 4, 9, 16, 25, 36, 49, 64, 81, 100] \n",
      "\n",
      "[1, 8, 27, 64, 125, 216, 343, 512, 729, 1000]\n"
     ]
    }
   ],
   "source": [
    "# 6. Write a Python program to square and cube every number in a given list of integers using Lambda. Go to the editor\n",
    "# Original list of integers:\n",
    "# [1, 2, 3, 4, 5, 6, 7, 8, 9, 10]\n",
    "# Square every number of the said list:\n",
    "# [1, 4, 9, 16, 25, 36, 49, 64, 81, 100]\n",
    "# Cube every number of the said list:\n",
    "# [1, 8, 27, 64, 125, 216, 343, 512, 729, 1000]\n",
    "\n",
    "list1 = [1, 2, 3, 4, 5, 6, 7, 8, 9, 10]\n",
    "print(list(map(lambda x: x*x, list1)),'\\n')\n",
    "print(list(map(lambda x: x**3, list1)))"
   ]
  },
  {
   "cell_type": "code",
   "execution_count": 71,
   "metadata": {},
   "outputs": [
    {
     "data": {
      "text/plain": [
       "False"
      ]
     },
     "execution_count": 71,
     "metadata": {},
     "output_type": "execute_result"
    }
   ],
   "source": [
    "# 7. Write a Python program to find if a given string starts with a given character using Lambda. Go to the editor\n",
    "# Sample Output:\n",
    "# True\n",
    "# False\n",
    "givenChar = 'a'\n",
    "str1 = 'moorthy'\n",
    "func = lambda x: True if x.startswith(givenChar) else False\n",
    "func(str1)"
   ]
  },
  {
   "cell_type": "code",
   "execution_count": 103,
   "metadata": {},
   "outputs": [
    {
     "name": "stdout",
     "output_type": "stream",
     "text": [
      "2021 \n",
      "\n",
      "12 \n",
      "\n",
      "20 \n",
      "\n",
      "18:08:29.975575 \n",
      "\n"
     ]
    }
   ],
   "source": [
    "# 8. Write a Python program to extract year, month, date and time using Lambda. Go to the editor\n",
    "# Sample Output:\n",
    "# 2020-01-15 09:03:32.744178\n",
    "# 2020\n",
    "# 1\n",
    "# 15\n",
    "# 09:03:32.744178\n",
    "import datetime\n",
    "now = datetime.datetime.now()\n",
    "\n",
    "year = lambda x: x.year\n",
    "print(year(now),'\\n')\n",
    "\n",
    "month = lambda x: x.month\n",
    "print(month(now),'\\n')\n",
    "\n",
    "day = lambda x: x.day\n",
    "print(day(now),'\\n')\n",
    "\n",
    "time = lambda x: x.time()\n",
    "print(time(now),'\\n')"
   ]
  },
  {
   "cell_type": "code",
   "execution_count": 112,
   "metadata": {},
   "outputs": [
    {
     "data": {
      "text/plain": [
       "True"
      ]
     },
     "execution_count": 112,
     "metadata": {},
     "output_type": "execute_result"
    }
   ],
   "source": [
    "# 9. Write a Python program to check whether a given string is number or not using Lambda. Go to the editor\n",
    "# Sample Output:\n",
    "# True\n",
    "# True\n",
    "# False\n",
    "# True\n",
    "# False\n",
    "# True\n",
    "# Print checking numbers:\n",
    "# True\n",
    "# True\n",
    "\n",
    "str1 = 'Check'\n",
    "str2 = '23445'\n",
    "\n",
    "checkNumber = lambda x: True if x.isnumeric() else False\n",
    "checkNumber(str2)"
   ]
  },
  {
   "cell_type": "code",
   "execution_count": 125,
   "metadata": {},
   "outputs": [
    {
     "name": "stdout",
     "output_type": "stream",
     "text": [
      "[0, 1, 1, 2, 3]\n"
     ]
    }
   ],
   "source": [
    "# 10. Write a Python program to create Fibonacci series upto n using Lambda. Go to the editor\n",
    "# Fibonacci series upto 2:\n",
    "# [0, 1]\n",
    "# Fibonacci series upto 5:\n",
    "# [0, 1, 1, 2, 3]\n",
    "# Fibonacci series upto 6:\n",
    "# [0, 1, 1, 2, 3, 5]\n",
    "# Fibonacci series upto 9:\n",
    "# [0, 1, 1, 2, 3, 5, 8, 13, 21]\n",
    "\n",
    "from functools import reduce\n",
    "  \n",
    "fib = lambda n: reduce(lambda x, _: x+[x[-1]+x[-2]],\n",
    "                                 range(n-2), [0, 1])\n",
    "  \n",
    "print(fib(5))"
   ]
  },
  {
   "cell_type": "code",
   "execution_count": 165,
   "metadata": {},
   "outputs": [
    {
     "data": {
      "text/plain": [
       "[1, 2, 8, 9]"
      ]
     },
     "execution_count": 165,
     "metadata": {},
     "output_type": "execute_result"
    }
   ],
   "source": [
    "# 11. Write a Python program to find intersection of two given arrays using Lambda. Go to the editor\n",
    "# Original arrays:\n",
    "# [1, 2, 3, 5, 7, 8, 9, 10]\n",
    "# [1, 2, 4, 8, 9]\n",
    "# Intersection of the said arrays: [1, 2, 8, 9]\n",
    "list1 = [1, 2, 3, 5, 7, 8, 9, 10]\n",
    "list2 = [1, 2, 4, 8, 9]\n",
    "func = lambda x: x in list1\n",
    "list(filter(func, list2))"
   ]
  },
  {
   "cell_type": "code",
   "execution_count": 181,
   "metadata": {},
   "outputs": [
    {
     "data": {
      "text/plain": [
       "[2, 5, 7, 8, 9, -10, -3, -1]"
      ]
     },
     "execution_count": 181,
     "metadata": {},
     "output_type": "execute_result"
    }
   ],
   "source": [
    "# 12. Write a Python program to rearrange positive and negative numbers in a given array using Lambda. Go to the editor\n",
    "# Original arrays:\n",
    "# [-1, 2, -3, 5, 7, 8, 9, -10]\n",
    "# Rearrange positive and negative numbers of the said array:\n",
    "# [2, 5, 7, 8, 9, -10, -3, -1]\n",
    "\n",
    "list1 = [-1, 2, -3, 5, 7, 8, 9, -10]\n",
    "func = lambda i: 0 if i == 0 else -1 / i\n",
    "#func = lambda x: sorted(x, reverse = True)\n",
    "sorted([-1, 2, -3, 5, 7, 8, 9, -10], key = func)"
   ]
  },
  {
   "cell_type": "code",
   "execution_count": 185,
   "metadata": {},
   "outputs": [
    {
     "name": "stdout",
     "output_type": "stream",
     "text": [
      "3\n",
      "5\n"
     ]
    }
   ],
   "source": [
    "# 13. Write a Python program to count the even, odd numbers in a given array of integers using Lambda. Go to the editor\n",
    "# Original arrays:\n",
    "# [1, 2, 3, 5, 7, 8, 9, 10]\n",
    "# Number of even numbers in the above array: 3\n",
    "# Number of odd numbers in the above array: 5\n",
    "list1 = [1, 2, 3, 5, 7, 8, 9, 10]\n",
    "func_even = lambda x: x%2==0\n",
    "func_odd = lambda x: x%2 > 0\n",
    "print(len(list(filter(func_even,list1))))\n",
    "print(len(list(filter(func_odd,list1))))"
   ]
  },
  {
   "cell_type": "code",
   "execution_count": 189,
   "metadata": {},
   "outputs": [
    {
     "data": {
      "text/plain": [
       "['Monday', 'Friday', 'Sunday']"
      ]
     },
     "execution_count": 189,
     "metadata": {},
     "output_type": "execute_result"
    }
   ],
   "source": [
    "# 14. Write a Python program to find the values of length six in a given list using Lambda. Go to the editor\n",
    "# Sample Output:\n",
    "# Monday\n",
    "# Friday\n",
    "# Sunday\n",
    "list1 = ['Monday','Friday','Sunday','Thursday','Tuesday','Wednesday']\n",
    "list(filter(lambda x:len(x) == 6,list1))"
   ]
  },
  {
   "cell_type": "code",
   "execution_count": 195,
   "metadata": {},
   "outputs": [
    {
     "data": {
      "text/plain": [
       "[5, 7, 9]"
      ]
     },
     "execution_count": 195,
     "metadata": {},
     "output_type": "execute_result"
    }
   ],
   "source": [
    "# 15. Write a Python program to add two given lists using map and lambda. Go to the editor\n",
    "# Original list:\n",
    "# [1, 2, 3]\n",
    "# [4, 5, 6]\n",
    "# Result: after adding two list\n",
    "# [5, 7, 9]\n",
    "list1 = [1, 2, 3]\n",
    "list2 = [4, 5, 6]\n",
    "list(map(lambda x,y:x+y, list1, list2))"
   ]
  },
  {
   "cell_type": "code",
   "execution_count": 7,
   "metadata": {},
   "outputs": [
    {
     "data": {
      "text/plain": [
       "[12, 0, 23, -55, 234, 89, 0, 6, -12]"
      ]
     },
     "execution_count": 7,
     "metadata": {},
     "output_type": "execute_result"
    }
   ],
   "source": [
    "# 52. Write a Python program to remove None value from a given list using lambda function. Go to the editor\n",
    "# Original list:\n",
    "# [12, 0, None, 23, None, -55, 234, 89, None, 0, 6, -12]\n",
    "# Remove None value from the said list:\n",
    "# [12, 0, 23, -55, 234, 89, 0, 6, -12]\n",
    "\n",
    "list1 = [12, 0, None, 23, None, -55, 234, 89, None, 0, 6, -12]\n",
    "list(filter(lambda x: x != None ,list1))"
   ]
  },
  {
   "cell_type": "code",
   "execution_count": 12,
   "metadata": {},
   "outputs": [
    {
     "name": "stdout",
     "output_type": "stream",
     "text": [
      "74\n",
      "62\n"
     ]
    }
   ],
   "source": [
    "# 51. Write a Python program to find the maximum and minimum values in a given list of tuples using lambda function. \n",
    "# Original list with tuples:\n",
    "# [('V', 62), ('VI', 68), ('VII', 72), ('VIII', 70), ('IX', 74), ('X', 65)]\n",
    "# Maximum and minimum values of the said list of tuples:\n",
    "# (74, 62)\n",
    "\n",
    "list1 = [('V', 62), ('VI', 68), ('VII', 72), ('VIII', 70), ('IX', 74), ('X', 65)]\n",
    "print(max(list1,key=lambda item:item[1])[1])\n",
    "print(min(list1,key=lambda item:item[1])[1])\n",
    "\n"
   ]
  },
  {
   "cell_type": "code",
   "execution_count": 16,
   "metadata": {},
   "outputs": [
    {
     "data": {
      "text/plain": [
       "['red', 'green', 'blue', 'white']"
      ]
     },
     "execution_count": 16,
     "metadata": {},
     "output_type": "execute_result"
    }
   ],
   "source": [
    "# 50. Write a Python program to remove specific words from a given list using lambda. Go to the editor\n",
    "# Original list:\n",
    "# ['orange', 'red', 'green', 'blue', 'white', 'black']\n",
    "# Remove words:\n",
    "# ['orange', 'black']\n",
    "# After removing the specified words from the said list:\n",
    "# ['red', 'green', 'blue', 'white']\n",
    "\n",
    "list1 = ['orange', 'red', 'green', 'blue', 'white', 'black']\n",
    "list2 = ['orange', 'black']\n",
    "list(filter(lambda x:x not in list2, list1))\n"
   ]
  },
  {
   "cell_type": "code",
   "execution_count": 17,
   "metadata": {},
   "outputs": [
    {
     "data": {
      "text/plain": [
       "Counter({3: 4, 4: 2, 5: 3, 8: 2, 0: 2, 1: 1, 2: 2})"
      ]
     },
     "execution_count": 17,
     "metadata": {},
     "output_type": "execute_result"
    }
   ],
   "source": [
    "# 49. Write a Python program to count the occurrences of the items in a given list using lambda. Go to the editor\n",
    "# Original list:\n",
    "# [3, 4, 5, 8, 0, 3, 8, 5, 0, 3, 1, 5, 2, 3, 4, 2]\n",
    "# Count the occurrences of the items in the said list:\n",
    "# {3: 4, 4: 2, 5: 3, 8: 2, 0: 2, 1: 1, 2: 2}\n",
    "import collections\n",
    "list1= [3, 4, 5, 8, 0, 3, 8, 5, 0, 3, 1, 5, 2, 3, 4, 2]\n",
    "collections.Counter(list1)"
   ]
  },
  {
   "cell_type": "code",
   "execution_count": 21,
   "metadata": {},
   "outputs": [
    {
     "data": {
      "text/plain": [
       "['-500', '-12', '0', '4', '7', '12', '45', '100', '200']"
      ]
     },
     "execution_count": 21,
     "metadata": {},
     "output_type": "execute_result"
    }
   ],
   "source": [
    "# 48. Write a Python program to sort a given list of strings(numbers) numerically using lambda. Go to the editor\n",
    "# Original list:\n",
    "# ['4', '12', '45', '7', '0', '100', '200', '-12', '-500']\n",
    "# Sort the said list of strings(numbers) numerically:\n",
    "# ['-500', '-12', '0', '4', '7', '12', '45', '100', '200']\n",
    "\n",
    "list1 =  ['4', '12', '45', '7', '0', '100', '200', '-12', '-500']\n",
    "\n",
    "sorted(list1, key= lambda x: int(x))"
   ]
  },
  {
   "cell_type": "code",
   "execution_count": 26,
   "metadata": {},
   "outputs": [
    {
     "data": {
      "text/plain": [
       "[19, 12, 10, 1, 'red', 'green', 'blue', 'white', 'green']"
      ]
     },
     "execution_count": 26,
     "metadata": {},
     "output_type": "execute_result"
    }
   ],
   "source": [
    "# 47. Write a Python program to sort a given mixed list of integers and strings using lambda. Numbers must \n",
    "#     be sorted before strings. Go to the editor\n",
    "# Original list:\n",
    "# [19, 'red', 12, 'green', 'blue', 10, 'white', 'green', 1]\n",
    "# Sort the said mixed list of integers and strings:\n",
    "# [1, 10, 12, 19, 'blue', 'green', 'green', 'red', 'white']\n",
    "\n",
    "list1= [19, 'red', 12, 'green', 'blue', 10, 'white', 'green', 1]\n",
    "list(filter(lambda x:str(x).isnumeric() == True, list1)) + list(filter(lambda x:str(x).isnumeric() != True, list1))"
   ]
  },
  {
   "cell_type": "code",
   "execution_count": 36,
   "metadata": {},
   "outputs": [
    {
     "name": "stdout",
     "output_type": "stream",
     "text": [
      "(5, 89) \n",
      "\n",
      "(3, 10.11) \n",
      "\n"
     ]
    }
   ],
   "source": [
    "# 46. Write a Python program to find index position and value of the maximum and minimum values in a given list of numbers \n",
    "#     using lambda. Go to the editor\n",
    "# Original list:\n",
    "# [12, 33, 23, 10.11, 67, 89, 45, 66.7, 23, 12, 11, 10.25, 54]\n",
    "# Index position and value of the maximum value of the said list:\n",
    "# (5, 89)\n",
    "# Index position and value of the minimum value of the said list:\n",
    "# (3, 10.11)\n",
    "from functools import reduce \n",
    "list1 = [12, 33, 23, 10.11, 67, 89, 45, 66.7, 23, 12, 11, 10.25, 54]\n",
    "\n",
    "max_no = reduce(lambda x,y:x if x > y else y,list1)\n",
    "min_no = reduce(lambda x,y:x if x < y else y,list1)\n",
    "\n",
    "print((list1.index(max_no), max_no),'\\n')\n",
    "print((list1.index(min_no), min_no),'\\n')"
   ]
  },
  {
   "cell_type": "code",
   "execution_count": 48,
   "metadata": {},
   "outputs": [
    {
     "data": {
      "text/plain": [
       "((233, 33), (1416, 55), (2345, 34))"
      ]
     },
     "execution_count": 48,
     "metadata": {},
     "output_type": "execute_result"
    }
   ],
   "source": [
    "# 45. Write a Python program to convert string element to integer inside a given tuple using lambda. Go to the editor\n",
    "# Original tuple values:\n",
    "# (('233', 'ABCD', '33'), ('1416', 'EFGH', '55'), ('2345', 'WERT', '34'))\n",
    "# New tuple values:\n",
    "# ((233, 33), (1416, 55), (2345, 34))\n",
    "from functools import reduce \n",
    "tuple1 = (('233', 'ABCD', '33'), ('1416', 'EFGH', '55'), ('2345', 'WERT', '34'))\n",
    "\n",
    "tuple(map(lambda x : (int(x[0]),int(x[2])),tuple1))"
   ]
  },
  {
   "cell_type": "code",
   "execution_count": 58,
   "metadata": {},
   "outputs": [
    {
     "data": {
      "text/plain": [
       "(30.5, 34.25, 27.0)"
      ]
     },
     "execution_count": 58,
     "metadata": {},
     "output_type": "execute_result"
    }
   ],
   "source": [
    "# 44. Write a Python program to calculate the average value of the numbers in a given tuple of tuples using lambda. \n",
    "# Original Tuple:\n",
    "# ((10, 10, 10), (30, 45, 56), (81, 80, 39), (1, 2, 3))\n",
    "# Average value of the numbers of the said tuple of tuples:\n",
    "# (30.5, 34.25, 27.0)\n",
    "# Original Tuple:\n",
    "# ((1, 1, -5), (30, -15, 56), (81, -60, -39), (-10, 2, 3))\n",
    "# Average value of the numbers of the said tuple of tuples:\n",
    "# (25.5, -18.0, 3.75)\n",
    "tuple1 = ((10, 10, 10), (30, 45, 56), (81, 80, 39), (1, 2, 3))\n",
    "tuple(map(lambda x: np.average(x),zip(*tuple1)))"
   ]
  },
  {
   "cell_type": "code",
   "execution_count": 79,
   "metadata": {},
   "outputs": [
    {
     "data": {
      "text/plain": [
       "-864"
      ]
     },
     "execution_count": 79,
     "metadata": {},
     "output_type": "execute_result"
    }
   ],
   "source": [
    "# 43. Write a Python program to multiply all the numbers in a given list using lambda. Go to the editor\n",
    "# Original list:\n",
    "# [4, 3, 2, 2, -1, 18]\n",
    "# Mmultiply all the numbers of the said list: -864\n",
    "# Original list:\n",
    "# [2, 4, 8, 8, 3, 2, 9]\n",
    "# Mmultiply all the numbers of the said list: 27648\n",
    "from functools import reduce\n",
    "list1 = [4, 3, 2, 2, -1, 18]\n",
    "reduce(lambda x,y:x*y, list1)"
   ]
  },
  {
   "cell_type": "code",
   "execution_count": 77,
   "metadata": {},
   "outputs": [
    {
     "data": {
      "text/plain": [
       "[4, 64, 12]"
      ]
     },
     "execution_count": 77,
     "metadata": {},
     "output_type": "execute_result"
    }
   ],
   "source": [
    "#Second largest in List = [[2,3,4],[1, 4, 16, 64],[3, 6, 9, 12]]\n",
    "list1 = [[2,30,4],[1, 4, 160, 64],[3, 6, 90, 12]]\n",
    "sortedList = [sorted(x) for x in list1]\n",
    "\n",
    "secondLargest = [x[len(x)-2] for x in sortedList]\n",
    "secondLargest\n"
   ]
  },
  {
   "cell_type": "code",
   "execution_count": 80,
   "metadata": {},
   "outputs": [
    {
     "data": {
      "text/plain": [
       "4021.8599520000007"
      ]
     },
     "execution_count": 80,
     "metadata": {},
     "output_type": "execute_result"
    }
   ],
   "source": [
    "# 42. Write a Python program to calculate the product of a given list of numbers using lambda. Go to the editor\n",
    "# list1: [1, 2, 3, 4, 5, 6, 7, 8, 9, 10]\n",
    "# Product of the said list numbers:\n",
    "# 3628800\n",
    "# list2: [2.2, 4.12, 6.6, 8.1, 8.3]\n",
    "# Product of the said list numbers:\n",
    "# 4021.8599520000007\n",
    "from functools import reduce\n",
    "list1 = [2.2, 4.12, 6.6, 8.1, 8.3]\n",
    "reduce(lambda x,y:x*y, list1)"
   ]
  },
  {
   "cell_type": "code",
   "execution_count": 107,
   "metadata": {},
   "outputs": [
    {
     "data": {
      "text/plain": [
       "['deR', 'neerG', 'eulB', 'etihW', 'kcalB']"
      ]
     },
     "execution_count": 107,
     "metadata": {},
     "output_type": "execute_result"
    }
   ],
   "source": [
    "# 41. Write a Python program to reverse strings in a given list of string values using lambda. Go to the editor\n",
    "# Original lists:\n",
    "# ['Red', 'Green', 'Blue', 'White', 'Black']\n",
    "# Reverse strings of the said given list:\n",
    "# ['deR', 'neerG', 'eulB', 'etihW', 'kcalB']\n",
    "list1 =  ['Red', 'Green', 'Blue', 'White', 'Black']\n",
    "list(map(lambda x:x[::-1],list1))\n",
    "\n"
   ]
  },
  {
   "cell_type": "code",
   "execution_count": 109,
   "metadata": {},
   "outputs": [
    {
     "data": {
      "text/plain": [
       "[(12, 7, 1), (18, 11, 5), (23, 19, 8), (25, 24, 18), (45, 28, 15)]"
      ]
     },
     "execution_count": 109,
     "metadata": {},
     "output_type": "execute_result"
    }
   ],
   "source": [
    "# 40. Write a Python program to find the nested lists elements, which are present in another list using lambda. Go to the editor\n",
    "# Original lists: [1, 2, 3, 4, 5, 6, 7, 8, 9, 10, 11, 12, 13, 14]\n",
    "# [[12, 18, 23, 25, 45], [7, 11, 19, 24, 28], [1, 5, 8, 18, 15, 16]]\n",
    "# Intersection of said nested lists:\n",
    "# [[12], [7, 11], [1, 5, 8]]\n",
    "oList = [1, 2, 3, 4, 5, 6, 7, 8, 9, 10, 11, 12, 13, 14]\n",
    "iLists = [[12, 18, 23, 25, 45], [7, 11, 19, 24, 28], [1, 5, 8, 18, 15, 16]]\n",
    "\n",
    "filter()"
   ]
  },
  {
   "cell_type": "code",
   "execution_count": 112,
   "metadata": {},
   "outputs": [
    {
     "ename": "SyntaxError",
     "evalue": "invalid syntax (<ipython-input-112-8e1f556deae8>, line 1)",
     "output_type": "error",
     "traceback": [
      "\u001b[1;36m  File \u001b[1;32m\"<ipython-input-112-8e1f556deae8>\"\u001b[1;36m, line \u001b[1;32m1\u001b[0m\n\u001b[1;33m    [12, 18, 23, 25, 45] np.intersect [1, 2, 3, 4, 5, 6, 7, 8, 9, 10, 11, 12, 13, 14]\u001b[0m\n\u001b[1;37m                         ^\u001b[0m\n\u001b[1;31mSyntaxError\u001b[0m\u001b[1;31m:\u001b[0m invalid syntax\n"
     ]
    }
   ],
   "source": [
    "\\"
   ]
  },
  {
   "cell_type": "code",
   "execution_count": null,
   "metadata": {},
   "outputs": [],
   "source": []
  }
 ],
 "metadata": {
  "kernelspec": {
   "display_name": "Python 3",
   "language": "python",
   "name": "python3"
  },
  "language_info": {
   "codemirror_mode": {
    "name": "ipython",
    "version": 3
   },
   "file_extension": ".py",
   "mimetype": "text/x-python",
   "name": "python",
   "nbconvert_exporter": "python",
   "pygments_lexer": "ipython3",
   "version": "3.8.5"
  }
 },
 "nbformat": 4,
 "nbformat_minor": 4
}
