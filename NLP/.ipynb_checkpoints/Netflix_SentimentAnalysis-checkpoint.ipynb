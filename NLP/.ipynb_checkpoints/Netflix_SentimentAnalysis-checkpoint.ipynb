{
 "cells": [
  {
   "cell_type": "code",
   "execution_count": 21,
   "metadata": {},
   "outputs": [],
   "source": [
    "import numpy as np\n",
    "import pandas as pd\n",
    "import nltk, re\n",
    "from nltk.corpus import stopwords\n",
    "from nltk.stem.porter import PorterStemmer\n",
    "from nltk.stem import WordNetLemmatizer\n",
    "from sklearn.feature_extraction.text import CountVectorizer, TfidfVectorizer\n",
    "import string"
   ]
  },
  {
   "cell_type": "code",
   "execution_count": 24,
   "metadata": {},
   "outputs": [],
   "source": [
    "stop_words = stopwords.words('english')\n",
    "tfid = TfidfVectorizer()\n",
    "bow = CountVectorizer()"
   ]
  },
  {
   "cell_type": "code",
   "execution_count": 6,
   "metadata": {},
   "outputs": [
    {
     "data": {
      "text/plain": [
       "179"
      ]
     },
     "execution_count": 6,
     "metadata": {},
     "output_type": "execute_result"
    }
   ],
   "source": [
    "len(stopwords)"
   ]
  },
  {
   "cell_type": "code",
   "execution_count": 15,
   "metadata": {},
   "outputs": [],
   "source": [
    "#read data\n",
    "pos_rev = pd.read_csv('pos.txt',sep='\\n',encoding='unicode_escape', header = None) #\n",
    "#change column name 0 to review\n",
    "pos_rev.rename(columns = {0:'review'}, inplace = True)\n",
    "pos_rev['mood'] = 1"
   ]
  },
  {
   "cell_type": "code",
   "execution_count": 16,
   "metadata": {},
   "outputs": [],
   "source": [
    "#read data\n",
    "neg_rev = pd.read_csv('negative.txt',sep='\\n',encoding='unicode_escape', header = None) #\n",
    "#change column name 0 to review\n",
    "neg_rev.rename(columns = {0:'review'}, inplace = True)\n",
    "neg_rev['mood'] = 0"
   ]
  },
  {
   "cell_type": "code",
   "execution_count": 17,
   "metadata": {},
   "outputs": [
    {
     "data": {
      "text/html": [
       "<div>\n",
       "<style scoped>\n",
       "    .dataframe tbody tr th:only-of-type {\n",
       "        vertical-align: middle;\n",
       "    }\n",
       "\n",
       "    .dataframe tbody tr th {\n",
       "        vertical-align: top;\n",
       "    }\n",
       "\n",
       "    .dataframe thead th {\n",
       "        text-align: right;\n",
       "    }\n",
       "</style>\n",
       "<table border=\"1\" class=\"dataframe\">\n",
       "  <thead>\n",
       "    <tr style=\"text-align: right;\">\n",
       "      <th></th>\n",
       "      <th>review</th>\n",
       "      <th>mood</th>\n",
       "    </tr>\n",
       "  </thead>\n",
       "  <tbody>\n",
       "    <tr>\n",
       "      <th>0</th>\n",
       "      <td>simplistic , silly and tedious.</td>\n",
       "      <td>0</td>\n",
       "    </tr>\n",
       "    <tr>\n",
       "      <th>1</th>\n",
       "      <td>it's so laddish and juvenile , only teenage bo...</td>\n",
       "      <td>0</td>\n",
       "    </tr>\n",
       "    <tr>\n",
       "      <th>2</th>\n",
       "      <td>exploitative and largely devoid of the depth o...</td>\n",
       "      <td>0</td>\n",
       "    </tr>\n",
       "    <tr>\n",
       "      <th>3</th>\n",
       "      <td>[garbus] discards the potential for pathologic...</td>\n",
       "      <td>0</td>\n",
       "    </tr>\n",
       "    <tr>\n",
       "      <th>4</th>\n",
       "      <td>a visually flashy but narratively opaque and e...</td>\n",
       "      <td>0</td>\n",
       "    </tr>\n",
       "  </tbody>\n",
       "</table>\n",
       "</div>"
      ],
      "text/plain": [
       "                                              review  mood\n",
       "0                   simplistic , silly and tedious.      0\n",
       "1  it's so laddish and juvenile , only teenage bo...     0\n",
       "2  exploitative and largely devoid of the depth o...     0\n",
       "3  [garbus] discards the potential for pathologic...     0\n",
       "4  a visually flashy but narratively opaque and e...     0"
      ]
     },
     "execution_count": 17,
     "metadata": {},
     "output_type": "execute_result"
    }
   ],
   "source": [
    "neg_rev.head()"
   ]
  },
  {
   "cell_type": "code",
   "execution_count": 25,
   "metadata": {},
   "outputs": [],
   "source": [
    "# converter to lowercase\n",
    "pos_rev['review'] = pos_rev['review'].apply(lambda x : x.lower())\n",
    "\n",
    "# remove the numbers and hyphen\n",
    "pos_rev['review'] = pos_rev['review'].apply(lambda x : re.sub(r\"[0-9-]\",\" \",x)) # 0-9 removes numbers & - removes hyphen\n",
    "\n",
    "# remove the '''\n",
    "pos_rev['review'] = pos_rev['review'].apply(lambda x : re.sub(r\"\\W\",\" \",x)) #\\W => not a word century's=> century s \n",
    "\n",
    "# remove the 's'\n",
    "pos_rev['review'] = pos_rev['review'].apply(lambda x : re.sub(r\"\\b\\w\\b\",\" \",x)) \n",
    "\n",
    "\n",
    "# removing the puncatuation\n",
    "pos_rev['review'] = pos_rev['review'].apply(lambda x : \" \".join([word for word in nltk.word_tokenize(x) if word not in string.punctuation]))\n",
    "\n",
    "# remove the stopwords\n",
    "pos_rev['review'] = pos_rev['review'].apply(lambda x : \" \".join([word for word in nltk.word_tokenize(x) if word not in stop_words]))\n"
   ]
  },
  {
   "cell_type": "code",
   "execution_count": 26,
   "metadata": {},
   "outputs": [],
   "source": [
    "# converter to lowercase\n",
    "neg_rev['review'] = neg_rev['review'].apply(lambda x : x.lower())\n",
    "\n",
    "# remove the numbers and hyphen\n",
    "neg_rev['review'] = neg_rev['review'].apply(lambda x : re.sub(r\"[0-9-]\",\" \",x)) # 0-9 removes numbers & - removes hyphen\n",
    "\n",
    "# remove the '''\n",
    "neg_rev['review'] = neg_rev['review'].apply(lambda x : re.sub(r\"\\W\",\" \",x)) #\\W => not a word century's=> century s \n",
    "\n",
    "# remove the 's'\n",
    "neg_rev['review'] = neg_rev['review'].apply(lambda x : re.sub(r\"\\b\\w\\b\",\" \",x)) \n",
    "\n",
    "\n",
    "# removing the puncatuation\n",
    "neg_rev['review'] = neg_rev['review'].apply(lambda x : \" \".join([word for word in nltk.word_tokenize(x) if word not in string.punctuation]))\n",
    "\n",
    "# remove the stopwords\n",
    "neg_rev['review'] = neg_rev['review'].apply(lambda x : \" \".join([word for word in nltk.word_tokenize(x) if word not in stop_words]))\n"
   ]
  },
  {
   "cell_type": "code",
   "execution_count": 30,
   "metadata": {},
   "outputs": [],
   "source": [
    "#Merge both pos and negatve reviews\n",
    "com_rev = pos_rev.append(neg_rev,ignore_index=True)"
   ]
  },
  {
   "cell_type": "code",
   "execution_count": 31,
   "metadata": {},
   "outputs": [
    {
     "data": {
      "text/html": [
       "<div>\n",
       "<style scoped>\n",
       "    .dataframe tbody tr th:only-of-type {\n",
       "        vertical-align: middle;\n",
       "    }\n",
       "\n",
       "    .dataframe tbody tr th {\n",
       "        vertical-align: top;\n",
       "    }\n",
       "\n",
       "    .dataframe thead th {\n",
       "        text-align: right;\n",
       "    }\n",
       "</style>\n",
       "<table border=\"1\" class=\"dataframe\">\n",
       "  <thead>\n",
       "    <tr style=\"text-align: right;\">\n",
       "      <th></th>\n",
       "      <th>review</th>\n",
       "      <th>mood</th>\n",
       "    </tr>\n",
       "  </thead>\n",
       "  <tbody>\n",
       "    <tr>\n",
       "      <th>10657</th>\n",
       "      <td>terrible movie people nevertheless find moving</td>\n",
       "      <td>0</td>\n",
       "    </tr>\n",
       "    <tr>\n",
       "      <th>10658</th>\n",
       "      <td>many definitions time waster movie must surely...</td>\n",
       "      <td>0</td>\n",
       "    </tr>\n",
       "    <tr>\n",
       "      <th>10659</th>\n",
       "      <td>stands crocodile hunter hurried badly cobbled ...</td>\n",
       "      <td>0</td>\n",
       "    </tr>\n",
       "    <tr>\n",
       "      <th>10660</th>\n",
       "      <td>thing looks like made home video quickie</td>\n",
       "      <td>0</td>\n",
       "    </tr>\n",
       "    <tr>\n",
       "      <th>10661</th>\n",
       "      <td>enigma well made dry placid</td>\n",
       "      <td>0</td>\n",
       "    </tr>\n",
       "  </tbody>\n",
       "</table>\n",
       "</div>"
      ],
      "text/plain": [
       "                                                  review  mood\n",
       "10657     terrible movie people nevertheless find moving     0\n",
       "10658  many definitions time waster movie must surely...     0\n",
       "10659  stands crocodile hunter hurried badly cobbled ...     0\n",
       "10660           thing looks like made home video quickie     0\n",
       "10661                        enigma well made dry placid     0"
      ]
     },
     "execution_count": 31,
     "metadata": {},
     "output_type": "execute_result"
    }
   ],
   "source": [
    "com_rev.tail()"
   ]
  },
  {
   "cell_type": "code",
   "execution_count": 34,
   "metadata": {},
   "outputs": [],
   "source": [
    "from sklearn.model_selection import train_test_split\n",
    "X_train, X_test, y_train, y_test = train_test_split(com_rev['review'].values, com_rev['mood'], test_size=0.2 , random_state = 101)\n"
   ]
  },
  {
   "cell_type": "code",
   "execution_count": 35,
   "metadata": {},
   "outputs": [],
   "source": [
    "# dataframe for test and train data\n",
    "\n",
    "train_data = pd.DataFrame({'review':X_train, 'mood':y_train})\n",
    "test_data = pd.DataFrame({'review':X_test, 'mood':y_test})\n"
   ]
  },
  {
   "cell_type": "code",
   "execution_count": 36,
   "metadata": {},
   "outputs": [],
   "source": [
    "# tfidf vectorizer\n",
    "\n",
    "vectorizer = TfidfVectorizer()\n",
    "train_vectors = vectorizer.fit_transform(train_data['review'])\n",
    "test_vectors = vectorizer.transform(test_data['review'])\n"
   ]
  },
  {
   "cell_type": "code",
   "execution_count": 37,
   "metadata": {},
   "outputs": [],
   "source": [
    "from sklearn import svm\n",
    "from sklearn.metrics import classification_report, accuracy_score"
   ]
  },
  {
   "cell_type": "code",
   "execution_count": 38,
   "metadata": {},
   "outputs": [
    {
     "data": {
      "text/plain": [
       "SVC()"
      ]
     },
     "execution_count": 38,
     "metadata": {},
     "output_type": "execute_result"
    }
   ],
   "source": [
    "classifier = svm.SVC()\n",
    "classifier.fit(train_vectors,train_data['mood'])"
   ]
  },
  {
   "cell_type": "code",
   "execution_count": 39,
   "metadata": {},
   "outputs": [
    {
     "data": {
      "text/plain": [
       "0.7576183778715424"
      ]
     },
     "execution_count": 39,
     "metadata": {},
     "output_type": "execute_result"
    }
   ],
   "source": [
    "pred = classifier.predict(test_vectors)\n",
    "accuracy_score(pred, test_data['mood'])"
   ]
  },
  {
   "cell_type": "code",
   "execution_count": 40,
   "metadata": {},
   "outputs": [
    {
     "data": {
      "text/plain": [
       "['tfidf.pkl']"
      ]
     },
     "execution_count": 40,
     "metadata": {},
     "output_type": "execute_result"
    }
   ],
   "source": [
    "#SAVE THE MODEL\n",
    "import joblib\n",
    "joblib.dump(classifier,'75_netflix.pkl')\n",
    "joblib.dump(vectorizer,'tfidf.pkl')"
   ]
  },
  {
   "cell_type": "code",
   "execution_count": 41,
   "metadata": {},
   "outputs": [],
   "source": [
    "#LOAD the MODEL\n",
    "model = joblib.load('75_netflix.pkl')\n",
    "tfidf = joblib.load('tfidf.pkl')"
   ]
  },
  {
   "cell_type": "code",
   "execution_count": 53,
   "metadata": {},
   "outputs": [
    {
     "name": "stdout",
     "output_type": "stream",
     "text": [
      "Enter the review:bad\n",
      "-ve\n"
     ]
    }
   ],
   "source": [
    "sent = input('Enter the review:')\n",
    "vector = tfidf.transform([sent])\n",
    "my_pred = model.predict(vector)\n",
    "if my_pred[0] == 1:\n",
    "    print('+ve')\n",
    "elif my_pred[0] == 0:\n",
    "    print('-ve')"
   ]
  },
  {
   "cell_type": "code",
   "execution_count": 54,
   "metadata": {},
   "outputs": [
    {
     "data": {
      "text/plain": [
       "0"
      ]
     },
     "execution_count": 54,
     "metadata": {},
     "output_type": "execute_result"
    }
   ],
   "source": [
    "my_pred[0]"
   ]
  },
  {
   "cell_type": "code",
   "execution_count": null,
   "metadata": {},
   "outputs": [],
   "source": []
  }
 ],
 "metadata": {
  "kernelspec": {
   "display_name": "Python 3",
   "language": "python",
   "name": "python3"
  },
  "language_info": {
   "codemirror_mode": {
    "name": "ipython",
    "version": 3
   },
   "file_extension": ".py",
   "mimetype": "text/x-python",
   "name": "python",
   "nbconvert_exporter": "python",
   "pygments_lexer": "ipython3",
   "version": "3.8.5"
  }
 },
 "nbformat": 4,
 "nbformat_minor": 4
}
