{
 "cells": [
  {
   "cell_type": "code",
   "execution_count": 1,
   "metadata": {},
   "outputs": [],
   "source": [
    "import pandas as pd\n",
    "df = pd.read_csv(r'7_73_KWT.csv')"
   ]
  },
  {
   "cell_type": "code",
   "execution_count": 3,
   "metadata": {},
   "outputs": [
    {
     "data": {
      "text/html": [
       "<div>\n",
       "<style scoped>\n",
       "    .dataframe tbody tr th:only-of-type {\n",
       "        vertical-align: middle;\n",
       "    }\n",
       "\n",
       "    .dataframe tbody tr th {\n",
       "        vertical-align: top;\n",
       "    }\n",
       "\n",
       "    .dataframe thead th {\n",
       "        text-align: right;\n",
       "    }\n",
       "</style>\n",
       "<table border=\"1\" class=\"dataframe\">\n",
       "  <thead>\n",
       "    <tr style=\"text-align: right;\">\n",
       "      <th></th>\n",
       "      <th>ITEM</th>\n",
       "      <th>DMDUNIT</th>\n",
       "      <th>MAX_DATE</th>\n",
       "      <th>BASEPRICE</th>\n",
       "      <th>LOC</th>\n",
       "      <th>SPZONE</th>\n",
       "      <th>PMZONE</th>\n",
       "      <th>U_COUNTRY</th>\n",
       "    </tr>\n",
       "  </thead>\n",
       "  <tbody>\n",
       "    <tr>\n",
       "      <th>0</th>\n",
       "      <td>129691885</td>\n",
       "      <td>129691884_NOCOLOUR</td>\n",
       "      <td>02-APR-22</td>\n",
       "      <td>2.889</td>\n",
       "      <td>309650003</td>\n",
       "      <td>7_73</td>\n",
       "      <td>8_249</td>\n",
       "      <td>KWT</td>\n",
       "    </tr>\n",
       "    <tr>\n",
       "      <th>1</th>\n",
       "      <td>129691885</td>\n",
       "      <td>129691884_NOCOLOUR</td>\n",
       "      <td>02-APR-22</td>\n",
       "      <td>2.889</td>\n",
       "      <td>306340003</td>\n",
       "      <td>7_73</td>\n",
       "      <td>8_250</td>\n",
       "      <td>KWT</td>\n",
       "    </tr>\n",
       "    <tr>\n",
       "      <th>2</th>\n",
       "      <td>129691885</td>\n",
       "      <td>129691884_NOCOLOUR</td>\n",
       "      <td>02-APR-22</td>\n",
       "      <td>2.889</td>\n",
       "      <td>308330003</td>\n",
       "      <td>7_73</td>\n",
       "      <td>8_250</td>\n",
       "      <td>KWT</td>\n",
       "    </tr>\n",
       "    <tr>\n",
       "      <th>3</th>\n",
       "      <td>129691885</td>\n",
       "      <td>129691884_NOCOLOUR</td>\n",
       "      <td>02-APR-22</td>\n",
       "      <td>2.889</td>\n",
       "      <td>307080003</td>\n",
       "      <td>7_73</td>\n",
       "      <td>8_250</td>\n",
       "      <td>KWT</td>\n",
       "    </tr>\n",
       "    <tr>\n",
       "      <th>4</th>\n",
       "      <td>129691885</td>\n",
       "      <td>129691884_NOCOLOUR</td>\n",
       "      <td>02-APR-22</td>\n",
       "      <td>2.889</td>\n",
       "      <td>308090003</td>\n",
       "      <td>7_73</td>\n",
       "      <td>8_250</td>\n",
       "      <td>KWT</td>\n",
       "    </tr>\n",
       "  </tbody>\n",
       "</table>\n",
       "</div>"
      ],
      "text/plain": [
       "        ITEM             DMDUNIT   MAX_DATE  BASEPRICE        LOC SPZONE  \\\n",
       "0  129691885  129691884_NOCOLOUR  02-APR-22      2.889  309650003   7_73   \n",
       "1  129691885  129691884_NOCOLOUR  02-APR-22      2.889  306340003   7_73   \n",
       "2  129691885  129691884_NOCOLOUR  02-APR-22      2.889  308330003   7_73   \n",
       "3  129691885  129691884_NOCOLOUR  02-APR-22      2.889  307080003   7_73   \n",
       "4  129691885  129691884_NOCOLOUR  02-APR-22      2.889  308090003   7_73   \n",
       "\n",
       "  PMZONE U_COUNTRY  \n",
       "0  8_249       KWT  \n",
       "1  8_250       KWT  \n",
       "2  8_250       KWT  \n",
       "3  8_250       KWT  \n",
       "4  8_250       KWT  "
      ]
     },
     "execution_count": 3,
     "metadata": {},
     "output_type": "execute_result"
    }
   ],
   "source": [
    "df.head()"
   ]
  },
  {
   "cell_type": "code",
   "execution_count": 61,
   "metadata": {},
   "outputs": [],
   "source": [
    "grp_data = df.groupby(by=['DMDUNIT','PMZONE','LOC'])['BASEPRICE'].mean()\n",
    "grp_data = grp_data.reset_index()"
   ]
  },
  {
   "cell_type": "code",
   "execution_count": 65,
   "metadata": {},
   "outputs": [
    {
     "data": {
      "text/html": [
       "<div>\n",
       "<style scoped>\n",
       "    .dataframe tbody tr th:only-of-type {\n",
       "        vertical-align: middle;\n",
       "    }\n",
       "\n",
       "    .dataframe tbody tr th {\n",
       "        vertical-align: top;\n",
       "    }\n",
       "\n",
       "    .dataframe thead th {\n",
       "        text-align: right;\n",
       "    }\n",
       "</style>\n",
       "<table border=\"1\" class=\"dataframe\">\n",
       "  <thead>\n",
       "    <tr style=\"text-align: right;\">\n",
       "      <th></th>\n",
       "      <th>DMDUNIT</th>\n",
       "      <th>PMZONE</th>\n",
       "      <th>LOC</th>\n",
       "      <th>BASEPRICE</th>\n",
       "    </tr>\n",
       "  </thead>\n",
       "  <tbody>\n",
       "    <tr>\n",
       "      <th>0</th>\n",
       "      <td>129691884_NOCOLOUR</td>\n",
       "      <td>8_249</td>\n",
       "      <td>309650003</td>\n",
       "      <td>2.889</td>\n",
       "    </tr>\n",
       "    <tr>\n",
       "      <th>1</th>\n",
       "      <td>129691884_NOCOLOUR</td>\n",
       "      <td>8_250</td>\n",
       "      <td>305860003</td>\n",
       "      <td>2.889</td>\n",
       "    </tr>\n",
       "    <tr>\n",
       "      <th>2</th>\n",
       "      <td>129691884_NOCOLOUR</td>\n",
       "      <td>8_250</td>\n",
       "      <td>306340003</td>\n",
       "      <td>2.889</td>\n",
       "    </tr>\n",
       "    <tr>\n",
       "      <th>3</th>\n",
       "      <td>129691884_NOCOLOUR</td>\n",
       "      <td>8_250</td>\n",
       "      <td>306500003</td>\n",
       "      <td>2.889</td>\n",
       "    </tr>\n",
       "    <tr>\n",
       "      <th>4</th>\n",
       "      <td>129691884_NOCOLOUR</td>\n",
       "      <td>8_250</td>\n",
       "      <td>306530003</td>\n",
       "      <td>2.889</td>\n",
       "    </tr>\n",
       "  </tbody>\n",
       "</table>\n",
       "</div>"
      ],
      "text/plain": [
       "              DMDUNIT PMZONE        LOC  BASEPRICE\n",
       "0  129691884_NOCOLOUR  8_249  309650003      2.889\n",
       "1  129691884_NOCOLOUR  8_250  305860003      2.889\n",
       "2  129691884_NOCOLOUR  8_250  306340003      2.889\n",
       "3  129691884_NOCOLOUR  8_250  306500003      2.889\n",
       "4  129691884_NOCOLOUR  8_250  306530003      2.889"
      ]
     },
     "execution_count": 65,
     "metadata": {},
     "output_type": "execute_result"
    }
   ],
   "source": [
    "grp_data.head()"
   ]
  },
  {
   "cell_type": "code",
   "execution_count": 84,
   "metadata": {},
   "outputs": [],
   "source": [
    "unique_options = grp_data[\"DMDUNIT\"].value_counts().index"
   ]
  },
  {
   "cell_type": "code",
   "execution_count": 94,
   "metadata": {},
   "outputs": [
    {
     "ename": "AttributeError",
     "evalue": "'str' object has no attribute 'unique'",
     "output_type": "error",
     "traceback": [
      "\u001b[1;31m---------------------------------------------------------------------------\u001b[0m",
      "\u001b[1;31mAttributeError\u001b[0m                            Traceback (most recent call last)",
      "\u001b[1;32m<ipython-input-94-6239a0382d0e>\u001b[0m in \u001b[0;36m<module>\u001b[1;34m\u001b[0m\n\u001b[0;32m      4\u001b[0m     \u001b[0msub_grp\u001b[0m \u001b[1;33m=\u001b[0m \u001b[0mgrp_data\u001b[0m\u001b[1;33m[\u001b[0m\u001b[0mgrp_data\u001b[0m\u001b[1;33m[\u001b[0m\u001b[1;34m\"DMDUNIT\"\u001b[0m\u001b[1;33m]\u001b[0m \u001b[1;33m==\u001b[0m \u001b[0meach_dmdunit\u001b[0m\u001b[1;33m]\u001b[0m\u001b[1;33m\u001b[0m\u001b[1;33m\u001b[0m\u001b[0m\n\u001b[0;32m      5\u001b[0m     \u001b[1;32mfor\u001b[0m \u001b[0meach_row\u001b[0m \u001b[1;32min\u001b[0m \u001b[0msub_grp\u001b[0m\u001b[1;33m[\u001b[0m\u001b[1;34m\"BASEPRICE\"\u001b[0m\u001b[1;33m]\u001b[0m\u001b[1;33m:\u001b[0m\u001b[1;33m\u001b[0m\u001b[1;33m\u001b[0m\u001b[0m\n\u001b[1;32m----> 6\u001b[1;33m         \u001b[0mprint\u001b[0m\u001b[1;33m(\u001b[0m\u001b[0mstr\u001b[0m\u001b[1;33m(\u001b[0m\u001b[0meach_row\u001b[0m\u001b[1;33m)\u001b[0m\u001b[1;33m.\u001b[0m\u001b[0munique\u001b[0m\u001b[1;33m)\u001b[0m\u001b[1;33m\u001b[0m\u001b[1;33m\u001b[0m\u001b[0m\n\u001b[0m\u001b[0;32m      7\u001b[0m     \u001b[1;32mif\u001b[0m \u001b[0mi\u001b[0m \u001b[1;33m==\u001b[0m\u001b[1;36m1\u001b[0m\u001b[1;33m:\u001b[0m\u001b[1;33m\u001b[0m\u001b[1;33m\u001b[0m\u001b[0m\n\u001b[0;32m      8\u001b[0m         \u001b[1;32mbreak\u001b[0m\u001b[1;33m\u001b[0m\u001b[1;33m\u001b[0m\u001b[0m\n",
      "\u001b[1;31mAttributeError\u001b[0m: 'str' object has no attribute 'unique'"
     ]
    }
   ],
   "source": [
    "i = 0\n",
    "for each_dmdunit in unique_options:\n",
    "    i +=1\n",
    "    sub_grp = grp_data[grp_data[\"DMDUNIT\"] == each_dmdunit]\n",
    "    for each_row in sub_grp[\"BASEPRICE\"]:\n",
    "        print(each_row.unique)\n",
    "    if i ==1:\n",
    "        break"
   ]
  },
  {
   "cell_type": "code",
   "execution_count": null,
   "metadata": {},
   "outputs": [],
   "source": []
  }
 ],
 "metadata": {
  "kernelspec": {
   "display_name": "Python 3",
   "language": "python",
   "name": "python3"
  },
  "language_info": {
   "codemirror_mode": {
    "name": "ipython",
    "version": 3
   },
   "file_extension": ".py",
   "mimetype": "text/x-python",
   "name": "python",
   "nbconvert_exporter": "python",
   "pygments_lexer": "ipython3",
   "version": "3.8.5"
  }
 },
 "nbformat": 4,
 "nbformat_minor": 4
}
