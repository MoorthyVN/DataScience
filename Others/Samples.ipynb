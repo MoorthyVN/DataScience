{
 "cells": [
  {
   "cell_type": "code",
   "execution_count": 1,
   "metadata": {},
   "outputs": [
    {
     "name": "stdout",
     "output_type": "stream",
     "text": [
      "Collecting altair\n",
      "  Downloading altair-4.2.0-py3-none-any.whl (812 kB)\n",
      "Requirement already satisfied: entrypoints in c:\\users\\j1013189\\anaconda3\\lib\\site-packages (from altair) (0.3)\n",
      "Requirement already satisfied: pandas>=0.18 in c:\\users\\j1013189\\anaconda3\\lib\\site-packages (from altair) (1.1.3)\n",
      "Requirement already satisfied: jsonschema>=3.0 in c:\\users\\j1013189\\anaconda3\\lib\\site-packages (from altair) (3.2.0)\n",
      "Requirement already satisfied: numpy in c:\\users\\j1013189\\anaconda3\\lib\\site-packages (from altair) (1.19.2)\n",
      "Requirement already satisfied: toolz in c:\\users\\j1013189\\anaconda3\\lib\\site-packages (from altair) (0.11.1)\n",
      "Requirement already satisfied: jinja2 in c:\\users\\j1013189\\anaconda3\\lib\\site-packages (from altair) (2.11.2)\n",
      "Requirement already satisfied: python-dateutil>=2.7.3 in c:\\users\\j1013189\\anaconda3\\lib\\site-packages (from pandas>=0.18->altair) (2.8.1)\n",
      "Requirement already satisfied: pytz>=2017.2 in c:\\users\\j1013189\\anaconda3\\lib\\site-packages (from pandas>=0.18->altair) (2020.1)\n",
      "Requirement already satisfied: six>=1.11.0 in c:\\users\\j1013189\\anaconda3\\lib\\site-packages (from jsonschema>=3.0->altair) (1.15.0)\n",
      "Requirement already satisfied: pyrsistent>=0.14.0 in c:\\users\\j1013189\\anaconda3\\lib\\site-packages (from jsonschema>=3.0->altair) (0.17.3)\n",
      "Requirement already satisfied: setuptools in c:\\users\\j1013189\\anaconda3\\lib\\site-packages (from jsonschema>=3.0->altair) (50.3.1.post20201107)\n",
      "Requirement already satisfied: attrs>=17.4.0 in c:\\users\\j1013189\\anaconda3\\lib\\site-packages (from jsonschema>=3.0->altair) (20.3.0)\n",
      "Requirement already satisfied: MarkupSafe>=0.23 in c:\\users\\j1013189\\anaconda3\\lib\\site-packages (from jinja2->altair) (1.1.1)\n",
      "Installing collected packages: altair\n",
      "Successfully installed altair-4.2.0\n",
      "Note: you may need to restart the kernel to use updated packages.\n"
     ]
    }
   ],
   "source": [
    "pip install altair"
   ]
  },
  {
   "cell_type": "code",
   "execution_count": 2,
   "metadata": {},
   "outputs": [
    {
     "name": "stdout",
     "output_type": "stream",
     "text": [
      "Collecting vega_datasetsNote: you may need to restart the kernel to use updated packages.\n",
      "  Downloading vega_datasets-0.9.0-py3-none-any.whl (210 kB)\n",
      "Requirement already satisfied: pandas in c:\\users\\j1013189\\anaconda3\\lib\\site-packages (from vega_datasets) (1.1.3)\n",
      "Requirement already satisfied: python-dateutil>=2.7.3 in c:\\users\\j1013189\\anaconda3\\lib\\site-packages (from pandas->vega_datasets) (2.8.1)\n",
      "Requirement already satisfied: numpy>=1.15.4 in c:\\users\\j1013189\\anaconda3\\lib\\site-packages (from pandas->vega_datasets) (1.19.2)\n",
      "Requirement already satisfied: pytz>=2017.2 in c:\\users\\j1013189\\anaconda3\\lib\\site-packages (from pandas->vega_datasets) (2020.1)\n",
      "Requirement already satisfied: six>=1.5 in c:\\users\\j1013189\\anaconda3\\lib\\site-packages (from python-dateutil>=2.7.3->pandas->vega_datasets) (1.15.0)\n",
      "Installing collected packages: vega-datasets\n",
      "Successfully installed vega-datasets-0.9.0\n",
      "\n"
     ]
    }
   ],
   "source": [
    "pip install vega_datasets"
   ]
  },
  {
   "cell_type": "code",
   "execution_count": 3,
   "metadata": {},
   "outputs": [],
   "source": [
    "import altair as alt\n",
    "import pandas as pd"
   ]
  },
  {
   "cell_type": "code",
   "execution_count": 4,
   "metadata": {},
   "outputs": [],
   "source": [
    "data = pd.DataFrame({'a': list('CCCDDDEEE'),\n",
    "                     'b': [2, 7, 4, 1, 2, 6, 8, 4, 7]})"
   ]
  },
  {
   "cell_type": "code",
   "execution_count": 7,
   "metadata": {},
   "outputs": [],
   "source": [
    "chart = alt.Chart(data).mark_point().encode( x = 'a',y = 'b')"
   ]
  },
  {
   "cell_type": "code",
   "execution_count": 8,
   "metadata": {},
   "outputs": [
    {
     "data": {
      "text/html": [
       "\n",
       "<div id=\"altair-viz-16fbe151da50488da0ccbb95108c326a\"></div>\n",
       "<script type=\"text/javascript\">\n",
       "  var VEGA_DEBUG = (typeof VEGA_DEBUG == \"undefined\") ? {} : VEGA_DEBUG;\n",
       "  (function(spec, embedOpt){\n",
       "    let outputDiv = document.currentScript.previousElementSibling;\n",
       "    if (outputDiv.id !== \"altair-viz-16fbe151da50488da0ccbb95108c326a\") {\n",
       "      outputDiv = document.getElementById(\"altair-viz-16fbe151da50488da0ccbb95108c326a\");\n",
       "    }\n",
       "    const paths = {\n",
       "      \"vega\": \"https://cdn.jsdelivr.net/npm//vega@5?noext\",\n",
       "      \"vega-lib\": \"https://cdn.jsdelivr.net/npm//vega-lib?noext\",\n",
       "      \"vega-lite\": \"https://cdn.jsdelivr.net/npm//vega-lite@4.17.0?noext\",\n",
       "      \"vega-embed\": \"https://cdn.jsdelivr.net/npm//vega-embed@6?noext\",\n",
       "    };\n",
       "\n",
       "    function maybeLoadScript(lib, version) {\n",
       "      var key = `${lib.replace(\"-\", \"\")}_version`;\n",
       "      return (VEGA_DEBUG[key] == version) ?\n",
       "        Promise.resolve(paths[lib]) :\n",
       "        new Promise(function(resolve, reject) {\n",
       "          var s = document.createElement('script');\n",
       "          document.getElementsByTagName(\"head\")[0].appendChild(s);\n",
       "          s.async = true;\n",
       "          s.onload = () => {\n",
       "            VEGA_DEBUG[key] = version;\n",
       "            return resolve(paths[lib]);\n",
       "          };\n",
       "          s.onerror = () => reject(`Error loading script: ${paths[lib]}`);\n",
       "          s.src = paths[lib];\n",
       "        });\n",
       "    }\n",
       "\n",
       "    function showError(err) {\n",
       "      outputDiv.innerHTML = `<div class=\"error\" style=\"color:red;\">${err}</div>`;\n",
       "      throw err;\n",
       "    }\n",
       "\n",
       "    function displayChart(vegaEmbed) {\n",
       "      vegaEmbed(outputDiv, spec, embedOpt)\n",
       "        .catch(err => showError(`Javascript Error: ${err.message}<br>This usually means there's a typo in your chart specification. See the javascript console for the full traceback.`));\n",
       "    }\n",
       "\n",
       "    if(typeof define === \"function\" && define.amd) {\n",
       "      requirejs.config({paths});\n",
       "      require([\"vega-embed\"], displayChart, err => showError(`Error loading script: ${err.message}`));\n",
       "    } else {\n",
       "      maybeLoadScript(\"vega\", \"5\")\n",
       "        .then(() => maybeLoadScript(\"vega-lite\", \"4.17.0\"))\n",
       "        .then(() => maybeLoadScript(\"vega-embed\", \"6\"))\n",
       "        .catch(showError)\n",
       "        .then(() => displayChart(vegaEmbed));\n",
       "    }\n",
       "  })({\"config\": {\"view\": {\"continuousWidth\": 400, \"continuousHeight\": 300}}, \"data\": {\"name\": \"data-347f1284ea3247c0f55cb966abbdd2d8\"}, \"mark\": \"point\", \"encoding\": {\"x\": {\"field\": \"a\", \"type\": \"nominal\"}, \"y\": {\"field\": \"b\", \"type\": \"quantitative\"}}, \"$schema\": \"https://vega.github.io/schema/vega-lite/v4.17.0.json\", \"datasets\": {\"data-347f1284ea3247c0f55cb966abbdd2d8\": [{\"a\": \"C\", \"b\": 2}, {\"a\": \"C\", \"b\": 7}, {\"a\": \"C\", \"b\": 4}, {\"a\": \"D\", \"b\": 1}, {\"a\": \"D\", \"b\": 2}, {\"a\": \"D\", \"b\": 6}, {\"a\": \"E\", \"b\": 8}, {\"a\": \"E\", \"b\": 4}, {\"a\": \"E\", \"b\": 7}]}}, {\"mode\": \"vega-lite\"});\n",
       "</script>"
      ],
      "text/plain": [
       "alt.Chart(...)"
      ]
     },
     "execution_count": 8,
     "metadata": {},
     "output_type": "execute_result"
    }
   ],
   "source": [
    "chart"
   ]
  },
  {
   "cell_type": "code",
   "execution_count": 2,
   "metadata": {},
   "outputs": [],
   "source": [
    "d= {'a':1, 'b':2, 'c':3}"
   ]
  },
  {
   "cell_type": "code",
   "execution_count": 15,
   "metadata": {},
   "outputs": [
    {
     "data": {
      "text/plain": [
       "'not existing'"
      ]
     },
     "execution_count": 15,
     "metadata": {},
     "output_type": "execute_result"
    }
   ],
   "source": [
    "d.get('x','not existing')"
   ]
  },
  {
   "cell_type": "code",
   "execution_count": 36,
   "metadata": {},
   "outputs": [
    {
     "data": {
      "text/plain": [
       "{'x': 'v', 'c': 'v', 'v': 'v'}"
      ]
     },
     "execution_count": 36,
     "metadata": {},
     "output_type": "execute_result"
    }
   ],
   "source": [
    "new = d.fromkeys(['x','c','v'],'v')\n",
    "new"
   ]
  },
  {
   "cell_type": "code",
   "execution_count": 30,
   "metadata": {},
   "outputs": [
    {
     "data": {
      "text/plain": [
       "'b'"
      ]
     },
     "execution_count": 30,
     "metadata": {},
     "output_type": "execute_result"
    }
   ],
   "source": [
    "list(d.keys())"
   ]
  },
  {
   "cell_type": "code",
   "execution_count": 31,
   "metadata": {},
   "outputs": [
    {
     "name": "stdout",
     "output_type": "stream",
     "text": [
      "{'key1': None, 'key2': None, 'key3': None}\n"
     ]
    }
   ],
   "source": [
    "x = ('key1', 'key2', 'key3')\n",
    "\n",
    "thisdict = dict.fromkeys(x)\n",
    "\n",
    "print(thisdict)"
   ]
  },
  {
   "cell_type": "code",
   "execution_count": 3,
   "metadata": {},
   "outputs": [
    {
     "name": "stdout",
     "output_type": "stream",
     "text": [
      "a\n",
      "1\n",
      "b\n",
      "2\n",
      "c\n",
      "3\n"
     ]
    }
   ],
   "source": [
    "for each_k, each_v in d.items():\n",
    "    print(each_k)\n",
    "    print(each_v)"
   ]
  },
  {
   "cell_type": "code",
   "execution_count": 4,
   "metadata": {},
   "outputs": [
    {
     "data": {
      "text/plain": [
       "1"
      ]
     },
     "execution_count": 4,
     "metadata": {},
     "output_type": "execute_result"
    }
   ],
   "source": [
    "d.pop('a')"
   ]
  },
  {
   "cell_type": "code",
   "execution_count": 5,
   "metadata": {},
   "outputs": [
    {
     "data": {
      "text/plain": [
       "{'b': 2, 'c': 3}"
      ]
     },
     "execution_count": 5,
     "metadata": {},
     "output_type": "execute_result"
    }
   ],
   "source": [
    "d"
   ]
  },
  {
   "cell_type": "code",
   "execution_count": 6,
   "metadata": {},
   "outputs": [
    {
     "data": {
      "text/plain": [
       "'no'"
      ]
     },
     "execution_count": 6,
     "metadata": {},
     "output_type": "execute_result"
    }
   ],
   "source": [
    "d.pop('z','no')"
   ]
  },
  {
   "cell_type": "code",
   "execution_count": 7,
   "metadata": {},
   "outputs": [
    {
     "name": "stdout",
     "output_type": "stream",
     "text": [
      "Ford\n"
     ]
    }
   ],
   "source": [
    "car = {\n",
    "  \"brand\": \"Ford\",\n",
    "  \"model\": \"Mustang\",\n",
    "  \"year\": 1964\n",
    "}\n",
    "\n",
    "x = car.setdefault(\"brand\", \"white\")\n",
    "\n",
    "print(x)"
   ]
  },
  {
   "cell_type": "code",
   "execution_count": 4,
   "metadata": {},
   "outputs": [
    {
     "data": {
      "text/plain": [
       "{'brand': 'Ford', 'model': 'Mustang', 'year': 1964}"
      ]
     },
     "execution_count": 4,
     "metadata": {},
     "output_type": "execute_result"
    }
   ],
   "source": [
    "car"
   ]
  },
  {
   "cell_type": "code",
   "execution_count": 19,
   "metadata": {},
   "outputs": [
    {
     "name": "stdout",
     "output_type": "stream",
     "text": [
      "{'b': 2, 'o': 2, 'k': 1, 'a': 1}\n"
     ]
    }
   ],
   "source": [
    "dict1 = {}\n",
    "str1 = 'bookab'\n",
    "for each in str1:\n",
    "    dict1[each] = dict1.get(each,0) + 1\n",
    "\n",
    "print(dict1)"
   ]
  },
  {
   "cell_type": "code",
   "execution_count": 23,
   "metadata": {},
   "outputs": [
    {
     "data": {
      "text/plain": [
       "{'k': 1, 'a': 1, 'b': 2, 'o': 2}"
      ]
     },
     "execution_count": 23,
     "metadata": {},
     "output_type": "execute_result"
    }
   ],
   "source": [
    "sorted(dict1.items(), key = lambda t: t[1]))"
   ]
  },
  {
   "cell_type": "code",
   "execution_count": 40,
   "metadata": {},
   "outputs": [
    {
     "name": "stdout",
     "output_type": "stream",
     "text": [
      "['Moorthy ', ' 42']\n",
      "['Arundhati', ' 13']\n",
      "['Vishnu', ' 9']\n",
      "['Parimala ', ' 38']\n"
     ]
    },
    {
     "data": {
      "text/plain": [
       "{'Moorthy ': ' 42', 'Arundhati': ' 13', 'Vishnu': ' 9', 'Parimala ': ' 38'}"
      ]
     },
     "execution_count": 40,
     "metadata": {},
     "output_type": "execute_result"
    }
   ],
   "source": [
    "str1 = \"Moorthy = 42, Arundhati= 13, Vishnu= 9, Parimala = 38\"\n",
    "lst1 = []\n",
    "for each in str1.split(','):\n",
    "    x = each.strip().split(\"=\")\n",
    "    print(x)\n",
    "    lst1.append(x)\n",
    "\n",
    "dict(lst1)"
   ]
  },
  {
   "cell_type": "code",
   "execution_count": 62,
   "metadata": {},
   "outputs": [],
   "source": [
    "countries = [\"USA\", \"India\", \"Germany\", \"France\"]\n",
    "cities = ['washington', 'New Delhi', 'Berlin', 'Paris']\n",
    "\n",
    "x = zip(countries,cities)\n",
    "y = dict(x)"
   ]
  },
  {
   "cell_type": "code",
   "execution_count": 52,
   "metadata": {},
   "outputs": [
    {
     "name": "stdout",
     "output_type": "stream",
     "text": [
      "Union: {1, 2, 3, 4, 5, 6, 7, 8, 9}\n",
      "Intersection: {4, 5}\n",
      "Difference : {1, 2, 3}\n"
     ]
    },
    {
     "data": {
      "text/plain": [
       "True"
      ]
     },
     "execution_count": 52,
     "metadata": {},
     "output_type": "execute_result"
    }
   ],
   "source": [
    "a = {1,2,3,4,5}\n",
    "b = {4,5,6,7,8,9}\n",
    "c = {1,2,3,4,5,6,7,8,9}\n",
    "print(\"Union:\", a|b)\n",
    "print(\"Intersection:\", a & b)\n",
    "print(\"Difference :\", a - b)\n",
    "c >= a"
   ]
  },
  {
   "cell_type": "code",
   "execution_count": 71,
   "metadata": {},
   "outputs": [
    {
     "data": {
      "text/plain": [
       "'USA'"
      ]
     },
     "execution_count": 71,
     "metadata": {},
     "output_type": "execute_result"
    }
   ],
   "source": [
    "set1 = \"USA\", \"India\", \"Germany\", \"France\"\n",
    "country1, country2 = set1[:2]\n",
    "country1"
   ]
  },
  {
   "cell_type": "code",
   "execution_count": 23,
   "metadata": {},
   "outputs": [
    {
     "data": {
      "text/plain": [
       "'mat'"
      ]
     },
     "execution_count": 23,
     "metadata": {},
     "output_type": "execute_result"
    }
   ],
   "source": [
    "import re\n",
    "prog = re.compile('m\\w\\w')\n",
    "str1 = \"mat wat mug qrt\"\n",
    "result = prog.search(str1)\n",
    "result.group()"
   ]
  },
  {
   "cell_type": "code",
   "execution_count": 24,
   "metadata": {},
   "outputs": [
    {
     "data": {
      "text/plain": [
       "'mat'"
      ]
     },
     "execution_count": 24,
     "metadata": {},
     "output_type": "execute_result"
    }
   ],
   "source": [
    "re.match('m\\w\\w',str1).group()"
   ]
  },
  {
   "cell_type": "code",
   "execution_count": 21,
   "metadata": {},
   "outputs": [
    {
     "data": {
      "text/plain": [
       "['mat', 'mug']"
      ]
     },
     "execution_count": 21,
     "metadata": {},
     "output_type": "execute_result"
    }
   ],
   "source": [
    "re.findall(r'm\\w\\w',str1)"
   ]
  },
  {
   "cell_type": "code",
   "execution_count": 64,
   "metadata": {},
   "outputs": [
    {
     "data": {
      "text/plain": [
       "['an', 'apple', 'a', 'a', 'away']"
      ]
     },
     "execution_count": 64,
     "metadata": {},
     "output_type": "execute_result"
    }
   ],
   "source": [
    "str1= 'an apple a day keeys a doctor away'\n",
    "exp = r'\\ba[\\w]*\\b'\n",
    "\n",
    "re.findall(exp,str1)"
   ]
  },
  {
   "cell_type": "code",
   "execution_count": 43,
   "metadata": {},
   "outputs": [
    {
     "data": {
      "text/plain": [
       "['4th', '4th']"
      ]
     },
     "execution_count": 43,
     "metadata": {},
     "output_type": "execute_result"
    }
   ],
   "source": [
    "str1= 'my birthday is on 4th Oct and my daughters on 4th Sep'\n",
    "exp = r'\\b\\d[\\w]*\\b'\n",
    "\n",
    "re.findall(exp,str1)"
   ]
  },
  {
   "cell_type": "code",
   "execution_count": 54,
   "metadata": {},
   "outputs": [
    {
     "data": {
      "text/plain": [
       "['7', '8', '9', '10', '11']"
      ]
     },
     "execution_count": 54,
     "metadata": {},
     "output_type": "execute_result"
    }
   ],
   "source": [
    "str1 = 'one two three four 7 8 9 10 11'\n",
    "exp = r'\\b\\d+\\b'\n",
    "re.findall(exp,str1)"
   ]
  },
  {
   "cell_type": "code",
   "execution_count": 61,
   "metadata": {},
   "outputs": [
    {
     "data": {
      "text/plain": [
       "['04-10-1979', '28:3:1982', '04/11/2013']"
      ]
     },
     "execution_count": 61,
     "metadata": {},
     "output_type": "execute_result"
    }
   ],
   "source": [
    "str1 = 'moorthy: 04-10-1979, parimala: 28:3:1982, Arundhati: 04/11/2013'\n",
    "exp = r'\\d+[\\:\\-\\/]\\d+[\\:\\-\\/]\\d+'\n",
    "\n",
    "re.findall(exp,str1)"
   ]
  },
  {
   "cell_type": "code",
   "execution_count": 79,
   "metadata": {},
   "outputs": [
    {
     "data": {
      "text/plain": [
       "{'Rahul': '75', 'Vijay': '86', 'Subbu': '98'}"
      ]
     },
     "execution_count": 79,
     "metadata": {},
     "output_type": "execute_result"
    }
   ],
   "source": [
    "str1 = 'Rahul got 75 marks, Vijay got 86 marks, whereas Subbu got 98 marks'\n",
    "exp1 = r'[A-Z]+[a-z]*'\n",
    "exp2 = r'\\d+'\n",
    "\n",
    "d1= re.findall(exp1,str1)\n",
    "d2= re.findall(exp2,str1)\n",
    "dict(zip(d1,d2))"
   ]
  },
  {
   "cell_type": "code",
   "execution_count": 79,
   "metadata": {},
   "outputs": [
    {
     "data": {
      "text/plain": [
       "14"
      ]
     },
     "execution_count": 79,
     "metadata": {},
     "output_type": "execute_result"
    }
   ],
   "source": [
    "def decor(func):\n",
    "    def inner(*args):\n",
    "        value = func(*args)\n",
    "        return value * 2\n",
    "    return inner\n",
    "\n",
    "@decor\n",
    "def sum_numbers(x,y):\n",
    "    return x + y\n",
    "\n",
    "sum_numbers(3,4)"
   ]
  },
  {
   "cell_type": "code",
   "execution_count": 90,
   "metadata": {},
   "outputs": [
    {
     "data": {
      "text/plain": [
       "14"
      ]
     },
     "execution_count": 90,
     "metadata": {},
     "output_type": "execute_result"
    }
   ],
   "source": [
    "def decor(func):\n",
    "    def inner(*args):\n",
    "        value = func(*args)\n",
    "        return value * 2\n",
    "    return inner\n",
    "\n",
    "def sum_numbers(x,y):\n",
    "    return x + y\n",
    "\n",
    "val = decor(sum_numbers)\n",
    "val(3,4)"
   ]
  },
  {
   "cell_type": "code",
   "execution_count": 94,
   "metadata": {},
   "outputs": [
    {
     "data": {
      "text/plain": [
       "(120, 10.954451150103322)"
      ]
     },
     "execution_count": 94,
     "metadata": {},
     "output_type": "execute_result"
    }
   ],
   "source": [
    "def decor(func):\n",
    "    def inner(*args):\n",
    "        value = func(*args)\n",
    "        return value, value**0.5        \n",
    "    return inner\n",
    "\n",
    "def find_factorial(n):\n",
    "    if n == 0:\n",
    "        return 1\n",
    "    else:\n",
    "        return n*find_factorial(n-1)\n",
    "\n",
    "function1 = decor(find_factorial)\n",
    "function1(5)"
   ]
  },
  {
   "cell_type": "code",
   "execution_count": 106,
   "metadata": {},
   "outputs": [
    {
     "name": "stdout",
     "output_type": "stream",
     "text": [
      "Inside Decor\n",
      "Before return from Decor\n",
      "Inside Inner\n",
      "find_factorial\n",
      "Before return from Inner\n"
     ]
    },
    {
     "data": {
      "text/plain": [
       "(12, 3.4641016151377544)"
      ]
     },
     "execution_count": 106,
     "metadata": {},
     "output_type": "execute_result"
    }
   ],
   "source": [
    "def decor(func):\n",
    "    print(\"Inside Decor\")\n",
    "    def inner(*args):\n",
    "        print(\"Inside Inner\")\n",
    "        value = func(*args)\n",
    "        print(\"Before return from Inner\")\n",
    "        return value, value**0.5        \n",
    "    print(\"Before return from Decor\")\n",
    "    return inner\n",
    "\n",
    "@decor\n",
    "def find_factorial(n):\n",
    "    print(\"find_factorial\")\n",
    "    if n == 0:\n",
    "        return 1\n",
    "    else:\n",
    "        return n*(n-1)\n",
    "\n",
    "find_factorial(4)\n"
   ]
  },
  {
   "cell_type": "code",
   "execution_count": 111,
   "metadata": {},
   "outputs": [
    {
     "data": {
      "text/plain": [
       "160"
      ]
     },
     "execution_count": 111,
     "metadata": {},
     "output_type": "execute_result"
    }
   ],
   "source": [
    "def decor(func):\n",
    "    def inner(args):\n",
    "        initial_ret = func(args)\n",
    "        return initial_ret*10\n",
    "    return inner\n",
    "\n",
    "@decor\n",
    "def find_sq(n):\n",
    "    return n**2\n",
    "\n",
    "find_sq(4)"
   ]
  },
  {
   "cell_type": "code",
   "execution_count": 114,
   "metadata": {},
   "outputs": [
    {
     "data": {
      "text/plain": [
       "(64, 16)"
      ]
     },
     "execution_count": 114,
     "metadata": {},
     "output_type": "execute_result"
    }
   ],
   "source": [
    "def decor(func):\n",
    "    def inner(args):\n",
    "        initial_ret = func(args)\n",
    "        return args**3, initial_ret\n",
    "    return inner\n",
    "\n",
    "@decor\n",
    "def find_sq(n):\n",
    "    return n**2\n",
    "\n",
    "find_sq(4)"
   ]
  },
  {
   "cell_type": "code",
   "execution_count": 115,
   "metadata": {},
   "outputs": [
    {
     "data": {
      "text/plain": [
       "15"
      ]
     },
     "execution_count": 115,
     "metadata": {},
     "output_type": "execute_result"
    }
   ],
   "source": [
    "from functools import reduce\n",
    "def find_sum(n):\n",
    "    return reduce(lambda x,y:x+y, range(1,n+1))\n",
    "    \n",
    "find_sum(5)"
   ]
  },
  {
   "cell_type": "code",
   "execution_count": 120,
   "metadata": {},
   "outputs": [],
   "source": [
    "import pandas as pd\n",
    "\n",
    "obj1 = pd.Series([42,38,13,9])\n",
    "obj1.index = ['Moorthy', 'Parimala','Arundhati','Vishnu']\n",
    "obj1.name = 'Age'\n",
    "obj1.index.name = 'Name'"
   ]
  },
  {
   "cell_type": "code",
   "execution_count": 121,
   "metadata": {},
   "outputs": [
    {
     "data": {
      "text/plain": [
       "Name\n",
       "Moorthy      42\n",
       "Parimala     38\n",
       "Arundhati    13\n",
       "Vishnu        9\n",
       "Name: Age, dtype: int64"
      ]
     },
     "execution_count": 121,
     "metadata": {},
     "output_type": "execute_result"
    }
   ],
   "source": [
    "obj1"
   ]
  },
  {
   "cell_type": "code",
   "execution_count": 130,
   "metadata": {},
   "outputs": [],
   "source": [
    "data = {'state':['Ohio','Ohio','Ohio','Nevada','Nevada','Nevada'],\n",
    "       'year':[2000,2001,2002,2001,2002,2002],\n",
    "       'pop':[1.5,1.7,3.6,2.4,2.9,3.2]}\n",
    "df1 = pd.DataFrame(data)"
   ]
  },
  {
   "cell_type": "code",
   "execution_count": 131,
   "metadata": {},
   "outputs": [
    {
     "data": {
      "text/html": [
       "<div>\n",
       "<style scoped>\n",
       "    .dataframe tbody tr th:only-of-type {\n",
       "        vertical-align: middle;\n",
       "    }\n",
       "\n",
       "    .dataframe tbody tr th {\n",
       "        vertical-align: top;\n",
       "    }\n",
       "\n",
       "    .dataframe thead th {\n",
       "        text-align: right;\n",
       "    }\n",
       "</style>\n",
       "<table border=\"1\" class=\"dataframe\">\n",
       "  <thead>\n",
       "    <tr style=\"text-align: right;\">\n",
       "      <th></th>\n",
       "      <th>state</th>\n",
       "      <th>pop</th>\n",
       "      <th>year</th>\n",
       "    </tr>\n",
       "  </thead>\n",
       "  <tbody>\n",
       "    <tr>\n",
       "      <th>0</th>\n",
       "      <td>Ohio</td>\n",
       "      <td>1.5</td>\n",
       "      <td>2000</td>\n",
       "    </tr>\n",
       "    <tr>\n",
       "      <th>1</th>\n",
       "      <td>Ohio</td>\n",
       "      <td>1.7</td>\n",
       "      <td>2001</td>\n",
       "    </tr>\n",
       "    <tr>\n",
       "      <th>2</th>\n",
       "      <td>Ohio</td>\n",
       "      <td>3.6</td>\n",
       "      <td>2002</td>\n",
       "    </tr>\n",
       "    <tr>\n",
       "      <th>3</th>\n",
       "      <td>Nevada</td>\n",
       "      <td>2.4</td>\n",
       "      <td>2001</td>\n",
       "    </tr>\n",
       "    <tr>\n",
       "      <th>4</th>\n",
       "      <td>Nevada</td>\n",
       "      <td>2.9</td>\n",
       "      <td>2002</td>\n",
       "    </tr>\n",
       "    <tr>\n",
       "      <th>5</th>\n",
       "      <td>Nevada</td>\n",
       "      <td>3.2</td>\n",
       "      <td>2002</td>\n",
       "    </tr>\n",
       "  </tbody>\n",
       "</table>\n",
       "</div>"
      ],
      "text/plain": [
       "    state  pop  year\n",
       "0    Ohio  1.5  2000\n",
       "1    Ohio  1.7  2001\n",
       "2    Ohio  3.6  2002\n",
       "3  Nevada  2.4  2001\n",
       "4  Nevada  2.9  2002\n",
       "5  Nevada  3.2  2002"
      ]
     },
     "execution_count": 131,
     "metadata": {},
     "output_type": "execute_result"
    }
   ],
   "source": [
    "df1[['state','pop','year']]"
   ]
  },
  {
   "cell_type": "code",
   "execution_count": 134,
   "metadata": {},
   "outputs": [],
   "source": [
    "df2 = pd.DataFrame(data,columns=['year','pop','state','debt'],index = ['one','two','three','four','five','six'])"
   ]
  },
  {
   "cell_type": "code",
   "execution_count": 135,
   "metadata": {},
   "outputs": [
    {
     "data": {
      "text/html": [
       "<div>\n",
       "<style scoped>\n",
       "    .dataframe tbody tr th:only-of-type {\n",
       "        vertical-align: middle;\n",
       "    }\n",
       "\n",
       "    .dataframe tbody tr th {\n",
       "        vertical-align: top;\n",
       "    }\n",
       "\n",
       "    .dataframe thead th {\n",
       "        text-align: right;\n",
       "    }\n",
       "</style>\n",
       "<table border=\"1\" class=\"dataframe\">\n",
       "  <thead>\n",
       "    <tr style=\"text-align: right;\">\n",
       "      <th></th>\n",
       "      <th>year</th>\n",
       "      <th>pop</th>\n",
       "      <th>state</th>\n",
       "      <th>debt</th>\n",
       "    </tr>\n",
       "  </thead>\n",
       "  <tbody>\n",
       "    <tr>\n",
       "      <th>one</th>\n",
       "      <td>2000</td>\n",
       "      <td>1.5</td>\n",
       "      <td>Ohio</td>\n",
       "      <td>NaN</td>\n",
       "    </tr>\n",
       "    <tr>\n",
       "      <th>two</th>\n",
       "      <td>2001</td>\n",
       "      <td>1.7</td>\n",
       "      <td>Ohio</td>\n",
       "      <td>NaN</td>\n",
       "    </tr>\n",
       "    <tr>\n",
       "      <th>three</th>\n",
       "      <td>2002</td>\n",
       "      <td>3.6</td>\n",
       "      <td>Ohio</td>\n",
       "      <td>NaN</td>\n",
       "    </tr>\n",
       "    <tr>\n",
       "      <th>four</th>\n",
       "      <td>2001</td>\n",
       "      <td>2.4</td>\n",
       "      <td>Nevada</td>\n",
       "      <td>NaN</td>\n",
       "    </tr>\n",
       "    <tr>\n",
       "      <th>five</th>\n",
       "      <td>2002</td>\n",
       "      <td>2.9</td>\n",
       "      <td>Nevada</td>\n",
       "      <td>NaN</td>\n",
       "    </tr>\n",
       "    <tr>\n",
       "      <th>six</th>\n",
       "      <td>2002</td>\n",
       "      <td>3.2</td>\n",
       "      <td>Nevada</td>\n",
       "      <td>NaN</td>\n",
       "    </tr>\n",
       "  </tbody>\n",
       "</table>\n",
       "</div>"
      ],
      "text/plain": [
       "       year  pop   state debt\n",
       "one    2000  1.5    Ohio  NaN\n",
       "two    2001  1.7    Ohio  NaN\n",
       "three  2002  3.6    Ohio  NaN\n",
       "four   2001  2.4  Nevada  NaN\n",
       "five   2002  2.9  Nevada  NaN\n",
       "six    2002  3.2  Nevada  NaN"
      ]
     },
     "execution_count": 135,
     "metadata": {},
     "output_type": "execute_result"
    }
   ],
   "source": [
    "df2"
   ]
  },
  {
   "cell_type": "code",
   "execution_count": 136,
   "metadata": {},
   "outputs": [
    {
     "data": {
      "text/plain": [
       "Index(['year', 'pop', 'state', 'debt'], dtype='object')"
      ]
     },
     "execution_count": 136,
     "metadata": {},
     "output_type": "execute_result"
    }
   ],
   "source": [
    "df2.columns"
   ]
  },
  {
   "cell_type": "code",
   "execution_count": 139,
   "metadata": {},
   "outputs": [
    {
     "data": {
      "text/plain": [
       "one      2000\n",
       "two      2001\n",
       "three    2002\n",
       "four     2001\n",
       "five     2002\n",
       "six      2002\n",
       "Name: year, dtype: int64"
      ]
     },
     "execution_count": 139,
     "metadata": {},
     "output_type": "execute_result"
    }
   ],
   "source": [
    "df2.year"
   ]
  },
  {
   "cell_type": "code",
   "execution_count": 144,
   "metadata": {},
   "outputs": [
    {
     "data": {
      "text/plain": [
       "0     2\n",
       "2     6\n",
       "4    10\n",
       "dtype: int64"
      ]
     },
     "execution_count": 144,
     "metadata": {},
     "output_type": "execute_result"
    }
   ],
   "source": [
    "#4. Write a Pandas program to compare the elements of the two Pandas Series. Go to the editor\n",
    "#Sample Series: [2, 4, 6, 8, 10], [1, 3, 5, 7, 10]\n",
    "series1 = pd.Series([2, 4, 6, 8, 10])\n",
    "series2 = pd.Series([2, 3, 6, 7, 10])\n",
    "truthset = series1 == series2\n",
    "true_index = truthset[truthset == True].index\n",
    "\n",
    "series1[true_index]"
   ]
  },
  {
   "cell_type": "code",
   "execution_count": 162,
   "metadata": {
    "scrolled": true
   },
   "outputs": [
    {
     "name": "stdout",
     "output_type": "stream",
     "text": [
      "0    [Red, Green, White]\n",
      "1           [Red, Black]\n",
      "2               [Yellow]\n",
      "dtype: object\n",
      "0  0       Red\n",
      "   1     Green\n",
      "   2     White\n",
      "1  0       Red\n",
      "   1     Black\n",
      "2  0    Yellow\n",
      "dtype: object\n"
     ]
    }
   ],
   "source": [
    "mySeries = pd.Series([['Red', 'Green', 'White'],['Red', 'Black'],['Yellow']])\n",
    "print(mySeries)\n",
    "neSeries = mySeries.apply(pd.Series).stack()\n",
    "print(neSeries)"
   ]
  },
  {
   "cell_type": "code",
   "execution_count": 164,
   "metadata": {},
   "outputs": [
    {
     "data": {
      "text/plain": [
       "4     Black\n",
       "1     Green\n",
       "0       Red\n",
       "3       Red\n",
       "2     White\n",
       "5    Yellow\n",
       "dtype: object"
      ]
     },
     "execution_count": 164,
     "metadata": {},
     "output_type": "execute_result"
    }
   ],
   "source": [
    "mySeries.apply(pd.Series).stack().reset_index(drop = True).sort_values()"
   ]
  },
  {
   "cell_type": "code",
   "execution_count": 163,
   "metadata": {},
   "outputs": [
    {
     "data": {
      "text/plain": [
       "1           [Red, Black]\n",
       "0    [Red, Green, White]\n",
       "2               [Yellow]\n",
       "dtype: object"
      ]
     },
     "execution_count": 163,
     "metadata": {},
     "output_type": "execute_result"
    }
   ],
   "source": [
    "mySeries.sort_values()"
   ]
  },
  {
   "cell_type": "code",
   "execution_count": 166,
   "metadata": {},
   "outputs": [],
   "source": [
    "series1 = pd.Series(['100','200','Python','300.12','150','400'])\n",
    "series1.append(pd.Series(['500','php']))"
   ]
  },
  {
   "cell_type": "code",
   "execution_count": 168,
   "metadata": {},
   "outputs": [
    {
     "data": {
      "text/plain": [
       "0    0\n",
       "1    1\n",
       "2    2\n",
       "3    3\n",
       "4    4\n",
       "5    5\n",
       "dtype: int64"
      ]
     },
     "execution_count": 168,
     "metadata": {},
     "output_type": "execute_result"
    }
   ],
   "source": [
    "series2"
   ]
  },
  {
   "cell_type": "code",
   "execution_count": 190,
   "metadata": {},
   "outputs": [
    {
     "data": {
      "text/plain": [
       "13.5625"
      ]
     },
     "execution_count": 190,
     "metadata": {},
     "output_type": "execute_result"
    }
   ],
   "source": [
    "# Write a Pandas program to calculate the mean score for each different student in DataFrame. Go to the editor\n",
    "# Sample Python dictionary data and list labels:\n",
    "# exam_data = {'name': ['Anastasia', 'Dima', 'Katherine', 'James', 'Emily', 'Michael', 'Matthew', 'Laura', 'Kevin', 'Jonas'],\n",
    "# 'score': [12.5, 9, 16.5, np.nan, 9, 20, 14.5, np.nan, 8, 19],\n",
    "# 'attempts': [1, 3, 2, 3, 2, 3, 1, 1, 2, 1],\n",
    "# 'qualify': ['yes', 'no', 'yes', 'no', 'no', 'yes', 'yes', 'no', 'no', 'yes']}\n",
    "# labels = ['a', 'b', 'c', 'd', 'e', 'f', 'g', 'h', 'i', 'j']\n",
    "# Expected Output:\n",
    "# Mean score for each different student in data frame:\n",
    "# 13.5625\n",
    "\n",
    "exam_data = {'name': ['Anastasia', 'Dima', 'Katherine', 'James', 'Emily', 'Michael', 'Matthew', 'Laura', 'Kevin', 'Jonas'],\n",
    " 'score': [12.5, 9, 16.5, np.nan, 9, 20, 14.5, np.nan, 8, 19],\n",
    " 'attempts': [1, 3, 2, 3, 2, 3, 1, 1, 2, 1],\n",
    " 'qualify': ['yes', 'no', 'yes', 'no', 'no', 'yes', 'yes', 'no', 'no', 'yes']}\n",
    "labels = ['a', 'b', 'c', 'd', 'e', 'f', 'g', 'h', 'i', 'j']\n",
    "df = pd.DataFrame(exam_data, index = labels)\n",
    "df['score'].mean()"
   ]
  },
  {
   "cell_type": "code",
   "execution_count": null,
   "metadata": {},
   "outputs": [],
   "source": []
  },
  {
   "cell_type": "code",
   "execution_count": 210,
   "metadata": {},
   "outputs": [
    {
     "name": "stdout",
     "output_type": "stream",
     "text": [
      "<class 'pandas.core.frame.DataFrame'>\n",
      "RangeIndex: 29 entries, 0 to 28\n",
      "Data columns (total 15 columns):\n",
      " #   Column     Non-Null Count  Dtype  \n",
      "---  ------     --------------  -----  \n",
      " 0   Column 1   29 non-null     object \n",
      " 1   Column 2   29 non-null     object \n",
      " 2   Column 3   29 non-null     object \n",
      " 3   Column 4   29 non-null     int64  \n",
      " 4   Column 5   29 non-null     float64\n",
      " 5   Column 6   0 non-null      float64\n",
      " 6   Column 7   29 non-null     int64  \n",
      " 7   Column 8   0 non-null      float64\n",
      " 8   Column 9   0 non-null      float64\n",
      " 9   Column 10  0 non-null      float64\n",
      " 10  Column 11  29 non-null     int64  \n",
      " 11  Column 12  26 non-null     object \n",
      " 12  Column 13  0 non-null      float64\n",
      " 13  Column 14  0 non-null      float64\n",
      " 14  Column 15  0 non-null      float64\n",
      "dtypes: float64(8), int64(3), object(4)\n",
      "memory usage: 3.5+ KB\n"
     ]
    },
    {
     "data": {
      "text/plain": [
       "Column 1      0\n",
       "Column 2      0\n",
       "Column 3      0\n",
       "Column 4      0\n",
       "Column 5      0\n",
       "Column 6     29\n",
       "Column 7      0\n",
       "Column 8     29\n",
       "Column 9     29\n",
       "Column 10    29\n",
       "Column 11     0\n",
       "Column 12     3\n",
       "Column 13    29\n",
       "Column 14    29\n",
       "Column 15    29\n",
       "dtype: int64"
      ]
     },
     "execution_count": 210,
     "metadata": {},
     "output_type": "execute_result"
    }
   ],
   "source": [
    "import pandas as pd\n",
    "data = pd.read_csv(r\"C:\\Users\\j1013189\\Downloads\\SampleFile.csv\")\n",
    "\n",
    "df = data.info()\n",
    "data.isnull().sum()\n"
   ]
  },
  {
   "cell_type": "code",
   "execution_count": 212,
   "metadata": {},
   "outputs": [
    {
     "data": {
      "text/html": [
       "<div>\n",
       "<style scoped>\n",
       "    .dataframe tbody tr th:only-of-type {\n",
       "        vertical-align: middle;\n",
       "    }\n",
       "\n",
       "    .dataframe tbody tr th {\n",
       "        vertical-align: top;\n",
       "    }\n",
       "\n",
       "    .dataframe thead th {\n",
       "        text-align: right;\n",
       "    }\n",
       "</style>\n",
       "<table border=\"1\" class=\"dataframe\">\n",
       "  <thead>\n",
       "    <tr style=\"text-align: right;\">\n",
       "      <th></th>\n",
       "      <th>Column 1</th>\n",
       "      <th>Column 2</th>\n",
       "      <th>Column 3</th>\n",
       "      <th>Column 4</th>\n",
       "      <th>Column 5</th>\n",
       "      <th>Column 6</th>\n",
       "      <th>Column 7</th>\n",
       "      <th>Column 8</th>\n",
       "      <th>Column 9</th>\n",
       "      <th>Column 10</th>\n",
       "      <th>Column 11</th>\n",
       "      <th>Column 12</th>\n",
       "      <th>Column 13</th>\n",
       "      <th>Column 14</th>\n",
       "      <th>Column 15</th>\n",
       "    </tr>\n",
       "  </thead>\n",
       "  <tbody>\n",
       "    <tr>\n",
       "      <th>0</th>\n",
       "      <td>abc1213577</td>\n",
       "      <td>loc123</td>\n",
       "      <td>1/4/2022</td>\n",
       "      <td>1725</td>\n",
       "      <td>0.158317</td>\n",
       "      <td>NaN</td>\n",
       "      <td>27</td>\n",
       "      <td>NaN</td>\n",
       "      <td>NaN</td>\n",
       "      <td>NaN</td>\n",
       "      <td>2</td>\n",
       "      <td>A</td>\n",
       "      <td>NaN</td>\n",
       "      <td>NaN</td>\n",
       "      <td>NaN</td>\n",
       "    </tr>\n",
       "    <tr>\n",
       "      <th>1</th>\n",
       "      <td>abc1213578</td>\n",
       "      <td>loc124</td>\n",
       "      <td>1/4/2022</td>\n",
       "      <td>28</td>\n",
       "      <td>0.600937</td>\n",
       "      <td>NaN</td>\n",
       "      <td>21</td>\n",
       "      <td>NaN</td>\n",
       "      <td>NaN</td>\n",
       "      <td>NaN</td>\n",
       "      <td>2</td>\n",
       "      <td>A</td>\n",
       "      <td>NaN</td>\n",
       "      <td>NaN</td>\n",
       "      <td>NaN</td>\n",
       "    </tr>\n",
       "    <tr>\n",
       "      <th>2</th>\n",
       "      <td>abc1213579</td>\n",
       "      <td>loc125</td>\n",
       "      <td>1/4/2022</td>\n",
       "      <td>1909</td>\n",
       "      <td>0.868721</td>\n",
       "      <td>NaN</td>\n",
       "      <td>22</td>\n",
       "      <td>NaN</td>\n",
       "      <td>NaN</td>\n",
       "      <td>NaN</td>\n",
       "      <td>2</td>\n",
       "      <td>C</td>\n",
       "      <td>NaN</td>\n",
       "      <td>NaN</td>\n",
       "      <td>NaN</td>\n",
       "    </tr>\n",
       "  </tbody>\n",
       "</table>\n",
       "</div>"
      ],
      "text/plain": [
       "     Column 1 Column 2  Column 3  Column 4  Column 5  Column 6  Column 7  \\\n",
       "0  abc1213577   loc123  1/4/2022      1725  0.158317       NaN        27   \n",
       "1  abc1213578   loc124  1/4/2022        28  0.600937       NaN        21   \n",
       "2  abc1213579   loc125  1/4/2022      1909  0.868721       NaN        22   \n",
       "\n",
       "   Column 8  Column 9  Column 10  Column 11 Column 12  Column 13  Column 14  \\\n",
       "0       NaN       NaN        NaN          2         A        NaN        NaN   \n",
       "1       NaN       NaN        NaN          2         A        NaN        NaN   \n",
       "2       NaN       NaN        NaN          2         C        NaN        NaN   \n",
       "\n",
       "   Column 15  \n",
       "0        NaN  \n",
       "1        NaN  \n",
       "2        NaN  "
      ]
     },
     "execution_count": 212,
     "metadata": {},
     "output_type": "execute_result"
    }
   ],
   "source": [
    "data.nsmallest(3,'Column 11')"
   ]
  },
  {
   "cell_type": "code",
   "execution_count": 213,
   "metadata": {},
   "outputs": [],
   "source": [
    "data = pd.read_clipboard()"
   ]
  },
  {
   "cell_type": "code",
   "execution_count": 214,
   "metadata": {},
   "outputs": [
    {
     "data": {
      "text/html": [
       "<div>\n",
       "<style scoped>\n",
       "    .dataframe tbody tr th:only-of-type {\n",
       "        vertical-align: middle;\n",
       "    }\n",
       "\n",
       "    .dataframe tbody tr th {\n",
       "        vertical-align: top;\n",
       "    }\n",
       "\n",
       "    .dataframe thead th {\n",
       "        text-align: right;\n",
       "    }\n",
       "</style>\n",
       "<table border=\"1\" class=\"dataframe\">\n",
       "  <thead>\n",
       "    <tr style=\"text-align: right;\">\n",
       "      <th></th>\n",
       "      <th>31-Oct-21</th>\n",
       "      <th>7-Nov-21</th>\n",
       "      <th>14-Nov-21</th>\n",
       "      <th>21-Nov-21</th>\n",
       "      <th>28-Nov-21</th>\n",
       "      <th>5-Dec-21</th>\n",
       "      <th>12-Dec-21</th>\n",
       "      <th>19-Dec-21</th>\n",
       "      <th>26-Dec-21</th>\n",
       "      <th>2-Jan-22</th>\n",
       "      <th>...</th>\n",
       "      <th>29-May-22</th>\n",
       "      <th>5-Jun-22</th>\n",
       "      <th>12-Jun-22</th>\n",
       "      <th>19-Jun-22</th>\n",
       "      <th>26-Jun-22</th>\n",
       "      <th>3-Jul-22</th>\n",
       "      <th>10-Jul-22</th>\n",
       "      <th>17-Jul-22</th>\n",
       "      <th>24-Jul-22</th>\n",
       "      <th>2-Oct-22</th>\n",
       "    </tr>\n",
       "  </thead>\n",
       "  <tbody>\n",
       "    <tr>\n",
       "      <th>0</th>\n",
       "      <td>40</td>\n",
       "      <td>40</td>\n",
       "      <td>40</td>\n",
       "      <td>20</td>\n",
       "      <td>20.0</td>\n",
       "      <td>NaN</td>\n",
       "      <td>NaN</td>\n",
       "      <td>NaN</td>\n",
       "      <td>NaN</td>\n",
       "      <td>NaN</td>\n",
       "      <td>...</td>\n",
       "      <td>NaN</td>\n",
       "      <td>NaN</td>\n",
       "      <td>NaN</td>\n",
       "      <td>NaN</td>\n",
       "      <td>NaN</td>\n",
       "      <td>NaN</td>\n",
       "      <td>NaN</td>\n",
       "      <td>NaN</td>\n",
       "      <td>NaN</td>\n",
       "      <td>NaN</td>\n",
       "    </tr>\n",
       "    <tr>\n",
       "      <th>1</th>\n",
       "      <td>30</td>\n",
       "      <td>40</td>\n",
       "      <td>40</td>\n",
       "      <td>20</td>\n",
       "      <td>NaN</td>\n",
       "      <td>NaN</td>\n",
       "      <td>NaN</td>\n",
       "      <td>NaN</td>\n",
       "      <td>NaN</td>\n",
       "      <td>NaN</td>\n",
       "      <td>...</td>\n",
       "      <td>NaN</td>\n",
       "      <td>NaN</td>\n",
       "      <td>NaN</td>\n",
       "      <td>NaN</td>\n",
       "      <td>NaN</td>\n",
       "      <td>NaN</td>\n",
       "      <td>NaN</td>\n",
       "      <td>NaN</td>\n",
       "      <td>NaN</td>\n",
       "      <td>NaN</td>\n",
       "    </tr>\n",
       "    <tr>\n",
       "      <th>2</th>\n",
       "      <td>20</td>\n",
       "      <td>20</td>\n",
       "      <td>20</td>\n",
       "      <td>40</td>\n",
       "      <td>40.0</td>\n",
       "      <td>40.0</td>\n",
       "      <td>NaN</td>\n",
       "      <td>NaN</td>\n",
       "      <td>NaN</td>\n",
       "      <td>NaN</td>\n",
       "      <td>...</td>\n",
       "      <td>NaN</td>\n",
       "      <td>NaN</td>\n",
       "      <td>NaN</td>\n",
       "      <td>NaN</td>\n",
       "      <td>NaN</td>\n",
       "      <td>NaN</td>\n",
       "      <td>NaN</td>\n",
       "      <td>NaN</td>\n",
       "      <td>NaN</td>\n",
       "      <td>NaN</td>\n",
       "    </tr>\n",
       "    <tr>\n",
       "      <th>3</th>\n",
       "      <td>16</td>\n",
       "      <td>16</td>\n",
       "      <td>16</td>\n",
       "      <td>16</td>\n",
       "      <td>16.0</td>\n",
       "      <td>16.0</td>\n",
       "      <td>NaN</td>\n",
       "      <td>NaN</td>\n",
       "      <td>NaN</td>\n",
       "      <td>NaN</td>\n",
       "      <td>...</td>\n",
       "      <td>NaN</td>\n",
       "      <td>NaN</td>\n",
       "      <td>NaN</td>\n",
       "      <td>NaN</td>\n",
       "      <td>NaN</td>\n",
       "      <td>NaN</td>\n",
       "      <td>NaN</td>\n",
       "      <td>NaN</td>\n",
       "      <td>NaN</td>\n",
       "      <td>NaN</td>\n",
       "    </tr>\n",
       "    <tr>\n",
       "      <th>4</th>\n",
       "      <td>20</td>\n",
       "      <td>20</td>\n",
       "      <td>20</td>\n",
       "      <td>40</td>\n",
       "      <td>40.0</td>\n",
       "      <td>NaN</td>\n",
       "      <td>NaN</td>\n",
       "      <td>NaN</td>\n",
       "      <td>NaN</td>\n",
       "      <td>NaN</td>\n",
       "      <td>...</td>\n",
       "      <td>NaN</td>\n",
       "      <td>NaN</td>\n",
       "      <td>NaN</td>\n",
       "      <td>NaN</td>\n",
       "      <td>NaN</td>\n",
       "      <td>NaN</td>\n",
       "      <td>NaN</td>\n",
       "      <td>NaN</td>\n",
       "      <td>NaN</td>\n",
       "      <td>NaN</td>\n",
       "    </tr>\n",
       "  </tbody>\n",
       "</table>\n",
       "<p>5 rows × 40 columns</p>\n",
       "</div>"
      ],
      "text/plain": [
       "   31-Oct-21  7-Nov-21  14-Nov-21  21-Nov-21  28-Nov-21  5-Dec-21  12-Dec-21  \\\n",
       "0         40        40         40         20       20.0       NaN        NaN   \n",
       "1         30        40         40         20        NaN       NaN        NaN   \n",
       "2         20        20         20         40       40.0      40.0        NaN   \n",
       "3         16        16         16         16       16.0      16.0        NaN   \n",
       "4         20        20         20         40       40.0       NaN        NaN   \n",
       "\n",
       "   19-Dec-21  26-Dec-21  2-Jan-22  ...  29-May-22  5-Jun-22  12-Jun-22  \\\n",
       "0        NaN        NaN       NaN  ...        NaN       NaN        NaN   \n",
       "1        NaN        NaN       NaN  ...        NaN       NaN        NaN   \n",
       "2        NaN        NaN       NaN  ...        NaN       NaN        NaN   \n",
       "3        NaN        NaN       NaN  ...        NaN       NaN        NaN   \n",
       "4        NaN        NaN       NaN  ...        NaN       NaN        NaN   \n",
       "\n",
       "   19-Jun-22  26-Jun-22  3-Jul-22  10-Jul-22  17-Jul-22  24-Jul-22  2-Oct-22  \n",
       "0        NaN        NaN       NaN        NaN        NaN        NaN       NaN  \n",
       "1        NaN        NaN       NaN        NaN        NaN        NaN       NaN  \n",
       "2        NaN        NaN       NaN        NaN        NaN        NaN       NaN  \n",
       "3        NaN        NaN       NaN        NaN        NaN        NaN       NaN  \n",
       "4        NaN        NaN       NaN        NaN        NaN        NaN       NaN  \n",
       "\n",
       "[5 rows x 40 columns]"
      ]
     },
     "execution_count": 214,
     "metadata": {},
     "output_type": "execute_result"
    }
   ],
   "source": [
    "data.head()"
   ]
  },
  {
   "cell_type": "code",
   "execution_count": 215,
   "metadata": {},
   "outputs": [
    {
     "data": {
      "text/html": [
       "<div>\n",
       "<style scoped>\n",
       "    .dataframe tbody tr th:only-of-type {\n",
       "        vertical-align: middle;\n",
       "    }\n",
       "\n",
       "    .dataframe tbody tr th {\n",
       "        vertical-align: top;\n",
       "    }\n",
       "\n",
       "    .dataframe thead th {\n",
       "        text-align: right;\n",
       "    }\n",
       "</style>\n",
       "<table border=\"1\" class=\"dataframe\">\n",
       "  <thead>\n",
       "    <tr style=\"text-align: right;\">\n",
       "      <th></th>\n",
       "      <th>week_id</th>\n",
       "      <th>start_date</th>\n",
       "      <th>location</th>\n",
       "      <th>brand</th>\n",
       "      <th>base_currency</th>\n",
       "      <th>sku_id</th>\n",
       "      <th>ttl_sales_qty</th>\n",
       "      <th>ttl_sales_cost</th>\n",
       "      <th>ttl_sales_value_exvat</th>\n",
       "      <th>ttl_sales_value_incvat</th>\n",
       "      <th>...</th>\n",
       "      <th>adj_writeoff_cost</th>\n",
       "      <th>adj_writeoff_value</th>\n",
       "      <th>shrink_qty</th>\n",
       "      <th>shrink_cost</th>\n",
       "      <th>shrink_value</th>\n",
       "      <th>mdpmd_retail</th>\n",
       "      <th>pos_markdowns_cost</th>\n",
       "      <th>pos_markdowns_retail</th>\n",
       "      <th>freight_cost</th>\n",
       "      <th>weighted_average_cost</th>\n",
       "    </tr>\n",
       "  </thead>\n",
       "  <tbody>\n",
       "    <tr>\n",
       "      <th>0</th>\n",
       "      <td>W202104</td>\n",
       "      <td>01/22/2021</td>\n",
       "      <td>300570002.0</td>\n",
       "      <td>AME</td>\n",
       "      <td>KWD</td>\n",
       "      <td>128968892.0</td>\n",
       "      <td>0.0</td>\n",
       "      <td>0.0000</td>\n",
       "      <td>0.000</td>\n",
       "      <td>0.000</td>\n",
       "      <td>...</td>\n",
       "      <td>0.0</td>\n",
       "      <td>0.0</td>\n",
       "      <td>0</td>\n",
       "      <td>0.0</td>\n",
       "      <td>0.0</td>\n",
       "      <td>NaN</td>\n",
       "      <td>NaN</td>\n",
       "      <td>NaN</td>\n",
       "      <td>NaN</td>\n",
       "      <td>4.3970</td>\n",
       "    </tr>\n",
       "    <tr>\n",
       "      <th>1</th>\n",
       "      <td>W202104</td>\n",
       "      <td>01/22/2021</td>\n",
       "      <td>300470002.0</td>\n",
       "      <td>AME</td>\n",
       "      <td>KWD</td>\n",
       "      <td>128966249.0</td>\n",
       "      <td>1.0</td>\n",
       "      <td>1.3595</td>\n",
       "      <td>6.573</td>\n",
       "      <td>6.902</td>\n",
       "      <td>...</td>\n",
       "      <td>0.0</td>\n",
       "      <td>0.0</td>\n",
       "      <td>0</td>\n",
       "      <td>0.0</td>\n",
       "      <td>0.0</td>\n",
       "      <td>NaN</td>\n",
       "      <td>NaN</td>\n",
       "      <td>NaN</td>\n",
       "      <td>NaN</td>\n",
       "      <td>0.0000</td>\n",
       "    </tr>\n",
       "    <tr>\n",
       "      <th>2</th>\n",
       "      <td>W202103</td>\n",
       "      <td>01/15/2021</td>\n",
       "      <td>300240002.0</td>\n",
       "      <td>AME</td>\n",
       "      <td>KWD</td>\n",
       "      <td>128903785.0</td>\n",
       "      <td>2.0</td>\n",
       "      <td>1.1487</td>\n",
       "      <td>1.425</td>\n",
       "      <td>1.639</td>\n",
       "      <td>...</td>\n",
       "      <td>0.0</td>\n",
       "      <td>0.0</td>\n",
       "      <td>0</td>\n",
       "      <td>0.0</td>\n",
       "      <td>0.0</td>\n",
       "      <td>NaN</td>\n",
       "      <td>NaN</td>\n",
       "      <td>NaN</td>\n",
       "      <td>NaN</td>\n",
       "      <td>0.5744</td>\n",
       "    </tr>\n",
       "    <tr>\n",
       "      <th>3</th>\n",
       "      <td>W202102</td>\n",
       "      <td>01/08/2021</td>\n",
       "      <td>300570002.0</td>\n",
       "      <td>AME</td>\n",
       "      <td>KWD</td>\n",
       "      <td>128890197.0</td>\n",
       "      <td>0.0</td>\n",
       "      <td>0.0000</td>\n",
       "      <td>0.000</td>\n",
       "      <td>0.000</td>\n",
       "      <td>...</td>\n",
       "      <td>0.0</td>\n",
       "      <td>NaN</td>\n",
       "      <td>0</td>\n",
       "      <td>0.0</td>\n",
       "      <td>0.0</td>\n",
       "      <td>NaN</td>\n",
       "      <td>NaN</td>\n",
       "      <td>NaN</td>\n",
       "      <td>0.309850</td>\n",
       "      <td>0.0000</td>\n",
       "    </tr>\n",
       "    <tr>\n",
       "      <th>4</th>\n",
       "      <td>W202103</td>\n",
       "      <td>01/15/2021</td>\n",
       "      <td>800025.0</td>\n",
       "      <td>AME</td>\n",
       "      <td>KWD</td>\n",
       "      <td>128992433.0</td>\n",
       "      <td>0.0</td>\n",
       "      <td>0.0000</td>\n",
       "      <td>0.000</td>\n",
       "      <td>0.000</td>\n",
       "      <td>...</td>\n",
       "      <td>0.0</td>\n",
       "      <td>NaN</td>\n",
       "      <td>0</td>\n",
       "      <td>0.0</td>\n",
       "      <td>0.0</td>\n",
       "      <td>NaN</td>\n",
       "      <td>NaN</td>\n",
       "      <td>NaN</td>\n",
       "      <td>0.177263</td>\n",
       "      <td>0.0000</td>\n",
       "    </tr>\n",
       "  </tbody>\n",
       "</table>\n",
       "<p>5 rows × 52 columns</p>\n",
       "</div>"
      ],
      "text/plain": [
       "   week_id  start_date     location brand base_currency       sku_id  \\\n",
       "0  W202104  01/22/2021  300570002.0   AME           KWD  128968892.0   \n",
       "1  W202104  01/22/2021  300470002.0   AME           KWD  128966249.0   \n",
       "2  W202103  01/15/2021  300240002.0   AME           KWD  128903785.0   \n",
       "3  W202102  01/08/2021  300570002.0   AME           KWD  128890197.0   \n",
       "4  W202103  01/15/2021     800025.0   AME           KWD  128992433.0   \n",
       "\n",
       "   ttl_sales_qty  ttl_sales_cost  ttl_sales_value_exvat  \\\n",
       "0            0.0          0.0000                  0.000   \n",
       "1            1.0          1.3595                  6.573   \n",
       "2            2.0          1.1487                  1.425   \n",
       "3            0.0          0.0000                  0.000   \n",
       "4            0.0          0.0000                  0.000   \n",
       "\n",
       "   ttl_sales_value_incvat  ...  adj_writeoff_cost  adj_writeoff_value  \\\n",
       "0                   0.000  ...                0.0                 0.0   \n",
       "1                   6.902  ...                0.0                 0.0   \n",
       "2                   1.639  ...                0.0                 0.0   \n",
       "3                   0.000  ...                0.0                 NaN   \n",
       "4                   0.000  ...                0.0                 NaN   \n",
       "\n",
       "   shrink_qty  shrink_cost shrink_value  mdpmd_retail  pos_markdowns_cost  \\\n",
       "0           0          0.0          0.0           NaN                 NaN   \n",
       "1           0          0.0          0.0           NaN                 NaN   \n",
       "2           0          0.0          0.0           NaN                 NaN   \n",
       "3           0          0.0          0.0           NaN                 NaN   \n",
       "4           0          0.0          0.0           NaN                 NaN   \n",
       "\n",
       "   pos_markdowns_retail  freight_cost  weighted_average_cost  \n",
       "0                   NaN           NaN                 4.3970  \n",
       "1                   NaN           NaN                 0.0000  \n",
       "2                   NaN           NaN                 0.5744  \n",
       "3                   NaN      0.309850                 0.0000  \n",
       "4                   NaN      0.177263                 0.0000  \n",
       "\n",
       "[5 rows x 52 columns]"
      ]
     },
     "execution_count": 215,
     "metadata": {},
     "output_type": "execute_result"
    }
   ],
   "source": [
    "import pandas as pd\n",
    "data = pd.read_csv(r\"C:\\Users\\j1013189\\Downloads\\InventoryTransaction_AME_AP_EP_20210128.csv\")\n",
    "data.head()"
   ]
  },
  {
   "cell_type": "code",
   "execution_count": 216,
   "metadata": {},
   "outputs": [
    {
     "name": "stdout",
     "output_type": "stream",
     "text": [
      "<class 'pandas.core.frame.DataFrame'>\n",
      "RangeIndex: 760788 entries, 0 to 760787\n",
      "Data columns (total 52 columns):\n",
      " #   Column                     Non-Null Count   Dtype  \n",
      "---  ------                     --------------   -----  \n",
      " 0   week_id                    760788 non-null  object \n",
      " 1   start_date                 760788 non-null  object \n",
      " 2   location                   710797 non-null  float64\n",
      " 3   brand                      760788 non-null  object \n",
      " 4   base_currency              760788 non-null  object \n",
      " 5   sku_id                     760778 non-null  float64\n",
      " 6   ttl_sales_qty              760788 non-null  float64\n",
      " 7   ttl_sales_cost             760788 non-null  float64\n",
      " 8   ttl_sales_value_exvat      760788 non-null  float64\n",
      " 9   ttl_sales_value_incvat     760788 non-null  float64\n",
      " 10  ttl_sales_qty_lc           760788 non-null  float64\n",
      " 11  ttl_sales_cost_lc          760788 non-null  float64\n",
      " 12  ttl_sales_value_exvat_lc   760788 non-null  float64\n",
      " 13  ttl_sales_value_incvat_lc  760788 non-null  float64\n",
      " 14  local_currency             760788 non-null  object \n",
      " 15  fp_sales_qty               760788 non-null  float64\n",
      " 16  full_price_sales_cost      760788 non-null  float64\n",
      " 17  fp_sales_value_exvat       760788 non-null  float64\n",
      " 18  fp_sales_value_incvat      760788 non-null  float64\n",
      " 19  md_sales_qty               760788 non-null  float64\n",
      " 20  md_sales_cost              760788 non-null  float64\n",
      " 21  md_sales_value_exvat       760788 non-null  float64\n",
      " 22  md_sales_value_incvat      760788 non-null  float64\n",
      " 23  pm_sales_qty               760788 non-null  float64\n",
      " 24  pm_sales_cost              760788 non-null  float64\n",
      " 25  pm_sales_value_exvat       760788 non-null  float64\n",
      " 26  pm_sales_value_incvat      760788 non-null  float64\n",
      " 27  cogs                       760788 non-null  float64\n",
      " 28  gross_margin               760788 non-null  float64\n",
      " 29  concession_sales_qty       0 non-null       float64\n",
      " 30  concession_sales_rtl       0 non-null       float64\n",
      " 31  concession_margin          0 non-null       float64\n",
      " 32  tfrin_qty                  760788 non-null  int64  \n",
      " 33  tfrout_qty                 760788 non-null  int64  \n",
      " 34  grn_qty                    760788 non-null  float64\n",
      " 35  grn_cost                   760788 non-null  float64\n",
      " 36  grn_value                  760788 non-null  float64\n",
      " 37  royalty_retail             760788 non-null  float64\n",
      " 38  adj_manual_qty             760788 non-null  float64\n",
      " 39  adj_manual_cost            760788 non-null  float64\n",
      " 40  adj_manual_value           760788 non-null  float64\n",
      " 41  adj_writeoff_qty           760788 non-null  int64  \n",
      " 42  adj_writeoff_cost          760788 non-null  float64\n",
      " 43  adj_writeoff_value         626777 non-null  float64\n",
      " 44  shrink_qty                 760788 non-null  int64  \n",
      " 45  shrink_cost                760788 non-null  float64\n",
      " 46  shrink_value               760788 non-null  float64\n",
      " 47  mdpmd_retail               0 non-null       float64\n",
      " 48  pos_markdowns_cost         0 non-null       float64\n",
      " 49  pos_markdowns_retail       0 non-null       float64\n",
      " 50  freight_cost               189932 non-null  float64\n",
      " 51  weighted_average_cost      760788 non-null  float64\n",
      "dtypes: float64(43), int64(4), object(5)\n",
      "memory usage: 301.8+ MB\n"
     ]
    }
   ],
   "source": [
    "data.info()"
   ]
  },
  {
   "cell_type": "code",
   "execution_count": 217,
   "metadata": {},
   "outputs": [
    {
     "data": {
      "text/plain": [
       "array(['W202104', 'W202103', 'W202102', 'W202101'], dtype=object)"
      ]
     },
     "execution_count": 217,
     "metadata": {},
     "output_type": "execute_result"
    }
   ],
   "source": [
    "#Unique values\n",
    "data.week_id.unique()"
   ]
  },
  {
   "cell_type": "code",
   "execution_count": 218,
   "metadata": {},
   "outputs": [
    {
     "data": {
      "text/plain": [
       "array(['01/22/2021', '01/15/2021', '01/08/2021', '01/01/2021'],\n",
       "      dtype=object)"
      ]
     },
     "execution_count": 218,
     "metadata": {},
     "output_type": "execute_result"
    }
   ],
   "source": [
    "data.start_date.unique()"
   ]
  },
  {
   "cell_type": "code",
   "execution_count": 219,
   "metadata": {},
   "outputs": [
    {
     "data": {
      "text/plain": [
       "array([3.00570002e+08, 3.00470002e+08, 3.00240002e+08, 8.00025000e+05,\n",
       "       8.00047000e+05, 3.08190002e+08, 3.00640002e+08, 8.00021000e+05,\n",
       "       3.00190002e+08, 3.00320002e+08, 3.00310002e+08, 8.00008000e+05,\n",
       "       3.00540002e+08, 3.00900002e+08, 3.10750002e+08, 3.09140002e+08,\n",
       "                  nan, 3.00010002e+08, 3.00740002e+08, 3.00890002e+08,\n",
       "       3.00700002e+08, 3.00530002e+08, 3.01000002e+08, 3.09160002e+08,\n",
       "       3.00390002e+08, 3.00940002e+08, 3.00200002e+08, 3.09130002e+08,\n",
       "       3.00170002e+08, 3.00610002e+08, 3.00720002e+08, 3.00820002e+08,\n",
       "       3.00300002e+08, 3.00130002e+08, 3.00220002e+08, 3.10500002e+08,\n",
       "       3.08170002e+08, 3.00230002e+08, 3.00100002e+08, 3.08160002e+08,\n",
       "       8.00011000e+05, 3.08150002e+08, 8.00044000e+05, 3.00440002e+08,\n",
       "       3.00850002e+08, 3.00660002e+08, 3.00180002e+08, 3.08650002e+08,\n",
       "       3.08210002e+08, 3.08810002e+08, 8.00050000e+05, 3.08230002e+08,\n",
       "       3.09300002e+08, 3.00520002e+08, 3.00930002e+08, 3.09150002e+08,\n",
       "       3.10780002e+08, 3.10770002e+08, 3.00910002e+08, 3.00650002e+08,\n",
       "       3.00830002e+08, 3.00920002e+08, 3.02360002e+08, 3.00350002e+08,\n",
       "       3.00140002e+08, 3.00690002e+08, 3.00770002e+08, 3.00480002e+08,\n",
       "       8.00051000e+05, 3.00450002e+08, 3.08240002e+08, 3.00210002e+08,\n",
       "       3.09200002e+08, 8.00056000e+05, 8.00004000e+05, 3.08250002e+08,\n",
       "       3.08280002e+08, 3.00270002e+08, 3.00710002e+08, 3.08490002e+08,\n",
       "       3.09390002e+08, 8.00042000e+05, 3.10760002e+08, 3.09920002e+08,\n",
       "       3.08200002e+08, 3.00280002e+08, 3.09210002e+08, 3.00150002e+08,\n",
       "       3.00290002e+08, 3.09270002e+08, 3.09320002e+08, 8.00031000e+05,\n",
       "       3.08220002e+08, 3.08180002e+08, 3.09460002e+08, 3.08270002e+08,\n",
       "       8.00028000e+05, 8.00054000e+05, 3.10690002e+08, 3.00110002e+08,\n",
       "       8.00038000e+05, 8.00048000e+05, 3.00430002e+08])"
      ]
     },
     "execution_count": 219,
     "metadata": {},
     "output_type": "execute_result"
    }
   ],
   "source": [
    "data.location.unique()"
   ]
  },
  {
   "cell_type": "code",
   "execution_count": 225,
   "metadata": {},
   "outputs": [
    {
     "data": {
      "text/html": [
       "<div>\n",
       "<style scoped>\n",
       "    .dataframe tbody tr th:only-of-type {\n",
       "        vertical-align: middle;\n",
       "    }\n",
       "\n",
       "    .dataframe tbody tr th {\n",
       "        vertical-align: top;\n",
       "    }\n",
       "\n",
       "    .dataframe thead th {\n",
       "        text-align: right;\n",
       "    }\n",
       "</style>\n",
       "<table border=\"1\" class=\"dataframe\">\n",
       "  <thead>\n",
       "    <tr style=\"text-align: right;\">\n",
       "      <th></th>\n",
       "      <th>week_id</th>\n",
       "      <th>start_date</th>\n",
       "      <th>location</th>\n",
       "      <th>brand</th>\n",
       "      <th>base_currency</th>\n",
       "      <th>sku_id</th>\n",
       "      <th>ttl_sales_qty</th>\n",
       "      <th>ttl_sales_cost</th>\n",
       "      <th>ttl_sales_value_exvat</th>\n",
       "      <th>ttl_sales_value_incvat</th>\n",
       "      <th>...</th>\n",
       "      <th>adj_writeoff_cost</th>\n",
       "      <th>adj_writeoff_value</th>\n",
       "      <th>shrink_qty</th>\n",
       "      <th>shrink_cost</th>\n",
       "      <th>shrink_value</th>\n",
       "      <th>mdpmd_retail</th>\n",
       "      <th>pos_markdowns_cost</th>\n",
       "      <th>pos_markdowns_retail</th>\n",
       "      <th>freight_cost</th>\n",
       "      <th>weighted_average_cost</th>\n",
       "    </tr>\n",
       "  </thead>\n",
       "  <tbody>\n",
       "    <tr>\n",
       "      <th>0</th>\n",
       "      <td>W202104</td>\n",
       "      <td>01/22/2021</td>\n",
       "      <td>300570002.0</td>\n",
       "      <td>AME</td>\n",
       "      <td>KWD</td>\n",
       "      <td>128968892.0</td>\n",
       "      <td>0.0</td>\n",
       "      <td>0.0</td>\n",
       "      <td>0.0</td>\n",
       "      <td>0.0</td>\n",
       "      <td>...</td>\n",
       "      <td>0.0</td>\n",
       "      <td>0.0</td>\n",
       "      <td>0</td>\n",
       "      <td>0.0</td>\n",
       "      <td>0.0</td>\n",
       "      <td>NaN</td>\n",
       "      <td>NaN</td>\n",
       "      <td>NaN</td>\n",
       "      <td>NaN</td>\n",
       "      <td>4.3970</td>\n",
       "    </tr>\n",
       "    <tr>\n",
       "      <th>3</th>\n",
       "      <td>W202102</td>\n",
       "      <td>01/08/2021</td>\n",
       "      <td>300570002.0</td>\n",
       "      <td>AME</td>\n",
       "      <td>KWD</td>\n",
       "      <td>128890197.0</td>\n",
       "      <td>0.0</td>\n",
       "      <td>0.0</td>\n",
       "      <td>0.0</td>\n",
       "      <td>0.0</td>\n",
       "      <td>...</td>\n",
       "      <td>0.0</td>\n",
       "      <td>NaN</td>\n",
       "      <td>0</td>\n",
       "      <td>0.0</td>\n",
       "      <td>0.0</td>\n",
       "      <td>NaN</td>\n",
       "      <td>NaN</td>\n",
       "      <td>NaN</td>\n",
       "      <td>0.309850</td>\n",
       "      <td>0.0000</td>\n",
       "    </tr>\n",
       "    <tr>\n",
       "      <th>4</th>\n",
       "      <td>W202103</td>\n",
       "      <td>01/15/2021</td>\n",
       "      <td>800025.0</td>\n",
       "      <td>AME</td>\n",
       "      <td>KWD</td>\n",
       "      <td>128992433.0</td>\n",
       "      <td>0.0</td>\n",
       "      <td>0.0</td>\n",
       "      <td>0.0</td>\n",
       "      <td>0.0</td>\n",
       "      <td>...</td>\n",
       "      <td>0.0</td>\n",
       "      <td>NaN</td>\n",
       "      <td>0</td>\n",
       "      <td>0.0</td>\n",
       "      <td>0.0</td>\n",
       "      <td>NaN</td>\n",
       "      <td>NaN</td>\n",
       "      <td>NaN</td>\n",
       "      <td>0.177263</td>\n",
       "      <td>0.0000</td>\n",
       "    </tr>\n",
       "    <tr>\n",
       "      <th>5</th>\n",
       "      <td>W202102</td>\n",
       "      <td>01/08/2021</td>\n",
       "      <td>800047.0</td>\n",
       "      <td>AME</td>\n",
       "      <td>KWD</td>\n",
       "      <td>128905522.0</td>\n",
       "      <td>0.0</td>\n",
       "      <td>0.0</td>\n",
       "      <td>0.0</td>\n",
       "      <td>0.0</td>\n",
       "      <td>...</td>\n",
       "      <td>0.0</td>\n",
       "      <td>NaN</td>\n",
       "      <td>0</td>\n",
       "      <td>0.0</td>\n",
       "      <td>0.0</td>\n",
       "      <td>NaN</td>\n",
       "      <td>NaN</td>\n",
       "      <td>NaN</td>\n",
       "      <td>0.330336</td>\n",
       "      <td>0.0000</td>\n",
       "    </tr>\n",
       "    <tr>\n",
       "      <th>6</th>\n",
       "      <td>W202104</td>\n",
       "      <td>01/22/2021</td>\n",
       "      <td>308190002.0</td>\n",
       "      <td>AME</td>\n",
       "      <td>KWD</td>\n",
       "      <td>128985066.0</td>\n",
       "      <td>0.0</td>\n",
       "      <td>0.0</td>\n",
       "      <td>0.0</td>\n",
       "      <td>0.0</td>\n",
       "      <td>...</td>\n",
       "      <td>0.0</td>\n",
       "      <td>NaN</td>\n",
       "      <td>0</td>\n",
       "      <td>0.0</td>\n",
       "      <td>0.0</td>\n",
       "      <td>NaN</td>\n",
       "      <td>NaN</td>\n",
       "      <td>NaN</td>\n",
       "      <td>0.378484</td>\n",
       "      <td>0.0000</td>\n",
       "    </tr>\n",
       "    <tr>\n",
       "      <th>...</th>\n",
       "      <td>...</td>\n",
       "      <td>...</td>\n",
       "      <td>...</td>\n",
       "      <td>...</td>\n",
       "      <td>...</td>\n",
       "      <td>...</td>\n",
       "      <td>...</td>\n",
       "      <td>...</td>\n",
       "      <td>...</td>\n",
       "      <td>...</td>\n",
       "      <td>...</td>\n",
       "      <td>...</td>\n",
       "      <td>...</td>\n",
       "      <td>...</td>\n",
       "      <td>...</td>\n",
       "      <td>...</td>\n",
       "      <td>...</td>\n",
       "      <td>...</td>\n",
       "      <td>...</td>\n",
       "      <td>...</td>\n",
       "      <td>...</td>\n",
       "    </tr>\n",
       "    <tr>\n",
       "      <th>760772</th>\n",
       "      <td>W202104</td>\n",
       "      <td>01/22/2021</td>\n",
       "      <td>800047.0</td>\n",
       "      <td>AME</td>\n",
       "      <td>KWD</td>\n",
       "      <td>128994810.0</td>\n",
       "      <td>0.0</td>\n",
       "      <td>0.0</td>\n",
       "      <td>0.0</td>\n",
       "      <td>0.0</td>\n",
       "      <td>...</td>\n",
       "      <td>0.0</td>\n",
       "      <td>NaN</td>\n",
       "      <td>0</td>\n",
       "      <td>0.0</td>\n",
       "      <td>0.0</td>\n",
       "      <td>NaN</td>\n",
       "      <td>NaN</td>\n",
       "      <td>NaN</td>\n",
       "      <td>0.168601</td>\n",
       "      <td>0.0000</td>\n",
       "    </tr>\n",
       "    <tr>\n",
       "      <th>760777</th>\n",
       "      <td>W202103</td>\n",
       "      <td>01/15/2021</td>\n",
       "      <td>300450002.0</td>\n",
       "      <td>AME</td>\n",
       "      <td>KWD</td>\n",
       "      <td>128890865.0</td>\n",
       "      <td>0.0</td>\n",
       "      <td>0.0</td>\n",
       "      <td>0.0</td>\n",
       "      <td>0.0</td>\n",
       "      <td>...</td>\n",
       "      <td>0.0</td>\n",
       "      <td>0.0</td>\n",
       "      <td>0</td>\n",
       "      <td>0.0</td>\n",
       "      <td>0.0</td>\n",
       "      <td>NaN</td>\n",
       "      <td>NaN</td>\n",
       "      <td>NaN</td>\n",
       "      <td>NaN</td>\n",
       "      <td>3.5093</td>\n",
       "    </tr>\n",
       "    <tr>\n",
       "      <th>760779</th>\n",
       "      <td>W202101</td>\n",
       "      <td>01/01/2021</td>\n",
       "      <td>300830002.0</td>\n",
       "      <td>AME</td>\n",
       "      <td>KWD</td>\n",
       "      <td>128966977.0</td>\n",
       "      <td>0.0</td>\n",
       "      <td>0.0</td>\n",
       "      <td>0.0</td>\n",
       "      <td>0.0</td>\n",
       "      <td>...</td>\n",
       "      <td>0.0</td>\n",
       "      <td>0.0</td>\n",
       "      <td>0</td>\n",
       "      <td>0.0</td>\n",
       "      <td>0.0</td>\n",
       "      <td>NaN</td>\n",
       "      <td>NaN</td>\n",
       "      <td>NaN</td>\n",
       "      <td>NaN</td>\n",
       "      <td>1.5509</td>\n",
       "    </tr>\n",
       "    <tr>\n",
       "      <th>760784</th>\n",
       "      <td>W202101</td>\n",
       "      <td>01/01/2021</td>\n",
       "      <td>300130002.0</td>\n",
       "      <td>AME</td>\n",
       "      <td>KWD</td>\n",
       "      <td>128822364.0</td>\n",
       "      <td>0.0</td>\n",
       "      <td>0.0</td>\n",
       "      <td>0.0</td>\n",
       "      <td>0.0</td>\n",
       "      <td>...</td>\n",
       "      <td>0.0</td>\n",
       "      <td>0.0</td>\n",
       "      <td>0</td>\n",
       "      <td>0.0</td>\n",
       "      <td>0.0</td>\n",
       "      <td>NaN</td>\n",
       "      <td>NaN</td>\n",
       "      <td>NaN</td>\n",
       "      <td>0.199653</td>\n",
       "      <td>3.6966</td>\n",
       "    </tr>\n",
       "    <tr>\n",
       "      <th>760786</th>\n",
       "      <td>W202101</td>\n",
       "      <td>01/01/2021</td>\n",
       "      <td>800011.0</td>\n",
       "      <td>AME</td>\n",
       "      <td>KWD</td>\n",
       "      <td>128968737.0</td>\n",
       "      <td>0.0</td>\n",
       "      <td>0.0</td>\n",
       "      <td>0.0</td>\n",
       "      <td>0.0</td>\n",
       "      <td>...</td>\n",
       "      <td>0.0</td>\n",
       "      <td>NaN</td>\n",
       "      <td>0</td>\n",
       "      <td>0.0</td>\n",
       "      <td>0.0</td>\n",
       "      <td>NaN</td>\n",
       "      <td>NaN</td>\n",
       "      <td>NaN</td>\n",
       "      <td>0.212323</td>\n",
       "      <td>0.0000</td>\n",
       "    </tr>\n",
       "  </tbody>\n",
       "</table>\n",
       "<p>360112 rows × 52 columns</p>\n",
       "</div>"
      ],
      "text/plain": [
       "        week_id  start_date     location brand base_currency       sku_id  \\\n",
       "0       W202104  01/22/2021  300570002.0   AME           KWD  128968892.0   \n",
       "3       W202102  01/08/2021  300570002.0   AME           KWD  128890197.0   \n",
       "4       W202103  01/15/2021     800025.0   AME           KWD  128992433.0   \n",
       "5       W202102  01/08/2021     800047.0   AME           KWD  128905522.0   \n",
       "6       W202104  01/22/2021  308190002.0   AME           KWD  128985066.0   \n",
       "...         ...         ...          ...   ...           ...          ...   \n",
       "760772  W202104  01/22/2021     800047.0   AME           KWD  128994810.0   \n",
       "760777  W202103  01/15/2021  300450002.0   AME           KWD  128890865.0   \n",
       "760779  W202101  01/01/2021  300830002.0   AME           KWD  128966977.0   \n",
       "760784  W202101  01/01/2021  300130002.0   AME           KWD  128822364.0   \n",
       "760786  W202101  01/01/2021     800011.0   AME           KWD  128968737.0   \n",
       "\n",
       "        ttl_sales_qty  ttl_sales_cost  ttl_sales_value_exvat  \\\n",
       "0                 0.0             0.0                    0.0   \n",
       "3                 0.0             0.0                    0.0   \n",
       "4                 0.0             0.0                    0.0   \n",
       "5                 0.0             0.0                    0.0   \n",
       "6                 0.0             0.0                    0.0   \n",
       "...               ...             ...                    ...   \n",
       "760772            0.0             0.0                    0.0   \n",
       "760777            0.0             0.0                    0.0   \n",
       "760779            0.0             0.0                    0.0   \n",
       "760784            0.0             0.0                    0.0   \n",
       "760786            0.0             0.0                    0.0   \n",
       "\n",
       "        ttl_sales_value_incvat  ...  adj_writeoff_cost  adj_writeoff_value  \\\n",
       "0                          0.0  ...                0.0                 0.0   \n",
       "3                          0.0  ...                0.0                 NaN   \n",
       "4                          0.0  ...                0.0                 NaN   \n",
       "5                          0.0  ...                0.0                 NaN   \n",
       "6                          0.0  ...                0.0                 NaN   \n",
       "...                        ...  ...                ...                 ...   \n",
       "760772                     0.0  ...                0.0                 NaN   \n",
       "760777                     0.0  ...                0.0                 0.0   \n",
       "760779                     0.0  ...                0.0                 0.0   \n",
       "760784                     0.0  ...                0.0                 0.0   \n",
       "760786                     0.0  ...                0.0                 NaN   \n",
       "\n",
       "        shrink_qty  shrink_cost shrink_value  mdpmd_retail  \\\n",
       "0                0          0.0          0.0           NaN   \n",
       "3                0          0.0          0.0           NaN   \n",
       "4                0          0.0          0.0           NaN   \n",
       "5                0          0.0          0.0           NaN   \n",
       "6                0          0.0          0.0           NaN   \n",
       "...            ...          ...          ...           ...   \n",
       "760772           0          0.0          0.0           NaN   \n",
       "760777           0          0.0          0.0           NaN   \n",
       "760779           0          0.0          0.0           NaN   \n",
       "760784           0          0.0          0.0           NaN   \n",
       "760786           0          0.0          0.0           NaN   \n",
       "\n",
       "        pos_markdowns_cost  pos_markdowns_retail  freight_cost  \\\n",
       "0                      NaN                   NaN           NaN   \n",
       "3                      NaN                   NaN      0.309850   \n",
       "4                      NaN                   NaN      0.177263   \n",
       "5                      NaN                   NaN      0.330336   \n",
       "6                      NaN                   NaN      0.378484   \n",
       "...                    ...                   ...           ...   \n",
       "760772                 NaN                   NaN      0.168601   \n",
       "760777                 NaN                   NaN           NaN   \n",
       "760779                 NaN                   NaN           NaN   \n",
       "760784                 NaN                   NaN      0.199653   \n",
       "760786                 NaN                   NaN      0.212323   \n",
       "\n",
       "        weighted_average_cost  \n",
       "0                      4.3970  \n",
       "3                      0.0000  \n",
       "4                      0.0000  \n",
       "5                      0.0000  \n",
       "6                      0.0000  \n",
       "...                       ...  \n",
       "760772                 0.0000  \n",
       "760777                 3.5093  \n",
       "760779                 1.5509  \n",
       "760784                 3.6966  \n",
       "760786                 0.0000  \n",
       "\n",
       "[360112 rows x 52 columns]"
      ]
     },
     "execution_count": 225,
     "metadata": {},
     "output_type": "execute_result"
    }
   ],
   "source": [
    "import numpy as np\n",
    "data[data[\"ttl_sales_qty\"] == 0]"
   ]
  },
  {
   "cell_type": "code",
   "execution_count": 227,
   "metadata": {},
   "outputs": [
    {
     "data": {
      "text/html": [
       "<div>\n",
       "<style scoped>\n",
       "    .dataframe tbody tr th:only-of-type {\n",
       "        vertical-align: middle;\n",
       "    }\n",
       "\n",
       "    .dataframe tbody tr th {\n",
       "        vertical-align: top;\n",
       "    }\n",
       "\n",
       "    .dataframe thead th {\n",
       "        text-align: right;\n",
       "    }\n",
       "</style>\n",
       "<table border=\"1\" class=\"dataframe\">\n",
       "  <thead>\n",
       "    <tr style=\"text-align: right;\">\n",
       "      <th></th>\n",
       "      <th>week_id</th>\n",
       "      <th>location</th>\n",
       "      <th>brand</th>\n",
       "      <th>currency</th>\n",
       "      <th>sku_id</th>\n",
       "      <th>uom</th>\n",
       "      <th>soh_qty</th>\n",
       "      <th>soh_cost</th>\n",
       "      <th>soh_value</th>\n",
       "    </tr>\n",
       "  </thead>\n",
       "  <tbody>\n",
       "    <tr>\n",
       "      <th>0</th>\n",
       "      <td>W202104</td>\n",
       "      <td>800036.0</td>\n",
       "      <td>WES</td>\n",
       "      <td>KWD</td>\n",
       "      <td>200082690.0</td>\n",
       "      <td>EA</td>\n",
       "      <td>1</td>\n",
       "      <td>74.3092</td>\n",
       "      <td>238.434</td>\n",
       "    </tr>\n",
       "    <tr>\n",
       "      <th>1</th>\n",
       "      <td>W202101</td>\n",
       "      <td>301330006.0</td>\n",
       "      <td>WES</td>\n",
       "      <td>KWD</td>\n",
       "      <td>200047774.0</td>\n",
       "      <td>EA</td>\n",
       "      <td>1</td>\n",
       "      <td>1.6163</td>\n",
       "      <td>12.967</td>\n",
       "    </tr>\n",
       "    <tr>\n",
       "      <th>2</th>\n",
       "      <td>W202102</td>\n",
       "      <td>309040006.0</td>\n",
       "      <td>WES</td>\n",
       "      <td>KWD</td>\n",
       "      <td>200059870.0</td>\n",
       "      <td>EA</td>\n",
       "      <td>-2</td>\n",
       "      <td>-46.1560</td>\n",
       "      <td>-140.000</td>\n",
       "    </tr>\n",
       "    <tr>\n",
       "      <th>3</th>\n",
       "      <td>W202103</td>\n",
       "      <td>301330006.0</td>\n",
       "      <td>WES</td>\n",
       "      <td>KWD</td>\n",
       "      <td>200085428.0</td>\n",
       "      <td>EA</td>\n",
       "      <td>3</td>\n",
       "      <td>8.5920</td>\n",
       "      <td>0.502</td>\n",
       "    </tr>\n",
       "    <tr>\n",
       "      <th>4</th>\n",
       "      <td>W202103</td>\n",
       "      <td>301330006.0</td>\n",
       "      <td>WES</td>\n",
       "      <td>KWD</td>\n",
       "      <td>200048930.0</td>\n",
       "      <td>EA</td>\n",
       "      <td>2</td>\n",
       "      <td>21.4479</td>\n",
       "      <td>20.915</td>\n",
       "    </tr>\n",
       "  </tbody>\n",
       "</table>\n",
       "</div>"
      ],
      "text/plain": [
       "   week_id     location brand currency       sku_id uom  soh_qty  soh_cost  \\\n",
       "0  W202104     800036.0   WES      KWD  200082690.0  EA        1   74.3092   \n",
       "1  W202101  301330006.0   WES      KWD  200047774.0  EA        1    1.6163   \n",
       "2  W202102  309040006.0   WES      KWD  200059870.0  EA       -2  -46.1560   \n",
       "3  W202103  301330006.0   WES      KWD  200085428.0  EA        3    8.5920   \n",
       "4  W202103  301330006.0   WES      KWD  200048930.0  EA        2   21.4479   \n",
       "\n",
       "   soh_value  \n",
       "0    238.434  \n",
       "1     12.967  \n",
       "2   -140.000  \n",
       "3      0.502  \n",
       "4     20.915  "
      ]
     },
     "execution_count": 227,
     "metadata": {},
     "output_type": "execute_result"
    }
   ],
   "source": [
    "SOH = pd.read_csv(r\"C:\\Users\\j1013189\\Downloads\\InventoryOnHand_WES_AP_EP_20210101_20210128.csv\", sep='|')\n",
    "SOH.head()"
   ]
  },
  {
   "cell_type": "code",
   "execution_count": 228,
   "metadata": {},
   "outputs": [
    {
     "name": "stdout",
     "output_type": "stream",
     "text": [
      "<class 'pandas.core.frame.DataFrame'>\n",
      "RangeIndex: 291723 entries, 0 to 291722\n",
      "Data columns (total 9 columns):\n",
      " #   Column     Non-Null Count   Dtype  \n",
      "---  ------     --------------   -----  \n",
      " 0   week_id    291723 non-null  object \n",
      " 1   location   273929 non-null  float64\n",
      " 2   brand      291723 non-null  object \n",
      " 3   currency   291723 non-null  object \n",
      " 4   sku_id     291687 non-null  float64\n",
      " 5   uom        291723 non-null  object \n",
      " 6   soh_qty    291723 non-null  int64  \n",
      " 7   soh_cost   291723 non-null  float64\n",
      " 8   soh_value  291723 non-null  float64\n",
      "dtypes: float64(4), int64(1), object(4)\n",
      "memory usage: 20.0+ MB\n"
     ]
    }
   ],
   "source": [
    "SOH.info()"
   ]
  },
  {
   "cell_type": "code",
   "execution_count": 231,
   "metadata": {},
   "outputs": [
    {
     "data": {
      "text/html": [
       "<div>\n",
       "<style scoped>\n",
       "    .dataframe tbody tr th:only-of-type {\n",
       "        vertical-align: middle;\n",
       "    }\n",
       "\n",
       "    .dataframe tbody tr th {\n",
       "        vertical-align: top;\n",
       "    }\n",
       "\n",
       "    .dataframe thead th {\n",
       "        text-align: right;\n",
       "    }\n",
       "</style>\n",
       "<table border=\"1\" class=\"dataframe\">\n",
       "  <thead>\n",
       "    <tr style=\"text-align: right;\">\n",
       "      <th></th>\n",
       "      <th>week_id</th>\n",
       "      <th>location</th>\n",
       "      <th>brand</th>\n",
       "      <th>currency</th>\n",
       "      <th>sku_id</th>\n",
       "      <th>uom</th>\n",
       "      <th>soh_qty</th>\n",
       "      <th>soh_cost</th>\n",
       "      <th>soh_value</th>\n",
       "    </tr>\n",
       "  </thead>\n",
       "  <tbody>\n",
       "    <tr>\n",
       "      <th>10</th>\n",
       "      <td>W202103</td>\n",
       "      <td>800009.0</td>\n",
       "      <td>WES</td>\n",
       "      <td>KWD</td>\n",
       "      <td>200084700.0</td>\n",
       "      <td>EA</td>\n",
       "      <td>0</td>\n",
       "      <td>0.0</td>\n",
       "      <td>0.0</td>\n",
       "    </tr>\n",
       "    <tr>\n",
       "      <th>16</th>\n",
       "      <td>W202101</td>\n",
       "      <td>301270006.0</td>\n",
       "      <td>WES</td>\n",
       "      <td>KWD</td>\n",
       "      <td>200070968.0</td>\n",
       "      <td>EA</td>\n",
       "      <td>0</td>\n",
       "      <td>0.0</td>\n",
       "      <td>0.0</td>\n",
       "    </tr>\n",
       "    <tr>\n",
       "      <th>27</th>\n",
       "      <td>W202101</td>\n",
       "      <td>301330006.0</td>\n",
       "      <td>WES</td>\n",
       "      <td>KWD</td>\n",
       "      <td>200096779.0</td>\n",
       "      <td>EA</td>\n",
       "      <td>0</td>\n",
       "      <td>0.0</td>\n",
       "      <td>0.0</td>\n",
       "    </tr>\n",
       "    <tr>\n",
       "      <th>67</th>\n",
       "      <td>W202104</td>\n",
       "      <td>309120006.0</td>\n",
       "      <td>WES</td>\n",
       "      <td>KWD</td>\n",
       "      <td>200098561.0</td>\n",
       "      <td>EA</td>\n",
       "      <td>0</td>\n",
       "      <td>0.0</td>\n",
       "      <td>0.0</td>\n",
       "    </tr>\n",
       "    <tr>\n",
       "      <th>105</th>\n",
       "      <td>W202103</td>\n",
       "      <td>309120006.0</td>\n",
       "      <td>WES</td>\n",
       "      <td>KWD</td>\n",
       "      <td>200084992.0</td>\n",
       "      <td>EA</td>\n",
       "      <td>0</td>\n",
       "      <td>0.0</td>\n",
       "      <td>0.0</td>\n",
       "    </tr>\n",
       "    <tr>\n",
       "      <th>...</th>\n",
       "      <td>...</td>\n",
       "      <td>...</td>\n",
       "      <td>...</td>\n",
       "      <td>...</td>\n",
       "      <td>...</td>\n",
       "      <td>...</td>\n",
       "      <td>...</td>\n",
       "      <td>...</td>\n",
       "      <td>...</td>\n",
       "    </tr>\n",
       "    <tr>\n",
       "      <th>291668</th>\n",
       "      <td>W202101</td>\n",
       "      <td>800036.0</td>\n",
       "      <td>WES</td>\n",
       "      <td>KWD</td>\n",
       "      <td>200001066.0</td>\n",
       "      <td>EA</td>\n",
       "      <td>0</td>\n",
       "      <td>0.0</td>\n",
       "      <td>0.0</td>\n",
       "    </tr>\n",
       "    <tr>\n",
       "      <th>291678</th>\n",
       "      <td>W202103</td>\n",
       "      <td>800025.0</td>\n",
       "      <td>WES</td>\n",
       "      <td>KWD</td>\n",
       "      <td>200064866.0</td>\n",
       "      <td>EA</td>\n",
       "      <td>0</td>\n",
       "      <td>0.0</td>\n",
       "      <td>0.0</td>\n",
       "    </tr>\n",
       "    <tr>\n",
       "      <th>291683</th>\n",
       "      <td>W202102</td>\n",
       "      <td>309120006.0</td>\n",
       "      <td>WES</td>\n",
       "      <td>KWD</td>\n",
       "      <td>200104669.0</td>\n",
       "      <td>EA</td>\n",
       "      <td>0</td>\n",
       "      <td>0.0</td>\n",
       "      <td>0.0</td>\n",
       "    </tr>\n",
       "    <tr>\n",
       "      <th>291716</th>\n",
       "      <td>W202103</td>\n",
       "      <td>301250006.0</td>\n",
       "      <td>WES</td>\n",
       "      <td>KWD</td>\n",
       "      <td>200094031.0</td>\n",
       "      <td>EA</td>\n",
       "      <td>0</td>\n",
       "      <td>0.0</td>\n",
       "      <td>0.0</td>\n",
       "    </tr>\n",
       "    <tr>\n",
       "      <th>291718</th>\n",
       "      <td>W202103</td>\n",
       "      <td>NaN</td>\n",
       "      <td>WES</td>\n",
       "      <td>KWD</td>\n",
       "      <td>200057001.0</td>\n",
       "      <td>EA</td>\n",
       "      <td>0</td>\n",
       "      <td>0.0</td>\n",
       "      <td>0.0</td>\n",
       "    </tr>\n",
       "  </tbody>\n",
       "</table>\n",
       "<p>21087 rows × 9 columns</p>\n",
       "</div>"
      ],
      "text/plain": [
       "        week_id     location brand currency       sku_id uom  soh_qty  \\\n",
       "10      W202103     800009.0   WES      KWD  200084700.0  EA        0   \n",
       "16      W202101  301270006.0   WES      KWD  200070968.0  EA        0   \n",
       "27      W202101  301330006.0   WES      KWD  200096779.0  EA        0   \n",
       "67      W202104  309120006.0   WES      KWD  200098561.0  EA        0   \n",
       "105     W202103  309120006.0   WES      KWD  200084992.0  EA        0   \n",
       "...         ...          ...   ...      ...          ...  ..      ...   \n",
       "291668  W202101     800036.0   WES      KWD  200001066.0  EA        0   \n",
       "291678  W202103     800025.0   WES      KWD  200064866.0  EA        0   \n",
       "291683  W202102  309120006.0   WES      KWD  200104669.0  EA        0   \n",
       "291716  W202103  301250006.0   WES      KWD  200094031.0  EA        0   \n",
       "291718  W202103          NaN   WES      KWD  200057001.0  EA        0   \n",
       "\n",
       "        soh_cost  soh_value  \n",
       "10           0.0        0.0  \n",
       "16           0.0        0.0  \n",
       "27           0.0        0.0  \n",
       "67           0.0        0.0  \n",
       "105          0.0        0.0  \n",
       "...          ...        ...  \n",
       "291668       0.0        0.0  \n",
       "291678       0.0        0.0  \n",
       "291683       0.0        0.0  \n",
       "291716       0.0        0.0  \n",
       "291718       0.0        0.0  \n",
       "\n",
       "[21087 rows x 9 columns]"
      ]
     },
     "execution_count": 231,
     "metadata": {},
     "output_type": "execute_result"
    }
   ],
   "source": [
    "SOH[(SOH['soh_qty'] == 0) & (SOH['soh_cost'] == 0) & (SOH['soh_value'] == 0)]"
   ]
  },
  {
   "cell_type": "code",
   "execution_count": 233,
   "metadata": {},
   "outputs": [
    {
     "name": "stderr",
     "output_type": "stream",
     "text": [
      "C:\\Users\\j1013189\\Anaconda3\\lib\\site-packages\\seaborn\\_decorators.py:36: FutureWarning: Pass the following variable as a keyword arg: x. From version 0.12, the only valid positional argument will be `data`, and passing other arguments without an explicit keyword will result in an error or misinterpretation.\n",
      "  warnings.warn(\n"
     ]
    },
    {
     "data": {
      "text/plain": [
       "<AxesSubplot:xlabel='soh_qty'>"
      ]
     },
     "execution_count": 233,
     "metadata": {},
     "output_type": "execute_result"
    },
    {
     "data": {
      "image/png": "[encoded data removed]",
      "text/plain": [
       "<Figure size 432x288 with 1 Axes>"
      ]
     },
     "metadata": {
      "needs_background": "light"
     },
     "output_type": "display_data"
    }
   ],
   "source": [
    "import seaborn as sns\n",
    "sns.boxplot(SOH['soh_qty'])"
   ]
  },
  {
   "cell_type": "code",
   "execution_count": 239,
   "metadata": {},
   "outputs": [
    {
     "data": {
      "text/html": [
       "<div>\n",
       "<style scoped>\n",
       "    .dataframe tbody tr th:only-of-type {\n",
       "        vertical-align: middle;\n",
       "    }\n",
       "\n",
       "    .dataframe tbody tr th {\n",
       "        vertical-align: top;\n",
       "    }\n",
       "\n",
       "    .dataframe thead th {\n",
       "        text-align: right;\n",
       "    }\n",
       "</style>\n",
       "<table border=\"1\" class=\"dataframe\">\n",
       "  <thead>\n",
       "    <tr style=\"text-align: right;\">\n",
       "      <th></th>\n",
       "      <th>week_id</th>\n",
       "      <th>location</th>\n",
       "      <th>brand</th>\n",
       "      <th>currency</th>\n",
       "      <th>sku_id</th>\n",
       "      <th>uom</th>\n",
       "      <th>soh_qty</th>\n",
       "      <th>soh_cost</th>\n",
       "      <th>soh_value</th>\n",
       "    </tr>\n",
       "  </thead>\n",
       "  <tbody>\n",
       "    <tr>\n",
       "      <th>26788</th>\n",
       "      <td>W202104</td>\n",
       "      <td>NaN</td>\n",
       "      <td>WES</td>\n",
       "      <td>KWD</td>\n",
       "      <td>200090874.0</td>\n",
       "      <td>EA</td>\n",
       "      <td>-2</td>\n",
       "      <td>26.0242</td>\n",
       "      <td>-378.051</td>\n",
       "    </tr>\n",
       "    <tr>\n",
       "      <th>62062</th>\n",
       "      <td>W202104</td>\n",
       "      <td>NaN</td>\n",
       "      <td>WES</td>\n",
       "      <td>KWD</td>\n",
       "      <td>200082423.0</td>\n",
       "      <td>EA</td>\n",
       "      <td>-2</td>\n",
       "      <td>1.8987</td>\n",
       "      <td>-20.575</td>\n",
       "    </tr>\n",
       "    <tr>\n",
       "      <th>71255</th>\n",
       "      <td>W202104</td>\n",
       "      <td>NaN</td>\n",
       "      <td>WES</td>\n",
       "      <td>KWD</td>\n",
       "      <td>200054319.0</td>\n",
       "      <td>EA</td>\n",
       "      <td>-1</td>\n",
       "      <td>84.9169</td>\n",
       "      <td>-311.143</td>\n",
       "    </tr>\n",
       "    <tr>\n",
       "      <th>72907</th>\n",
       "      <td>W202102</td>\n",
       "      <td>NaN</td>\n",
       "      <td>WES</td>\n",
       "      <td>KWD</td>\n",
       "      <td>200054319.0</td>\n",
       "      <td>EA</td>\n",
       "      <td>-1</td>\n",
       "      <td>84.9169</td>\n",
       "      <td>-311.143</td>\n",
       "    </tr>\n",
       "    <tr>\n",
       "      <th>100134</th>\n",
       "      <td>W202101</td>\n",
       "      <td>NaN</td>\n",
       "      <td>WES</td>\n",
       "      <td>KWD</td>\n",
       "      <td>200054319.0</td>\n",
       "      <td>EA</td>\n",
       "      <td>-1</td>\n",
       "      <td>84.9169</td>\n",
       "      <td>-311.143</td>\n",
       "    </tr>\n",
       "    <tr>\n",
       "      <th>109128</th>\n",
       "      <td>W202101</td>\n",
       "      <td>NaN</td>\n",
       "      <td>WES</td>\n",
       "      <td>KWD</td>\n",
       "      <td>200090874.0</td>\n",
       "      <td>EA</td>\n",
       "      <td>-1</td>\n",
       "      <td>85.2256</td>\n",
       "      <td>-189.814</td>\n",
       "    </tr>\n",
       "    <tr>\n",
       "      <th>162482</th>\n",
       "      <td>W202103</td>\n",
       "      <td>NaN</td>\n",
       "      <td>WES</td>\n",
       "      <td>KWD</td>\n",
       "      <td>200090874.0</td>\n",
       "      <td>EA</td>\n",
       "      <td>-2</td>\n",
       "      <td>26.0242</td>\n",
       "      <td>-378.051</td>\n",
       "    </tr>\n",
       "    <tr>\n",
       "      <th>182448</th>\n",
       "      <td>W202103</td>\n",
       "      <td>NaN</td>\n",
       "      <td>WES</td>\n",
       "      <td>KWD</td>\n",
       "      <td>200054319.0</td>\n",
       "      <td>EA</td>\n",
       "      <td>-1</td>\n",
       "      <td>84.9169</td>\n",
       "      <td>-311.143</td>\n",
       "    </tr>\n",
       "    <tr>\n",
       "      <th>204445</th>\n",
       "      <td>W202102</td>\n",
       "      <td>NaN</td>\n",
       "      <td>WES</td>\n",
       "      <td>KWD</td>\n",
       "      <td>200090874.0</td>\n",
       "      <td>EA</td>\n",
       "      <td>-2</td>\n",
       "      <td>26.0242</td>\n",
       "      <td>-378.051</td>\n",
       "    </tr>\n",
       "  </tbody>\n",
       "</table>\n",
       "</div>"
      ],
      "text/plain": [
       "        week_id  location brand currency       sku_id uom  soh_qty  soh_cost  \\\n",
       "26788   W202104       NaN   WES      KWD  200090874.0  EA       -2   26.0242   \n",
       "62062   W202104       NaN   WES      KWD  200082423.0  EA       -2    1.8987   \n",
       "71255   W202104       NaN   WES      KWD  200054319.0  EA       -1   84.9169   \n",
       "72907   W202102       NaN   WES      KWD  200054319.0  EA       -1   84.9169   \n",
       "100134  W202101       NaN   WES      KWD  200054319.0  EA       -1   84.9169   \n",
       "109128  W202101       NaN   WES      KWD  200090874.0  EA       -1   85.2256   \n",
       "162482  W202103       NaN   WES      KWD  200090874.0  EA       -2   26.0242   \n",
       "182448  W202103       NaN   WES      KWD  200054319.0  EA       -1   84.9169   \n",
       "204445  W202102       NaN   WES      KWD  200090874.0  EA       -2   26.0242   \n",
       "\n",
       "        soh_value  \n",
       "26788    -378.051  \n",
       "62062     -20.575  \n",
       "71255    -311.143  \n",
       "72907    -311.143  \n",
       "100134   -311.143  \n",
       "109128   -189.814  \n",
       "162482   -378.051  \n",
       "182448   -311.143  \n",
       "204445   -378.051  "
      ]
     },
     "execution_count": 239,
     "metadata": {},
     "output_type": "execute_result"
    }
   ],
   "source": [
    "SOH[(SOH['soh_qty'] < 0) & (SOH['soh_cost'] > 0) & (SOH['soh_value'] < 0)]"
   ]
  },
  {
   "cell_type": "code",
   "execution_count": 240,
   "metadata": {},
   "outputs": [
    {
     "name": "stderr",
     "output_type": "stream",
     "text": [
      "C:\\Users\\j1013189\\Anaconda3\\lib\\site-packages\\seaborn\\_decorators.py:36: FutureWarning: Pass the following variable as a keyword arg: x. From version 0.12, the only valid positional argument will be `data`, and passing other arguments without an explicit keyword will result in an error or misinterpretation.\n",
      "  warnings.warn(\n"
     ]
    },
    {
     "data": {
      "text/plain": [
       "<AxesSubplot:xlabel='ttl_sales_qty'>"
      ]
     },
     "execution_count": 240,
     "metadata": {},
     "output_type": "execute_result"
    },
    {
     "data": {
      "image/png": "[encoded data removed]",
      "text/plain": [
       "<Figure size 432x288 with 1 Axes>"
      ]
     },
     "metadata": {
      "needs_background": "light"
     },
     "output_type": "display_data"
    }
   ],
   "source": [
    "sns.boxplot(data['ttl_sales_qty'])"
   ]
  },
  {
   "cell_type": "code",
   "execution_count": 244,
   "metadata": {},
   "outputs": [
    {
     "data": {
      "text/html": [
       "<div>\n",
       "<style scoped>\n",
       "    .dataframe tbody tr th:only-of-type {\n",
       "        vertical-align: middle;\n",
       "    }\n",
       "\n",
       "    .dataframe tbody tr th {\n",
       "        vertical-align: top;\n",
       "    }\n",
       "\n",
       "    .dataframe thead th {\n",
       "        text-align: right;\n",
       "    }\n",
       "</style>\n",
       "<table border=\"1\" class=\"dataframe\">\n",
       "  <thead>\n",
       "    <tr style=\"text-align: right;\">\n",
       "      <th></th>\n",
       "      <th>week_id</th>\n",
       "      <th>start_date</th>\n",
       "      <th>location</th>\n",
       "      <th>brand</th>\n",
       "      <th>base_currency</th>\n",
       "      <th>sku_id</th>\n",
       "      <th>ttl_sales_qty</th>\n",
       "      <th>ttl_sales_cost</th>\n",
       "      <th>ttl_sales_value_exvat</th>\n",
       "      <th>ttl_sales_value_incvat</th>\n",
       "      <th>...</th>\n",
       "      <th>adj_writeoff_cost</th>\n",
       "      <th>adj_writeoff_value</th>\n",
       "      <th>shrink_qty</th>\n",
       "      <th>shrink_cost</th>\n",
       "      <th>shrink_value</th>\n",
       "      <th>mdpmd_retail</th>\n",
       "      <th>pos_markdowns_cost</th>\n",
       "      <th>pos_markdowns_retail</th>\n",
       "      <th>freight_cost</th>\n",
       "      <th>weighted_average_cost</th>\n",
       "    </tr>\n",
       "  </thead>\n",
       "  <tbody>\n",
       "    <tr>\n",
       "      <th>1</th>\n",
       "      <td>W202104</td>\n",
       "      <td>01/22/2021</td>\n",
       "      <td>300470002.0</td>\n",
       "      <td>AME</td>\n",
       "      <td>KWD</td>\n",
       "      <td>128966249.0</td>\n",
       "      <td>1.0</td>\n",
       "      <td>1.3595</td>\n",
       "      <td>6.573</td>\n",
       "      <td>6.902</td>\n",
       "      <td>...</td>\n",
       "      <td>0.0</td>\n",
       "      <td>0.0</td>\n",
       "      <td>0</td>\n",
       "      <td>0.0</td>\n",
       "      <td>0.0</td>\n",
       "      <td>NaN</td>\n",
       "      <td>NaN</td>\n",
       "      <td>NaN</td>\n",
       "      <td>NaN</td>\n",
       "      <td>0.0</td>\n",
       "    </tr>\n",
       "    <tr>\n",
       "      <th>3</th>\n",
       "      <td>W202102</td>\n",
       "      <td>01/08/2021</td>\n",
       "      <td>300570002.0</td>\n",
       "      <td>AME</td>\n",
       "      <td>KWD</td>\n",
       "      <td>128890197.0</td>\n",
       "      <td>0.0</td>\n",
       "      <td>0.0000</td>\n",
       "      <td>0.000</td>\n",
       "      <td>0.000</td>\n",
       "      <td>...</td>\n",
       "      <td>0.0</td>\n",
       "      <td>NaN</td>\n",
       "      <td>0</td>\n",
       "      <td>0.0</td>\n",
       "      <td>0.0</td>\n",
       "      <td>NaN</td>\n",
       "      <td>NaN</td>\n",
       "      <td>NaN</td>\n",
       "      <td>0.309850</td>\n",
       "      <td>0.0</td>\n",
       "    </tr>\n",
       "    <tr>\n",
       "      <th>4</th>\n",
       "      <td>W202103</td>\n",
       "      <td>01/15/2021</td>\n",
       "      <td>800025.0</td>\n",
       "      <td>AME</td>\n",
       "      <td>KWD</td>\n",
       "      <td>128992433.0</td>\n",
       "      <td>0.0</td>\n",
       "      <td>0.0000</td>\n",
       "      <td>0.000</td>\n",
       "      <td>0.000</td>\n",
       "      <td>...</td>\n",
       "      <td>0.0</td>\n",
       "      <td>NaN</td>\n",
       "      <td>0</td>\n",
       "      <td>0.0</td>\n",
       "      <td>0.0</td>\n",
       "      <td>NaN</td>\n",
       "      <td>NaN</td>\n",
       "      <td>NaN</td>\n",
       "      <td>0.177263</td>\n",
       "      <td>0.0</td>\n",
       "    </tr>\n",
       "    <tr>\n",
       "      <th>5</th>\n",
       "      <td>W202102</td>\n",
       "      <td>01/08/2021</td>\n",
       "      <td>800047.0</td>\n",
       "      <td>AME</td>\n",
       "      <td>KWD</td>\n",
       "      <td>128905522.0</td>\n",
       "      <td>0.0</td>\n",
       "      <td>0.0000</td>\n",
       "      <td>0.000</td>\n",
       "      <td>0.000</td>\n",
       "      <td>...</td>\n",
       "      <td>0.0</td>\n",
       "      <td>NaN</td>\n",
       "      <td>0</td>\n",
       "      <td>0.0</td>\n",
       "      <td>0.0</td>\n",
       "      <td>NaN</td>\n",
       "      <td>NaN</td>\n",
       "      <td>NaN</td>\n",
       "      <td>0.330336</td>\n",
       "      <td>0.0</td>\n",
       "    </tr>\n",
       "    <tr>\n",
       "      <th>6</th>\n",
       "      <td>W202104</td>\n",
       "      <td>01/22/2021</td>\n",
       "      <td>308190002.0</td>\n",
       "      <td>AME</td>\n",
       "      <td>KWD</td>\n",
       "      <td>128985066.0</td>\n",
       "      <td>0.0</td>\n",
       "      <td>0.0000</td>\n",
       "      <td>0.000</td>\n",
       "      <td>0.000</td>\n",
       "      <td>...</td>\n",
       "      <td>0.0</td>\n",
       "      <td>NaN</td>\n",
       "      <td>0</td>\n",
       "      <td>0.0</td>\n",
       "      <td>0.0</td>\n",
       "      <td>NaN</td>\n",
       "      <td>NaN</td>\n",
       "      <td>NaN</td>\n",
       "      <td>0.378484</td>\n",
       "      <td>0.0</td>\n",
       "    </tr>\n",
       "    <tr>\n",
       "      <th>...</th>\n",
       "      <td>...</td>\n",
       "      <td>...</td>\n",
       "      <td>...</td>\n",
       "      <td>...</td>\n",
       "      <td>...</td>\n",
       "      <td>...</td>\n",
       "      <td>...</td>\n",
       "      <td>...</td>\n",
       "      <td>...</td>\n",
       "      <td>...</td>\n",
       "      <td>...</td>\n",
       "      <td>...</td>\n",
       "      <td>...</td>\n",
       "      <td>...</td>\n",
       "      <td>...</td>\n",
       "      <td>...</td>\n",
       "      <td>...</td>\n",
       "      <td>...</td>\n",
       "      <td>...</td>\n",
       "      <td>...</td>\n",
       "      <td>...</td>\n",
       "    </tr>\n",
       "    <tr>\n",
       "      <th>760775</th>\n",
       "      <td>W202101</td>\n",
       "      <td>01/01/2021</td>\n",
       "      <td>300640002.0</td>\n",
       "      <td>AME</td>\n",
       "      <td>KWD</td>\n",
       "      <td>128918300.0</td>\n",
       "      <td>3.0</td>\n",
       "      <td>8.8248</td>\n",
       "      <td>9.000</td>\n",
       "      <td>9.000</td>\n",
       "      <td>...</td>\n",
       "      <td>0.0</td>\n",
       "      <td>0.0</td>\n",
       "      <td>0</td>\n",
       "      <td>0.0</td>\n",
       "      <td>0.0</td>\n",
       "      <td>NaN</td>\n",
       "      <td>NaN</td>\n",
       "      <td>NaN</td>\n",
       "      <td>NaN</td>\n",
       "      <td>0.0</td>\n",
       "    </tr>\n",
       "    <tr>\n",
       "      <th>760778</th>\n",
       "      <td>W202104</td>\n",
       "      <td>01/22/2021</td>\n",
       "      <td>300520002.0</td>\n",
       "      <td>AME</td>\n",
       "      <td>KWD</td>\n",
       "      <td>128917453.0</td>\n",
       "      <td>1.0</td>\n",
       "      <td>3.7192</td>\n",
       "      <td>7.111</td>\n",
       "      <td>8.106</td>\n",
       "      <td>...</td>\n",
       "      <td>0.0</td>\n",
       "      <td>0.0</td>\n",
       "      <td>0</td>\n",
       "      <td>0.0</td>\n",
       "      <td>0.0</td>\n",
       "      <td>NaN</td>\n",
       "      <td>NaN</td>\n",
       "      <td>NaN</td>\n",
       "      <td>NaN</td>\n",
       "      <td>0.0</td>\n",
       "    </tr>\n",
       "    <tr>\n",
       "      <th>760780</th>\n",
       "      <td>W202103</td>\n",
       "      <td>01/15/2021</td>\n",
       "      <td>300220002.0</td>\n",
       "      <td>AME</td>\n",
       "      <td>KWD</td>\n",
       "      <td>128894243.0</td>\n",
       "      <td>1.0</td>\n",
       "      <td>1.8116</td>\n",
       "      <td>3.984</td>\n",
       "      <td>4.183</td>\n",
       "      <td>...</td>\n",
       "      <td>0.0</td>\n",
       "      <td>0.0</td>\n",
       "      <td>0</td>\n",
       "      <td>0.0</td>\n",
       "      <td>0.0</td>\n",
       "      <td>NaN</td>\n",
       "      <td>NaN</td>\n",
       "      <td>NaN</td>\n",
       "      <td>NaN</td>\n",
       "      <td>0.0</td>\n",
       "    </tr>\n",
       "    <tr>\n",
       "      <th>760781</th>\n",
       "      <td>W202104</td>\n",
       "      <td>01/22/2021</td>\n",
       "      <td>300850002.0</td>\n",
       "      <td>AME</td>\n",
       "      <td>KWD</td>\n",
       "      <td>128893615.0</td>\n",
       "      <td>1.0</td>\n",
       "      <td>1.8776</td>\n",
       "      <td>2.850</td>\n",
       "      <td>3.278</td>\n",
       "      <td>...</td>\n",
       "      <td>0.0</td>\n",
       "      <td>0.0</td>\n",
       "      <td>0</td>\n",
       "      <td>0.0</td>\n",
       "      <td>0.0</td>\n",
       "      <td>NaN</td>\n",
       "      <td>NaN</td>\n",
       "      <td>NaN</td>\n",
       "      <td>NaN</td>\n",
       "      <td>0.0</td>\n",
       "    </tr>\n",
       "    <tr>\n",
       "      <th>760786</th>\n",
       "      <td>W202101</td>\n",
       "      <td>01/01/2021</td>\n",
       "      <td>800011.0</td>\n",
       "      <td>AME</td>\n",
       "      <td>KWD</td>\n",
       "      <td>128968737.0</td>\n",
       "      <td>0.0</td>\n",
       "      <td>0.0000</td>\n",
       "      <td>0.000</td>\n",
       "      <td>0.000</td>\n",
       "      <td>...</td>\n",
       "      <td>0.0</td>\n",
       "      <td>NaN</td>\n",
       "      <td>0</td>\n",
       "      <td>0.0</td>\n",
       "      <td>0.0</td>\n",
       "      <td>NaN</td>\n",
       "      <td>NaN</td>\n",
       "      <td>NaN</td>\n",
       "      <td>0.212323</td>\n",
       "      <td>0.0</td>\n",
       "    </tr>\n",
       "  </tbody>\n",
       "</table>\n",
       "<p>329511 rows × 52 columns</p>\n",
       "</div>"
      ],
      "text/plain": [
       "        week_id  start_date     location brand base_currency       sku_id  \\\n",
       "1       W202104  01/22/2021  300470002.0   AME           KWD  128966249.0   \n",
       "3       W202102  01/08/2021  300570002.0   AME           KWD  128890197.0   \n",
       "4       W202103  01/15/2021     800025.0   AME           KWD  128992433.0   \n",
       "5       W202102  01/08/2021     800047.0   AME           KWD  128905522.0   \n",
       "6       W202104  01/22/2021  308190002.0   AME           KWD  128985066.0   \n",
       "...         ...         ...          ...   ...           ...          ...   \n",
       "760775  W202101  01/01/2021  300640002.0   AME           KWD  128918300.0   \n",
       "760778  W202104  01/22/2021  300520002.0   AME           KWD  128917453.0   \n",
       "760780  W202103  01/15/2021  300220002.0   AME           KWD  128894243.0   \n",
       "760781  W202104  01/22/2021  300850002.0   AME           KWD  128893615.0   \n",
       "760786  W202101  01/01/2021     800011.0   AME           KWD  128968737.0   \n",
       "\n",
       "        ttl_sales_qty  ttl_sales_cost  ttl_sales_value_exvat  \\\n",
       "1                 1.0          1.3595                  6.573   \n",
       "3                 0.0          0.0000                  0.000   \n",
       "4                 0.0          0.0000                  0.000   \n",
       "5                 0.0          0.0000                  0.000   \n",
       "6                 0.0          0.0000                  0.000   \n",
       "...               ...             ...                    ...   \n",
       "760775            3.0          8.8248                  9.000   \n",
       "760778            1.0          3.7192                  7.111   \n",
       "760780            1.0          1.8116                  3.984   \n",
       "760781            1.0          1.8776                  2.850   \n",
       "760786            0.0          0.0000                  0.000   \n",
       "\n",
       "        ttl_sales_value_incvat  ...  adj_writeoff_cost  adj_writeoff_value  \\\n",
       "1                        6.902  ...                0.0                 0.0   \n",
       "3                        0.000  ...                0.0                 NaN   \n",
       "4                        0.000  ...                0.0                 NaN   \n",
       "5                        0.000  ...                0.0                 NaN   \n",
       "6                        0.000  ...                0.0                 NaN   \n",
       "...                        ...  ...                ...                 ...   \n",
       "760775                   9.000  ...                0.0                 0.0   \n",
       "760778                   8.106  ...                0.0                 0.0   \n",
       "760780                   4.183  ...                0.0                 0.0   \n",
       "760781                   3.278  ...                0.0                 0.0   \n",
       "760786                   0.000  ...                0.0                 NaN   \n",
       "\n",
       "        shrink_qty  shrink_cost shrink_value  mdpmd_retail  \\\n",
       "1                0          0.0          0.0           NaN   \n",
       "3                0          0.0          0.0           NaN   \n",
       "4                0          0.0          0.0           NaN   \n",
       "5                0          0.0          0.0           NaN   \n",
       "6                0          0.0          0.0           NaN   \n",
       "...            ...          ...          ...           ...   \n",
       "760775           0          0.0          0.0           NaN   \n",
       "760778           0          0.0          0.0           NaN   \n",
       "760780           0          0.0          0.0           NaN   \n",
       "760781           0          0.0          0.0           NaN   \n",
       "760786           0          0.0          0.0           NaN   \n",
       "\n",
       "        pos_markdowns_cost  pos_markdowns_retail  freight_cost  \\\n",
       "1                      NaN                   NaN           NaN   \n",
       "3                      NaN                   NaN      0.309850   \n",
       "4                      NaN                   NaN      0.177263   \n",
       "5                      NaN                   NaN      0.330336   \n",
       "6                      NaN                   NaN      0.378484   \n",
       "...                    ...                   ...           ...   \n",
       "760775                 NaN                   NaN           NaN   \n",
       "760778                 NaN                   NaN           NaN   \n",
       "760780                 NaN                   NaN           NaN   \n",
       "760781                 NaN                   NaN           NaN   \n",
       "760786                 NaN                   NaN      0.212323   \n",
       "\n",
       "        weighted_average_cost  \n",
       "1                         0.0  \n",
       "3                         0.0  \n",
       "4                         0.0  \n",
       "5                         0.0  \n",
       "6                         0.0  \n",
       "...                       ...  \n",
       "760775                    0.0  \n",
       "760778                    0.0  \n",
       "760780                    0.0  \n",
       "760781                    0.0  \n",
       "760786                    0.0  \n",
       "\n",
       "[329511 rows x 52 columns]"
      ]
     },
     "execution_count": 244,
     "metadata": {},
     "output_type": "execute_result"
    }
   ],
   "source": [
    "data[data['weighted_average_cost'] == 0]"
   ]
  },
  {
   "cell_type": "code",
   "execution_count": 245,
   "metadata": {},
   "outputs": [
    {
     "name": "stderr",
     "output_type": "stream",
     "text": [
      "C:\\Users\\j1013189\\Anaconda3\\lib\\site-packages\\seaborn\\_decorators.py:36: FutureWarning: Pass the following variable as a keyword arg: x. From version 0.12, the only valid positional argument will be `data`, and passing other arguments without an explicit keyword will result in an error or misinterpretation.\n",
      "  warnings.warn(\n"
     ]
    },
    {
     "data": {
      "text/plain": [
       "<AxesSubplot:xlabel='ttl_sales_cost'>"
      ]
     },
     "execution_count": 245,
     "metadata": {},
     "output_type": "execute_result"
    },
    {
     "data": {
      "image/png": "[encoded data removed]",
      "text/plain": [
       "<Figure size 432x288 with 1 Axes>"
      ]
     },
     "metadata": {
      "needs_background": "light"
     },
     "output_type": "display_data"
    }
   ],
   "source": [
    "sns.boxplot(data['ttl_sales_cost'])"
   ]
  },
  {
   "cell_type": "code",
   "execution_count": 249,
   "metadata": {},
   "outputs": [
    {
     "data": {
      "text/html": [
       "<div>\n",
       "<style scoped>\n",
       "    .dataframe tbody tr th:only-of-type {\n",
       "        vertical-align: middle;\n",
       "    }\n",
       "\n",
       "    .dataframe tbody tr th {\n",
       "        vertical-align: top;\n",
       "    }\n",
       "\n",
       "    .dataframe thead th {\n",
       "        text-align: right;\n",
       "    }\n",
       "</style>\n",
       "<table border=\"1\" class=\"dataframe\">\n",
       "  <thead>\n",
       "    <tr style=\"text-align: right;\">\n",
       "      <th></th>\n",
       "      <th>week_id</th>\n",
       "      <th>start_date</th>\n",
       "      <th>location</th>\n",
       "      <th>brand</th>\n",
       "      <th>base_currency</th>\n",
       "      <th>sku_id</th>\n",
       "      <th>ttl_sales_qty</th>\n",
       "      <th>ttl_sales_cost</th>\n",
       "      <th>ttl_sales_value_exvat</th>\n",
       "      <th>ttl_sales_value_incvat</th>\n",
       "      <th>...</th>\n",
       "      <th>adj_writeoff_cost</th>\n",
       "      <th>adj_writeoff_value</th>\n",
       "      <th>shrink_qty</th>\n",
       "      <th>shrink_cost</th>\n",
       "      <th>shrink_value</th>\n",
       "      <th>mdpmd_retail</th>\n",
       "      <th>pos_markdowns_cost</th>\n",
       "      <th>pos_markdowns_retail</th>\n",
       "      <th>freight_cost</th>\n",
       "      <th>weighted_average_cost</th>\n",
       "    </tr>\n",
       "  </thead>\n",
       "  <tbody>\n",
       "    <tr>\n",
       "      <th>35729</th>\n",
       "      <td>W202102</td>\n",
       "      <td>01/08/2021</td>\n",
       "      <td>300570002.0</td>\n",
       "      <td>AME</td>\n",
       "      <td>KWD</td>\n",
       "      <td>128923868.0</td>\n",
       "      <td>245.0</td>\n",
       "      <td>543.655</td>\n",
       "      <td>0.01</td>\n",
       "      <td>0.01</td>\n",
       "      <td>...</td>\n",
       "      <td>0.0</td>\n",
       "      <td>0.0</td>\n",
       "      <td>0</td>\n",
       "      <td>0.0</td>\n",
       "      <td>0.0</td>\n",
       "      <td>NaN</td>\n",
       "      <td>NaN</td>\n",
       "      <td>NaN</td>\n",
       "      <td>NaN</td>\n",
       "      <td>2.219</td>\n",
       "    </tr>\n",
       "    <tr>\n",
       "      <th>158005</th>\n",
       "      <td>W202102</td>\n",
       "      <td>01/08/2021</td>\n",
       "      <td>300640002.0</td>\n",
       "      <td>AME</td>\n",
       "      <td>KWD</td>\n",
       "      <td>128923868.0</td>\n",
       "      <td>325.0</td>\n",
       "      <td>721.175</td>\n",
       "      <td>0.00</td>\n",
       "      <td>0.00</td>\n",
       "      <td>...</td>\n",
       "      <td>0.0</td>\n",
       "      <td>0.0</td>\n",
       "      <td>0</td>\n",
       "      <td>0.0</td>\n",
       "      <td>0.0</td>\n",
       "      <td>NaN</td>\n",
       "      <td>NaN</td>\n",
       "      <td>NaN</td>\n",
       "      <td>NaN</td>\n",
       "      <td>0.000</td>\n",
       "    </tr>\n",
       "  </tbody>\n",
       "</table>\n",
       "<p>2 rows × 52 columns</p>\n",
       "</div>"
      ],
      "text/plain": [
       "        week_id  start_date     location brand base_currency       sku_id  \\\n",
       "35729   W202102  01/08/2021  300570002.0   AME           KWD  128923868.0   \n",
       "158005  W202102  01/08/2021  300640002.0   AME           KWD  128923868.0   \n",
       "\n",
       "        ttl_sales_qty  ttl_sales_cost  ttl_sales_value_exvat  \\\n",
       "35729           245.0         543.655                   0.01   \n",
       "158005          325.0         721.175                   0.00   \n",
       "\n",
       "        ttl_sales_value_incvat  ...  adj_writeoff_cost  adj_writeoff_value  \\\n",
       "35729                     0.01  ...                0.0                 0.0   \n",
       "158005                    0.00  ...                0.0                 0.0   \n",
       "\n",
       "        shrink_qty  shrink_cost shrink_value  mdpmd_retail  \\\n",
       "35729            0          0.0          0.0           NaN   \n",
       "158005           0          0.0          0.0           NaN   \n",
       "\n",
       "        pos_markdowns_cost  pos_markdowns_retail  freight_cost  \\\n",
       "35729                  NaN                   NaN           NaN   \n",
       "158005                 NaN                   NaN           NaN   \n",
       "\n",
       "        weighted_average_cost  \n",
       "35729                   2.219  \n",
       "158005                  0.000  \n",
       "\n",
       "[2 rows x 52 columns]"
      ]
     },
     "execution_count": 249,
     "metadata": {},
     "output_type": "execute_result"
    }
   ],
   "source": [
    "data[(data['ttl_sales_cost'] > 400) & (data['ttl_sales_qty'] > 200)]"
   ]
  },
  {
   "cell_type": "code",
   "execution_count": 250,
   "metadata": {},
   "outputs": [
    {
     "name": "stdout",
     "output_type": "stream",
     "text": [
      "<class 'pandas.core.frame.DataFrame'>\n",
      "RangeIndex: 760788 entries, 0 to 760787\n",
      "Data columns (total 52 columns):\n",
      " #   Column                     Non-Null Count   Dtype  \n",
      "---  ------                     --------------   -----  \n",
      " 0   week_id                    760788 non-null  object \n",
      " 1   start_date                 760788 non-null  object \n",
      " 2   location                   710797 non-null  float64\n",
      " 3   brand                      760788 non-null  object \n",
      " 4   base_currency              760788 non-null  object \n",
      " 5   sku_id                     760778 non-null  float64\n",
      " 6   ttl_sales_qty              760788 non-null  float64\n",
      " 7   ttl_sales_cost             760788 non-null  float64\n",
      " 8   ttl_sales_value_exvat      760788 non-null  float64\n",
      " 9   ttl_sales_value_incvat     760788 non-null  float64\n",
      " 10  ttl_sales_qty_lc           760788 non-null  float64\n",
      " 11  ttl_sales_cost_lc          760788 non-null  float64\n",
      " 12  ttl_sales_value_exvat_lc   760788 non-null  float64\n",
      " 13  ttl_sales_value_incvat_lc  760788 non-null  float64\n",
      " 14  local_currency             760788 non-null  object \n",
      " 15  fp_sales_qty               760788 non-null  float64\n",
      " 16  full_price_sales_cost      760788 non-null  float64\n",
      " 17  fp_sales_value_exvat       760788 non-null  float64\n",
      " 18  fp_sales_value_incvat      760788 non-null  float64\n",
      " 19  md_sales_qty               760788 non-null  float64\n",
      " 20  md_sales_cost              760788 non-null  float64\n",
      " 21  md_sales_value_exvat       760788 non-null  float64\n",
      " 22  md_sales_value_incvat      760788 non-null  float64\n",
      " 23  pm_sales_qty               760788 non-null  float64\n",
      " 24  pm_sales_cost              760788 non-null  float64\n",
      " 25  pm_sales_value_exvat       760788 non-null  float64\n",
      " 26  pm_sales_value_incvat      760788 non-null  float64\n",
      " 27  cogs                       760788 non-null  float64\n",
      " 28  gross_margin               760788 non-null  float64\n",
      " 29  concession_sales_qty       0 non-null       float64\n",
      " 30  concession_sales_rtl       0 non-null       float64\n",
      " 31  concession_margin          0 non-null       float64\n",
      " 32  tfrin_qty                  760788 non-null  int64  \n",
      " 33  tfrout_qty                 760788 non-null  int64  \n",
      " 34  grn_qty                    760788 non-null  float64\n",
      " 35  grn_cost                   760788 non-null  float64\n",
      " 36  grn_value                  760788 non-null  float64\n",
      " 37  royalty_retail             760788 non-null  float64\n",
      " 38  adj_manual_qty             760788 non-null  float64\n",
      " 39  adj_manual_cost            760788 non-null  float64\n",
      " 40  adj_manual_value           760788 non-null  float64\n",
      " 41  adj_writeoff_qty           760788 non-null  int64  \n",
      " 42  adj_writeoff_cost          760788 non-null  float64\n",
      " 43  adj_writeoff_value         626777 non-null  float64\n",
      " 44  shrink_qty                 760788 non-null  int64  \n",
      " 45  shrink_cost                760788 non-null  float64\n",
      " 46  shrink_value               760788 non-null  float64\n",
      " 47  mdpmd_retail               0 non-null       float64\n",
      " 48  pos_markdowns_cost         0 non-null       float64\n",
      " 49  pos_markdowns_retail       0 non-null       float64\n",
      " 50  freight_cost               189932 non-null  float64\n",
      " 51  weighted_average_cost      760788 non-null  float64\n",
      "dtypes: float64(43), int64(4), object(5)\n",
      "memory usage: 498.4 MB\n",
      "None\n"
     ]
    }
   ],
   "source": [
    "print(data.info(memory_usage = \"deep\"))"
   ]
  },
  {
   "cell_type": "code",
   "execution_count": 251,
   "metadata": {},
   "outputs": [
    {
     "name": "stdout",
     "output_type": "stream",
     "text": [
      "<class 'pandas.core.frame.DataFrame'>\n",
      "RangeIndex: 291723 entries, 0 to 291722\n",
      "Data columns (total 9 columns):\n",
      " #   Column     Non-Null Count   Dtype  \n",
      "---  ------     --------------   -----  \n",
      " 0   week_id    291723 non-null  object \n",
      " 1   location   273929 non-null  float64\n",
      " 2   brand      291723 non-null  object \n",
      " 3   currency   291723 non-null  object \n",
      " 4   sku_id     291687 non-null  float64\n",
      " 5   uom        291723 non-null  object \n",
      " 6   soh_qty    291723 non-null  int64  \n",
      " 7   soh_cost   291723 non-null  float64\n",
      " 8   soh_value  291723 non-null  float64\n",
      "dtypes: float64(4), int64(1), object(4)\n",
      "memory usage: 78.7 MB\n",
      "None\n"
     ]
    }
   ],
   "source": [
    "print(SOH.info(memory_usage = \"deep\"))"
   ]
  },
  {
   "cell_type": "code",
   "execution_count": 252,
   "metadata": {},
   "outputs": [
    {
     "data": {
      "text/plain": [
       "Index             128\n",
       "week_id      18670272\n",
       "location      2333784\n",
       "brand        17503380\n",
       "currency     17503380\n",
       "sku_id        2333784\n",
       "uom          17211657\n",
       "soh_qty       2333784\n",
       "soh_cost      2333784\n",
       "soh_value     2333784\n",
       "dtype: int64"
      ]
     },
     "execution_count": 252,
     "metadata": {},
     "output_type": "execute_result"
    }
   ],
   "source": [
    "SOH.memory_usage(deep = True)"
   ]
  },
  {
   "cell_type": "code",
   "execution_count": 270,
   "metadata": {},
   "outputs": [],
   "source": [
    "import pandas as pd\n",
    "sr1 = pd.Series(['php', 'python', 'java', 'c#', 'c++'])\n",
    "sr2 = pd.Series([1, 2, 3, 4, 5])\n",
    "sr3 = pd.Series(['a','b','c','d','e'])"
   ]
  },
  {
   "cell_type": "code",
   "execution_count": 279,
   "metadata": {},
   "outputs": [],
   "source": [
    "df = pd.DataFrame(sr1,sr2).reset_index()"
   ]
  },
  {
   "cell_type": "code",
   "execution_count": 275,
   "metadata": {},
   "outputs": [],
   "source": [
    "df1 =  pd.concat({'col1':sr1, 'col2':sr2,'col3':sr3}, axis = 1)"
   ]
  },
  {
   "cell_type": "code",
   "execution_count": 276,
   "metadata": {},
   "outputs": [
    {
     "data": {
      "text/html": [
       "<div>\n",
       "<style scoped>\n",
       "    .dataframe tbody tr th:only-of-type {\n",
       "        vertical-align: middle;\n",
       "    }\n",
       "\n",
       "    .dataframe tbody tr th {\n",
       "        vertical-align: top;\n",
       "    }\n",
       "\n",
       "    .dataframe thead th {\n",
       "        text-align: right;\n",
       "    }\n",
       "</style>\n",
       "<table border=\"1\" class=\"dataframe\">\n",
       "  <thead>\n",
       "    <tr style=\"text-align: right;\">\n",
       "      <th></th>\n",
       "      <th>col1</th>\n",
       "      <th>col2</th>\n",
       "      <th>col3</th>\n",
       "    </tr>\n",
       "  </thead>\n",
       "  <tbody>\n",
       "    <tr>\n",
       "      <th>0</th>\n",
       "      <td>php</td>\n",
       "      <td>1</td>\n",
       "      <td>a</td>\n",
       "    </tr>\n",
       "    <tr>\n",
       "      <th>1</th>\n",
       "      <td>python</td>\n",
       "      <td>2</td>\n",
       "      <td>b</td>\n",
       "    </tr>\n",
       "    <tr>\n",
       "      <th>2</th>\n",
       "      <td>java</td>\n",
       "      <td>3</td>\n",
       "      <td>c</td>\n",
       "    </tr>\n",
       "    <tr>\n",
       "      <th>3</th>\n",
       "      <td>c#</td>\n",
       "      <td>4</td>\n",
       "      <td>d</td>\n",
       "    </tr>\n",
       "    <tr>\n",
       "      <th>4</th>\n",
       "      <td>c++</td>\n",
       "      <td>5</td>\n",
       "      <td>e</td>\n",
       "    </tr>\n",
       "  </tbody>\n",
       "</table>\n",
       "</div>"
      ],
      "text/plain": [
       "     col1  col2 col3\n",
       "0     php     1    a\n",
       "1  python     2    b\n",
       "2    java     3    c\n",
       "3      c#     4    d\n",
       "4     c++     5    e"
      ]
     },
     "execution_count": 276,
     "metadata": {},
     "output_type": "execute_result"
    }
   ],
   "source": [
    "df1"
   ]
  },
  {
   "cell_type": "code",
   "execution_count": 280,
   "metadata": {},
   "outputs": [
    {
     "data": {
      "text/html": [
       "<div>\n",
       "<style scoped>\n",
       "    .dataframe tbody tr th:only-of-type {\n",
       "        vertical-align: middle;\n",
       "    }\n",
       "\n",
       "    .dataframe tbody tr th {\n",
       "        vertical-align: top;\n",
       "    }\n",
       "\n",
       "    .dataframe thead th {\n",
       "        text-align: right;\n",
       "    }\n",
       "</style>\n",
       "<table border=\"1\" class=\"dataframe\">\n",
       "  <thead>\n",
       "    <tr style=\"text-align: right;\">\n",
       "      <th></th>\n",
       "      <th>index</th>\n",
       "      <th>0</th>\n",
       "    </tr>\n",
       "  </thead>\n",
       "  <tbody>\n",
       "    <tr>\n",
       "      <th>0</th>\n",
       "      <td>1</td>\n",
       "      <td>python</td>\n",
       "    </tr>\n",
       "    <tr>\n",
       "      <th>1</th>\n",
       "      <td>2</td>\n",
       "      <td>java</td>\n",
       "    </tr>\n",
       "    <tr>\n",
       "      <th>2</th>\n",
       "      <td>3</td>\n",
       "      <td>c#</td>\n",
       "    </tr>\n",
       "    <tr>\n",
       "      <th>3</th>\n",
       "      <td>4</td>\n",
       "      <td>c++</td>\n",
       "    </tr>\n",
       "    <tr>\n",
       "      <th>4</th>\n",
       "      <td>5</td>\n",
       "      <td>NaN</td>\n",
       "    </tr>\n",
       "  </tbody>\n",
       "</table>\n",
       "</div>"
      ],
      "text/plain": [
       "   index       0\n",
       "0      1  python\n",
       "1      2    java\n",
       "2      3      c#\n",
       "3      4     c++\n",
       "4      5     NaN"
      ]
     },
     "execution_count": 280,
     "metadata": {},
     "output_type": "execute_result"
    }
   ],
   "source": [
    "df"
   ]
  },
  {
   "cell_type": "code",
   "execution_count": 284,
   "metadata": {},
   "outputs": [
    {
     "data": {
      "text/html": [
       "<div>\n",
       "<style scoped>\n",
       "    .dataframe tbody tr th:only-of-type {\n",
       "        vertical-align: middle;\n",
       "    }\n",
       "\n",
       "    .dataframe tbody tr th {\n",
       "        vertical-align: top;\n",
       "    }\n",
       "\n",
       "    .dataframe thead th {\n",
       "        text-align: right;\n",
       "    }\n",
       "</style>\n",
       "<table border=\"1\" class=\"dataframe\">\n",
       "  <thead>\n",
       "    <tr style=\"text-align: right;\">\n",
       "      <th></th>\n",
       "      <th>A</th>\n",
       "      <th>B</th>\n",
       "      <th>C</th>\n",
       "      <th>D</th>\n",
       "    </tr>\n",
       "  </thead>\n",
       "  <tbody>\n",
       "    <tr>\n",
       "      <th>9xOLLYo9lH</th>\n",
       "      <td>1.007271</td>\n",
       "      <td>1.317194</td>\n",
       "      <td>2.062404</td>\n",
       "      <td>0.140696</td>\n",
       "    </tr>\n",
       "    <tr>\n",
       "      <th>2ltbM7lkEj</th>\n",
       "      <td>0.082355</td>\n",
       "      <td>1.106492</td>\n",
       "      <td>0.148418</td>\n",
       "      <td>0.914411</td>\n",
       "    </tr>\n",
       "    <tr>\n",
       "      <th>LbXuSiT6vH</th>\n",
       "      <td>0.827416</td>\n",
       "      <td>-0.438094</td>\n",
       "      <td>-1.074211</td>\n",
       "      <td>0.754641</td>\n",
       "    </tr>\n",
       "    <tr>\n",
       "      <th>JC2o4IjIkz</th>\n",
       "      <td>0.263366</td>\n",
       "      <td>-0.624545</td>\n",
       "      <td>-0.402383</td>\n",
       "      <td>-1.374854</td>\n",
       "    </tr>\n",
       "    <tr>\n",
       "      <th>N8rNJvk72P</th>\n",
       "      <td>-0.591567</td>\n",
       "      <td>-1.801655</td>\n",
       "      <td>0.700643</td>\n",
       "      <td>0.818614</td>\n",
       "    </tr>\n",
       "    <tr>\n",
       "      <th>d8HnXnuqJt</th>\n",
       "      <td>0.087791</td>\n",
       "      <td>-0.873372</td>\n",
       "      <td>-0.139628</td>\n",
       "      <td>0.172971</td>\n",
       "    </tr>\n",
       "    <tr>\n",
       "      <th>udULR6Osxu</th>\n",
       "      <td>-1.106271</td>\n",
       "      <td>0.493074</td>\n",
       "      <td>-0.301514</td>\n",
       "      <td>0.959368</td>\n",
       "    </tr>\n",
       "    <tr>\n",
       "      <th>eK0jAQWcA3</th>\n",
       "      <td>-0.122501</td>\n",
       "      <td>1.183293</td>\n",
       "      <td>-0.193019</td>\n",
       "      <td>1.838640</td>\n",
       "    </tr>\n",
       "    <tr>\n",
       "      <th>NMN8CKY3LB</th>\n",
       "      <td>0.552360</td>\n",
       "      <td>-0.076527</td>\n",
       "      <td>0.707968</td>\n",
       "      <td>-3.003234</td>\n",
       "    </tr>\n",
       "    <tr>\n",
       "      <th>EFiNJ6v2z2</th>\n",
       "      <td>0.024854</td>\n",
       "      <td>0.098770</td>\n",
       "      <td>-0.856304</td>\n",
       "      <td>0.930577</td>\n",
       "    </tr>\n",
       "    <tr>\n",
       "      <th>Ow8auD5s1O</th>\n",
       "      <td>-1.044859</td>\n",
       "      <td>0.156835</td>\n",
       "      <td>0.866295</td>\n",
       "      <td>0.846622</td>\n",
       "    </tr>\n",
       "    <tr>\n",
       "      <th>4yMKAMv15U</th>\n",
       "      <td>0.673868</td>\n",
       "      <td>-1.615184</td>\n",
       "      <td>1.351659</td>\n",
       "      <td>-0.392671</td>\n",
       "    </tr>\n",
       "    <tr>\n",
       "      <th>5QNNp8FDyU</th>\n",
       "      <td>0.874344</td>\n",
       "      <td>1.510868</td>\n",
       "      <td>1.324157</td>\n",
       "      <td>0.831512</td>\n",
       "    </tr>\n",
       "    <tr>\n",
       "      <th>uVjwXTqJQj</th>\n",
       "      <td>0.836609</td>\n",
       "      <td>-1.047282</td>\n",
       "      <td>-0.489642</td>\n",
       "      <td>1.087499</td>\n",
       "    </tr>\n",
       "    <tr>\n",
       "      <th>CPVCYfXIEp</th>\n",
       "      <td>1.615911</td>\n",
       "      <td>-1.455478</td>\n",
       "      <td>-1.178008</td>\n",
       "      <td>-0.724139</td>\n",
       "    </tr>\n",
       "    <tr>\n",
       "      <th>8ti7ne7GVO</th>\n",
       "      <td>0.858959</td>\n",
       "      <td>1.759553</td>\n",
       "      <td>-0.536427</td>\n",
       "      <td>1.460870</td>\n",
       "    </tr>\n",
       "    <tr>\n",
       "      <th>kJjd97Pcku</th>\n",
       "      <td>-0.164187</td>\n",
       "      <td>0.208203</td>\n",
       "      <td>1.196175</td>\n",
       "      <td>-0.529056</td>\n",
       "    </tr>\n",
       "    <tr>\n",
       "      <th>m83wxbABST</th>\n",
       "      <td>-0.081611</td>\n",
       "      <td>1.217619</td>\n",
       "      <td>0.681636</td>\n",
       "      <td>-1.461338</td>\n",
       "    </tr>\n",
       "    <tr>\n",
       "      <th>IUXhjsETLq</th>\n",
       "      <td>0.393506</td>\n",
       "      <td>-1.020291</td>\n",
       "      <td>1.095758</td>\n",
       "      <td>-1.598681</td>\n",
       "    </tr>\n",
       "    <tr>\n",
       "      <th>HzhWt6AOvx</th>\n",
       "      <td>-0.468330</td>\n",
       "      <td>1.399713</td>\n",
       "      <td>0.045951</td>\n",
       "      <td>-0.879016</td>\n",
       "    </tr>\n",
       "    <tr>\n",
       "      <th>CibLPn8ojd</th>\n",
       "      <td>0.250812</td>\n",
       "      <td>1.851210</td>\n",
       "      <td>0.816212</td>\n",
       "      <td>-0.199836</td>\n",
       "    </tr>\n",
       "    <tr>\n",
       "      <th>sAK4TD9Jkg</th>\n",
       "      <td>0.150729</td>\n",
       "      <td>-0.834629</td>\n",
       "      <td>-0.418031</td>\n",
       "      <td>-1.193145</td>\n",
       "    </tr>\n",
       "    <tr>\n",
       "      <th>KKlYi3ojzW</th>\n",
       "      <td>1.890886</td>\n",
       "      <td>-1.236042</td>\n",
       "      <td>-1.339445</td>\n",
       "      <td>0.761181</td>\n",
       "    </tr>\n",
       "    <tr>\n",
       "      <th>lvcf1FESRS</th>\n",
       "      <td>-1.301144</td>\n",
       "      <td>-1.141785</td>\n",
       "      <td>-1.091063</td>\n",
       "      <td>-0.556069</td>\n",
       "    </tr>\n",
       "    <tr>\n",
       "      <th>a8R8xrREHr</th>\n",
       "      <td>-0.142233</td>\n",
       "      <td>-0.245864</td>\n",
       "      <td>-1.501198</td>\n",
       "      <td>1.048099</td>\n",
       "    </tr>\n",
       "    <tr>\n",
       "      <th>lD3NTgn3W7</th>\n",
       "      <td>-0.071385</td>\n",
       "      <td>0.456050</td>\n",
       "      <td>-0.507633</td>\n",
       "      <td>0.763378</td>\n",
       "    </tr>\n",
       "    <tr>\n",
       "      <th>CAF7RYhnxW</th>\n",
       "      <td>0.722919</td>\n",
       "      <td>-0.697368</td>\n",
       "      <td>0.082772</td>\n",
       "      <td>-0.890411</td>\n",
       "    </tr>\n",
       "    <tr>\n",
       "      <th>o3wAcLDaI5</th>\n",
       "      <td>0.318535</td>\n",
       "      <td>-0.829608</td>\n",
       "      <td>-1.401851</td>\n",
       "      <td>0.470177</td>\n",
       "    </tr>\n",
       "    <tr>\n",
       "      <th>5WNTH4ZsMm</th>\n",
       "      <td>-0.303752</td>\n",
       "      <td>1.127243</td>\n",
       "      <td>-0.078980</td>\n",
       "      <td>-0.879569</td>\n",
       "    </tr>\n",
       "    <tr>\n",
       "      <th>BVS8PgO1FO</th>\n",
       "      <td>-3.170899</td>\n",
       "      <td>-1.901807</td>\n",
       "      <td>0.095726</td>\n",
       "      <td>-3.360040</td>\n",
       "    </tr>\n",
       "  </tbody>\n",
       "</table>\n",
       "</div>"
      ],
      "text/plain": [
       "                   A         B         C         D\n",
       "9xOLLYo9lH  1.007271  1.317194  2.062404  0.140696\n",
       "2ltbM7lkEj  0.082355  1.106492  0.148418  0.914411\n",
       "LbXuSiT6vH  0.827416 -0.438094 -1.074211  0.754641\n",
       "JC2o4IjIkz  0.263366 -0.624545 -0.402383 -1.374854\n",
       "N8rNJvk72P -0.591567 -1.801655  0.700643  0.818614\n",
       "d8HnXnuqJt  0.087791 -0.873372 -0.139628  0.172971\n",
       "udULR6Osxu -1.106271  0.493074 -0.301514  0.959368\n",
       "eK0jAQWcA3 -0.122501  1.183293 -0.193019  1.838640\n",
       "NMN8CKY3LB  0.552360 -0.076527  0.707968 -3.003234\n",
       "EFiNJ6v2z2  0.024854  0.098770 -0.856304  0.930577\n",
       "Ow8auD5s1O -1.044859  0.156835  0.866295  0.846622\n",
       "4yMKAMv15U  0.673868 -1.615184  1.351659 -0.392671\n",
       "5QNNp8FDyU  0.874344  1.510868  1.324157  0.831512\n",
       "uVjwXTqJQj  0.836609 -1.047282 -0.489642  1.087499\n",
       "CPVCYfXIEp  1.615911 -1.455478 -1.178008 -0.724139\n",
       "8ti7ne7GVO  0.858959  1.759553 -0.536427  1.460870\n",
       "kJjd97Pcku -0.164187  0.208203  1.196175 -0.529056\n",
       "m83wxbABST -0.081611  1.217619  0.681636 -1.461338\n",
       "IUXhjsETLq  0.393506 -1.020291  1.095758 -1.598681\n",
       "HzhWt6AOvx -0.468330  1.399713  0.045951 -0.879016\n",
       "CibLPn8ojd  0.250812  1.851210  0.816212 -0.199836\n",
       "sAK4TD9Jkg  0.150729 -0.834629 -0.418031 -1.193145\n",
       "KKlYi3ojzW  1.890886 -1.236042 -1.339445  0.761181\n",
       "lvcf1FESRS -1.301144 -1.141785 -1.091063 -0.556069\n",
       "a8R8xrREHr -0.142233 -0.245864 -1.501198  1.048099\n",
       "lD3NTgn3W7 -0.071385  0.456050 -0.507633  0.763378\n",
       "CAF7RYhnxW  0.722919 -0.697368  0.082772 -0.890411\n",
       "o3wAcLDaI5  0.318535 -0.829608 -1.401851  0.470177\n",
       "5WNTH4ZsMm -0.303752  1.127243 -0.078980 -0.879569\n",
       "BVS8PgO1FO -3.170899 -1.901807  0.095726 -3.360040"
      ]
     },
     "execution_count": 284,
     "metadata": {},
     "output_type": "execute_result"
    }
   ],
   "source": [
    "testDf1 = pd.util.testing.makeDataFrame()\n",
    "testDf1"
   ]
  },
  {
   "cell_type": "code",
   "execution_count": 291,
   "metadata": {},
   "outputs": [
    {
     "data": {
      "text/html": [
       "<div>\n",
       "<style scoped>\n",
       "    .dataframe tbody tr th:only-of-type {\n",
       "        vertical-align: middle;\n",
       "    }\n",
       "\n",
       "    .dataframe tbody tr th {\n",
       "        vertical-align: top;\n",
       "    }\n",
       "\n",
       "    .dataframe thead th {\n",
       "        text-align: right;\n",
       "    }\n",
       "</style>\n",
       "<table border=\"1\" class=\"dataframe\">\n",
       "  <thead>\n",
       "    <tr style=\"text-align: right;\">\n",
       "      <th></th>\n",
       "      <th>A</th>\n",
       "      <th>B</th>\n",
       "      <th>C</th>\n",
       "      <th>D</th>\n",
       "    </tr>\n",
       "  </thead>\n",
       "  <tbody>\n",
       "    <tr>\n",
       "      <th>2000-01-03</th>\n",
       "      <td>1.050658</td>\n",
       "      <td>2.266296</td>\n",
       "      <td>-0.039605</td>\n",
       "      <td>-0.413457</td>\n",
       "    </tr>\n",
       "    <tr>\n",
       "      <th>2000-01-04</th>\n",
       "      <td>0.328435</td>\n",
       "      <td>0.620873</td>\n",
       "      <td>-0.518713</td>\n",
       "      <td>-0.760497</td>\n",
       "    </tr>\n",
       "    <tr>\n",
       "      <th>2000-01-05</th>\n",
       "      <td>0.727128</td>\n",
       "      <td>-0.766134</td>\n",
       "      <td>-0.310672</td>\n",
       "      <td>1.379448</td>\n",
       "    </tr>\n",
       "    <tr>\n",
       "      <th>2000-01-06</th>\n",
       "      <td>0.501465</td>\n",
       "      <td>0.876823</td>\n",
       "      <td>-0.111931</td>\n",
       "      <td>-0.289758</td>\n",
       "    </tr>\n",
       "    <tr>\n",
       "      <th>2000-01-07</th>\n",
       "      <td>-0.904018</td>\n",
       "      <td>-0.772073</td>\n",
       "      <td>-0.008246</td>\n",
       "      <td>0.156493</td>\n",
       "    </tr>\n",
       "    <tr>\n",
       "      <th>2000-01-10</th>\n",
       "      <td>0.721980</td>\n",
       "      <td>-1.093589</td>\n",
       "      <td>1.541359</td>\n",
       "      <td>0.940823</td>\n",
       "    </tr>\n",
       "    <tr>\n",
       "      <th>2000-01-11</th>\n",
       "      <td>2.109001</td>\n",
       "      <td>0.828935</td>\n",
       "      <td>0.234764</td>\n",
       "      <td>-0.595389</td>\n",
       "    </tr>\n",
       "    <tr>\n",
       "      <th>2000-01-12</th>\n",
       "      <td>-1.089122</td>\n",
       "      <td>0.244209</td>\n",
       "      <td>1.468007</td>\n",
       "      <td>-1.925636</td>\n",
       "    </tr>\n",
       "    <tr>\n",
       "      <th>2000-01-13</th>\n",
       "      <td>0.865981</td>\n",
       "      <td>0.174905</td>\n",
       "      <td>0.267356</td>\n",
       "      <td>-1.331106</td>\n",
       "    </tr>\n",
       "    <tr>\n",
       "      <th>2000-01-14</th>\n",
       "      <td>1.231000</td>\n",
       "      <td>0.684141</td>\n",
       "      <td>-0.499559</td>\n",
       "      <td>-0.678558</td>\n",
       "    </tr>\n",
       "    <tr>\n",
       "      <th>2000-01-17</th>\n",
       "      <td>0.344814</td>\n",
       "      <td>0.662870</td>\n",
       "      <td>-0.643678</td>\n",
       "      <td>-0.960285</td>\n",
       "    </tr>\n",
       "    <tr>\n",
       "      <th>2000-01-18</th>\n",
       "      <td>-0.000782</td>\n",
       "      <td>-1.129871</td>\n",
       "      <td>1.037226</td>\n",
       "      <td>0.434913</td>\n",
       "    </tr>\n",
       "    <tr>\n",
       "      <th>2000-01-19</th>\n",
       "      <td>-0.563026</td>\n",
       "      <td>0.902512</td>\n",
       "      <td>0.824174</td>\n",
       "      <td>0.224995</td>\n",
       "    </tr>\n",
       "    <tr>\n",
       "      <th>2000-01-20</th>\n",
       "      <td>0.235740</td>\n",
       "      <td>2.336025</td>\n",
       "      <td>1.716711</td>\n",
       "      <td>0.541493</td>\n",
       "    </tr>\n",
       "    <tr>\n",
       "      <th>2000-01-21</th>\n",
       "      <td>0.061175</td>\n",
       "      <td>0.751832</td>\n",
       "      <td>1.027165</td>\n",
       "      <td>-1.275388</td>\n",
       "    </tr>\n",
       "    <tr>\n",
       "      <th>2000-01-24</th>\n",
       "      <td>-0.857058</td>\n",
       "      <td>0.277304</td>\n",
       "      <td>-0.209601</td>\n",
       "      <td>-1.186321</td>\n",
       "    </tr>\n",
       "    <tr>\n",
       "      <th>2000-01-25</th>\n",
       "      <td>0.661100</td>\n",
       "      <td>0.934252</td>\n",
       "      <td>2.191354</td>\n",
       "      <td>0.510047</td>\n",
       "    </tr>\n",
       "    <tr>\n",
       "      <th>2000-01-26</th>\n",
       "      <td>0.235835</td>\n",
       "      <td>-1.129124</td>\n",
       "      <td>0.021449</td>\n",
       "      <td>-1.809091</td>\n",
       "    </tr>\n",
       "    <tr>\n",
       "      <th>2000-01-27</th>\n",
       "      <td>1.023345</td>\n",
       "      <td>-0.284116</td>\n",
       "      <td>-0.732713</td>\n",
       "      <td>0.202554</td>\n",
       "    </tr>\n",
       "    <tr>\n",
       "      <th>2000-01-28</th>\n",
       "      <td>-0.388790</td>\n",
       "      <td>0.547027</td>\n",
       "      <td>-0.497918</td>\n",
       "      <td>-1.018903</td>\n",
       "    </tr>\n",
       "    <tr>\n",
       "      <th>2000-01-31</th>\n",
       "      <td>-0.881186</td>\n",
       "      <td>0.778086</td>\n",
       "      <td>0.666515</td>\n",
       "      <td>1.070379</td>\n",
       "    </tr>\n",
       "    <tr>\n",
       "      <th>2000-02-01</th>\n",
       "      <td>-0.193039</td>\n",
       "      <td>0.162996</td>\n",
       "      <td>0.823699</td>\n",
       "      <td>-1.523775</td>\n",
       "    </tr>\n",
       "    <tr>\n",
       "      <th>2000-02-02</th>\n",
       "      <td>-0.533251</td>\n",
       "      <td>0.609683</td>\n",
       "      <td>-0.243770</td>\n",
       "      <td>-0.097620</td>\n",
       "    </tr>\n",
       "    <tr>\n",
       "      <th>2000-02-03</th>\n",
       "      <td>-0.423931</td>\n",
       "      <td>-0.287398</td>\n",
       "      <td>0.059248</td>\n",
       "      <td>-0.914379</td>\n",
       "    </tr>\n",
       "    <tr>\n",
       "      <th>2000-02-04</th>\n",
       "      <td>1.594302</td>\n",
       "      <td>0.217480</td>\n",
       "      <td>-0.688020</td>\n",
       "      <td>0.099224</td>\n",
       "    </tr>\n",
       "    <tr>\n",
       "      <th>2000-02-07</th>\n",
       "      <td>0.890509</td>\n",
       "      <td>-1.875004</td>\n",
       "      <td>0.817335</td>\n",
       "      <td>-0.489777</td>\n",
       "    </tr>\n",
       "    <tr>\n",
       "      <th>2000-02-08</th>\n",
       "      <td>0.814823</td>\n",
       "      <td>1.709258</td>\n",
       "      <td>-0.746129</td>\n",
       "      <td>0.095927</td>\n",
       "    </tr>\n",
       "    <tr>\n",
       "      <th>2000-02-09</th>\n",
       "      <td>-0.223226</td>\n",
       "      <td>0.398455</td>\n",
       "      <td>2.702429</td>\n",
       "      <td>0.047497</td>\n",
       "    </tr>\n",
       "    <tr>\n",
       "      <th>2000-02-10</th>\n",
       "      <td>0.965615</td>\n",
       "      <td>-1.284835</td>\n",
       "      <td>0.636919</td>\n",
       "      <td>-0.129188</td>\n",
       "    </tr>\n",
       "    <tr>\n",
       "      <th>2000-02-11</th>\n",
       "      <td>-1.216872</td>\n",
       "      <td>0.915967</td>\n",
       "      <td>-1.688163</td>\n",
       "      <td>0.583129</td>\n",
       "    </tr>\n",
       "  </tbody>\n",
       "</table>\n",
       "</div>"
      ],
      "text/plain": [
       "                   A         B         C         D\n",
       "2000-01-03  1.050658  2.266296 -0.039605 -0.413457\n",
       "2000-01-04  0.328435  0.620873 -0.518713 -0.760497\n",
       "2000-01-05  0.727128 -0.766134 -0.310672  1.379448\n",
       "2000-01-06  0.501465  0.876823 -0.111931 -0.289758\n",
       "2000-01-07 -0.904018 -0.772073 -0.008246  0.156493\n",
       "2000-01-10  0.721980 -1.093589  1.541359  0.940823\n",
       "2000-01-11  2.109001  0.828935  0.234764 -0.595389\n",
       "2000-01-12 -1.089122  0.244209  1.468007 -1.925636\n",
       "2000-01-13  0.865981  0.174905  0.267356 -1.331106\n",
       "2000-01-14  1.231000  0.684141 -0.499559 -0.678558\n",
       "2000-01-17  0.344814  0.662870 -0.643678 -0.960285\n",
       "2000-01-18 -0.000782 -1.129871  1.037226  0.434913\n",
       "2000-01-19 -0.563026  0.902512  0.824174  0.224995\n",
       "2000-01-20  0.235740  2.336025  1.716711  0.541493\n",
       "2000-01-21  0.061175  0.751832  1.027165 -1.275388\n",
       "2000-01-24 -0.857058  0.277304 -0.209601 -1.186321\n",
       "2000-01-25  0.661100  0.934252  2.191354  0.510047\n",
       "2000-01-26  0.235835 -1.129124  0.021449 -1.809091\n",
       "2000-01-27  1.023345 -0.284116 -0.732713  0.202554\n",
       "2000-01-28 -0.388790  0.547027 -0.497918 -1.018903\n",
       "2000-01-31 -0.881186  0.778086  0.666515  1.070379\n",
       "2000-02-01 -0.193039  0.162996  0.823699 -1.523775\n",
       "2000-02-02 -0.533251  0.609683 -0.243770 -0.097620\n",
       "2000-02-03 -0.423931 -0.287398  0.059248 -0.914379\n",
       "2000-02-04  1.594302  0.217480 -0.688020  0.099224\n",
       "2000-02-07  0.890509 -1.875004  0.817335 -0.489777\n",
       "2000-02-08  0.814823  1.709258 -0.746129  0.095927\n",
       "2000-02-09 -0.223226  0.398455  2.702429  0.047497\n",
       "2000-02-10  0.965615 -1.284835  0.636919 -0.129188\n",
       "2000-02-11 -1.216872  0.915967 -1.688163  0.583129"
      ]
     },
     "execution_count": 291,
     "metadata": {},
     "output_type": "execute_result"
    }
   ],
   "source": [
    "testDf2 = pd.util.testing.makeTimeDataFrame()\n",
    "testDf2"
   ]
  },
  {
   "cell_type": "code",
   "execution_count": 292,
   "metadata": {},
   "outputs": [
    {
     "name": "stdout",
     "output_type": "stream",
     "text": [
      "    W   X   Y   Z\n",
      "0  68  78  84  86\n",
      "1  75  85  94  97\n",
      "2  86  96  89  96\n",
      "3  80  80  83  72\n",
      "4  66  86  86  83\n"
     ]
    },
    {
     "data": {
      "text/plain": [
       "86"
      ]
     },
     "execution_count": 292,
     "metadata": {},
     "output_type": "execute_result"
    }
   ],
   "source": [
    "import pandas as pd\n",
    "df = pd.DataFrame({'W':[68,75,86,80,66],'X':[78,85,96,80,86], 'Y':[84,94,89,83,86],'Z':[86,97,96,72,83]});\n",
    "print(df)\n",
    "maxx = df[\"W\"].max()\n",
    "maxx"
   ]
  },
  {
   "cell_type": "code",
   "execution_count": 294,
   "metadata": {},
   "outputs": [
    {
     "data": {
      "text/html": [
       "<div>\n",
       "<style scoped>\n",
       "    .dataframe tbody tr th:only-of-type {\n",
       "        vertical-align: middle;\n",
       "    }\n",
       "\n",
       "    .dataframe tbody tr th {\n",
       "        vertical-align: top;\n",
       "    }\n",
       "\n",
       "    .dataframe thead th {\n",
       "        text-align: right;\n",
       "    }\n",
       "</style>\n",
       "<table border=\"1\" class=\"dataframe\">\n",
       "  <thead>\n",
       "    <tr style=\"text-align: right;\">\n",
       "      <th></th>\n",
       "      <th>W</th>\n",
       "      <th>X</th>\n",
       "      <th>Y</th>\n",
       "      <th>Z</th>\n",
       "    </tr>\n",
       "  </thead>\n",
       "  <tbody>\n",
       "    <tr>\n",
       "      <th>3</th>\n",
       "      <td>80</td>\n",
       "      <td>80</td>\n",
       "      <td>83</td>\n",
       "      <td>72</td>\n",
       "    </tr>\n",
       "    <tr>\n",
       "      <th>4</th>\n",
       "      <td>66</td>\n",
       "      <td>86</td>\n",
       "      <td>86</td>\n",
       "      <td>83</td>\n",
       "    </tr>\n",
       "  </tbody>\n",
       "</table>\n",
       "</div>"
      ],
      "text/plain": [
       "    W   X   Y   Z\n",
       "3  80  80  83  72\n",
       "4  66  86  86  83"
      ]
     },
     "execution_count": 294,
     "metadata": {},
     "output_type": "execute_result"
    }
   ],
   "source": [
    "df.query(\"Z < @maxx\")"
   ]
  },
  {
   "cell_type": "code",
   "execution_count": 296,
   "metadata": {},
   "outputs": [
    {
     "data": {
      "text/html": [
       "<div>\n",
       "<style scoped>\n",
       "    .dataframe tbody tr th:only-of-type {\n",
       "        vertical-align: middle;\n",
       "    }\n",
       "\n",
       "    .dataframe tbody tr th {\n",
       "        vertical-align: top;\n",
       "    }\n",
       "\n",
       "    .dataframe thead th {\n",
       "        text-align: right;\n",
       "    }\n",
       "</style>\n",
       "<table border=\"1\" class=\"dataframe\">\n",
       "  <thead>\n",
       "    <tr style=\"text-align: right;\">\n",
       "      <th></th>\n",
       "      <th>W</th>\n",
       "      <th>X</th>\n",
       "      <th>Y</th>\n",
       "      <th>Z</th>\n",
       "    </tr>\n",
       "  </thead>\n",
       "  <tbody>\n",
       "    <tr>\n",
       "      <th>3</th>\n",
       "      <td>80</td>\n",
       "      <td>80</td>\n",
       "      <td>83</td>\n",
       "      <td>72</td>\n",
       "    </tr>\n",
       "    <tr>\n",
       "      <th>4</th>\n",
       "      <td>66</td>\n",
       "      <td>86</td>\n",
       "      <td>86</td>\n",
       "      <td>83</td>\n",
       "    </tr>\n",
       "  </tbody>\n",
       "</table>\n",
       "</div>"
      ],
      "text/plain": [
       "    W   X   Y   Z\n",
       "3  80  80  83  72\n",
       "4  66  86  86  83"
      ]
     },
     "execution_count": 296,
     "metadata": {},
     "output_type": "execute_result"
    }
   ],
   "source": [
    "df[df['Z'] < df[\"W\"].max()]"
   ]
  },
  {
   "cell_type": "code",
   "execution_count": 301,
   "metadata": {},
   "outputs": [
    {
     "name": "stdout",
     "output_type": "stream",
     "text": [
      "  agent  purchase\n",
      "0  a001      4500\n",
      "1  a002      7500\n",
      "2  a003  $3000.25\n",
      "3  a003  $1250.35\n",
      "4  a004   9000.00\n"
     ]
    },
    {
     "data": {
      "text/plain": [
       "0    <class 'float'>\n",
       "1    <class 'float'>\n",
       "2      <class 'str'>\n",
       "3      <class 'str'>\n",
       "4      <class 'str'>\n",
       "Name: purchase, dtype: object"
      ]
     },
     "execution_count": 301,
     "metadata": {},
     "output_type": "execute_result"
    }
   ],
   "source": [
    "import pandas as pd\n",
    "d = {\"agent\": [\"a001\", \"a002\", \"a003\", \"a003\", \"a004\"], \"purchase\":[4500.00, 7500.00, \"$3000.25\", \"$1250.35\", \"9000.00\"]}\n",
    "df = pd.DataFrame(d)\n",
    "print(df)\n",
    "df[\"purchase\"].apply(type)"
   ]
  },
  {
   "cell_type": "code",
   "execution_count": 299,
   "metadata": {},
   "outputs": [],
   "source": [
    "df[\"purchase\"] = df[\"purchase\"].replace(\"[$]\", \"\", regex  = True).astype(\"float\")"
   ]
  },
  {
   "cell_type": "code",
   "execution_count": 300,
   "metadata": {},
   "outputs": [
    {
     "data": {
      "text/plain": [
       "0    4500.00\n",
       "1    7500.00\n",
       "2    3000.25\n",
       "3    1250.35\n",
       "4    9000.00\n",
       "Name: purchase, dtype: float64"
      ]
     },
     "execution_count": 300,
     "metadata": {},
     "output_type": "execute_result"
    }
   ],
   "source": [
    "df[\"purchase\"]"
   ]
  },
  {
   "cell_type": "code",
   "execution_count": null,
   "metadata": {},
   "outputs": [],
   "source": []
  },
  {
   "cell_type": "code",
   "execution_count": null,
   "metadata": {},
   "outputs": [],
   "source": []
  },
  {
   "cell_type": "code",
   "execution_count": 2,
   "metadata": {},
   "outputs": [
    {
     "data": {
      "text/plain": [
       "'800036'"
      ]
     },
     "execution_count": 2,
     "metadata": {},
     "output_type": "execute_result"
    }
   ],
   "source": [
    "x = '800036.0'\n",
    "\n",
    "import regex as re\n",
    "re.sub(r'\\.0','',x)"
   ]
  },
  {
   "cell_type": "code",
   "execution_count": 3,
   "metadata": {},
   "outputs": [],
   "source": [
    "import pandas as pd\n",
    "df = pd.DataFrame({\n",
    "    'Name': ['Alberto Franco','Gino Mcneill','Ryan Parkes', 'Eesha Hinton', 'Gino Mcneill'],\n",
    "    'Date_Of_Birth ': ['17/05/2002','16/02/1999','25/09/1998','11/05/2002','15/09/1997'],\n",
    "    'Age': [18.5, 21.2, 22.5, 22, 23]\n",
    "})"
   ]
  },
  {
   "cell_type": "code",
   "execution_count": 4,
   "metadata": {},
   "outputs": [
    {
     "data": {
      "text/plain": [
       "(array([0, 1, 2, 3, 1], dtype=int64),\n",
       " Index(['Alberto Franco', 'Gino Mcneill', 'Ryan Parkes', 'Eesha Hinton'], dtype='object'))"
      ]
     },
     "execution_count": 4,
     "metadata": {},
     "output_type": "execute_result"
    }
   ],
   "source": [
    "pd.factorize(df['Name'])"
   ]
  },
  {
   "cell_type": "code",
   "execution_count": 5,
   "metadata": {},
   "outputs": [],
   "source": [
    "df1 = pd.DataFrame({'W':[68,75,86,80,None],'X':[78,85,None,80,86], 'Y':[84,94,89,83,86],'Z':[86,97,96,72,83]});\n",
    "df2 = pd.DataFrame({'W':[78,75,86,80,None],'X':[78,85,96,80,76], 'Y':[84,84,89,83,86],'Z':[86,97,96,72,83]});"
   ]
  },
  {
   "cell_type": "code",
   "execution_count": 6,
   "metadata": {},
   "outputs": [
    {
     "data": {
      "text/html": [
       "<div>\n",
       "<style scoped>\n",
       "    .dataframe tbody tr th:only-of-type {\n",
       "        vertical-align: middle;\n",
       "    }\n",
       "\n",
       "    .dataframe tbody tr th {\n",
       "        vertical-align: top;\n",
       "    }\n",
       "\n",
       "    .dataframe thead th {\n",
       "        text-align: right;\n",
       "    }\n",
       "</style>\n",
       "<table border=\"1\" class=\"dataframe\">\n",
       "  <thead>\n",
       "    <tr style=\"text-align: right;\">\n",
       "      <th></th>\n",
       "      <th>W</th>\n",
       "      <th>X</th>\n",
       "      <th>Y</th>\n",
       "      <th>Z</th>\n",
       "    </tr>\n",
       "  </thead>\n",
       "  <tbody>\n",
       "    <tr>\n",
       "      <th>0</th>\n",
       "      <td>False</td>\n",
       "      <td>True</td>\n",
       "      <td>True</td>\n",
       "      <td>True</td>\n",
       "    </tr>\n",
       "    <tr>\n",
       "      <th>1</th>\n",
       "      <td>True</td>\n",
       "      <td>True</td>\n",
       "      <td>False</td>\n",
       "      <td>True</td>\n",
       "    </tr>\n",
       "    <tr>\n",
       "      <th>2</th>\n",
       "      <td>True</td>\n",
       "      <td>False</td>\n",
       "      <td>True</td>\n",
       "      <td>True</td>\n",
       "    </tr>\n",
       "    <tr>\n",
       "      <th>3</th>\n",
       "      <td>True</td>\n",
       "      <td>True</td>\n",
       "      <td>True</td>\n",
       "      <td>True</td>\n",
       "    </tr>\n",
       "    <tr>\n",
       "      <th>4</th>\n",
       "      <td>False</td>\n",
       "      <td>False</td>\n",
       "      <td>True</td>\n",
       "      <td>True</td>\n",
       "    </tr>\n",
       "  </tbody>\n",
       "</table>\n",
       "</div>"
      ],
      "text/plain": [
       "       W      X      Y     Z\n",
       "0  False   True   True  True\n",
       "1   True   True  False  True\n",
       "2   True  False   True  True\n",
       "3   True   True   True  True\n",
       "4  False  False   True  True"
      ]
     },
     "execution_count": 6,
     "metadata": {},
     "output_type": "execute_result"
    }
   ],
   "source": [
    "x = df1 == df2\n",
    "x"
   ]
  },
  {
   "cell_type": "code",
   "execution_count": 16,
   "metadata": {},
   "outputs": [],
   "source": [
    "from bisect import bisect_left\n",
    "a  = [1, 2, 4, 4, 8]\n",
    "x = int(9)\n",
    "i = bisect_left(a, x)"
   ]
  },
  {
   "cell_type": "code",
   "execution_count": 17,
   "metadata": {},
   "outputs": [
    {
     "data": {
      "text/plain": [
       "5"
      ]
     },
     "execution_count": 17,
     "metadata": {},
     "output_type": "execute_result"
    }
   ],
   "source": [
    "i"
   ]
  },
  {
   "cell_type": "code",
   "execution_count": 14,
   "metadata": {},
   "outputs": [],
   "source": [
    "from bisect import bisect_right\n",
    "a  = [1, 2, 4, 4, 8]\n",
    "x = int(9)\n",
    "i = bisect_right(a, x)"
   ]
  },
  {
   "cell_type": "code",
   "execution_count": 15,
   "metadata": {},
   "outputs": [
    {
     "data": {
      "text/plain": [
       "5"
      ]
     },
     "execution_count": 15,
     "metadata": {},
     "output_type": "execute_result"
    }
   ],
   "source": [
    "i"
   ]
  },
  {
   "cell_type": "code",
   "execution_count": 30,
   "metadata": {},
   "outputs": [
    {
     "data": {
      "text/plain": [
       "3"
      ]
     },
     "execution_count": 30,
     "metadata": {},
     "output_type": "execute_result"
    }
   ],
   "source": [
    "def decor(func):\n",
    "    def inner(*args):\n",
    "        initial_ret = func(*args)\n",
    "        return len(args), initial_ret\n",
    "    return inner\n",
    "\n",
    "def binary_search(high,low, array,x):\n",
    "    if high >= low:\n",
    "        mid = (high + low)//2\n",
    "        if array[mid] == x:\n",
    "            return mid\n",
    "        elif x > array[mid]:\n",
    "            return binary_search(high,mid + 1, array,x)\n",
    "        else:\n",
    "            return binary_search(mid - 1,low, array,x)\n",
    "\n",
    "arr = [ 2, 3, 4, 10, 40,50 ]\n",
    "x = 10\n",
    "binary_search(len(arr)-1,0,arr ,x)"
   ]
  },
  {
   "cell_type": "code",
   "execution_count": 32,
   "metadata": {},
   "outputs": [
    {
     "data": {
      "text/plain": [
       "6"
      ]
     },
     "execution_count": 32,
     "metadata": {},
     "output_type": "execute_result"
    }
   ],
   "source": [
    "(3 + 10)//2"
   ]
  },
  {
   "cell_type": "code",
   "execution_count": 34,
   "metadata": {},
   "outputs": [
    {
     "data": {
      "text/plain": [
       "3"
      ]
     },
     "execution_count": 34,
     "metadata": {},
     "output_type": "execute_result"
    }
   ],
   "source": [
    "lst = (1,1,1,2,2,3,4,5)\n",
    "lst.count(1)"
   ]
  },
  {
   "cell_type": "code",
   "execution_count": null,
   "metadata": {},
   "outputs": [],
   "source": []
  }
 ],
 "metadata": {
  "kernelspec": {
   "display_name": "Python 3",
   "language": "python",
   "name": "python3"
  },
  "language_info": {
   "codemirror_mode": {
    "name": "ipython",
    "version": 3
   },
   "file_extension": ".py",
   "mimetype": "text/x-python",
   "name": "python",
   "nbconvert_exporter": "python",
   "pygments_lexer": "ipython3",
   "version": "3.8.5"
  }
 },
 "nbformat": 4,
 "nbformat_minor": 4
}
