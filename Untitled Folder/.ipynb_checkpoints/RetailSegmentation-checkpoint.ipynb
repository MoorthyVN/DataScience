{
 "cells": [
  {
   "cell_type": "code",
   "execution_count": 106,
   "metadata": {},
   "outputs": [],
   "source": [
    "import pandas as pd\n",
    "raw_data = pd.read_excel(r'Online Retail.xlsx')"
   ]
  },
  {
   "cell_type": "code",
   "execution_count": 107,
   "metadata": {},
   "outputs": [
    {
     "data": {
      "text/html": [
       "<div>\n",
       "<style scoped>\n",
       "    .dataframe tbody tr th:only-of-type {\n",
       "        vertical-align: middle;\n",
       "    }\n",
       "\n",
       "    .dataframe tbody tr th {\n",
       "        vertical-align: top;\n",
       "    }\n",
       "\n",
       "    .dataframe thead th {\n",
       "        text-align: right;\n",
       "    }\n",
       "</style>\n",
       "<table border=\"1\" class=\"dataframe\">\n",
       "  <thead>\n",
       "    <tr style=\"text-align: right;\">\n",
       "      <th></th>\n",
       "      <th>InvoiceNo</th>\n",
       "      <th>StockCode</th>\n",
       "      <th>Description</th>\n",
       "      <th>Quantity</th>\n",
       "      <th>InvoiceDate</th>\n",
       "      <th>UnitPrice</th>\n",
       "      <th>CustomerID</th>\n",
       "      <th>Country</th>\n",
       "    </tr>\n",
       "  </thead>\n",
       "  <tbody>\n",
       "    <tr>\n",
       "      <th>0</th>\n",
       "      <td>536365</td>\n",
       "      <td>85123A</td>\n",
       "      <td>WHITE HANGING HEART T-LIGHT HOLDER</td>\n",
       "      <td>6</td>\n",
       "      <td>2010-12-01 08:26:00</td>\n",
       "      <td>2.55</td>\n",
       "      <td>17850.0</td>\n",
       "      <td>United Kingdom</td>\n",
       "    </tr>\n",
       "    <tr>\n",
       "      <th>1</th>\n",
       "      <td>536365</td>\n",
       "      <td>71053</td>\n",
       "      <td>WHITE METAL LANTERN</td>\n",
       "      <td>6</td>\n",
       "      <td>2010-12-01 08:26:00</td>\n",
       "      <td>3.39</td>\n",
       "      <td>17850.0</td>\n",
       "      <td>United Kingdom</td>\n",
       "    </tr>\n",
       "    <tr>\n",
       "      <th>2</th>\n",
       "      <td>536365</td>\n",
       "      <td>84406B</td>\n",
       "      <td>CREAM CUPID HEARTS COAT HANGER</td>\n",
       "      <td>8</td>\n",
       "      <td>2010-12-01 08:26:00</td>\n",
       "      <td>2.75</td>\n",
       "      <td>17850.0</td>\n",
       "      <td>United Kingdom</td>\n",
       "    </tr>\n",
       "    <tr>\n",
       "      <th>3</th>\n",
       "      <td>536365</td>\n",
       "      <td>84029G</td>\n",
       "      <td>KNITTED UNION FLAG HOT WATER BOTTLE</td>\n",
       "      <td>6</td>\n",
       "      <td>2010-12-01 08:26:00</td>\n",
       "      <td>3.39</td>\n",
       "      <td>17850.0</td>\n",
       "      <td>United Kingdom</td>\n",
       "    </tr>\n",
       "    <tr>\n",
       "      <th>4</th>\n",
       "      <td>536365</td>\n",
       "      <td>84029E</td>\n",
       "      <td>RED WOOLLY HOTTIE WHITE HEART.</td>\n",
       "      <td>6</td>\n",
       "      <td>2010-12-01 08:26:00</td>\n",
       "      <td>3.39</td>\n",
       "      <td>17850.0</td>\n",
       "      <td>United Kingdom</td>\n",
       "    </tr>\n",
       "  </tbody>\n",
       "</table>\n",
       "</div>"
      ],
      "text/plain": [
       "  InvoiceNo StockCode                          Description  Quantity  \\\n",
       "0    536365    85123A   WHITE HANGING HEART T-LIGHT HOLDER         6   \n",
       "1    536365     71053                  WHITE METAL LANTERN         6   \n",
       "2    536365    84406B       CREAM CUPID HEARTS COAT HANGER         8   \n",
       "3    536365    84029G  KNITTED UNION FLAG HOT WATER BOTTLE         6   \n",
       "4    536365    84029E       RED WOOLLY HOTTIE WHITE HEART.         6   \n",
       "\n",
       "          InvoiceDate  UnitPrice  CustomerID         Country  \n",
       "0 2010-12-01 08:26:00       2.55     17850.0  United Kingdom  \n",
       "1 2010-12-01 08:26:00       3.39     17850.0  United Kingdom  \n",
       "2 2010-12-01 08:26:00       2.75     17850.0  United Kingdom  \n",
       "3 2010-12-01 08:26:00       3.39     17850.0  United Kingdom  \n",
       "4 2010-12-01 08:26:00       3.39     17850.0  United Kingdom  "
      ]
     },
     "execution_count": 107,
     "metadata": {},
     "output_type": "execute_result"
    }
   ],
   "source": [
    "raw_data.head()"
   ]
  },
  {
   "cell_type": "code",
   "execution_count": 108,
   "metadata": {},
   "outputs": [],
   "source": [
    "#InvoiceNo - Drop and derive cancellation\n",
    "def checkIsReturn(row):    \n",
    "    if row['InvoiceNo'][0] == \"C\":\n",
    "        return 1\n",
    "    else:\n",
    "        return 0\n",
    "raw_data['InvoiceNo']= raw_data['InvoiceNo'].apply(str)\n",
    "raw_data['isReturn'] = raw_data.apply(lambda row: checkIsReturn(row), axis=1)\n",
    "\n",
    "# Remove column InvoiceNo\n",
    "raw_data.drop(['InvoiceNo'], axis = 1, inplace = True)\n"
   ]
  },
  {
   "cell_type": "code",
   "execution_count": 109,
   "metadata": {},
   "outputs": [
    {
     "data": {
      "text/plain": [
       "85123A    2313\n",
       "22423     2203\n",
       "85099B    2159\n",
       "47566     1727\n",
       "20725     1639\n",
       "          ... \n",
       "35644        1\n",
       "62095B       1\n",
       "35594        1\n",
       "85115B       1\n",
       "17028J       1\n",
       "Name: StockCode, Length: 4070, dtype: int64"
      ]
     },
     "execution_count": 109,
     "metadata": {},
     "output_type": "execute_result"
    }
   ],
   "source": [
    "#STock code - value count analysis\n",
    "raw_data['StockCode'].value_counts()"
   ]
  },
  {
   "cell_type": "code",
   "execution_count": 110,
   "metadata": {},
   "outputs": [],
   "source": [
    "# Remove column Decription, CustomerID\n",
    "raw_data.drop(['Description'], axis = 1, inplace = True)\n",
    "raw_data.drop(['CustomerID'], axis = 1, inplace = True)\n"
   ]
  },
  {
   "cell_type": "code",
   "execution_count": 112,
   "metadata": {},
   "outputs": [],
   "source": [
    "#Transfor Invoice date\n",
    "#Invoice Date - Transform - 1. Morning,AFternoon,Evening,Night, 2. Month, 3. Week,4. FY Qtr, 5 Day of the year\n",
    "def getDayOfWeek(row):  \n",
    "    return row['InvoiceDate'].dayofweek\n",
    "\n",
    "def getYearAndQtr(row):  \n",
    "    return ''.join([str(row['InvoiceDate'].year),'-',str(row['InvoiceDate'].quarter)])\n",
    "\n",
    "def getDayOfYear(row):  \n",
    "    return row['InvoiceDate'].dayofyear\n",
    "\n",
    "def getWeek(row):  \n",
    "    return row['InvoiceDate'].week\n",
    "\n",
    "def getMonth(row):  \n",
    "    return row['InvoiceDate'].month\n",
    "\n",
    "def getMorNoonEveNight(row):\n",
    "    hour = row['InvoiceDate'].hour\n",
    "    if (hour >= 4) & (hour < 12):\n",
    "        return 'Morning'\n",
    "    elif (hour >= 12) & (hour < 4):\n",
    "        return 'Noon'\n",
    "    elif (hour >= 4) & (hour < 9):\n",
    "        return 'Evening'\n",
    "    elif (hour >= 9) & (hour < 4):\n",
    "        return 'Night'\n",
    "    else: return 'None'\n",
    "\n",
    "raw_data['DOW'] = raw_data.apply(lambda row: getDayOfWeek(row), axis=1)\n",
    "raw_data['Year-Qtr'] = raw_data.apply(lambda row: getYearAndQtr(row), axis=1)\n",
    "raw_data['DayOfYear'] = raw_data.apply(lambda row: getDayOfYear(row), axis=1)\n",
    "raw_data['Week'] = raw_data.apply(lambda row: getWeek(row), axis=1)\n",
    "raw_data['Month'] = raw_data.apply(lambda row: getMonth(row), axis=1)\n",
    "raw_data['Morn_Eve_Noon_Night'] = raw_data.apply(lambda row: getMorNoonEveNight(row), axis=1)"
   ]
  },
  {
   "cell_type": "code",
   "execution_count": 114,
   "metadata": {},
   "outputs": [
    {
     "data": {
      "text/plain": [
       "array([0, 1])"
      ]
     },
     "execution_count": 114,
     "metadata": {},
     "output_type": "execute_result"
    }
   ],
   "source": [
    "# Import label encoder\n",
    "from sklearn import preprocessing\n",
    " \n",
    "# label_encoder object knows how to understand word labels.\n",
    "label_encoder = preprocessing.LabelEncoder()\n",
    " \n",
    "# Encode labels in column 'Morn_Eve_Noon_Night'.\n",
    "raw_data[pd.isnull('Morn_Eve_Noon_Night')]  = 'NaN'\n",
    "raw_data['Morn_Eve_Noon_Night']= label_encoder.fit_transform(raw_data['Morn_Eve_Noon_Night'])\n",
    "raw_data['Morn_Eve_Noon_Night'].unique()"
   ]
  },
  {
   "cell_type": "code",
   "execution_count": 116,
   "metadata": {},
   "outputs": [],
   "source": [
    "country = pd.get_dummies(raw_data['Country'],drop_first= True)\n",
    "transformed_data = pd.concat([raw_data,country], axis = 1)"
   ]
  },
  {
   "cell_type": "code",
   "execution_count": 117,
   "metadata": {},
   "outputs": [
    {
     "data": {
      "text/plain": [
       "StockCode                            85123A\n",
       "Quantity                                  6\n",
       "InvoiceDate             2010-12-01 08:26:00\n",
       "UnitPrice                              2.55\n",
       "Country                      United Kingdom\n",
       "isReturn                                  0\n",
       "DOW                                       2\n",
       "Year-Qtr                             2010-4\n",
       "DayOfYear                               335\n",
       "Week                                     48\n",
       "Month                                    12\n",
       "Morn_Eve_Noon_Night                       0\n",
       "False                                   NaN\n",
       "Austria                                   0\n",
       "Bahrain                                   0\n",
       "Belgium                                   0\n",
       "Brazil                                    0\n",
       "Canada                                    0\n",
       "Channel Islands                           0\n",
       "Cyprus                                    0\n",
       "Czech Republic                            0\n",
       "Denmark                                   0\n",
       "EIRE                                      0\n",
       "European Community                        0\n",
       "Finland                                   0\n",
       "France                                    0\n",
       "Germany                                   0\n",
       "Greece                                    0\n",
       "Hong Kong                                 0\n",
       "Iceland                                   0\n",
       "Israel                                    0\n",
       "Italy                                     0\n",
       "Japan                                     0\n",
       "Lebanon                                   0\n",
       "Lithuania                                 0\n",
       "Malta                                     0\n",
       "Netherlands                               0\n",
       "Norway                                    0\n",
       "Poland                                    0\n",
       "Portugal                                  0\n",
       "RSA                                       0\n",
       "Saudi Arabia                              0\n",
       "Singapore                                 0\n",
       "Spain                                     0\n",
       "Sweden                                    0\n",
       "Switzerland                               0\n",
       "USA                                       0\n",
       "United Arab Emirates                      0\n",
       "United Kingdom                            1\n",
       "Unspecified                               0\n",
       "Name: 0, dtype: object"
      ]
     },
     "execution_count": 117,
     "metadata": {},
     "output_type": "execute_result"
    }
   ],
   "source": [
    "transformed_data.iloc[0,:]"
   ]
  },
  {
   "cell_type": "code",
   "execution_count": null,
   "metadata": {},
   "outputs": [],
   "source": []
  }
 ],
 "metadata": {
  "kernelspec": {
   "display_name": "Python 3",
   "language": "python",
   "name": "python3"
  },
  "language_info": {
   "codemirror_mode": {
    "name": "ipython",
    "version": 3
   },
   "file_extension": ".py",
   "mimetype": "text/x-python",
   "name": "python",
   "nbconvert_exporter": "python",
   "pygments_lexer": "ipython3",
   "version": "3.8.5"
  }
 },
 "nbformat": 4,
 "nbformat_minor": 4
}
