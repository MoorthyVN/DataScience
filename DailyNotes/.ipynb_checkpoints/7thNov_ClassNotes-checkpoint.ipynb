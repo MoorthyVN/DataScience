{
 "cells": [
  {
   "cell_type": "code",
   "execution_count": 7,
   "metadata": {},
   "outputs": [
    {
     "name": "stdout",
     "output_type": "stream",
     "text": [
      "yrtnuoc ym evol I\n"
     ]
    }
   ],
   "source": [
    "# Program to reverse the string\n",
    "a = \"I love my country\"\n",
    "\n",
    "def print_reverse(a):\n",
    "    output = ''\n",
    "    last_letter_index = len(a)-1\n",
    "    for each in a:\n",
    "        if last_letter_index < 0:\n",
    "            break\n",
    "        output = output + a[last_letter_index]\n",
    "        last_letter_index-=1\n",
    "    return output\n",
    "\n",
    "def reverse(s):\n",
    "  str = \"\"\n",
    "  for i in s:\n",
    "    str = i + str\n",
    "  return str\n",
    "\n",
    "print(print_reverse(a))\n"
   ]
  },
  {
   "cell_type": "code",
   "execution_count": 18,
   "metadata": {},
   "outputs": [
    {
     "name": "stdout",
     "output_type": "stream",
     "text": [
      "([13, 5, 1, 2], [4])\n"
     ]
    }
   ],
   "source": [
    "#Print unique value and duplicate value\n",
    "def find_unique_duplicate(ip_list):\n",
    "    unique_list = []\n",
    "    non_unique_list = []\n",
    "    for each_element in ip_list:\n",
    "        if each_element not in unique_list:\n",
    "            unique_list.append(each_element)\n",
    "        else:\n",
    "            unique_list.remove(each_element)\n",
    "            non_unique_list.append(each_element)\n",
    "    return unique_list, non_unique_list\n",
    "\n",
    "a = [13,4,5,1,2,4]\n",
    "print(find_unique_duplicate(a))"
   ]
  },
  {
   "cell_type": "code",
   "execution_count": 28,
   "metadata": {},
   "outputs": [
    {
     "name": "stdout",
     "output_type": "stream",
     "text": [
      "<class 'tuple'>\n"
     ]
    },
    {
     "data": {
      "text/plain": [
       "13"
      ]
     },
     "execution_count": 28,
     "metadata": {},
     "output_type": "execute_result"
    }
   ],
   "source": [
    "def find_sum(*args):\n",
    "    print(type(args))\n",
    "    sum_i = 0\n",
    "    for i in args:\n",
    "        for each in i:\n",
    "            sum_i = sum_i + each  \n",
    "    return sum_i\n",
    "\n",
    "find_sum([1,2,3,4],[1,2])\n"
   ]
  },
  {
   "cell_type": "code",
   "execution_count": 36,
   "metadata": {},
   "outputs": [],
   "source": [
    "var = open(\"vnm.txt\",\"w\")\n"
   ]
  },
  {
   "cell_type": "code",
   "execution_count": 37,
   "metadata": {},
   "outputs": [
    {
     "data": {
      "text/plain": [
       "26"
      ]
     },
     "execution_count": 37,
     "metadata": {},
     "output_type": "execute_result"
    }
   ],
   "source": [
    "var.write(\"check this again and again\")"
   ]
  },
  {
   "cell_type": "code",
   "execution_count": 47,
   "metadata": {},
   "outputs": [],
   "source": [
    "#Enum operations\n",
    "import enum\n",
    "class Days(enum.Enum):\n",
    "    Mon = 1\n",
    "    Tue = 2\n",
    "    Wed = 3\n",
    "    Thu = 4\n",
    "    Fri = 5\n",
    "    Sat = 6\n",
    "    Sun = 0\n",
    "\n",
    "\n",
    "        "
   ]
  },
  {
   "cell_type": "code",
   "execution_count": 52,
   "metadata": {},
   "outputs": [
    {
     "name": "stdout",
     "output_type": "stream",
     "text": [
      "The enum member as a string is : Days.Mon\n",
      "he enum member as a repr is : <Days.Sun: 0>\n",
      "The type of enum member is : <enum 'Days'>\n",
      "The name of enum member is : Tue\n"
     ]
    }
   ],
   "source": [
    "# print the enum member as a string\n",
    "print (\"The enum member as a string is : \",end=\"\")\n",
    "print (Days.Mon)\n",
    "\n",
    "# print the enum member as a repr\n",
    "print (\"he enum member as a repr is : \",end=\"\")\n",
    "print (repr(Days.Sun))\n",
    "\n",
    "# Check type of enum member\n",
    "print (\"The type of enum member is : \",end =\"\")\n",
    "print (type(Days.Mon))\n",
    "\n",
    "# print name of enum member\n",
    "print (\"The name of enum member is : \",end =\"\")\n",
    "print (Days.Tue.name)"
   ]
  },
  {
   "cell_type": "code",
   "execution_count": 92,
   "metadata": {},
   "outputs": [],
   "source": [
    "# 1. Write a Python program to create an Enum object and display a member name and value\n",
    "import enum\n",
    "class country(enum.IntEnum):\n",
    "    India = 227\n",
    "    Afghanistan = 93\n",
    "    Albania = 355\n",
    "    Algeria = 213\n",
    "    Andorra = 376\n",
    "    Angola = 244\n",
    "    Antarctica = 672"
   ]
  },
  {
   "cell_type": "code",
   "execution_count": 86,
   "metadata": {},
   "outputs": [
    {
     "name": "stdout",
     "output_type": "stream",
     "text": [
      "Albania\n",
      "355\n"
     ]
    }
   ],
   "source": [
    "print(country.Albania.name)\n",
    "print(country.Albania.value)"
   ]
  },
  {
   "cell_type": "code",
   "execution_count": 87,
   "metadata": {},
   "outputs": [
    {
     "name": "stdout",
     "output_type": "stream",
     "text": [
      "India:227\n",
      "Afghanistan:93\n",
      "Albania:355\n",
      "Algeria:213\n",
      "Andorra:376\n",
      "Angola:244\n",
      "Antarctica:672\n"
     ]
    }
   ],
   "source": [
    "#2. Write a Python program to iterate over an enum class and display individual member and their value\n",
    "for each_ctry in country:\n",
    "    print(\"{}:{}\".format(each_ctry.name,each_ctry.value))\n",
    "   "
   ]
  },
  {
   "cell_type": "code",
   "execution_count": 88,
   "metadata": {},
   "outputs": [
    {
     "name": "stdout",
     "output_type": "stream",
     "text": [
      "Afghanistan\n",
      "Algeria\n",
      "India\n",
      "Angola\n",
      "Albania\n",
      "Andorra\n",
      "Antarctica\n"
     ]
    }
   ],
   "source": [
    "#3. Write a Python program to display all the member name of an enum class ordered by their values\n",
    "print(\"\\n\".join(c.name for c in sorted(country)))"
   ]
  },
  {
   "cell_type": "code",
   "execution_count": 95,
   "metadata": {},
   "outputs": [
    {
     "name": "stdout",
     "output_type": "stream",
     "text": [
      "227\n",
      "93\n",
      "355\n",
      "213\n",
      "376\n",
      "244\n",
      "672\n"
     ]
    }
   ],
   "source": [
    "#4. Write a Python program to get all values from an enum class\n",
    "for each_ctry in country:\n",
    "    print(\"{}\".format(each_ctry.value))"
   ]
  },
  {
   "cell_type": "code",
   "execution_count": null,
   "metadata": {},
   "outputs": [],
   "source": [
    "#5.Write a Python program to get the unique enumeration values.\n"
   ]
  }
 ],
 "metadata": {
  "kernelspec": {
   "display_name": "Python 3",
   "language": "python",
   "name": "python3"
  },
  "language_info": {
   "codemirror_mode": {
    "name": "ipython",
    "version": 3
   },
   "file_extension": ".py",
   "mimetype": "text/x-python",
   "name": "python",
   "nbconvert_exporter": "python",
   "pygments_lexer": "ipython3",
   "version": "3.8.5"
  }
 },
 "nbformat": 4,
 "nbformat_minor": 4
}
