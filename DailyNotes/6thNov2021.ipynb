{
 "cells": [
  {
   "cell_type": "code",
   "execution_count": 2,
   "metadata": {},
   "outputs": [
    {
     "name": "stdout",
     "output_type": "stream",
     "text": [
      "Enter the numeric:4\n",
      "Yes - Its numeric\n"
     ]
    }
   ],
   "source": [
    "#Inputs and IF condition\n",
    "# If , elif, else.....\n",
    "a = input(\"Enter the numeric:\")\n",
    "if a.isnumeric() == True:\n",
    "    print(\"Yes - Its numeric\")\n",
    "else:\n",
    "    print(\"No\")\n"
   ]
  },
  {
   "cell_type": "code",
   "execution_count": 123,
   "metadata": {},
   "outputs": [
    {
     "name": "stdout",
     "output_type": "stream",
     "text": [
      "{1: '2 times', 2: '1 times', 3: '3 times', 4: '2 times', 5: '2 times', 7: '2 times'}\n"
     ]
    }
   ],
   "source": [
    "#Count the number of occurances in a given list\n",
    "a = [1,2,3,4,5,3,4,5,7,1,3,7]\n",
    "output = {}\n",
    "count = 0\n",
    "for each_element_1 in a:\n",
    "    count = 0\n",
    "    for each_element_2 in a:\n",
    "        if each_element_1 == each_element_2:\n",
    "            count = count + 1\n",
    "    output[each_element_1] = str(count) + \" times\"\n",
    "print(output)    "
   ]
  },
  {
   "cell_type": "code",
   "execution_count": 54,
   "metadata": {},
   "outputs": [],
   "source": [
    "#Difference between parameter and argument\n",
    "# parameter - names listed in the function's definition\n",
    "# argument  -  values passed"
   ]
  },
  {
   "cell_type": "code",
   "execution_count": 122,
   "metadata": {},
   "outputs": [
    {
     "name": "stdout",
     "output_type": "stream",
     "text": [
      "[2, 3, 5, 7, 11, 13, 17, 19]\n"
     ]
    }
   ],
   "source": [
    "#List the primes within a given number\n",
    "def is_prime(x):\n",
    "    i = 1\n",
    "    count = 0\n",
    "    while i <= x:\n",
    "        if x%i == 0:\n",
    "            count +=1\n",
    "        i +=1\n",
    "    if count == 2:\n",
    "        return True #prime\n",
    "    else: return False #not prime\n",
    "    \n",
    "output = []\n",
    "for each in range(20):\n",
    "    if is_prime(each):\n",
    "        output.append(each)\n",
    "print(output)\n",
    "    "
   ]
  },
  {
   "cell_type": "code",
   "execution_count": 121,
   "metadata": {},
   "outputs": [
    {
     "data": {
      "text/plain": [
       "2"
      ]
     },
     "execution_count": 121,
     "metadata": {},
     "output_type": "execute_result"
    }
   ],
   "source": [
    "# Find the factorial\n",
    "def find_factorial(x):\n",
    "    if x == 1:return 1\n",
    "    else: return x * find_factorial(x-1)\n",
    "\n",
    "find_factorial(2)"
   ]
  },
  {
   "cell_type": "code",
   "execution_count": null,
   "metadata": {},
   "outputs": [],
   "source": []
  },
  {
   "cell_type": "code",
   "execution_count": null,
   "metadata": {},
   "outputs": [],
   "source": []
  },
  {
   "cell_type": "code",
   "execution_count": null,
   "metadata": {},
   "outputs": [],
   "source": []
  }
 ],
 "metadata": {
  "kernelspec": {
   "display_name": "Python 3",
   "language": "python",
   "name": "python3"
  },
  "language_info": {
   "codemirror_mode": {
    "name": "ipython",
    "version": 3
   },
   "file_extension": ".py",
   "mimetype": "text/x-python",
   "name": "python",
   "nbconvert_exporter": "python",
   "pygments_lexer": "ipython3",
   "version": "3.8.5"
  }
 },
 "nbformat": 4,
 "nbformat_minor": 4
}
