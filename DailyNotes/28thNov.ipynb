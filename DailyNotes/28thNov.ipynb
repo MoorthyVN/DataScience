{
 "cells": [
  {
   "cell_type": "code",
   "execution_count": 5,
   "metadata": {},
   "outputs": [
    {
     "name": "stdout",
     "output_type": "stream",
     "text": [
      "Hello, this is before function execution\n",
      "This is inside the function !!\n",
      "This is after function execution\n"
     ]
    }
   ],
   "source": [
    "#Decorator functions\n",
    "# defining a decorator\n",
    "def hello_decorator(func):\n",
    " \n",
    "    # inner1 is a Wrapper function in\n",
    "    # which the argument is called\n",
    "     \n",
    "    # inner function can access the outer local\n",
    "    # functions like in this case \"func\"\n",
    "    def inner1():\n",
    "        print(\"Hello, this is before function execution\")\n",
    " \n",
    "        # calling the actual function now\n",
    "        # inside the wrapper function.\n",
    "        func()\n",
    " \n",
    "        print(\"This is after function execution\")\n",
    "         \n",
    "    return inner1\n",
    " \n",
    " \n",
    "# defining a function, to be called inside wrapper\n",
    "@hello_decorator\n",
    "def function_to_be_used():\n",
    "    print(\"This is inside the function !!\")\n",
    " \n",
    " \n",
    "# passing 'function_to_be_used' inside the\n",
    "# decorator to control its behavior\n",
    "#function_to_be_used = hello_decorator(function_to_be_used)\n",
    " \n",
    " \n",
    "# calling the function\n",
    "function_to_be_used()"
   ]
  },
  {
   "cell_type": "code",
   "execution_count": 35,
   "metadata": {},
   "outputs": [
    {
     "name": "stdout",
     "output_type": "stream",
     "text": [
      "Inside decorator function\n",
      "Inside wrapper\n",
      "Before calling my function\n",
      "Inside my function\n",
      "Atter calling my function\n"
     ]
    }
   ],
   "source": [
    "#decorator example\n",
    "def my_decorator_function(func):\n",
    "    print(\"Inside decorator function\")\n",
    "    def my_wrapper():\n",
    "        print(\"Inside wrapper\")\n",
    "        print(\"Before calling my function\")\n",
    "        func()\n",
    "        print(\"Atter calling my function\")\n",
    "    return(my_wrapper)\n",
    "\n",
    "@my_decorator_function\n",
    "def my_function():\n",
    "    return(print(\"Inside my function\"))\n",
    "\n",
    "my_function()\n",
    "\n"
   ]
  },
  {
   "cell_type": "code",
   "execution_count": 94,
   "metadata": {},
   "outputs": [],
   "source": [
    "# Another example\n",
    "def my_decorator(func):\n",
    "\n",
    "    def get_types(*args):\n",
    "        print(\"before Execution\")\n",
    "        \n",
    "        for each in args:\n",
    "            print(type(each))\n",
    "\n",
    "        returned_value = func(*args)\n",
    "        print(\"after Execution\")\n",
    "        return(returned_value)\n",
    "    return get_types\n",
    "\n",
    "@my_decorator\n",
    "def my_add_functon(a,b):\n",
    "    print(\"Inside the function\")\n",
    "    return(a+b)\n"
   ]
  },
  {
   "cell_type": "code",
   "execution_count": 93,
   "metadata": {},
   "outputs": [
    {
     "name": "stdout",
     "output_type": "stream",
     "text": [
      "before Execution\n",
      "<class 'int'>\n",
      "<class 'int'>\n",
      "Inside the function\n",
      "after Execution\n"
     ]
    },
    {
     "data": {
      "text/plain": [
       "5"
      ]
     },
     "execution_count": 93,
     "metadata": {},
     "output_type": "execute_result"
    }
   ],
   "source": [
    "ans = my_add_functon(2,3)\n",
    "ans"
   ]
  },
  {
   "cell_type": "code",
   "execution_count": 90,
   "metadata": {},
   "outputs": [],
   "source": [
    "@my_decorator\n",
    "def my_multply_functon(a,b):\n",
    "    print(\"Inside the function\")\n",
    "    return(a*b)"
   ]
  },
  {
   "cell_type": "code",
   "execution_count": 91,
   "metadata": {},
   "outputs": [
    {
     "name": "stdout",
     "output_type": "stream",
     "text": [
      "before Execution\n",
      "<class 'int'>\n",
      "<class 'int'>\n",
      "Inside the function\n",
      "after Execution\n"
     ]
    },
    {
     "data": {
      "text/plain": [
       "6"
      ]
     },
     "execution_count": 91,
     "metadata": {},
     "output_type": "execute_result"
    }
   ],
   "source": [
    "args= [2,3]\n",
    "ans = my_multply_functon(2,3)\n",
    "ans"
   ]
  },
  {
   "cell_type": "code",
   "execution_count": null,
   "metadata": {},
   "outputs": [],
   "source": [
    "#DImensionality and share of arrays in numpy\n",
    "#Slicing of arrays"
   ]
  }
 ],
 "metadata": {
  "kernelspec": {
   "display_name": "Python 3",
   "language": "python",
   "name": "python3"
  },
  "language_info": {
   "codemirror_mode": {
    "name": "ipython",
    "version": 3
   },
   "file_extension": ".py",
   "mimetype": "text/x-python",
   "name": "python",
   "nbconvert_exporter": "python",
   "pygments_lexer": "ipython3",
   "version": "3.8.5"
  }
 },
 "nbformat": 4,
 "nbformat_minor": 4
}
