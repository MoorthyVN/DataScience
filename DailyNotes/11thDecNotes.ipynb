{
 "cells": [
  {
   "cell_type": "code",
   "execution_count": 11,
   "metadata": {},
   "outputs": [],
   "source": [
    "import numpy as np\n",
    "\n",
    "ar = np.array([[1,2],[2,3]], ndmin = 5)"
   ]
  },
  {
   "cell_type": "code",
   "execution_count": 12,
   "metadata": {},
   "outputs": [
    {
     "data": {
      "text/plain": [
       "(1, 1, 1, 2, 2)"
      ]
     },
     "execution_count": 12,
     "metadata": {},
     "output_type": "execute_result"
    }
   ],
   "source": [
    "ar.shape"
   ]
  },
  {
   "cell_type": "code",
   "execution_count": 13,
   "metadata": {},
   "outputs": [
    {
     "data": {
      "text/plain": [
       "5"
      ]
     },
     "execution_count": 13,
     "metadata": {},
     "output_type": "execute_result"
    }
   ],
   "source": [
    "ar.ndim"
   ]
  },
  {
   "cell_type": "code",
   "execution_count": 27,
   "metadata": {},
   "outputs": [
    {
     "name": "stdout",
     "output_type": "stream",
     "text": [
      "4 (1, 1, 3, 1)\n",
      "[[[[1]\n",
      "   [2]\n",
      "   [3]]]]\n",
      "[[[[[1]]]]\n",
      "\n",
      "\n",
      "\n",
      " [[[[2]]]]\n",
      "\n",
      "\n",
      "\n",
      " [[[[3]]]]]\n",
      "5\n"
     ]
    }
   ],
   "source": [
    "x = np.array([[[[1],[2], [3]]]])\n",
    "print(x.ndim, x.shape)\n",
    "print(x)\n",
    "z = x.reshape(3,1,1,1,1)\n",
    "print(z)\n",
    "print(z.ndim)"
   ]
  },
  {
   "cell_type": "code",
   "execution_count": 29,
   "metadata": {},
   "outputs": [
    {
     "name": "stdout",
     "output_type": "stream",
     "text": [
      "1 (3,)\n"
     ]
    }
   ],
   "source": [
    "x = np.array([1,2,3])\n",
    "print(x.ndim, x.shape)"
   ]
  },
  {
   "cell_type": "code",
   "execution_count": 35,
   "metadata": {},
   "outputs": [
    {
     "data": {
      "text/plain": [
       "array([1, 2, 3])"
      ]
     },
     "execution_count": 35,
     "metadata": {},
     "output_type": "execute_result"
    }
   ],
   "source": [
    "x.reshape(3,)"
   ]
  },
  {
   "cell_type": "code",
   "execution_count": 48,
   "metadata": {},
   "outputs": [],
   "source": [
    "a = np.array([[[1,2,3,5],[4,5,6,2]],[[7,8,9,6],[10,11,12,1]]])"
   ]
  },
  {
   "cell_type": "code",
   "execution_count": 49,
   "metadata": {},
   "outputs": [
    {
     "data": {
      "text/plain": [
       "(2, 2, 4)"
      ]
     },
     "execution_count": 49,
     "metadata": {},
     "output_type": "execute_result"
    }
   ],
   "source": [
    "a.shape"
   ]
  },
  {
   "cell_type": "code",
   "execution_count": 51,
   "metadata": {},
   "outputs": [
    {
     "data": {
      "text/plain": [
       "3"
      ]
     },
     "execution_count": 51,
     "metadata": {},
     "output_type": "execute_result"
    }
   ],
   "source": [
    "a.ndim"
   ]
  },
  {
   "cell_type": "code",
   "execution_count": 42,
   "metadata": {},
   "outputs": [
    {
     "name": "stdout",
     "output_type": "stream",
     "text": [
      "1\n",
      "2\n",
      "3\n",
      "4\n",
      "5\n",
      "6\n",
      "7\n",
      "8\n",
      "9\n",
      "10\n",
      "11\n",
      "12\n"
     ]
    }
   ],
   "source": [
    "for i in a:\n",
    "    for j in i:\n",
    "        for k in j:\n",
    "            print(k)"
   ]
  },
  {
   "cell_type": "code",
   "execution_count": 50,
   "metadata": {},
   "outputs": [
    {
     "name": "stdout",
     "output_type": "stream",
     "text": [
      "1\n",
      "2\n",
      "3\n",
      "5\n",
      "4\n",
      "5\n",
      "6\n",
      "2\n",
      "7\n",
      "8\n",
      "9\n",
      "6\n",
      "10\n",
      "11\n",
      "12\n",
      "1\n"
     ]
    }
   ],
   "source": [
    "for i in a.reshape(16,):\n",
    "    print(i)"
   ]
  },
  {
   "cell_type": "code",
   "execution_count": 52,
   "metadata": {},
   "outputs": [
    {
     "data": {
      "text/plain": [
       "(2, 2, 4)"
      ]
     },
     "execution_count": 52,
     "metadata": {},
     "output_type": "execute_result"
    }
   ],
   "source": [
    "a.shape"
   ]
  },
  {
   "cell_type": "code",
   "execution_count": 56,
   "metadata": {},
   "outputs": [
    {
     "data": {
      "text/plain": [
       "2"
      ]
     },
     "execution_count": 56,
     "metadata": {},
     "output_type": "execute_result"
    }
   ],
   "source": [
    "a.shape[0]"
   ]
  },
  {
   "cell_type": "code",
   "execution_count": 57,
   "metadata": {},
   "outputs": [
    {
     "data": {
      "text/plain": [
       "16"
      ]
     },
     "execution_count": 57,
     "metadata": {},
     "output_type": "execute_result"
    }
   ],
   "source": [
    "np.prod(np.array(a.shape))"
   ]
  },
  {
   "cell_type": "code",
   "execution_count": 63,
   "metadata": {},
   "outputs": [
    {
     "name": "stdout",
     "output_type": "stream",
     "text": [
      "1\n",
      "2\n",
      "3\n",
      "5\n",
      "4\n",
      "5\n",
      "6\n",
      "2\n",
      "7\n",
      "8\n",
      "9\n",
      "6\n",
      "10\n",
      "11\n",
      "12\n",
      "1\n"
     ]
    }
   ],
   "source": [
    "for i in a.reshape(np.prod(np.array(a.shape)),):\n",
    "    print(i)"
   ]
  },
  {
   "cell_type": "code",
   "execution_count": 59,
   "metadata": {},
   "outputs": [
    {
     "data": {
      "text/plain": [
       "array([[[ 1,  2,  3,  5],\n",
       "        [ 4,  5,  6,  2]],\n",
       "\n",
       "       [[ 7,  8,  9,  6],\n",
       "        [10, 11, 12,  1]]])"
      ]
     },
     "execution_count": 59,
     "metadata": {},
     "output_type": "execute_result"
    }
   ],
   "source": [
    "a"
   ]
  },
  {
   "cell_type": "code",
   "execution_count": 60,
   "metadata": {},
   "outputs": [
    {
     "data": {
      "text/plain": [
       "array([ 1,  2,  3,  5,  4,  5,  6,  2,  7,  8,  9,  6, 10, 11, 12,  1])"
      ]
     },
     "execution_count": 60,
     "metadata": {},
     "output_type": "execute_result"
    }
   ],
   "source": [
    "a.reshape(-1)"
   ]
  },
  {
   "cell_type": "code",
   "execution_count": 65,
   "metadata": {},
   "outputs": [
    {
     "data": {
      "text/plain": [
       "array([ 1,  2,  3,  5,  4,  5,  6,  2,  7,  8,  9,  6, 10, 11, 12,  1])"
      ]
     },
     "execution_count": 65,
     "metadata": {},
     "output_type": "execute_result"
    }
   ],
   "source": [
    "a.reshape(-1)"
   ]
  },
  {
   "cell_type": "code",
   "execution_count": 67,
   "metadata": {},
   "outputs": [],
   "source": [
    "a = np.array([[1,2],[3,4],[8,2]])"
   ]
  },
  {
   "cell_type": "code",
   "execution_count": 76,
   "metadata": {},
   "outputs": [
    {
     "data": {
      "text/plain": [
       "array([7, 2])"
      ]
     },
     "execution_count": 76,
     "metadata": {},
     "output_type": "execute_result"
    }
   ],
   "source": [
    "np.ptp(a,0)"
   ]
  },
  {
   "cell_type": "code",
   "execution_count": 71,
   "metadata": {},
   "outputs": [
    {
     "data": {
      "text/plain": [
       "(3, 2)"
      ]
     },
     "execution_count": 71,
     "metadata": {},
     "output_type": "execute_result"
    }
   ],
   "source": [
    "a.shape"
   ]
  },
  {
   "cell_type": "code",
   "execution_count": 77,
   "metadata": {},
   "outputs": [
    {
     "data": {
      "text/plain": [
       "array([12,  8])"
      ]
     },
     "execution_count": 77,
     "metadata": {},
     "output_type": "execute_result"
    }
   ],
   "source": [
    "np.sum(a,0)"
   ]
  },
  {
   "cell_type": "code",
   "execution_count": 79,
   "metadata": {},
   "outputs": [],
   "source": [
    "import pandas as pd\n",
    "import numpy as np"
   ]
  },
  {
   "cell_type": "code",
   "execution_count": 89,
   "metadata": {},
   "outputs": [],
   "source": [
    "\n",
    "df = pd.read_excel(r\"C:\\Users\\j1013189\\Downloads\\CP13_Evidence_BY_DvSUM.xlsx\",sheet_name=1,header=0)"
   ]
  },
  {
   "cell_type": "code",
   "execution_count": 94,
   "metadata": {},
   "outputs": [
    {
     "data": {
      "text/html": [
       "<div>\n",
       "<style scoped>\n",
       "    .dataframe tbody tr th:only-of-type {\n",
       "        vertical-align: middle;\n",
       "    }\n",
       "\n",
       "    .dataframe tbody tr th {\n",
       "        vertical-align: top;\n",
       "    }\n",
       "\n",
       "    .dataframe thead th {\n",
       "        text-align: right;\n",
       "    }\n",
       "</style>\n",
       "<table border=\"1\" class=\"dataframe\">\n",
       "  <thead>\n",
       "    <tr style=\"text-align: right;\">\n",
       "      <th></th>\n",
       "      <th>Data Object</th>\n",
       "      <th>Scope</th>\n",
       "      <th>Inbound From</th>\n",
       "      <th>Outbound To</th>\n",
       "      <th>Metric Type</th>\n",
       "      <th>Metric Inbound</th>\n",
       "      <th>Metric Outbound</th>\n",
       "      <th>Metric Delta</th>\n",
       "      <th>Delta Percentage</th>\n",
       "      <th>Data Migration ID</th>\n",
       "      <th>Data Migration Date</th>\n",
       "      <th>BY Omhand</th>\n",
       "      <th>Comments</th>\n",
       "    </tr>\n",
       "  </thead>\n",
       "  <tbody>\n",
       "    <tr>\n",
       "      <th>0</th>\n",
       "      <td>Weekly Sales Transaction History (Count)</td>\n",
       "      <td>WES</td>\n",
       "      <td>Algonomy</td>\n",
       "      <td>BY</td>\n",
       "      <td>Count</td>\n",
       "      <td>102537.0</td>\n",
       "      <td>100026.0</td>\n",
       "      <td>2511.0</td>\n",
       "      <td>0.024489</td>\n",
       "      <td>NaN</td>\n",
       "      <td>22 October 2021</td>\n",
       "      <td>NaN</td>\n",
       "      <td>Item Location in Algonomy table is not active ...</td>\n",
       "    </tr>\n",
       "    <tr>\n",
       "      <th>1</th>\n",
       "      <td>Weekly Sales Transaction History (Count) - Cou...</td>\n",
       "      <td>WES-ARE</td>\n",
       "      <td>Algonomy</td>\n",
       "      <td>BY</td>\n",
       "      <td>Count</td>\n",
       "      <td>46988.0</td>\n",
       "      <td>46725.0</td>\n",
       "      <td>263.0</td>\n",
       "      <td>0.005597</td>\n",
       "      <td>NaN</td>\n",
       "      <td>22 October 2021</td>\n",
       "      <td>NaN</td>\n",
       "      <td>Item Location in Algonomy table is not active ...</td>\n",
       "    </tr>\n",
       "    <tr>\n",
       "      <th>2</th>\n",
       "      <td>Weekly Sales Transaction History (Count) - LOC...</td>\n",
       "      <td>30127</td>\n",
       "      <td>Algonomy</td>\n",
       "      <td>BY</td>\n",
       "      <td>Count</td>\n",
       "      <td>8569.0</td>\n",
       "      <td>8544.0</td>\n",
       "      <td>25.0</td>\n",
       "      <td>0.002917</td>\n",
       "      <td>NaN</td>\n",
       "      <td>22 October 2021</td>\n",
       "      <td>NaN</td>\n",
       "      <td>Item Location in Algonomy table is not active ...</td>\n",
       "    </tr>\n",
       "    <tr>\n",
       "      <th>3</th>\n",
       "      <td>Weekly Sales Transaction History (Count) - LOC...</td>\n",
       "      <td>30133</td>\n",
       "      <td>Algonomy</td>\n",
       "      <td>BY</td>\n",
       "      <td>Count</td>\n",
       "      <td>4089.0</td>\n",
       "      <td>4068.0</td>\n",
       "      <td>21.0</td>\n",
       "      <td>0.005136</td>\n",
       "      <td>NaN</td>\n",
       "      <td>22 October 2021</td>\n",
       "      <td>NaN</td>\n",
       "      <td>Item Location in Algonomy table is not active ...</td>\n",
       "    </tr>\n",
       "    <tr>\n",
       "      <th>4</th>\n",
       "      <td>Weekly Sales Transaction History (Count) - LOC...</td>\n",
       "      <td>30823</td>\n",
       "      <td>Algonomy</td>\n",
       "      <td>BY</td>\n",
       "      <td>Count</td>\n",
       "      <td>797.0</td>\n",
       "      <td>797.0</td>\n",
       "      <td>0.0</td>\n",
       "      <td>0.000000</td>\n",
       "      <td>NaN</td>\n",
       "      <td>22 October 2021</td>\n",
       "      <td>NaN</td>\n",
       "      <td>NaN</td>\n",
       "    </tr>\n",
       "  </tbody>\n",
       "</table>\n",
       "</div>"
      ],
      "text/plain": [
       "                                         Data Object    Scope Inbound From  \\\n",
       "0           Weekly Sales Transaction History (Count)      WES     Algonomy   \n",
       "1  Weekly Sales Transaction History (Count) - Cou...  WES-ARE     Algonomy   \n",
       "2  Weekly Sales Transaction History (Count) - LOC...    30127     Algonomy   \n",
       "3  Weekly Sales Transaction History (Count) - LOC...    30133     Algonomy   \n",
       "4  Weekly Sales Transaction History (Count) - LOC...    30823     Algonomy   \n",
       "\n",
       "  Outbound To Metric Type  Metric Inbound  Metric Outbound  Metric Delta  \\\n",
       "0          BY       Count        102537.0         100026.0        2511.0   \n",
       "1          BY       Count         46988.0          46725.0         263.0   \n",
       "2          BY       Count          8569.0           8544.0          25.0   \n",
       "3          BY       Count          4089.0           4068.0          21.0   \n",
       "4          BY       Count           797.0            797.0           0.0   \n",
       "\n",
       "   Delta Percentage  Data Migration ID Data Migration Date  BY Omhand  \\\n",
       "0          0.024489                NaN     22 October 2021        NaN   \n",
       "1          0.005597                NaN     22 October 2021        NaN   \n",
       "2          0.002917                NaN     22 October 2021        NaN   \n",
       "3          0.005136                NaN     22 October 2021        NaN   \n",
       "4          0.000000                NaN     22 October 2021        NaN   \n",
       "\n",
       "                                            Comments  \n",
       "0  Item Location in Algonomy table is not active ...  \n",
       "1  Item Location in Algonomy table is not active ...  \n",
       "2  Item Location in Algonomy table is not active ...  \n",
       "3  Item Location in Algonomy table is not active ...  \n",
       "4                                                NaN  "
      ]
     },
     "execution_count": 94,
     "metadata": {},
     "output_type": "execute_result"
    }
   ],
   "source": [
    "df.head()"
   ]
  },
  {
   "cell_type": "code",
   "execution_count": 110,
   "metadata": {},
   "outputs": [
    {
     "data": {
      "text/html": [
       "<div>\n",
       "<style scoped>\n",
       "    .dataframe tbody tr th:only-of-type {\n",
       "        vertical-align: middle;\n",
       "    }\n",
       "\n",
       "    .dataframe tbody tr th {\n",
       "        vertical-align: top;\n",
       "    }\n",
       "\n",
       "    .dataframe thead th {\n",
       "        text-align: right;\n",
       "    }\n",
       "</style>\n",
       "<table border=\"1\" class=\"dataframe\">\n",
       "  <thead>\n",
       "    <tr style=\"text-align: right;\">\n",
       "      <th></th>\n",
       "      <th>Data Object</th>\n",
       "      <th>Scope</th>\n",
       "      <th>Inbound From</th>\n",
       "      <th>Outbound To</th>\n",
       "      <th>Metric Type</th>\n",
       "      <th>Metric Inbound</th>\n",
       "      <th>Metric Outbound</th>\n",
       "      <th>Metric Delta</th>\n",
       "      <th>Delta Percentage</th>\n",
       "      <th>Data Migration ID</th>\n",
       "      <th>Data Migration Date</th>\n",
       "      <th>BY Omhand</th>\n",
       "      <th>Comments</th>\n",
       "    </tr>\n",
       "  </thead>\n",
       "  <tbody>\n",
       "    <tr>\n",
       "      <th>0</th>\n",
       "      <td>Weekly Sales Transaction History (Count)</td>\n",
       "      <td>WES</td>\n",
       "      <td>Algonomy</td>\n",
       "      <td>BY</td>\n",
       "      <td>Count</td>\n",
       "      <td>102537.0</td>\n",
       "      <td>100026.0</td>\n",
       "      <td>2511.0</td>\n",
       "      <td>0.024489</td>\n",
       "      <td>NaN</td>\n",
       "      <td>22 October 2021</td>\n",
       "      <td>NaN</td>\n",
       "      <td>Item Location in Algonomy table is not active ...</td>\n",
       "    </tr>\n",
       "    <tr>\n",
       "      <th>35</th>\n",
       "      <td>Weekly Sales Transaction History (Unit)</td>\n",
       "      <td>WES</td>\n",
       "      <td>Algonomy</td>\n",
       "      <td>BY</td>\n",
       "      <td>Total Sales Units</td>\n",
       "      <td>100312.0</td>\n",
       "      <td>100237.0</td>\n",
       "      <td>75.0</td>\n",
       "      <td>0.000748</td>\n",
       "      <td>NaN</td>\n",
       "      <td>22 October 2021</td>\n",
       "      <td>NaN</td>\n",
       "      <td>Item Location in Algonomy table is not active ...</td>\n",
       "    </tr>\n",
       "    <tr>\n",
       "      <th>140</th>\n",
       "      <td>Weekly Stock On Hand History</td>\n",
       "      <td>WES</td>\n",
       "      <td>Algonomy</td>\n",
       "      <td>BY</td>\n",
       "      <td>Count</td>\n",
       "      <td>636101.0</td>\n",
       "      <td>392300.0</td>\n",
       "      <td>243801.0</td>\n",
       "      <td>0.383274</td>\n",
       "      <td>NaN</td>\n",
       "      <td>22 October 2021</td>\n",
       "      <td>NaN</td>\n",
       "      <td>Item Location is not active in Dvsum RMS or do...</td>\n",
       "    </tr>\n",
       "  </tbody>\n",
       "</table>\n",
       "</div>"
      ],
      "text/plain": [
       "                                  Data Object Scope Inbound From Outbound To  \\\n",
       "0    Weekly Sales Transaction History (Count)   WES     Algonomy          BY   \n",
       "35    Weekly Sales Transaction History (Unit)   WES     Algonomy          BY   \n",
       "140              Weekly Stock On Hand History   WES     Algonomy          BY   \n",
       "\n",
       "           Metric Type  Metric Inbound  Metric Outbound  Metric Delta  \\\n",
       "0                Count        102537.0         100026.0        2511.0   \n",
       "35   Total Sales Units        100312.0         100237.0          75.0   \n",
       "140              Count        636101.0         392300.0      243801.0   \n",
       "\n",
       "     Delta Percentage  Data Migration ID Data Migration Date  BY Omhand  \\\n",
       "0            0.024489                NaN     22 October 2021        NaN   \n",
       "35           0.000748                NaN     22 October 2021        NaN   \n",
       "140          0.383274                NaN     22 October 2021        NaN   \n",
       "\n",
       "                                              Comments  \n",
       "0    Item Location in Algonomy table is not active ...  \n",
       "35   Item Location in Algonomy table is not active ...  \n",
       "140  Item Location is not active in Dvsum RMS or do...  "
      ]
     },
     "execution_count": 110,
     "metadata": {},
     "output_type": "execute_result"
    }
   ],
   "source": [
    "df[(df[\"Scope\"] == \"WES\") & (df[\"Delta Percentage\"] > 0)]"
   ]
  },
  {
   "cell_type": "code",
   "execution_count": null,
   "metadata": {},
   "outputs": [],
   "source": []
  }
 ],
 "metadata": {
  "kernelspec": {
   "display_name": "Python 3",
   "language": "python",
   "name": "python3"
  },
  "language_info": {
   "codemirror_mode": {
    "name": "ipython",
    "version": 3
   },
   "file_extension": ".py",
   "mimetype": "text/x-python",
   "name": "python",
   "nbconvert_exporter": "python",
   "pygments_lexer": "ipython3",
   "version": "3.8.5"
  }
 },
 "nbformat": 4,
 "nbformat_minor": 4
}
