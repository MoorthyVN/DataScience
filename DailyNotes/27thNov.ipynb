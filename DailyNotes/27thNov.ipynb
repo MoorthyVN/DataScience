{
 "cells": [
  {
   "cell_type": "code",
   "execution_count": null,
   "metadata": {},
   "outputs": [],
   "source": [
    "#Iterable, Iter(), next(), StopIterator error"
   ]
  },
  {
   "cell_type": "code",
   "execution_count": 7,
   "metadata": {},
   "outputs": [
    {
     "data": {
      "text/plain": [
       "1"
      ]
     },
     "execution_count": 7,
     "metadata": {},
     "output_type": "execute_result"
    }
   ],
   "source": [
    "a = [1,2]\n",
    "var = iter(a)\n",
    "next(var)"
   ]
  },
  {
   "cell_type": "code",
   "execution_count": 8,
   "metadata": {},
   "outputs": [
    {
     "data": {
      "text/plain": [
       "2"
      ]
     },
     "execution_count": 8,
     "metadata": {},
     "output_type": "execute_result"
    }
   ],
   "source": [
    "next(var)"
   ]
  },
  {
   "cell_type": "code",
   "execution_count": 9,
   "metadata": {},
   "outputs": [
    {
     "ename": "StopIteration",
     "evalue": "",
     "output_type": "error",
     "traceback": [
      "\u001b[1;31m---------------------------------------------------------------------------\u001b[0m",
      "\u001b[1;31mStopIteration\u001b[0m                             Traceback (most recent call last)",
      "\u001b[1;32m<ipython-input-9-2509e8af6355>\u001b[0m in \u001b[0;36m<module>\u001b[1;34m\u001b[0m\n\u001b[1;32m----> 1\u001b[1;33m \u001b[0mnext\u001b[0m\u001b[1;33m(\u001b[0m\u001b[0mvar\u001b[0m\u001b[1;33m)\u001b[0m\u001b[1;33m\u001b[0m\u001b[1;33m\u001b[0m\u001b[0m\n\u001b[0m",
      "\u001b[1;31mStopIteration\u001b[0m: "
     ]
    }
   ],
   "source": [
    "next(var)"
   ]
  },
  {
   "cell_type": "code",
   "execution_count": 10,
   "metadata": {},
   "outputs": [],
   "source": [
    "#Generator , another type of Iterator - better way to create iterator - yield keyword\n",
    "#Generator return uses \"Yield keyword to return\". In Function, we use \"return\" keyword\n",
    "#Function returns all values in 1 time\n",
    "#Generator will not store the data in main memory, but will store in fly memory\n",
    "#Used when we do not want to store the data in main memory"
   ]
  },
  {
   "cell_type": "code",
   "execution_count": 26,
   "metadata": {},
   "outputs": [],
   "source": [
    "def testmethod():\n",
    "    yield \"ML\"\n",
    "    yield \"Python\"\n",
    "    yield \"Try\"\n"
   ]
  },
  {
   "cell_type": "code",
   "execution_count": 27,
   "metadata": {},
   "outputs": [],
   "source": [
    "var = testmethod()"
   ]
  },
  {
   "cell_type": "code",
   "execution_count": 29,
   "metadata": {},
   "outputs": [
    {
     "ename": "AttributeError",
     "evalue": "'generator' object has no attribute 'next'",
     "output_type": "error",
     "traceback": [
      "\u001b[1;31m---------------------------------------------------------------------------\u001b[0m",
      "\u001b[1;31mAttributeError\u001b[0m                            Traceback (most recent call last)",
      "\u001b[1;32m<ipython-input-29-70819f3b8d1d>\u001b[0m in \u001b[0;36m<module>\u001b[1;34m\u001b[0m\n\u001b[1;32m----> 1\u001b[1;33m \u001b[0mprint\u001b[0m\u001b[1;33m(\u001b[0m\u001b[0mvar\u001b[0m\u001b[1;33m.\u001b[0m\u001b[0mnext\u001b[0m\u001b[1;33m(\u001b[0m\u001b[1;33m)\u001b[0m\u001b[1;33m)\u001b[0m\u001b[1;33m\u001b[0m\u001b[1;33m\u001b[0m\u001b[0m\n\u001b[0m",
      "\u001b[1;31mAttributeError\u001b[0m: 'generator' object has no attribute 'next'"
     ]
    }
   ],
   "source": [
    "print(var.next())"
   ]
  },
  {
   "cell_type": "code",
   "execution_count": 24,
   "metadata": {},
   "outputs": [
    {
     "data": {
      "text/plain": [
       "'ML'"
      ]
     },
     "execution_count": 24,
     "metadata": {},
     "output_type": "execute_result"
    }
   ],
   "source": [
    "var2 = next(testmethod())\n",
    "var"
   ]
  },
  {
   "cell_type": "code",
   "execution_count": 25,
   "metadata": {},
   "outputs": [
    {
     "name": "stdout",
     "output_type": "stream",
     "text": [
      "ML\n",
      "Python\n",
      "Try\n"
     ]
    }
   ],
   "source": [
    "for i in testmethod():\n",
    "    print(i)"
   ]
  },
  {
   "cell_type": "code",
   "execution_count": 56,
   "metadata": {},
   "outputs": [],
   "source": [
    "#Usage example for generator method\n",
    "#0,1,1,2,3,5,8,13,21\n",
    "def fibnocciGenerator(limit):\n",
    "    a,b = 0,1\n",
    "    while a < limit:\n",
    "        yield a\n",
    "        a,b = b,a+b\n",
    "        "
   ]
  },
  {
   "cell_type": "code",
   "execution_count": 57,
   "metadata": {},
   "outputs": [],
   "source": [
    "x = fibnocciGenerator(5)"
   ]
  },
  {
   "cell_type": "code",
   "execution_count": 50,
   "metadata": {},
   "outputs": [
    {
     "data": {
      "text/plain": [
       "0"
      ]
     },
     "execution_count": 50,
     "metadata": {},
     "output_type": "execute_result"
    }
   ],
   "source": [
    "next(x)"
   ]
  },
  {
   "cell_type": "code",
   "execution_count": 51,
   "metadata": {},
   "outputs": [
    {
     "data": {
      "text/plain": [
       "1"
      ]
     },
     "execution_count": 51,
     "metadata": {},
     "output_type": "execute_result"
    }
   ],
   "source": [
    "next(x)"
   ]
  },
  {
   "cell_type": "code",
   "execution_count": 52,
   "metadata": {},
   "outputs": [
    {
     "data": {
      "text/plain": [
       "1"
      ]
     },
     "execution_count": 52,
     "metadata": {},
     "output_type": "execute_result"
    }
   ],
   "source": [
    "next(x)"
   ]
  },
  {
   "cell_type": "code",
   "execution_count": 53,
   "metadata": {},
   "outputs": [
    {
     "data": {
      "text/plain": [
       "2"
      ]
     },
     "execution_count": 53,
     "metadata": {},
     "output_type": "execute_result"
    }
   ],
   "source": [
    "next(x)"
   ]
  },
  {
   "cell_type": "code",
   "execution_count": 44,
   "metadata": {},
   "outputs": [
    {
     "ename": "StopIteration",
     "evalue": "",
     "output_type": "error",
     "traceback": [
      "\u001b[1;31m---------------------------------------------------------------------------\u001b[0m",
      "\u001b[1;31mStopIteration\u001b[0m                             Traceback (most recent call last)",
      "\u001b[1;32m<ipython-input-44-92de4e9f6b1e>\u001b[0m in \u001b[0;36m<module>\u001b[1;34m\u001b[0m\n\u001b[1;32m----> 1\u001b[1;33m \u001b[0mnext\u001b[0m\u001b[1;33m(\u001b[0m\u001b[0mx\u001b[0m\u001b[1;33m)\u001b[0m\u001b[1;33m\u001b[0m\u001b[1;33m\u001b[0m\u001b[0m\n\u001b[0m",
      "\u001b[1;31mStopIteration\u001b[0m: "
     ]
    }
   ],
   "source": [
    "next(x)"
   ]
  },
  {
   "cell_type": "code",
   "execution_count": 45,
   "metadata": {},
   "outputs": [
    {
     "name": "stdout",
     "output_type": "stream",
     "text": [
      "0\n",
      "1\n",
      "1\n",
      "2\n",
      "3\n",
      "5\n",
      "8\n",
      "13\n"
     ]
    }
   ],
   "source": [
    "for each in fibnocciGenerator(21):\n",
    "    print(each)"
   ]
  },
  {
   "cell_type": "code",
   "execution_count": 55,
   "metadata": {},
   "outputs": [
    {
     "data": {
      "text/plain": [
       "<generator object fibnocciGenerator at 0x000001E9E5DEA0B0>"
      ]
     },
     "execution_count": 55,
     "metadata": {},
     "output_type": "execute_result"
    }
   ],
   "source": [
    "fibnocciGenerator(21)"
   ]
  },
  {
   "cell_type": "code",
   "execution_count": 58,
   "metadata": {},
   "outputs": [
    {
     "data": {
      "text/plain": [
       "<generator object fibnocciGenerator at 0x000001E9E5DEA580>"
      ]
     },
     "execution_count": 58,
     "metadata": {},
     "output_type": "execute_result"
    }
   ],
   "source": [
    "fibnocciGenerator(5)"
   ]
  },
  {
   "cell_type": "code",
   "execution_count": 59,
   "metadata": {},
   "outputs": [],
   "source": [
    "#Uses of generator function??"
   ]
  },
  {
   "cell_type": "code",
   "execution_count": 60,
   "metadata": {},
   "outputs": [],
   "source": [
    "# Enumerator - Study\n",
    "#regex examples below and all functions"
   ]
  },
  {
   "cell_type": "code",
   "execution_count": 65,
   "metadata": {},
   "outputs": [
    {
     "name": "stdout",
     "output_type": "stream",
     "text": [
      "['in', 'in', 'in', 'in']\n"
     ]
    }
   ],
   "source": [
    "import re\n",
    "x = 'Prime Minister Narendra Modi will chair an important meeting, to be attended by top government \\\n",
    "        officials, at 10.30 am on the COVID-19 and vaccination situation in the country.'\n",
    "\n",
    "substring = 'in'\n",
    "\n",
    "var = re.findall(substring,x)\n",
    "print(var)\n"
   ]
  },
  {
   "cell_type": "markdown",
   "metadata": {},
   "source": []
  },
  {
   "cell_type": "code",
   "execution_count": 66,
   "metadata": {},
   "outputs": [],
   "source": [
    "#:  . - Any Character Except New Line\n",
    "#:  \\d - Digit (0-9)\n",
    "#:  \\D - Not a Digit (0-9)\n",
    "#:  \\w - Word Character (a-z, A-Z, 0-9, _)\n",
    "#:  \\W - Not a Word Character\n",
    "#:  \\s - Whitespace (space, tab, newline)\n",
    "#:  \\S - Not Whitespace (space, tab, newline)\n",
    "#:  \\b - Word Boundary\n",
    "#:  \\B - Not a Word Boundary\n",
    "#:  ^ - Beginning of a String\n",
    "#:  $ - End of a String\n",
    "#:  [] - Matches Characters in brackets\n",
    "#:  [^ ] - Matches Characters NOT in brackets\n",
    "#:  | - Either Or\n",
    "#:  ( ) - Group\n",
    "#:  Quantifiers:\n",
    "#:  * - 0 or More\n",
    "#:  + - 1 or More\n",
    "#:  ? - 0 or One\n",
    "#:  {3} - Exact Number\n",
    "#:  {3,4} - Range of Numbers (Minimum, Maximum)"
   ]
  },
  {
   "cell_type": "code",
   "execution_count": 99,
   "metadata": {},
   "outputs": [],
   "source": [
    "import re\n",
    "\n",
    "txt = \"All The rain in Spain234fdsf\"\n",
    "x = re.findall(r\"(in)\", txt)"
   ]
  },
  {
   "cell_type": "code",
   "execution_count": 100,
   "metadata": {},
   "outputs": [
    {
     "data": {
      "text/plain": [
       "['in', 'in', 'in']"
      ]
     },
     "execution_count": 100,
     "metadata": {},
     "output_type": "execute_result"
    }
   ],
   "source": [
    "x"
   ]
  },
  {
   "cell_type": "code",
   "execution_count": 61,
   "metadata": {},
   "outputs": [],
   "source": [
    "import re\n",
    "txt = '''abc@gmail.com\n",
    "          asdasd@asdda.com\n",
    "            rteetert-342@okj.com\n",
    "            asa-23@sdsda.com\n",
    "            dsas#qwe@dasd.com\n",
    "            123.34.3.1.2\n",
    "            543.45.5.6.7\n",
    "            01-03-1989\n",
    "            01-Jan-2021'''\n"
   ]
  },
  {
   "cell_type": "code",
   "execution_count": 71,
   "metadata": {},
   "outputs": [
    {
     "data": {
      "text/plain": [
       "['abc@gmail.com',\n",
       " 'asdasd@asdda.com',\n",
       " 'rteetert-342@okj.com',\n",
       " 'asa-23@sdsda.com',\n",
       " 'dsas#qwe@dasd.com']"
      ]
     },
     "execution_count": 71,
     "metadata": {},
     "output_type": "execute_result"
    }
   ],
   "source": [
    "re.findall(r'[a-zA-Z0-9-#]+@\\w+.\\w+', txt)"
   ]
  },
  {
   "cell_type": "code",
   "execution_count": 55,
   "metadata": {},
   "outputs": [
    {
     "ename": "NameError",
     "evalue": "name 'x' is not defined",
     "output_type": "error",
     "traceback": [
      "\u001b[1;31m---------------------------------------------------------------------------\u001b[0m",
      "\u001b[1;31mNameError\u001b[0m                                 Traceback (most recent call last)",
      "\u001b[1;32m<ipython-input-55-6fcf9dfbd479>\u001b[0m in \u001b[0;36m<module>\u001b[1;34m\u001b[0m\n\u001b[1;32m----> 1\u001b[1;33m \u001b[0mx\u001b[0m\u001b[1;33m\u001b[0m\u001b[1;33m\u001b[0m\u001b[0m\n\u001b[0m",
      "\u001b[1;31mNameError\u001b[0m: name 'x' is not defined"
     ]
    }
   ],
   "source": [
    "x"
   ]
  },
  {
   "cell_type": "code",
   "execution_count": 162,
   "metadata": {},
   "outputs": [],
   "source": [
    "#Filter"
   ]
  },
  {
   "cell_type": "code",
   "execution_count": 163,
   "metadata": {},
   "outputs": [],
   "source": [
    "#Decorator, Sets, Numpy"
   ]
  },
  {
   "cell_type": "code",
   "execution_count": 36,
   "metadata": {},
   "outputs": [
    {
     "data": {
      "text/plain": [
       "<re.Match object; span=(0, 5), match='moo8n'>"
      ]
     },
     "execution_count": 36,
     "metadata": {},
     "output_type": "execute_result"
    }
   ],
   "source": [
    "import re\n",
    "pattern = r'^m..[0-9]n$'\n",
    "text = 'moo8n'\n",
    "re.match(pattern,text)\n"
   ]
  },
  {
   "cell_type": "code",
   "execution_count": 41,
   "metadata": {},
   "outputs": [],
   "source": [
    "text = '12abc3'"
   ]
  },
  {
   "cell_type": "code",
   "execution_count": 42,
   "metadata": {},
   "outputs": [
    {
     "data": {
      "text/plain": [
       "['12', '3']"
      ]
     },
     "execution_count": 42,
     "metadata": {},
     "output_type": "execute_result"
    }
   ],
   "source": [
    "#Find the number of the pronoun \"the\" in the corpus. Hint: Use the len() function.\n",
    "re.findall(r'\\d+',text)"
   ]
  },
  {
   "cell_type": "code",
   "execution_count": 23,
   "metadata": {},
   "outputs": [
    {
     "data": {
      "text/plain": [
       "[]"
      ]
     },
     "execution_count": 23,
     "metadata": {},
     "output_type": "execute_result"
    }
   ],
   "source": [
    "emails = 'moorthy.vn@gmail'"
   ]
  },
  {
   "cell_type": "code",
   "execution_count": 85,
   "metadata": {},
   "outputs": [
    {
     "name": "stdout",
     "output_type": "stream",
     "text": [
      "['ABCDEFabcdef123450']\n",
      "[]\n"
     ]
    }
   ],
   "source": [
    "#1) Write a Python program to check that a string contains only a certain set of characters (in this case a-z, A-Z and 0-9).\n",
    "import re\n",
    "text1 = 'ABCDEFabcdef123450'\n",
    "x = (r'[0-9A-Za-z]+')\n",
    "text2 = '*&%@#!}{'\n",
    "print(re.findall(x,tex#2t1))\n",
    "print(re.findall(x,text2))\n"
   ]
  },
  {
   "cell_type": "code",
   "execution_count": 89,
   "metadata": {},
   "outputs": [
    {
     "name": "stdout",
     "output_type": "stream",
     "text": [
      "['a']\n",
      "['abbb']\n",
      "[]\n"
     ]
    }
   ],
   "source": [
    "#2)Write a Python program that matches a string that has an a followed by zero or more b's\n",
    "text1 = 'a'\n",
    "text2 = 'abbb'\n",
    "text3 = 'b'\n",
    "x = (r'ab*')\n",
    "print(re.findall(x,text1))\n",
    "print(re.findall(x,text2))\n",
    "print(re.findall(x,text3))\n"
   ]
  },
  {
   "cell_type": "code",
   "execution_count": 91,
   "metadata": {},
   "outputs": [
    {
     "name": "stdout",
     "output_type": "stream",
     "text": [
      "[]\n",
      "['abbb']\n",
      "['ab']\n"
     ]
    }
   ],
   "source": [
    "#3) Write a Python program that matches a string that has an a followed by one or more b's\n",
    "import re\n",
    "text1 = 'a'\n",
    "text2 = 'abbb'\n",
    "text3 = 'ab'\n",
    "x = (r'ab+')\n",
    "print(re.findall(x,text1))\n",
    "print(re.findall(x,text2))\n",
    "print(re.findall(x,text3))"
   ]
  },
  {
   "cell_type": "code",
   "execution_count": 92,
   "metadata": {},
   "outputs": [
    {
     "name": "stdout",
     "output_type": "stream",
     "text": [
      "['a']\n",
      "['abbb']\n",
      "['ab']\n"
     ]
    }
   ],
   "source": [
    "#4) Write a Python program that matches a string that has an a followed by zero or one 'b'\n",
    "import re\n",
    "text1 = 'a'\n",
    "text2 = 'abbb'\n",
    "text3 = 'ab'\n",
    "x = (r'ab*')\n",
    "print(re.findall(x,text1))\n",
    "print(re.findall(x,text2))\n",
    "print(re.findall(x,text3))"
   ]
  },
  {
   "cell_type": "code",
   "execution_count": 107,
   "metadata": {},
   "outputs": [
    {
     "name": "stdout",
     "output_type": "stream",
     "text": [
      "['abbb']\n",
      "['abbb']\n",
      "[]\n"
     ]
    }
   ],
   "source": [
    "#5) Write a Python program that matches a string that has an a followed by three 'b'\n",
    "import re\n",
    "text1 = 'abbbb'\n",
    "text2 = 'aabbbbbc'\n",
    "text3 = 'ab'\n",
    "x = (r'ab{3}?')\n",
    "print(re.findall(x,text1))\n",
    "print(re.findall(x,text2))\n",
    "print(re.findall(x,text3))"
   ]
  },
  {
   "cell_type": "code",
   "execution_count": 120,
   "metadata": {},
   "outputs": [
    {
     "name": "stdout",
     "output_type": "stream",
     "text": [
      "['abb']\n",
      "['abbb']\n",
      "[]\n"
     ]
    }
   ],
   "source": [
    "#6) Write a Python program that matches a string that has an a followed by two to three 'b'.\n",
    "import re\n",
    "text1 = 'abbcf'\n",
    "text2 = 'aabbbbbc'\n",
    "text3 = 'ab'\n",
    "x = (r'ab{2,3}')\n",
    "print(re.findall(x,text1))\n",
    "print(re.findall(x,text2))\n",
    "print(re.findall(x,text3))"
   ]
  },
  {
   "cell_type": "code",
   "execution_count": 137,
   "metadata": {},
   "outputs": [
    {
     "name": "stdout",
     "output_type": "stream",
     "text": [
      "['aab_cbbbc']\n",
      "[]\n",
      "['aab_abbbc']\n"
     ]
    }
   ],
   "source": [
    "#7) Write a Python program to find sequences of lowercase letters joined with a underscore.\n",
    "import re\n",
    "text1 = 'aab_cbbbc'\n",
    "text2 = 'aab_Abbbc'\n",
    "text3 = 'Aaab_abbbc'\n",
    "x = (r'[a-z]+_[a-z]+')\n",
    "print(re.findall(x,text1))\n",
    "print(re.findall(x,text2))\n",
    "print(re.findall(x,text3))"
   ]
  },
  {
   "cell_type": "code",
   "execution_count": 140,
   "metadata": {},
   "outputs": [
    {
     "name": "stdout",
     "output_type": "stream",
     "text": [
      "[]\n",
      "['Abbbc']\n",
      "['Aaab']\n"
     ]
    }
   ],
   "source": [
    "#8) Write a Python program to find the sequences of one upper case letter followed by lower case letters.\n",
    "import re\n",
    "text1 = 'aab_cbbbc'\n",
    "text2 = 'aab_Abbbc'\n",
    "text3 = 'Aaab_abbbc'\n",
    "x = (r'[A-Z][a-z]+')\n",
    "print(re.findall(x,text1))\n",
    "print(re.findall(x,text2))\n",
    "print(re.findall(x,text3))"
   ]
  },
  {
   "cell_type": "code",
   "execution_count": 146,
   "metadata": {},
   "outputs": [
    {
     "name": "stdout",
     "output_type": "stream",
     "text": [
      "[]\n",
      "[]\n",
      "['accddbbjjjb']\n"
     ]
    }
   ],
   "source": [
    "#9) Write a Python program that matches a string that has an 'a' followed by anything, ending in 'b'.\n",
    "import re\n",
    "text1 = 'aabbbbd'\n",
    "text2 = 'aabAbbbc'\n",
    "text3 = 'accddbbjjjb'\n",
    "x = (r'[a][a-zA-Z]+b$')\n",
    "print(re.findall(x,text1))\n",
    "print(re.findall(x,text2))\n",
    "print(re.findall(x,text3))"
   ]
  },
  {
   "cell_type": "code",
   "execution_count": 157,
   "metadata": {},
   "outputs": [
    {
     "name": "stdout",
     "output_type": "stream",
     "text": [
      "['The']\n",
      "[]\n",
      "['accddbbjjjb']\n"
     ]
    }
   ],
   "source": [
    "#10) Write a Python program that matches a word at the beginning of a string.\n",
    "import re\n",
    "text1 = 'The quick brown fox jumps over the lazy dog.'\n",
    "text2 = ' The quick brown fox jumps over the lazy dog.'\n",
    "text3 = 'accddbbjjjb'\n",
    "x = (r'^\\w+')\n",
    "print(re.findall(x,text1))\n",
    "print(re.findall(x,text2))\n",
    "print(re.findall(x,text3))"
   ]
  },
  {
   "cell_type": "code",
   "execution_count": 170,
   "metadata": {},
   "outputs": [
    {
     "name": "stdout",
     "output_type": "stream",
     "text": [
      "['dog.']\n",
      "[]\n",
      "[]\n"
     ]
    }
   ],
   "source": [
    "#11) Write a Python program that matches a word at the end of string, with optional punctuation.\n",
    "import re\n",
    "text1 = \"The quick brown fox jumps over the lazy dog.\"\n",
    "text2 = \"The quick brown fox jumps over the lazy dog. \"\n",
    "text3 = \"The quick brown fox jumps over the lazy dog \"\n",
    "x = (r'\\w+\\S?$')\n",
    "print(re.findall(x,text1))\n",
    "print(re.findall(x,text2))\n",
    "print(re.findall(x,text3))"
   ]
  },
  {
   "cell_type": "code",
   "execution_count": 174,
   "metadata": {},
   "outputs": [
    {
     "name": "stdout",
     "output_type": "stream",
     "text": [
      "['lazy']\n",
      "[]\n",
      "['lazy']\n"
     ]
    }
   ],
   "source": [
    "#12) Write a Python program that matches a word containing 'z'\n",
    "import re\n",
    "text1 = \"The quick brown fox jumps over the lazy dog.\"\n",
    "text2 = \"Python Exercises.\"\n",
    "text3 = \"The quick brown fox jumps over the lazy dog \"\n",
    "x = (r'\\w*z.\\w*')\n",
    "print(re.findall(x,text1))\n",
    "print(re.findall(x,text2))\n",
    "print(re.findall(x,text3))"
   ]
  },
  {
   "cell_type": "code",
   "execution_count": 203,
   "metadata": {},
   "outputs": [
    {
     "name": "stdout",
     "output_type": "stream",
     "text": [
      "['z']\n",
      "[]\n"
     ]
    }
   ],
   "source": [
    "#13) Write a Python program that matches a word containing 'z', not at the start or end of the word.\n",
    "import re\n",
    "text1 = \"The quick brown fox jumps over the lazy dog.\"\n",
    "text2 = \"zPython Exercises.\"\n",
    "x = (r'\\Bz\\B')\n",
    "print(re.findall(x,text1))\n",
    "print(re.findall(x,text2))"
   ]
  },
  {
   "cell_type": "code",
   "execution_count": 223,
   "metadata": {},
   "outputs": [
    {
     "name": "stdout",
     "output_type": "stream",
     "text": [
      "[]\n",
      "['Python_Exercises_1']\n"
     ]
    }
   ],
   "source": [
    "#14) Write a Python program to match a string that contains only upper and lowercase letters, numbers, and underscores.\n",
    "import re\n",
    "text1 = \"The quick brown fox jumps over the lazy dog.\"\n",
    "text2 = \"Python_Exercises_1\"\n",
    "x = (r'[a-zA-Z0-9_]+$')\n",
    "print(re.findall(x,text1))\n",
    "print(re.findall(x,text2))\n"
   ]
  },
  {
   "cell_type": "code",
   "execution_count": 261,
   "metadata": {},
   "outputs": [
    {
     "name": "stdout",
     "output_type": "stream",
     "text": [
      "1\n",
      "3\n",
      "5\n",
      "7\n",
      "9\n"
     ]
    }
   ],
   "source": [
    "#Generator example\n",
    "#Odd Number\n",
    "def generate_odds(limit):\n",
    "    n = 1\n",
    "    while n <= limit:\n",
    "        yield n\n",
    "        n = n + 2\n",
    "for each in generate_odds(10):\n",
    "    print(each)\n",
    "    \n"
   ]
  },
  {
   "cell_type": "code",
   "execution_count": 267,
   "metadata": {},
   "outputs": [
    {
     "name": "stdout",
     "output_type": "stream",
     "text": [
      "1\n",
      "2\n",
      "3\n",
      "5\n",
      "8\n",
      "13\n",
      "21\n",
      "34\n",
      "55\n",
      "89\n"
     ]
    }
   ],
   "source": [
    "#Fibonocci\n",
    "def generateFibonocci(limit):\n",
    "    n1,n2 = 0,1\n",
    "    while n1 + n2 <= limit:\n",
    "        yield n1 + n2\n",
    "        n1,n2 = n2, n1+n2\n",
    "        \n",
    "for each in generateFibonocci(100):\n",
    "    print(each)\n"
   ]
  },
  {
   "cell_type": "code",
   "execution_count": 270,
   "metadata": {},
   "outputs": [],
   "source": [
    "nums_squared_gc = (i ** 2 for i in range(10000))\n",
    "\n"
   ]
  },
  {
   "cell_type": "code",
   "execution_count": 274,
   "metadata": {},
   "outputs": [
    {
     "data": {
      "text/plain": [
       "9"
      ]
     },
     "execution_count": 274,
     "metadata": {},
     "output_type": "execute_result"
    }
   ],
   "source": [
    "next(nums_squared_gc)"
   ]
  },
  {
   "cell_type": "code",
   "execution_count": null,
   "metadata": {},
   "outputs": [],
   "source": []
  },
  {
   "cell_type": "code",
   "execution_count": null,
   "metadata": {},
   "outputs": [],
   "source": []
  }
 ],
 "metadata": {
  "kernelspec": {
   "display_name": "Python 3",
   "language": "python",
   "name": "python3"
  },
  "language_info": {
   "codemirror_mode": {
    "name": "ipython",
    "version": 3
   },
   "file_extension": ".py",
   "mimetype": "text/x-python",
   "name": "python",
   "nbconvert_exporter": "python",
   "pygments_lexer": "ipython3",
   "version": "3.8.5"
  }
 },
 "nbformat": 4,
 "nbformat_minor": 4
}
